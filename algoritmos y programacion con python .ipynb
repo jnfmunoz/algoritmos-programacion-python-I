{
 "cells": [
  {
   "cell_type": "markdown",
   "metadata": {},
   "source": [
    "### 1.Conceptos Basicos"
   ]
  },
  {
   "cell_type": "code",
   "execution_count": 1,
   "metadata": {},
   "outputs": [],
   "source": [
    "#Código 1.1 holaMar: Saluda a Marta\n",
    "def holaMar():\n",
    "    print(\"Hola Marta!\")\n",
    "    print(\"Estoy programando en Python\")"
   ]
  },
  {
   "cell_type": "code",
   "execution_count": 2,
   "metadata": {},
   "outputs": [
    {
     "name": "stdout",
     "output_type": "stream",
     "text": [
      "Hola Marta!\n",
      "Estoy programando en Python\n"
     ]
    }
   ],
   "source": [
    "holaMar()"
   ]
  },
  {
   "cell_type": "code",
   "execution_count": 3,
   "metadata": {},
   "outputs": [],
   "source": [
    "#Código 1.2 holaPab: Saluda a Pablo\n",
    "def holaPab():\n",
    "    print(\"Hola Pablo!\")\n",
    "    print(\"Estoy programando en Python\")"
   ]
  },
  {
   "cell_type": "code",
   "execution_count": 4,
   "metadata": {},
   "outputs": [
    {
     "name": "stdout",
     "output_type": "stream",
     "text": [
      "Hola Pablo!\n",
      "Estoy programando en Python\n"
     ]
    }
   ],
   "source": [
    "holaPab()"
   ]
  },
  {
   "cell_type": "code",
   "execution_count": 5,
   "metadata": {},
   "outputs": [],
   "source": [
    "#Código 1.3 hola: Saluda a quien sea necesario\n",
    "def hola(alguien):\n",
    "    print(\"Hola\", alguien,\"!\")\n",
    "    print(\"Estoy programando en Python\")"
   ]
  },
  {
   "cell_type": "code",
   "execution_count": 7,
   "metadata": {},
   "outputs": [
    {
     "name": "stdout",
     "output_type": "stream",
     "text": [
      "Hola Juan !\n",
      "Estoy programando en Python\n"
     ]
    }
   ],
   "source": [
    "hola(\"Juan\")"
   ]
  },
  {
   "cell_type": "code",
   "execution_count": 8,
   "metadata": {},
   "outputs": [],
   "source": [
    "#Código 1.4 cuad1: Eleva un número al cuadrado y lo imprime\n",
    "def cuad1(num):\n",
    "    print (num*num)"
   ]
  },
  {
   "cell_type": "code",
   "execution_count": 10,
   "metadata": {},
   "outputs": [
    {
     "name": "stdout",
     "output_type": "stream",
     "text": [
      "4\n"
     ]
    }
   ],
   "source": [
    "cuad1(2)"
   ]
  },
  {
   "cell_type": "code",
   "execution_count": 11,
   "metadata": {},
   "outputs": [],
   "source": [
    "#Código 1.5 cuad2: Pide un número al usuario e imprime su cuadrado\n",
    "def cuad2():\n",
    "    n = input(\"Ingrese un número: \")\n",
    "    cuad1(int(n))"
   ]
  },
  {
   "cell_type": "code",
   "execution_count": 12,
   "metadata": {},
   "outputs": [
    {
     "name": "stdout",
     "output_type": "stream",
     "text": [
      "Ingrese un número: 2\n",
      "4\n"
     ]
    }
   ],
   "source": [
    "cuad2()"
   ]
  },
  {
   "cell_type": "code",
   "execution_count": 13,
   "metadata": {},
   "outputs": [],
   "source": [
    "#Código 1.6 cuadrado: Eleva un número al cuadrado y lo devuelve\n",
    "def cuadrado(x):\n",
    "    cua = x * x \n",
    "    return cua"
   ]
  },
  {
   "cell_type": "code",
   "execution_count": 16,
   "metadata": {},
   "outputs": [
    {
     "data": {
      "text/plain": [
       "25"
      ]
     },
     "execution_count": 16,
     "metadata": {},
     "output_type": "execute_result"
    }
   ],
   "source": [
    "y = cuadrado(5)\n",
    "y"
   ]
  },
  {
   "cell_type": "code",
   "execution_count": 17,
   "metadata": {
    "scrolled": true
   },
   "outputs": [
    {
     "name": "stdout",
     "output_type": "stream",
     "text": [
      "4\n",
      "9\n",
      "16\n",
      "25\n",
      "36\n",
      "49\n",
      "64\n"
     ]
    }
   ],
   "source": [
    "#Código 1.7 cuadrados: Imprime los cuadrados del 2 al 8\n",
    "for x in range(2,9):\n",
    "    print (cuadrado(x))"
   ]
  },
  {
   "cell_type": "code",
   "execution_count": 5,
   "metadata": {},
   "outputs": [],
   "source": [
    "#Código 1.8 cuad.py: Imprime los cuadrados solicitados\n",
    "def cuad():\n",
    "    print(\"Se calcularan cuadrados de numeros\")\n",
    "    n1 = input(\"Ingrese un  numero entero: \")\n",
    "    n2 = input(\"Ingrese otro  numero entero: \")\n",
    "\n",
    "    n1 = int(n1)\n",
    "    n2 = int(n2)\n",
    "    for x in range(n1, n2):\n",
    "        print (x*x)\n",
    "    print(\"Es todo por ahora\")"
   ]
  },
  {
   "cell_type": "code",
   "execution_count": 22,
   "metadata": {},
   "outputs": [
    {
     "name": "stdout",
     "output_type": "stream",
     "text": [
      "Se calcularan cuadrados de numeros\n",
      "Ingrese un  numero entero: 5\n",
      "Ingrese otro  numero entero: 8\n",
      "25\n",
      "36\n",
      "49\n",
      "Es todo por ahora\n"
     ]
    }
   ],
   "source": [
    "cuad()"
   ]
  },
  {
   "cell_type": "markdown",
   "metadata": {},
   "source": [
    "### 2. Programas sencillos"
   ]
  },
  {
   "cell_type": "markdown",
   "metadata": {},
   "source": [
    "### Código 2.1 ametrico.py: Convierte medidas inglesas a sistema metrico"
   ]
  },
  {
   "cell_type": "code",
   "execution_count": 3,
   "metadata": {},
   "outputs": [],
   "source": [
    "def main():\n",
    "    print(\"Convierte medidas inglesas a sistema métrico\")\n",
    "    millas = input(\"Cuántas Millas?: \")\n",
    "    pies = input(\"Cuántos Pies?: \")\n",
    "    pulgadas = input(\"Cuántas Pulgadas?: \")\n",
    "    \n",
    "    millas = int(millas)\n",
    "    pies = int(pies)\n",
    "    pulgadas = int(pulgadas)\n",
    "    \n",
    "    metros = 1609.344 * millas + 0.3048 * pies + 0.0254 * pulgadas\n",
    "    print(\"La longitud es de\", metros, \"metros\")"
   ]
  },
  {
   "cell_type": "markdown",
   "metadata": {},
   "source": [
    "### Pruebas\n",
    "#### 1 milla = 1609.344 m, 1 pie = 0.3048 m, 1 pulgada = 0.0254 m"
   ]
  },
  {
   "cell_type": "code",
   "execution_count": 5,
   "metadata": {},
   "outputs": [
    {
     "name": "stdout",
     "output_type": "stream",
     "text": [
      "Convierte medidas inglesas a sistema métrico\n",
      "Cuántas Millas?: 1\n",
      "Cuántos Pies?: 0\n",
      "Cuántas Pulgadas?: 0\n",
      "La longitud es de 1609.344 metros\n"
     ]
    }
   ],
   "source": [
    "main()"
   ]
  },
  {
   "cell_type": "code",
   "execution_count": 7,
   "metadata": {},
   "outputs": [
    {
     "name": "stdout",
     "output_type": "stream",
     "text": [
      "Convierte medidas inglesas a sistema métrico\n",
      "Cuántas Millas?: 0\n",
      "Cuántos Pies?: 1\n",
      "Cuántas Pulgadas?: 0\n",
      "La longitud es de 0.3048 metros\n"
     ]
    }
   ],
   "source": [
    "main()"
   ]
  },
  {
   "cell_type": "code",
   "execution_count": 8,
   "metadata": {},
   "outputs": [
    {
     "name": "stdout",
     "output_type": "stream",
     "text": [
      "Convierte medidas inglesas a sistema métrico\n",
      "Cuántas Millas?: 0\n",
      "Cuántos Pies?: 0\n",
      "Cuántas Pulgadas?: 1\n",
      "La longitud es de 0.0254 metros\n"
     ]
    }
   ],
   "source": [
    "main()"
   ]
  },
  {
   "cell_type": "markdown",
   "metadata": {},
   "source": [
    "### 2.3.2 Expresiones"
   ]
  },
  {
   "cell_type": "code",
   "execution_count": 1,
   "metadata": {},
   "outputs": [],
   "source": [
    "def ejercicio1():\n",
    "    print(\"Ejercicio a\")\n",
    "    print(\"((b * b) - (4 * a * c)) / (2 * a)\")\n",
    "    a = input(\"Ingrese el valor de a: \")\n",
    "    b = input(\"Ingrese el valor de b: \")\n",
    "    c = input(\"Ingrese el valor de c: \")\n",
    "    \n",
    "    a = int(a)\n",
    "    b = int(b)\n",
    "    c = int(c)\n",
    "    \n",
    "    resultado = ((b * b) - (4 * a * c)) / (2 * a)\n",
    "    \n",
    "    print(\"El resultado de la expresion ((b * b) - (4 * a * c)) / (2 * a) es: \", resultado)"
   ]
  },
  {
   "cell_type": "code",
   "execution_count": 2,
   "metadata": {},
   "outputs": [
    {
     "name": "stdout",
     "output_type": "stream",
     "text": [
      "Ejercicio a\n",
      "((b * b) - (4 * a * c)) / (2 * a)\n",
      "Ingrese el valor de a: 10\n",
      "Ingrese el valor de b: 100\n",
      "Ingrese el valor de c: 1000\n",
      "El resultado de la expresion ((b * b) - (4 * a * c)) / (2 * a) es:  -1500.0\n"
     ]
    }
   ],
   "source": [
    "ejercicio1()"
   ]
  },
  {
   "cell_type": "code",
   "execution_count": 13,
   "metadata": {},
   "outputs": [
    {
     "data": {
      "text/plain": [
       "-1500.0"
      ]
     },
     "execution_count": 13,
     "metadata": {},
     "output_type": "execute_result"
    }
   ],
   "source": [
    "((100 * 100) - (4 * 10 * 1000)) / (2 * 10)"
   ]
  },
  {
   "cell_type": "code",
   "execution_count": 3,
   "metadata": {},
   "outputs": [],
   "source": [
    "def ejercicio2():\n",
    "    print(\"Ejercicio b\")\n",
    "    print(\"(b * b - 4 * a * c) / (2 * a)\")\n",
    "    a = input(\"Ingrese el valor de a: \")\n",
    "    b = input(\"Ingrese el valor de b: \")\n",
    "    c = input(\"Ingrese el valor de c: \")\n",
    "    \n",
    "    a = int(a)\n",
    "    b = int(b)\n",
    "    c = int(c)\n",
    "    \n",
    "    resultado = (b * b - 4 * a * c) / (2 * a)\n",
    "    \n",
    "    print(\"El resultado de la expresion (b * b - 4 * a * c) / (2 * a) es: \", resultado)"
   ]
  },
  {
   "cell_type": "code",
   "execution_count": 4,
   "metadata": {},
   "outputs": [
    {
     "name": "stdout",
     "output_type": "stream",
     "text": [
      "Ejercicio b\n",
      "(b * b - 4 * a * c) / (2 * a)\n",
      "Ingrese el valor de a: 10\n",
      "Ingrese el valor de b: 100\n",
      "Ingrese el valor de c: 1000\n",
      "El resultado de la expresion (b * b - 4 * a * c) / (2 * a) es:  -1500.0\n"
     ]
    }
   ],
   "source": [
    "ejercicio2()"
   ]
  },
  {
   "cell_type": "code",
   "execution_count": 5,
   "metadata": {},
   "outputs": [],
   "source": [
    "def ejercicio3():\n",
    "    print(\"Ejercicio c\")\n",
    "    print(\"b * b - 4 * a * c / 2 * a\")\n",
    "    a = input(\"Ingrese el valor de a: \")\n",
    "    b = input(\"Ingrese el valor de b: \")\n",
    "    c = input(\"Ingrese el valor de c: \")\n",
    "    \n",
    "    a = int(a)\n",
    "    b = int(b)\n",
    "    c = int(c)\n",
    "    \n",
    "    resultado = b * b - 4 * a * c / 2 * a\n",
    "    \n",
    "    print(\"El resultado de la expresion b * b - 4 * a * c / 2 * a es: \", resultado)"
   ]
  },
  {
   "cell_type": "code",
   "execution_count": 6,
   "metadata": {},
   "outputs": [
    {
     "name": "stdout",
     "output_type": "stream",
     "text": [
      "Ejercicio c\n",
      "b * b - 4 * a * c / 2 * a\n",
      "Ingrese el valor de a: 10\n",
      "Ingrese el valor de b: 100\n",
      "Ingrese el valor de c: 1000\n",
      "El resultado de la expresion b * b - 4 * a * c / 2 * a es:  -190000.0\n"
     ]
    }
   ],
   "source": [
    "ejercicio3()"
   ]
  },
  {
   "cell_type": "code",
   "execution_count": 7,
   "metadata": {},
   "outputs": [],
   "source": [
    "def ejercicio4():\n",
    "    print(\"Ejercicio d\")\n",
    "    print(\"resultado = (b * b) - (4 * a * c / 2 * a)\")\n",
    "    a = input(\"Ingrese el valor de a: \")\n",
    "    b = input(\"Ingrese el valor de b: \")\n",
    "    c = input(\"Ingrese el valor de c: \")\n",
    "    \n",
    "    a = int(a)\n",
    "    b = int(b)\n",
    "    c = int(c)\n",
    "    \n",
    "    resultado = (b * b) - (4 * a * c / 2 * a)\n",
    "    \n",
    "    print(\"El resultado de la expresion (b * b) - (4 * a * c / 2 * a) es: \", resultado)"
   ]
  },
  {
   "cell_type": "code",
   "execution_count": 8,
   "metadata": {},
   "outputs": [
    {
     "name": "stdout",
     "output_type": "stream",
     "text": [
      "Ejercicio d\n",
      "resultado = (b * b) - (4 * a * c / 2 * a)\n",
      "Ingrese el valor de a: 10\n",
      "Ingrese el valor de b: 100\n",
      "Ingrese el valor de c: 1000\n",
      "El resultado de la expresion (b * b) - (4 * a * c / 2 * a) es:  -190000.0\n"
     ]
    }
   ],
   "source": [
    "ejercicio4()"
   ]
  },
  {
   "cell_type": "code",
   "execution_count": 9,
   "metadata": {},
   "outputs": [],
   "source": [
    "def ejercicio5():\n",
    "    print(\"Ejercicio f\")\n",
    "    print(\"1 / 2 * b\")\n",
    "    b = input(\"Ingrese el valor de b: \")\n",
    "    \n",
    "    b = int(b)\n",
    "    \n",
    "    resultado = 1 / 2 * b\n",
    "    \n",
    "    print(\"El resultado de la expresion 1 / 2 * b es: \", resultado)"
   ]
  },
  {
   "cell_type": "code",
   "execution_count": 12,
   "metadata": {},
   "outputs": [
    {
     "name": "stdout",
     "output_type": "stream",
     "text": [
      "Ejercicio f\n",
      "1 / 2 * b\n",
      "Ingrese el valor de b: 100\n",
      "El resultado de la expresion 1 / 2 * b es:  50.0\n"
     ]
    }
   ],
   "source": [
    "ejercicio5()"
   ]
  },
  {
   "cell_type": "code",
   "execution_count": 13,
   "metadata": {},
   "outputs": [],
   "source": [
    "def ejercicio6():\n",
    "    print(\"Ejercicio e\")\n",
    "    print(\"b/2\")\n",
    "    b = input(\"Ingrese el valor de b: \")\n",
    "    \n",
    "    b = int(b)\n",
    "    \n",
    "    resultado = b/2\n",
    "    \n",
    "    print(\"El resultado de la expresion b/2 es: \", resultado)"
   ]
  },
  {
   "cell_type": "code",
   "execution_count": 14,
   "metadata": {},
   "outputs": [
    {
     "name": "stdout",
     "output_type": "stream",
     "text": [
      "Ejercicio e\n",
      "b/2\n",
      "Ingrese el valor de b: 10\n",
      "El resultado de la expresion b/2 es:  5.0\n"
     ]
    }
   ],
   "source": [
    "ejercicio6()"
   ]
  },
  {
   "cell_type": "markdown",
   "metadata": {},
   "source": [
    "### 2.7 Una guía para el diseño \n",
    "### 2.8 Ejercicios \n"
   ]
  },
  {
   "cell_type": "code",
   "execution_count": 26,
   "metadata": {},
   "outputs": [],
   "source": [
    "#Ejercicio 2.4. Escribir un ciclo definido para imprimir por pantalla todos los números entre 10 y 20.\n",
    "def imprimir10al20():\n",
    "    for x in range(10,21):\n",
    "        print(x)"
   ]
  },
  {
   "cell_type": "code",
   "execution_count": 27,
   "metadata": {},
   "outputs": [
    {
     "name": "stdout",
     "output_type": "stream",
     "text": [
      "10\n",
      "11\n",
      "12\n",
      "13\n",
      "14\n",
      "15\n",
      "16\n",
      "17\n",
      "18\n",
      "19\n",
      "20\n"
     ]
    }
   ],
   "source": [
    "imprimir10al20()"
   ]
  },
  {
   "cell_type": "code",
   "execution_count": 101,
   "metadata": {},
   "outputs": [],
   "source": [
    "#Ejercicio 2.5. Escribir un ciclo definido que salude por pantalla a sus cinco mejores amigos/as.\n",
    "def saludar5amigos():\n",
    "    print(\"salude por pantalla a sus cinco mejores amigos/as\")\n",
    "    amigos = [\"Juan\", \"Jose\", \"Miguel\", \"Carlos\", \"Raul\"]\n",
    "    for n in range(0,5):\n",
    "        print(\"Hola\",amigos[n])"
   ]
  },
  {
   "cell_type": "code",
   "execution_count": 102,
   "metadata": {},
   "outputs": [
    {
     "name": "stdout",
     "output_type": "stream",
     "text": [
      "salude por pantalla a sus cinco mejores amigos/as\n",
      "Hola Juan\n",
      "Hola Jose\n",
      "Hola Miguel\n",
      "Hola Carlos\n",
      "Hola Raul\n"
     ]
    }
   ],
   "source": [
    "saludar5amigos()"
   ]
  },
  {
   "cell_type": "code",
   "execution_count": 99,
   "metadata": {},
   "outputs": [],
   "source": [
    "#Ejercicio 2.6. Escribir un programa que use un ciclo definido con rango numérico, que pregunte los nombres de sus cinco mejores amigos/as, y los salude.\n",
    "def preguntarsaludar5amigos():\n",
    "    print(\"Este ejercicio consiste en preguntar los nombres de sus cinco mejores amigos/as, y los salude.\")\n",
    "    for x in range(1,6):\n",
    "        nombre = input(\"ingrese nombre: \")\n",
    "        print(\"Hola\" ,nombre)"
   ]
  },
  {
   "cell_type": "code",
   "execution_count": 100,
   "metadata": {},
   "outputs": [
    {
     "name": "stdout",
     "output_type": "stream",
     "text": [
      "Este ejercicio consiste en preguntar los nombres de sus cinco mejores amigos/as, y los salude.\n",
      "ingrese nombre: Juan\n",
      "Hola Juan\n",
      "ingrese nombre: Pedro\n",
      "Hola Pedro\n",
      "ingrese nombre: Jose\n",
      "Hola Jose\n",
      "ingrese nombre: Abraham\n",
      "Hola Abraham\n",
      "ingrese nombre: Raul\n",
      "Hola Raul\n"
     ]
    }
   ],
   "source": [
    "preguntarsaludar5amigos()"
   ]
  },
  {
   "cell_type": "code",
   "execution_count": 106,
   "metadata": {},
   "outputs": [],
   "source": [
    "#Ejercicio 2.7. Escribir un programa que use un ciclo definido con rango numérico, que pregunte los nombres de sus seis mejores amigos/as, y los salude.\n",
    "def preguntarsaludar6amigos():\n",
    "    print(\"Este ejercicio consiste en preguntar los nombres de sus seis mejores amigos/as, y los salude.\")   \n",
    "    for x in range(1,7):\n",
    "        nombre = input(\"ingrese nombre: \")\n",
    "        print(\"Hola\" ,nombre)"
   ]
  },
  {
   "cell_type": "code",
   "execution_count": 107,
   "metadata": {},
   "outputs": [
    {
     "name": "stdout",
     "output_type": "stream",
     "text": [
      "Este ejercicio consiste en preguntar los nombres de sus seis mejores amigos/as, y los salude.\n",
      "ingrese nombre: Juan\n",
      "Hola Juan\n",
      "ingrese nombre: Jose\n",
      "Hola Jose\n",
      "ingrese nombre: Beny\n",
      "Hola Beny\n",
      "ingrese nombre: Carlos\n",
      "Hola Carlos\n",
      "ingrese nombre: Raul\n",
      "Hola Raul\n",
      "ingrese nombre: Roberto\n",
      "Hola Roberto\n"
     ]
    }
   ],
   "source": [
    "preguntarsaludar6amigos()"
   ]
  },
  {
   "cell_type": "code",
   "execution_count": 6,
   "metadata": {},
   "outputs": [],
   "source": [
    "def consultarSaludar():\n",
    "    \"\"\"Ejercicio 2.8. Escribir un programa que use un ciclo definido con rango numérico, que averigue a cuántos amigos quieren saludar, les pregunte los nombres de esos amigos/as, y los salude.\"\"\"\n",
    "    print(\"Este ejercicio consiste en averiguar a cuántos amigos quieren saludar, les pregunte los nombres de esos amigos/as, y los salude.\")\n",
    "    amigos = input(\"A cuántos amigos desea saludar: \")\n",
    "    amigos = int(amigos)\n",
    "    for x in range(1, amigos+1):\n",
    "        nombre = input(\"Ingrese nombre: \")\n",
    "        print(\"Hola\" ,nombre)\n",
    "     \n"
   ]
  },
  {
   "cell_type": "code",
   "execution_count": 133,
   "metadata": {},
   "outputs": [
    {
     "name": "stdout",
     "output_type": "stream",
     "text": [
      "Este ejercicio consiste en averiguar a cuántos amigos quieren saludar, les pregunte los nombres de esos amigos/as, y los salude.\n",
      "A cuántos amigos desea saludar: 8\n",
      "Ingrese nombre: a\n",
      "Hola a\n",
      "Ingrese nombre: b\n",
      "Hola b\n",
      "Ingrese nombre: c\n",
      "Hola c\n",
      "Ingrese nombre: d\n",
      "Hola d\n",
      "Ingrese nombre: e\n",
      "Hola e\n",
      "Ingrese nombre: f\n",
      "Hola f\n",
      "Ingrese nombre: g\n",
      "Hola g\n",
      "Ingrese nombre: h\n",
      "Hola h\n"
     ]
    }
   ],
   "source": [
    "consultarSaludar()"
   ]
  },
  {
   "cell_type": "markdown",
   "metadata": {},
   "source": [
    "### 3. Funciones\n",
    "### 3.1 Documentación de funciones"
   ]
  },
  {
   "cell_type": "markdown",
   "metadata": {},
   "source": [
    "La documentación de una función se coloca luego del encabezado de la función, en un\n",
    "párrafo encerrado entre \"\"\".\n",
    "Cuando una función definida está correctamente documentada, es posible acceder a su documentación\n",
    "mediante la función help provista por Python:"
   ]
  },
  {
   "cell_type": "code",
   "execution_count": 140,
   "metadata": {},
   "outputs": [
    {
     "name": "stdout",
     "output_type": "stream",
     "text": [
      "Help on function consultarSaludar in module __main__:\n",
      "\n",
      "consultarSaludar()\n",
      "    Ejercicio 2.8. Escribir un programa que use un ciclo definido con rango numérico, que averigue a cuántos amigos quieren saludar, les pregunte los nombres de esos amigos/as, y los salude.\n",
      "\n"
     ]
    }
   ],
   "source": [
    "help(consultarSaludar)"
   ]
  },
  {
   "cell_type": "markdown",
   "metadata": {},
   "source": [
    "De esta forma no es necesario mirar el código de una función para saber lo que hace, simplemente\n",
    "llamando a help es posible obtener esta información."
   ]
  },
  {
   "cell_type": "markdown",
   "metadata": {},
   "source": [
    "### 3.2 Imprimir versus devolver"
   ]
  },
  {
   "cell_type": "markdown",
   "metadata": {},
   "source": [
    "Más útil que tener una biblioteca donde los resultados se imprimen por pantalla,\n",
    "es contar con una biblioteca donde los resultados se devuelven, para que la gente que usa\n",
    "esas funciones manipule esos resultados a voluntad: los imprima, los use para realizar cálculos\n",
    "más complejos, etc."
   ]
  },
  {
   "cell_type": "code",
   "execution_count": 159,
   "metadata": {},
   "outputs": [],
   "source": [
    "def calc_asegundos (horas, minutos, segundos):\n",
    "    \"\"\" Transforma en segundos una medida de tiempo expresada en\n",
    "    horas, minutos y segundos \"\"\"\n",
    "    segsal = 3600 * horas + 60 * minutos + segundos # regla de transformación\n",
    "    return segsal"
   ]
  },
  {
   "cell_type": "markdown",
   "metadata": {},
   "source": [
    "De esta forma, es posible realizar distintas operaciones con el valor obtenido luego de hacer\n",
    "la cuenta:"
   ]
  },
  {
   "cell_type": "code",
   "execution_count": 160,
   "metadata": {},
   "outputs": [
    {
     "data": {
      "text/plain": [
       "4210"
      ]
     },
     "execution_count": 160,
     "metadata": {},
     "output_type": "execute_result"
    }
   ],
   "source": [
    "calc_asegundos(1,10,10)"
   ]
  },
  {
   "cell_type": "code",
   "execution_count": 161,
   "metadata": {},
   "outputs": [
    {
     "name": "stdout",
     "output_type": "stream",
     "text": [
      "Son 4210 segundos\n"
     ]
    }
   ],
   "source": [
    "print (\"Son\", calc_asegundos(1, 10, 10), \"segundos\")"
   ]
  },
  {
   "cell_type": "code",
   "execution_count": 162,
   "metadata": {},
   "outputs": [
    {
     "data": {
      "text/plain": [
       "12630"
      ]
     },
     "execution_count": 162,
     "metadata": {},
     "output_type": "execute_result"
    }
   ],
   "source": [
    "y = calc_asegundos(1, 10, 10)\n",
    "z = calc_asegundos(2, 20, 20)\n",
    "y+z"
   ]
  },
  {
   "cell_type": "markdown",
   "metadata": {},
   "source": [
    "### 3.2.1 Ejercicios"
   ]
  },
  {
   "cell_type": "markdown",
   "metadata": {},
   "source": [
    "Ejercicio 3.1. Escribir una función repite_hola que reciba como parámetro un número entero n y escriba por pantalla el mensaje \"Hola\" n veces. Invocarla con distintos valores de n."
   ]
  },
  {
   "cell_type": "code",
   "execution_count": 172,
   "metadata": {},
   "outputs": [],
   "source": [
    "def repite_hola(n):\n",
    "    repetir_hola = \"hola\"\n",
    "    for x in range(1,n+1):\n",
    "        print(repetir_hola)"
   ]
  },
  {
   "cell_type": "code",
   "execution_count": 173,
   "metadata": {},
   "outputs": [
    {
     "name": "stdout",
     "output_type": "stream",
     "text": [
      "hola\n",
      "hola\n",
      "hola\n",
      "hola\n"
     ]
    }
   ],
   "source": [
    "repite_hola(4)"
   ]
  },
  {
   "cell_type": "markdown",
   "metadata": {},
   "source": [
    "Ejercicio 3.2. Escribir otra función repite_hola que reciba como parámetro un número entero n y retorne la cadena formada por n concatenaciones de \"Hola\". Invocarla con distintos valores de n."
   ]
  },
  {
   "cell_type": "code",
   "execution_count": 179,
   "metadata": {},
   "outputs": [],
   "source": [
    "def repite_hola(n):\n",
    "    repite_hola = \"hola\"\n",
    "    for x in range(1,n+1):\n",
    "        print(repite_hola)\n",
    "    return x*repite_hola"
   ]
  },
  {
   "cell_type": "code",
   "execution_count": 180,
   "metadata": {},
   "outputs": [
    {
     "name": "stdout",
     "output_type": "stream",
     "text": [
      "hola\n",
      "hola\n",
      "hola\n"
     ]
    },
    {
     "data": {
      "text/plain": [
       "'holaholahola'"
      ]
     },
     "execution_count": 180,
     "metadata": {},
     "output_type": "execute_result"
    }
   ],
   "source": [
    "repite_hola(3)"
   ]
  },
  {
   "cell_type": "markdown",
   "metadata": {},
   "source": [
    "### 3.3. Cómo usar una función en un programa"
   ]
  },
  {
   "cell_type": "markdown",
   "metadata": {},
   "source": [
    "Una función es útil porque nos permite repetir la misma instrucción (puede que con argumentos distintos) todas las veces que las necesitemos en un programa.Para utilizar las funciones definidas anteriormente, escribiremos un programa que pida tres duraciones, y en los tres casos las transforme a segundos y las muestra por pantalla."
   ]
  },
  {
   "cell_type": "code",
   "execution_count": 41,
   "metadata": {},
   "outputs": [],
   "source": [
    "def print_asegundos(horas, minutos, segundos):\n",
    "    \"\"\" Transforma en segundos una medida de tiempo expresada en\n",
    "    horas, minutos y segundos \"\"\"\n",
    "    segsal = 3600 * horas + 60 * minutos + segundos\n",
    "    print(\"Son\",segsal, \"segundos\")\n",
    "def main():\n",
    "    \"\"\" Lee tres tiempos expresados en hs, min y seg, y usa print_asegundos para mostrar en pantalla la conversión a segundos \"\"\"\n",
    "    for x in range(3):\n",
    "        hs = input(\"Cuantas horas?: \")\n",
    "        min = input(\"Cuantos minutos?: \")\n",
    "        seg = input(\"Cuantos segundos?: \")\n",
    "\n",
    "        hs=int(hs)\n",
    "        min=int(min)\n",
    "        seg=int(seg)\n",
    "\n",
    "        print_asegundos(hs, min, seg)"
   ]
  },
  {
   "cell_type": "code",
   "execution_count": 42,
   "metadata": {},
   "outputs": [
    {
     "name": "stdout",
     "output_type": "stream",
     "text": [
      "Cuantas horas?: 1\n",
      "Cuantos minutos?: 0\n",
      "Cuantos segundos?: 0\n",
      "Son 3600 segundos\n",
      "Cuantas horas?: 0\n",
      "Cuantos minutos?: 1\n",
      "Cuantos segundos?: 0\n",
      "Son 60 segundos\n",
      "Cuantas horas?: 0\n",
      "Cuantos minutos?: 0\n",
      "Cuantos segundos?: 1\n",
      "Son 1 segundos\n"
     ]
    }
   ],
   "source": [
    "main()"
   ]
  },
  {
   "cell_type": "code",
   "execution_count": 21,
   "metadata": {},
   "outputs": [
    {
     "name": "stdout",
     "output_type": "stream",
     "text": [
      "Help on function main in module __main__:\n",
      "\n",
      "main()\n",
      "    Lee tres tiempos expresados en hs, min y seg, y usa\n",
      "     print_asegundos para mostrar en pantalla la conversión a\n",
      "    segundos\n",
      "\n"
     ]
    }
   ],
   "source": [
    "help(main)"
   ]
  },
  {
   "cell_type": "markdown",
   "metadata": {},
   "source": [
    "### 3.5. Un ejemplo completo"
   ]
  },
  {
   "cell_type": "markdown",
   "metadata": {},
   "source": [
    "Problema 3.1. Un usuario nos plantea su problema: necesita que se facture el uso de un teléfono. Nos informará la tarifa por segundo, cuántas comunicaciones se realizaron, la duración de cada comunicación expresada en horas, minutos y segundos. Como resultado deberemos informar la duración en segundos de cada comunicación y su costo."
   ]
  },
  {
   "cell_type": "code",
   "execution_count": 51,
   "metadata": {},
   "outputs": [],
   "source": [
    "def tarifador():\n",
    "    \"\"\" El usuario ingresa la tarifa por segundo, cuántas\n",
    "    comunicaciones se realizaron, y la duracion de cada\n",
    "    comunicación expresada en horas, minutos y segundos. Como\n",
    "    resultado se informa la duración en segundos de cada\n",
    "    comunicación y su costo. \"\"\"\n",
    "\n",
    "    f= input(\"¿Cuánto cuesta 1 segundo de comunicacion?: \")\n",
    "    n= input(\"¿Cuántas comunicaciones hubo?: \")\n",
    "    \n",
    "    f= float(f)\n",
    "    n= int(n)\n",
    "    \n",
    "    for x in range(n):\n",
    "        hs = input(\"¿Cuántas horas?: \")\n",
    "        min = input(\"¿Cuántos minutos?: \")\n",
    "        seg = input(\"¿Cuántos segundos?: \")\n",
    "        \n",
    "        hs = float(hs)\n",
    "        min= float(min)\n",
    "        seg= float(seg)\n",
    "        \n",
    "        segcalc = asegundos(hs, min, seg)\n",
    "        costo = segcalc * f\n",
    "        print(\"Duracion: \", segcalc, \"segundos. Costo: \", costo, \"$\")\n",
    "        \n",
    "def asegundos(horas, minutos, segundos):\n",
    "    segsal = 3600 * horas + 60 * minutos + segundos\n",
    "    return segsal"
   ]
  },
  {
   "cell_type": "code",
   "execution_count": 55,
   "metadata": {},
   "outputs": [
    {
     "name": "stdout",
     "output_type": "stream",
     "text": [
      "¿Cuánto cuesta 1 segundo de comunicacion?: 0.40\n",
      "¿Cuántas comunicaciones hubo?: 3\n",
      "¿Cuántas horas?: 1\n",
      "¿Cuántos minutos?: 0\n",
      "¿Cuántos segundos?: 0\n",
      "Duracion:  3600.0 segundos. Costo:  1440.0 $\n",
      "¿Cuántas horas?: 0\n",
      "¿Cuántos minutos?: 1\n",
      "¿Cuántos segundos?: 0\n",
      "Duracion:  60.0 segundos. Costo:  24.0 $\n",
      "¿Cuántas horas?: 0\n",
      "¿Cuántos minutos?: 0\n",
      "¿Cuántos segundos?: 1\n",
      "Duracion:  1.0 segundos. Costo:  0.4 $\n"
     ]
    }
   ],
   "source": [
    "tarifador()"
   ]
  },
  {
   "cell_type": "markdown",
   "metadata": {},
   "source": [
    "### 3.6. Devolver Múltiples resultados"
   ]
  },
  {
   "cell_type": "markdown",
   "metadata": {},
   "source": [
    "Ahora nos piden que escribamos una función que dada una duración en segundos sin fracciones (representada por un número entero) calcule la misma duración en horas, minutos y segundos."
   ]
  },
  {
   "cell_type": "code",
   "execution_count": 3,
   "metadata": {},
   "outputs": [],
   "source": [
    "def aHsMinSeg(x):\n",
    "    \"\"\" Dada una duración en segundos sin fracciones\n",
    "    (la función debe invocarse con números enteros)\n",
    "    se la convierte a horas, minutos y segundos \"\"\"\n",
    "    hs = x / 3600\n",
    "    min = (x % 3600) / 60\n",
    "    seg = (x % 3600 ) % 60\n",
    "    \n",
    "    hs=int(hs)\n",
    "    min=int(min)\n",
    "    seg=int(seg)\n",
    "    return (hs, min, seg)"
   ]
  },
  {
   "cell_type": "code",
   "execution_count": 4,
   "metadata": {},
   "outputs": [
    {
     "name": "stdout",
     "output_type": "stream",
     "text": [
      "Son 1 horas 1 minutos 1 segundos\n"
     ]
    }
   ],
   "source": [
    "(h, m, s) = aHsMinSeg(3661)\n",
    "print(\"Son\", h, \"horas\", m, \"minutos\", s, \"segundos\")"
   ]
  },
  {
   "cell_type": "code",
   "execution_count": 6,
   "metadata": {},
   "outputs": [
    {
     "name": "stdout",
     "output_type": "stream",
     "text": [
      "(1, 1, 1)\n"
     ]
    }
   ],
   "source": [
    "t = aHsMinSeg(3661)\n",
    "print(t)"
   ]
  },
  {
   "cell_type": "markdown",
   "metadata": {},
   "source": [
    "### 4. Decisiones"
   ]
  },
  {
   "cell_type": "markdown",
   "metadata": {},
   "source": [
    "### 4.1 Expresiones booleanas"
   ]
  },
  {
   "cell_type": "markdown",
   "metadata": {},
   "source": [
    "Además de los números y los textos que vimos hasta ahora, Python introduce las constantes True y False para representar los valores de verdad verdadero y falso respectivamente. Vimos que una expresión es un trozo de código Python que produce o calcula un valor (resultado). Una expresión booleana o expresión lógica es una expresión que vale o bien True o bien False."
   ]
  },
  {
   "cell_type": "markdown",
   "metadata": {},
   "source": [
    "### 4.1.1. Expresiones de comparación"
   ]
  },
  {
   "cell_type": "markdown",
   "metadata": {},
   "source": [
    "a == b a es igual a b;\n",
    "a != b a es distinto de b;\n",
    "a < b a es menor que b;\n",
    "a <= b a es menor o igual que b;\n",
    "a > b a es mayor que b;\n",
    "a >= b a es mayor o igual que b;"
   ]
  },
  {
   "cell_type": "markdown",
   "metadata": {},
   "source": [
    "### 4.1.2 Operadores Lógicos"
   ]
  },
  {
   "cell_type": "markdown",
   "metadata": {},
   "source": [
    "De la misma manera que se puede operar entre números mediante las operaciones de suma, esta, etc., también existen tres operadores lógicos para combinar expresiones booleanas: and (y), or (o) y not (no)."
   ]
  },
  {
   "cell_type": "markdown",
   "metadata": {},
   "source": [
    "### 4.2. Comparaciones simples"
   ]
  },
  {
   "cell_type": "markdown",
   "metadata": {},
   "source": [
    "Problema 4.1. Debemos leer un número y, si el número es positivo, debemos escribir en pantalla el cartel “Numero positivo”."
   ]
  },
  {
   "cell_type": "code",
   "execution_count": 13,
   "metadata": {},
   "outputs": [],
   "source": [
    "def es_positivo():\n",
    "    x= input(\"ingrese un numero: \")\n",
    "    x=int(x)\n",
    "    if x > 0:\n",
    "        print(\"Numero positivo\")"
   ]
  },
  {
   "cell_type": "code",
   "execution_count": 14,
   "metadata": {},
   "outputs": [
    {
     "name": "stdout",
     "output_type": "stream",
     "text": [
      "ingrese un numero: 4\n",
      "Numero positivo\n"
     ]
    }
   ],
   "source": [
    "es_positivo()"
   ]
  },
  {
   "cell_type": "code",
   "execution_count": 15,
   "metadata": {},
   "outputs": [
    {
     "name": "stdout",
     "output_type": "stream",
     "text": [
      "ingrese un numero: -25\n"
     ]
    }
   ],
   "source": [
    "es_positivo()"
   ]
  },
  {
   "cell_type": "code",
   "execution_count": 16,
   "metadata": {},
   "outputs": [
    {
     "name": "stdout",
     "output_type": "stream",
     "text": [
      "ingrese un numero: 0\n"
     ]
    }
   ],
   "source": [
    "es_positivo()"
   ]
  },
  {
   "cell_type": "markdown",
   "metadata": {},
   "source": [
    "Problema 4.2. En la etapa de mantenimiento nos dicen que, en realidad, también se necesitaría un mensaje \"Número no positivo\" cuando no se cumple la condición."
   ]
  },
  {
   "cell_type": "code",
   "execution_count": 30,
   "metadata": {},
   "outputs": [],
   "source": [
    "def positivo_o_no():\n",
    "    x= input(\"Ingrese un numero: \")\n",
    "    x=int(x)\n",
    "    if x > 0:\n",
    "        print(\"Numero positivo: \")\n",
    "    if not(x > 0):\n",
    "        print(\"Numero no positivo\")"
   ]
  },
  {
   "cell_type": "code",
   "execution_count": 28,
   "metadata": {},
   "outputs": [
    {
     "name": "stdout",
     "output_type": "stream",
     "text": [
      "Ingrese un numero: 4\n",
      "Numero positivo: \n"
     ]
    }
   ],
   "source": [
    "positivo_o_no()"
   ]
  },
  {
   "cell_type": "code",
   "execution_count": 31,
   "metadata": {},
   "outputs": [
    {
     "name": "stdout",
     "output_type": "stream",
     "text": [
      "Ingrese un numero: -25\n",
      "Numero no positivo\n"
     ]
    }
   ],
   "source": [
    "positivo_o_no()"
   ]
  },
  {
   "cell_type": "code",
   "execution_count": 32,
   "metadata": {},
   "outputs": [
    {
     "name": "stdout",
     "output_type": "stream",
     "text": [
      "Ingrese un numero: 0\n",
      "Numero no positivo\n"
     ]
    }
   ],
   "source": [
    "positivo_o_no()"
   ]
  },
  {
   "cell_type": "markdown",
   "metadata": {},
   "source": [
    "### 4.3. Múltiples decisiones consecutivas"
   ]
  },
  {
   "cell_type": "markdown",
   "metadata": {},
   "source": [
    "Problema 4.3. Si el número es positivo escribir un mensaje \"Numero positivo\", si el número es igual a 0 un mensaje \"Igual a 0\", y si el número es negativo escribir un mensaje \"numero negativo\"."
   ]
  },
  {
   "cell_type": "code",
   "execution_count": 45,
   "metadata": {},
   "outputs": [],
   "source": [
    "def pcn1():\n",
    "    x= input(\"Ingrese un numero: \")\n",
    "    x=int(x)\n",
    "    \n",
    "    if x > 0:\n",
    "        print(\"Numero positivo\")\n",
    "    else:\n",
    "        if x==0:\n",
    "            print(\"Igual a 0\")\n",
    "        else:\n",
    "            print(\"Numero negativo\")"
   ]
  },
  {
   "cell_type": "code",
   "execution_count": 38,
   "metadata": {},
   "outputs": [
    {
     "name": "stdout",
     "output_type": "stream",
     "text": [
      "Ingrese un numero: 4\n",
      "Numero positivo\n"
     ]
    }
   ],
   "source": [
    "pcn1()"
   ]
  },
  {
   "cell_type": "code",
   "execution_count": 39,
   "metadata": {},
   "outputs": [
    {
     "name": "stdout",
     "output_type": "stream",
     "text": [
      "Ingrese un numero: -25\n",
      "Numero negativo\n"
     ]
    }
   ],
   "source": [
    "pcn1()"
   ]
  },
  {
   "cell_type": "code",
   "execution_count": 40,
   "metadata": {},
   "outputs": [
    {
     "name": "stdout",
     "output_type": "stream",
     "text": [
      "Ingrese un numero: 0\n",
      "Igual a 0\n"
     ]
    }
   ],
   "source": [
    "pcn1()"
   ]
  },
  {
   "cell_type": "markdown",
   "metadata": {},
   "source": [
    "Esta estructura se conoce como de alternativas anidadas ya que dentro de una de las ramas de la alternativa (en este caso la rama del else) se anida otra alternativa. Pero ésta no es la única forma de implementarlo. Existe otra construcción, equivalente a la anterior pero que no exige sangrías cada vez mayores en el texto. Se trata de la estructura de alternativas encadenadas, que tiene la forma"
   ]
  },
  {
   "cell_type": "code",
   "execution_count": 41,
   "metadata": {},
   "outputs": [],
   "source": [
    "def pcn2():\n",
    "    x= input(\"Ingrese un numero: \")\n",
    "    x=int(x)\n",
    "    \n",
    "    if x > 0:\n",
    "        print(\"Numero positivo\")\n",
    "    elif x==0:\n",
    "        print(\"Igual a 0\")\n",
    "    else:\n",
    "        print(\"Numero negativo\")"
   ]
  },
  {
   "cell_type": "code",
   "execution_count": 42,
   "metadata": {},
   "outputs": [
    {
     "name": "stdout",
     "output_type": "stream",
     "text": [
      "Ingrese un numero: 4\n",
      "Numero positivo\n"
     ]
    }
   ],
   "source": [
    "pcn2()"
   ]
  },
  {
   "cell_type": "code",
   "execution_count": 43,
   "metadata": {},
   "outputs": [
    {
     "name": "stdout",
     "output_type": "stream",
     "text": [
      "Ingrese un numero: -25\n",
      "Numero negativo\n"
     ]
    }
   ],
   "source": [
    "pcn2()"
   ]
  },
  {
   "cell_type": "code",
   "execution_count": 44,
   "metadata": {},
   "outputs": [
    {
     "name": "stdout",
     "output_type": "stream",
     "text": [
      "Ingrese un numero: 0\n",
      "Igual a 0\n"
     ]
    }
   ],
   "source": [
    "pcn2()"
   ]
  },
  {
   "cell_type": "markdown",
   "metadata": {},
   "source": [
    "### 4.4 Ejercicios"
   ]
  },
  {
   "cell_type": "markdown",
   "metadata": {},
   "source": [
    "Ejercicio 4.1. El usuario del tarifador nos pide ahora una modificación, ya que no es lo mismo la tarifa por segundo de las llamadas cortas que la tarifa por segundo de las llamadas largas. Al inicio del programa se informará la duración máxima de una llamada corta, la tarifa de las llamadas cortas y la de las largas. Se deberá facturar con alguno de los dos valores de acuerdo a la duración de la comunicación."
   ]
  },
  {
   "cell_type": "markdown",
   "metadata": {},
   "source": [
    "Ejercicio 4.2. Mantenimiento del tarifador: \n",
    "a) Al nuevo programa que cuenta con llamadas cortas y largas, agregarle los adicionales, de modo que: Los montos se escriban como pesos y centavos. Se informe además cuál fue el total facturado en la corrida. "
   ]
  },
  {
   "cell_type": "code",
   "execution_count": 95,
   "metadata": {},
   "outputs": [
    {
     "name": "stdout",
     "output_type": "stream",
     "text": [
      "-------------------------------------------------------------------------------------------------\n",
      "La tarifa de la llamada está fijada en pesos o centavos?, elija opción 1 o 2: 1\n",
      "-------------------------------------------------------------------------------------------------\n",
      "Tarifa de la llamada fijada en pesos, es de corta o larga duración?, elija opción 1 o 2: 1\n",
      "-------------------------------------------------------------------------------------------------\n",
      "Tarifa de para llamadas de corta duración, fijada en pesos\n",
      "-------------------------------------------------------------------------------------------------\n",
      "¿Cuánto cuesta un segundo de comunicación?: 32\n",
      "-------------------------------------------------------------------------------------------------\n",
      "¿Cuántas comunicaciones hubo: 1\n",
      "-------------------------------------------------------------------------------------------------\n",
      "¿Cuántas horas?: 1\n",
      "¿Cuántos minutos?: 0\n",
      "¿Cuántos segundos?: 0\n",
      "-------------------------------------------------------------------------------------------------\n",
      "Duracion:  3600.0 segundos. Costo:  115200.0 $\n"
     ]
    }
   ],
   "source": [
    "def tarifador():\n",
    "    print(\"-------------------------------------------------------------------------------------------------\")\n",
    "    tar= input(\"La tarifa de la llamada está fijada en pesos o centavos?, elija opción 1 o 2: \")\n",
    "    tar= int(tar)\n",
    "    if tar == 1:\n",
    "        print(\"-------------------------------------------------------------------------------------------------\")\n",
    "        dur= input(\"Tarifa de la llamada fijada en pesos, es de corta o larga duración?, elija opción 1 o 2: \")\n",
    "        dur=int(dur)\n",
    "        if dur == 1:\n",
    "            print(\"-------------------------------------------------------------------------------------------------\")\n",
    "            print(\"Tarifa de para llamadas de corta duración, fijada en pesos\")\n",
    "            \n",
    "            print(\"-------------------------------------------------------------------------------------------------\")\n",
    "            f= input(\"¿Cuánto cuesta un segundo de comunicación?: \")\n",
    "            f= float(f)\n",
    "            \n",
    "            print(\"-------------------------------------------------------------------------------------------------\")\n",
    "            n= input(\"¿Cuántas comunicaciones hubo: \")\n",
    "            n=int(n)\n",
    "            \n",
    "            for x in range(n):\n",
    "                print(\"-------------------------------------------------------------------------------------------------\")\n",
    "                hs = input(\"¿Cuántas horas?: \")\n",
    "                min = input(\"¿Cuántos minutos?: \")\n",
    "                seg = input(\"¿Cuántos segundos?: \")\n",
    "\n",
    "                hs = float(hs)\n",
    "                min= float(min)\n",
    "                seg= float(seg)\n",
    "                \n",
    "                segcalc = asegundos(hs, min, seg)\n",
    "                costo = segcalc * f\n",
    "                print(\"-------------------------------------------------------------------------------------------------\")\n",
    "                print(\"Duracion: \", segcalc, \"segundos. Costo: \", costo, \"$\")\n",
    "        if dur == 2:\n",
    "            print(\"-------------------------------------------------------------------------------------------------\")\n",
    "            print(\"Tarifa de para llamadas de larga duración, fijada en pesos\")\n",
    "            \n",
    "            print(\"-------------------------------------------------------------------------------------------------\")\n",
    "            f= input(\"¿Cuánto cuesta un segundo de comunicación?: \")\n",
    "            f= float(f)\n",
    "            \n",
    "            print(\"-------------------------------------------------------------------------------------------------\")\n",
    "            n= input(\"¿Cuántas comunicaciones hubo: \")\n",
    "            n=int(n)\n",
    "            \n",
    "            for x in range(n):\n",
    "                print(\"-------------------------------------------------------------------------------------------------\")\n",
    "                hs = input(\"¿Cuántas horas?: \")\n",
    "                min = input(\"¿Cuántos minutos?: \")\n",
    "                seg = input(\"¿Cuántos segundos?: \")\n",
    "\n",
    "                hs = float(hs)\n",
    "                min= float(min)\n",
    "                seg= float(seg)\n",
    "                \n",
    "                segcalc = asegundos(hs, min, seg)\n",
    "                costo = segcalc * f\n",
    "                print(\"-------------------------------------------------------------------------------------------------\")\n",
    "                print(\"Duracion: \", segcalc, \"segundos. Costo: \", costo, \"$\")\n",
    "\n",
    "    elif tar == 2:\n",
    "        print(\"-------------------------------------------------------------------------------------------------\")\n",
    "        dur= input(\"Tarifa de la llamada fijada en centavos, es de corta o larga duración?, elija opción 1 o 2: \")\n",
    "        dur=int(dur)\n",
    "        if dur == 1:\n",
    "            print(\"-------------------------------------------------------------------------------------------------\")\n",
    "            print(\"Tarifa de para llamadas de corta duración, fijada en centavos\")\n",
    "\n",
    "            print(\"-------------------------------------------------------------------------------------------------\")\n",
    "            f= input(\"¿Cuánto cuesta un segundo de comunicación?: \")\n",
    "            f= float(f)\n",
    "            \n",
    "            print(\"-------------------------------------------------------------------------------------------------\")\n",
    "            n= input(\"¿Cuántas comunicaciones hubo: \")\n",
    "            n=int(n)\n",
    "            \n",
    "            for x in range(n):\n",
    "                print(\"-------------------------------------------------------------------------------------------------\")\n",
    "                hs = input(\"¿Cuántas horas?: \")\n",
    "                min = input(\"¿Cuántos minutos?: \")\n",
    "                seg = input(\"¿Cuántos segundos?: \")\n",
    "\n",
    "                hs = float(hs)\n",
    "                min= float(min)\n",
    "                seg= float(seg)\n",
    "                \n",
    "                segcalc = asegundos(hs, min, seg)\n",
    "                costo = segcalc * f\n",
    "                print(\"-------------------------------------------------------------------------------------------------\")\n",
    "                print(\"Duracion: \", segcalc, \"segundos. Costo: \", costo, \"¢\")\n",
    "        elif dur == 2:\n",
    "            print(\"-------------------------------------------------------------------------------------------------\")\n",
    "            print(\"Tarifa de para llamadas de larga duración, fijada en centavos\")\n",
    "\n",
    "            print(\"-------------------------------------------------------------------------------------------------\")\n",
    "            f= input(\"¿Cuánto cuesta un segundo de comunicación?: \")\n",
    "            f= float(f)\n",
    "            \n",
    "            print(\"-------------------------------------------------------------------------------------------------\")\n",
    "            n= input(\"¿Cuántas comunicaciones hubo: \")\n",
    "            n=int(n)\n",
    "            \n",
    "            for x in range(n):\n",
    "                print(\"-------------------------------------------------------------------------------------------------\")\n",
    "                hs = input(\"¿Cuántas horas?: \")\n",
    "                min = input(\"¿Cuántos minutos?: \")\n",
    "                seg = input(\"¿Cuántos segundos?: \")\n",
    "\n",
    "                hs = float(hs)\n",
    "                min= float(min)\n",
    "                seg= float(seg)\n",
    "                \n",
    "                segcalc = asegundos(hs, min, seg)\n",
    "                costo = segcalc * f\n",
    "                print(\"-------------------------------------------------------------------------------------------------\")\n",
    "                print(\"Duracion: \", segcalc, \"segundos. Costo: \", costo, \"¢\")\n",
    "                \n",
    "def asegundos(horas, minutos, segundos):\n",
    "    segsal = 3600 * horas + 60 * minutos + segundos\n",
    "    return segsal\n",
    " \n",
    "tarifador()"
   ]
  },
  {
   "cell_type": "markdown",
   "metadata": {},
   "source": [
    "### 5. Más sobre ciclos"
   ]
  },
  {
   "cell_type": "markdown",
   "metadata": {},
   "source": [
    "Problema 5.1. El usuario debe poder ingresar muchos números y cada vez que se ingresa uno\n",
    "debemos informar si es positivo, cero o negativo.\n",
    "Utilizando los ciclos definidos vistos en las primeras unidades, es posible preguntarle al\n",
    "usuario cada vez, al inicio del programa, cuántos números va a ingresar para consultar. La\n",
    "solución propuesta resulta:"
   ]
  },
  {
   "cell_type": "code",
   "execution_count": 101,
   "metadata": {},
   "outputs": [
    {
     "name": "stdout",
     "output_type": "stream",
     "text": [
      "Cuántos números quiere procesar: 2\n",
      "Ingrese un número: 1\n",
      "Número positivo\n",
      "Ingrese un número: 1\n",
      "Número positivo\n"
     ]
    }
   ],
   "source": [
    "def muchos_pcn():\n",
    "    i= input(\"Cuántos números quiere procesar: \")\n",
    "    i=int(i)\n",
    "    for j in range(0,i):\n",
    "        x= input(\"Ingrese un número: \")\n",
    "        x= int(x)\n",
    "        if x > 0:\n",
    "            print(\"Número positivo\")\n",
    "        elif x == 0: \n",
    "            print(\"Igual a 0\")\n",
    "        else:\n",
    "            print(\"Numero negativo\")\n",
    "muchos_pcn()"
   ]
  },
  {
   "cell_type": "markdown",
   "metadata": {},
   "source": [
    "Sin embargo al usuario considera que este programa no es muy intuitivo, porque lo obliga a contar de antemano cuántos números va a querer procesar, sin equivocarse, en lugar de ingresar uno a uno los números hasta procesarlos a todos."
   ]
  },
  {
   "cell_type": "markdown",
   "metadata": {},
   "source": [
    "### 5.1. Ciclos indefinidos"
   ]
  },
  {
   "cell_type": "markdown",
   "metadata": {},
   "source": [
    "Para poder resolver este problema sin averiguar primero la cantidad de números a procesar, debemos introducir una instrucción que nos permita construir ciclos que no requieran que se informe de antemano la cantidad de veces que se repetirá el cálculo del cuerpo. Se trata de ciclos indefinidos en los cuales se repite el cálculo del cuerpo mientras una cierta condición es verdadera."
   ]
  },
  {
   "cell_type": "code",
   "execution_count": null,
   "metadata": {},
   "outputs": [],
   "source": [
    "while <condición>:\n",
    "<hacer algo>"
   ]
  },
  {
   "cell_type": "markdown",
   "metadata": {},
   "source": [
    "### 5.2. Ciclo interactivo"
   ]
  },
  {
   "cell_type": "markdown",
   "metadata": {},
   "source": [
    "¿Cuál es la condición y cuál es el cuerpo del ciclo en nuestro problema? Claramente, el cuerpo del ciclo es el ingreso de datos y la verificación de si es positivo, negativo o cero. En cuanto a la condición, es que haya más datos para seguir calculando. Definimos una variable hayMasDatos, que valdrá “Si” mientras haya datos. Se le debe preguntar al usuario, después de cada cálculo, si hay o no más datos. Cuando el usuario deje de responder “Si”, dejaremos de ejecutar el cuerpo del ciclo. Una primera aproximación al código necesario para resolver este problema podría ser:"
   ]
  },
  {
   "cell_type": "code",
   "execution_count": 115,
   "metadata": {
    "scrolled": true
   },
   "outputs": [
    {
     "name": "stdout",
     "output_type": "stream",
     "text": [
      "Ingrese un numero: 25\n",
      "Numero Positivo: \n",
      "Desea continuar? <Si-No>: Si\n",
      "Ingrese un numero: 0\n",
      "Igual a 0\n",
      "Desea continuar? <Si-No>: Si\n",
      "Ingrese un numero: -5\n",
      "Número negativo\n",
      "Desea continuar? <Si-No>: No\n"
     ]
    }
   ],
   "source": [
    "def pcn_loop():\n",
    "    hayMasDatos = \"Si\"\n",
    "    while hayMasDatos == \"Si\":\n",
    "        x= input(\"Ingrese un numero: \")\n",
    "        x= int(x)\n",
    "        if x > 0:\n",
    "            print(\"Numero Positivo: \")\n",
    "        elif x == 0:\n",
    "            print(\"Igual a 0\")\n",
    "        else:\n",
    "            print(\"Número negativo\")\n",
    "\n",
    "        hayMasDatos = input(\"Desea continuar? <Si-No>: \")\n",
    "        \n",
    "pcn_loop()"
   ]
  },
  {
   "cell_type": "markdown",
   "metadata": {},
   "source": [
    "### 5.3. Ciclo con centinela"
   ]
  },
  {
   "cell_type": "markdown",
   "metadata": {},
   "source": [
    "Un problema que tiene nuestra primera solución es que resulta poco amigable preguntarle al usuario después de cada cálculo si desea continuar. Se puede usar el método del centinela: un valor distinguido que, si se lee, le indica al programa que el usuario desea salir del ciclo. En este caso, podemos suponer que si ingresa el caracter * es una indicación de que desea terminar."
   ]
  },
  {
   "cell_type": "code",
   "execution_count": 223,
   "metadata": {
    "scrolled": true
   },
   "outputs": [
    {
     "name": "stdout",
     "output_type": "stream",
     "text": [
      "Ingrese un numero ('*' para terminar):  25\n",
      "Numero Positivo: \n",
      "Ingrese un numero ('*' para terminar):  0\n",
      "Igual a 0\n",
      "Ingrese un numero ('*' para terminar):  -5\n",
      "Número negativo\n",
      "Ingrese un numero ('*' para terminar):  *\n"
     ]
    }
   ],
   "source": [
    "def pcn_loop2():\n",
    "    \n",
    "    x= input(\"Ingrese un numero ('*' para terminar):  \")\n",
    "    while x != \"*\":\n",
    "        x=int(x)    \n",
    "        if x > 0:\n",
    "            print(\"Numero Positivo: \")\n",
    "        elif x == 0:\n",
    "            print(\"Igual a 0\")\n",
    "        else:\n",
    "            print(\"Número negativo\")\n",
    "        x= input(\"Ingrese un numero ('*' para terminar):  \")\n",
    "        \n",
    "    \n",
    "pcn_loop2()"
   ]
  },
  {
   "cell_type": "markdown",
   "metadata": {},
   "source": [
    "### 5.4 Cómo romper un ciclo"
   ]
  },
  {
   "cell_type": "markdown",
   "metadata": {},
   "source": [
    "El ciclo con centinela es muy claro pero tiene un problema: hay dos lugares (la primera línea del cuerpo y la última línea del ciclo) donde se ingresa el mismo dato. Si en la etapa de mantenimiento tuviéramos que realizar un cambio en el ingreso del dato (cambio de mensaje, por ejemplo) deberíamos estar atentos y hacer dos correcciones iguales. Sería preferible poder leer el dato x en un único punto del programa. A continuación, tratamos de diseñar una solución con esa restricción.\n",
    "Es claro que en ese caso la lectura tiene que estar dentro del ciclo para poder leer más de un\n",
    "número, pero entonces la condición del ciclo no puede depender del valor leído, ni tampoco de\n",
    "valores calculados dentro del ciclo. Pero un ciclo que no puede depender de valores leídos o calculados dentro de él será de la forma:"
   ]
  },
  {
   "cell_type": "code",
   "execution_count": null,
   "metadata": {},
   "outputs": [],
   "source": [
    "while True:\n",
    "    <hacer algo>"
   ]
  },
  {
   "cell_type": "markdown",
   "metadata": {},
   "source": [
    "Un ciclo cuya condición es True parece ser un ciclo infinito (o sea que nunca va a terminar). ¡Pero eso es gravísimo! ¡Nuestros programas tienen que terminar! Afortunadamente hay una instrucción de Python, break, que nos permite salir de adentro de un ciclo (tanto sea for como while) en medio de su ejecución. En esta construcción:"
   ]
  },
  {
   "cell_type": "code",
   "execution_count": null,
   "metadata": {},
   "outputs": [],
   "source": [
    "while <condicion>:\n",
    "    <hacer algo_1>\n",
    "    if <condif>:\n",
    "        break\n",
    "    <hacer algo_2>"
   ]
  },
  {
   "cell_type": "markdown",
   "metadata": {},
   "source": [
    "Codificamos en Python la solución al problema de los números usando ese esquema:"
   ]
  },
  {
   "cell_type": "code",
   "execution_count": 224,
   "metadata": {},
   "outputs": [
    {
     "name": "stdout",
     "output_type": "stream",
     "text": [
      "Ingrese un numero ('*' para finalizar):  25\n",
      "Número positivo: \n",
      "Ingrese un numero ('*' para finalizar):  0\n",
      "Igual a 0\n",
      "Ingrese un numero ('*' para finalizar):  -5\n",
      "Número negativo\n",
      "Ingrese un numero ('*' para finalizar):  *\n"
     ]
    }
   ],
   "source": [
    "def pcn_loop3():\n",
    "    \n",
    "    while True:\n",
    "        x= input(\"Ingrese un numero ('*' para finalizar):  \")\n",
    "        if str(x) == '*':\n",
    "            break\n",
    "        elif int(x)>0:\n",
    "            print(\"Número positivo: \")\n",
    "        elif int(x) == 0:\n",
    "            print(\"Igual a 0\")\n",
    "        else:\n",
    "            print(\"Número negativo\")\n",
    "            \n",
    "pcn_loop3()"
   ]
  },
  {
   "cell_type": "markdown",
   "metadata": {},
   "source": [
    "### 5.5 Ejercicios"
   ]
  },
  {
   "cell_type": "markdown",
   "metadata": {},
   "source": [
    "Ejercicio 5.1. Nuevamente, se desea facturar el uso de un telefono. Para ello se informa la tarifa por segundo y la duracion de cada comunicacion expresada en horas, minutos y segundos. Como resultado se informa la duracion en segundos de cada comunicacion y su costo. Resolver este problema usando"
   ]
  },
  {
   "cell_type": "markdown",
   "metadata": {},
   "source": [
    "\n",
    "5.1.1. Ciclo definido."
   ]
  },
  {
   "cell_type": "code",
   "execution_count": 233,
   "metadata": {},
   "outputs": [
    {
     "name": "stdout",
     "output_type": "stream",
     "text": [
      "¿Cuánto cuesta 1 segundo de comunicacion?: 20\n",
      "¿Cuántas comunicaciones hubo?: 1\n",
      "¿Cuántas horas?: 1\n",
      "¿Cuántos minutos?: 0\n",
      "¿Cuántos segundos?: 2\n",
      "Duracion:  3602.0 segundos. Costo:  72040.0 $\n"
     ]
    }
   ],
   "source": [
    "def tarifador_definido():\n",
    "    \"\"\" El usuario ingresa la tarifa por segundo, cuántas\n",
    "    comunicaciones se realizaron, y la duracion de cada\n",
    "    comunicación expresada en horas, minutos y segundos. Como\n",
    "    resultado se informa la duración en segundos de cada\n",
    "    comunicación y su costo. \"\"\"\n",
    "\n",
    "    f= input(\"¿Cuánto cuesta 1 segundo de comunicacion?: \")\n",
    "    n= input(\"¿Cuántas comunicaciones hubo?: \")\n",
    "    \n",
    "    f= float(f)\n",
    "    n= int(n)\n",
    "    \n",
    "    for x in range(n):\n",
    "        hs = input(\"¿Cuántas horas?: \")\n",
    "        min = input(\"¿Cuántos minutos?: \")\n",
    "        seg = input(\"¿Cuántos segundos?: \")\n",
    "        \n",
    "        hs = float(hs)\n",
    "        min= float(min)\n",
    "        seg= float(seg)\n",
    "        \n",
    "        segcalc = asegundos(hs, min, seg)\n",
    "        costo = segcalc * f\n",
    "        print(\"Duracion: \", segcalc, \"segundos. Costo: \", costo, \"$\")\n",
    "        \n",
    "def asegundos(horas, minutos, segundos):\n",
    "    segsal = 3600 * horas + 60 * minutos + segundos\n",
    "    return segsal\n",
    "\n",
    "tarifador_definido()"
   ]
  },
  {
   "cell_type": "markdown",
   "metadata": {},
   "source": [
    "5.1.2. Ciclo interactivo."
   ]
  },
  {
   "cell_type": "code",
   "execution_count": 28,
   "metadata": {},
   "outputs": [
    {
     "name": "stdout",
     "output_type": "stream",
     "text": [
      "¿Cuánto cuesta 1 segundo de comunicación?: 2\n",
      "¿Cuántas horas?: 3\n",
      "¿Cuántos minutos?: 2\n",
      "¿Cuántos segundos?: 1\n",
      "Duracion:  10921.0 segundos. Costo:  21842.0 $\n",
      "Desea continuar? <Si-No>: No\n"
     ]
    }
   ],
   "source": [
    "def tarifador_interactivo():\n",
    "    \n",
    "    hayMasDatos = \"Si\"\n",
    "    while hayMasDatos == \"Si\":\n",
    "        f= float(input(\"¿Cuánto cuesta 1 segundo de comunicación?: \"))\n",
    "        \n",
    "        hs = float(input(\"¿Cuántas horas?: \"))\n",
    "        min = float(input(\"¿Cuántos minutos?: \"))\n",
    "        seg = float(input(\"¿Cuántos segundos?: \"))\n",
    "        \n",
    "        segcalc = asegundos(hs, min, seg)\n",
    "        costo = segcalc * f\n",
    "        print(\"Duracion: \", segcalc, \"segundos. Costo: \", costo, \"$\")       \n",
    "\n",
    "        hayMasDatos = input(\"Desea continuar? <Si-No>: \")\n",
    "        \n",
    "def asegundos(horas, minutos, segundos):\n",
    "    segsal = 3600 * horas + 60 * minutos + segundos\n",
    "    return segsal\n",
    "\n",
    "tarifador_interactivo()"
   ]
  },
  {
   "cell_type": "markdown",
   "metadata": {},
   "source": [
    "5.1.3. Ciclo con centinela."
   ]
  },
  {
   "cell_type": "code",
   "execution_count": 267,
   "metadata": {},
   "outputs": [
    {
     "name": "stdout",
     "output_type": "stream",
     "text": [
      "¿Cuánto cuesta 1 segundo de comunicación? ('*' para terminar): 6\n",
      "-----------------------------------------------------------------\n",
      "¿Cuántas horas?: 2\n",
      "¿Cuántos minutos?: 14\n",
      "¿Cuántos segundos?: 29\n",
      "Duracion:  8069.0 segundos. Costo:  48414.0 $\n",
      "-----------------------------------------------------------------\n",
      "¿Cuánto cuesta 1 segundo de comunicación? ('*' para terminar): 3\n",
      "-----------------------------------------------------------------\n",
      "¿Cuántas horas?: 1\n",
      "¿Cuántos minutos?: 38\n",
      "¿Cuántos segundos?: 54\n",
      "Duracion:  5934.0 segundos. Costo:  17802.0 $\n",
      "-----------------------------------------------------------------\n",
      "¿Cuánto cuesta 1 segundo de comunicación? ('*' para terminar): *\n"
     ]
    }
   ],
   "source": [
    "def tarifador_centinela():\n",
    "    x=input(\"¿Cuánto cuesta 1 segundo de comunicación? ('*' para terminar): \")\n",
    "    while x != \"*\":\n",
    "        x=int(x)\n",
    "        \n",
    "        print('-----------------------------------------------------------------')\n",
    "        hs = float(input(\"¿Cuántas horas?: \"))\n",
    "        min = float(input(\"¿Cuántos minutos?: \"))\n",
    "        seg = float(input(\"¿Cuántos segundos?: \"))\n",
    "        \n",
    "        segcalc = asegundos(hs, min, seg)\n",
    "        costo = segcalc * x\n",
    "        print(\"Duracion: \", segcalc, \"segundos. Costo: \", costo, \"$\")\n",
    "        \n",
    "        print('-----------------------------------------------------------------')\n",
    "        x=input(\"¿Cuánto cuesta 1 segundo de comunicación? ('*' para terminar): \")\n",
    "\n",
    "def asegundos(horas, minutos, segundos):\n",
    "    segsal = 3600 * horas + 60 * minutos + segundos\n",
    "    return segsal        \n",
    "        \n",
    "            \n",
    "tarifador_centinela()"
   ]
  },
  {
   "cell_type": "markdown",
   "metadata": {},
   "source": [
    "5.1.4. Ciclo “infinito” que se rompe."
   ]
  },
  {
   "cell_type": "code",
   "execution_count": 12,
   "metadata": {},
   "outputs": [
    {
     "name": "stdout",
     "output_type": "stream",
     "text": [
      "-----------------------------------------------------------------\n",
      "¿Cuánto cuesta 1 segundo de comunicación? ('*' para terminar): 2\n",
      "¿Cuántas horas?: 1\n",
      "¿Cuántos minutos?: 0\n",
      "¿Cuántos segundos?: 0\n",
      "Duracion:  3600.0 segundos. Costo:  7200.0 $\n",
      "-----------------------------------------------------------------\n",
      "¿Cuánto cuesta 1 segundo de comunicación? ('*' para terminar): 3\n",
      "¿Cuántas horas?: 2\n",
      "¿Cuántos minutos?: 30\n",
      "¿Cuántos segundos?: 25\n",
      "Duracion:  9025.0 segundos. Costo:  27075.0 $\n",
      "-----------------------------------------------------------------\n",
      "¿Cuánto cuesta 1 segundo de comunicación? ('*' para terminar): *\n"
     ]
    }
   ],
   "source": [
    "def tarifador_infinito():\n",
    "    while True:\n",
    "        print('-----------------------------------------------------------------')\n",
    "        x=input(\"¿Cuánto cuesta 1 segundo de comunicación? ('*' para terminar): \")\n",
    "        \n",
    "        if str(x) == '*':\n",
    "            break\n",
    "        else:\n",
    "            hs = float(input(\"¿Cuántas horas?: \"))\n",
    "            min = float(input(\"¿Cuántos minutos?: \"))\n",
    "            seg = float(input(\"¿Cuántos segundos?: \"))\n",
    "            \n",
    "            segcalc = asegundos(hs, min, seg)\n",
    "            costo = segcalc * int(x)\n",
    "            print(\"Duracion: \", segcalc, \"segundos. Costo: \", costo, \"$\")\n",
    "        \n",
    "def asegundos(horas, minutos, segundos):\n",
    "    segsal = 3600 * horas + 60 * minutos + segundos\n",
    "    return segsal\n",
    "            \n",
    "tarifador_infinito()"
   ]
  },
  {
   "cell_type": "markdown",
   "metadata": {},
   "source": [
    "Ejercicio 5.2. Mantenimiento del tarifador: al final del día se debe informar cuántas llamadas\n",
    "hubo y el total facturado. Hacerlo con todos los esquemas anteriores."
   ]
  },
  {
   "cell_type": "markdown",
   "metadata": {},
   "source": [
    "5.2.1. Ciclo definido"
   ]
  },
  {
   "cell_type": "code",
   "execution_count": 2,
   "metadata": {},
   "outputs": [
    {
     "name": "stdout",
     "output_type": "stream",
     "text": [
      "¿Cuánto cuesta 1 segundo de comunicacion?: 2\n",
      "¿Cuántas comunicaciones hubo?: 2\n",
      "¿Cuántas horas?: 1\n",
      "¿Cuántos minutos?: 0\n",
      "¿Cuántos segundos?: 0\n",
      "Duracion:  3600.0 segundos. Costo:  7200.0 $\n",
      "------------------------------------------------------------------------\n",
      "¿Cuántas horas?: 2\n",
      "¿Cuántos minutos?: 0\n",
      "¿Cuántos segundos?: 0\n",
      "Duracion:  7200.0 segundos. Costo:  14400.0 $\n",
      "------------------------------------------------------------------------\n",
      "Reporte diario\n",
      "Total de comunicaciones: 2\n",
      "Total Facturado: $ 21600.0\n"
     ]
    }
   ],
   "source": [
    "def tarifador_definido():\n",
    "    \"\"\" El usuario ingresa la tarifa por segundo, cuántas\n",
    "    comunicaciones se realizaron, y la duracion de cada\n",
    "    comunicación expresada en horas, minutos y segundos. Como\n",
    "    resultado se informa la duración en segundos de cada\n",
    "    comunicación y su costo. \"\"\"\n",
    "\n",
    "    total = 0\n",
    "    \n",
    "    f= input(\"¿Cuánto cuesta 1 segundo de comunicacion?: \")\n",
    "    n= input(\"¿Cuántas comunicaciones hubo?: \")\n",
    "    \n",
    "    f= float(f)\n",
    "    n= int(n)\n",
    "    \n",
    "    for x in range(n):\n",
    "        hs = input(\"¿Cuántas horas?: \")\n",
    "        min = input(\"¿Cuántos minutos?: \")\n",
    "        seg = input(\"¿Cuántos segundos?: \")\n",
    "        \n",
    "        hs = float(hs)\n",
    "        min= float(min)\n",
    "        seg= float(seg)\n",
    "        \n",
    "        segcalc = asegundos(hs, min, seg)\n",
    "        costo = segcalc * f\n",
    "        print(\"Duracion: \", segcalc, \"segundos. Costo: \", costo, \"$\")\n",
    "        print(\"------------------------------------------------------------------------\")\n",
    "        total = total + costo\n",
    "        \n",
    "    print(\"Reporte diario\")\n",
    "    x = x+1\n",
    "    print(\"Total de comunicaciones:\", x)\n",
    "    print(\"Total Facturado: $\", total)\n",
    "    \n",
    "    \n",
    "def asegundos(horas, minutos, segundos):\n",
    "    segsal = 3600 * horas + 60 * minutos + segundos\n",
    "    return segsal\n",
    "\n",
    "tarifador_definido()"
   ]
  },
  {
   "cell_type": "markdown",
   "metadata": {},
   "source": [
    "5.2.2. Ciclo interactivo"
   ]
  },
  {
   "cell_type": "code",
   "execution_count": 38,
   "metadata": {},
   "outputs": [
    {
     "name": "stdout",
     "output_type": "stream",
     "text": [
      "¿Cuánto cuesta 1 segundo de comunicación?: 2\n",
      "¿Cuántas horas?: 3\n",
      "¿Cuántos minutos?: 2\n",
      "¿Cuántos segundos?: 1\n",
      "Duracion:  10921.0 segundos. Costo:  21842.0 $\n",
      "--------------------------------------\n",
      "Desea continuar? <Si-No>: Si\n",
      "--------------------------------------\n",
      "¿Cuánto cuesta 1 segundo de comunicación?: 2\n",
      "¿Cuántas horas?: 3\n",
      "¿Cuántos minutos?: 1\n",
      "¿Cuántos segundos?: 2\n",
      "Duracion:  10862.0 segundos. Costo:  21724.0 $\n",
      "--------------------------------------\n",
      "Desea continuar? <Si-No>: No\n",
      "--------------------------------------\n",
      "Reporte Diario\n",
      "Total de comunicaciones:  2\n",
      "Total facturado: $ 43566.0\n"
     ]
    }
   ],
   "source": [
    "def tarifador_interactivo():\n",
    "    total=0\n",
    "    cant=0\n",
    "    \n",
    "    hayMasDatos = \"Si\"\n",
    "    while hayMasDatos == \"Si\":\n",
    "        f= float(input(\"¿Cuánto cuesta 1 segundo de comunicación?: \"))\n",
    "        \n",
    "        hs = float(input(\"¿Cuántas horas?: \"))\n",
    "        min = float(input(\"¿Cuántos minutos?: \"))\n",
    "        seg = float(input(\"¿Cuántos segundos?: \"))\n",
    "        \n",
    "        segcalc = asegundos(hs, min, seg)\n",
    "        costo = segcalc * f\n",
    "        print(\"Duracion: \", segcalc, \"segundos. Costo: \", costo, \"$\")       \n",
    "        print(\"--------------------------------------\")\n",
    "\n",
    "        hayMasDatos = input(\"Desea continuar? <Si-No>: \")\n",
    "        print(\"--------------------------------------\") \n",
    "        \n",
    "        total = total + costo\n",
    "        cant = cant + 1\n",
    "    else:  \n",
    "        print(\"Reporte Diario\")\n",
    "        print(\"Total de comunicaciones: \", cant)\n",
    "        print(\"Total facturado: $\", total)\n",
    "        \n",
    "def asegundos(horas, minutos, segundos):\n",
    "    segsal = 3600 * horas + 60 * minutos + segundos\n",
    "    return segsal\n",
    "\n",
    "tarifador_interactivo()"
   ]
  },
  {
   "cell_type": "markdown",
   "metadata": {},
   "source": [
    "5.2.3. Ciclo con centinela"
   ]
  },
  {
   "cell_type": "code",
   "execution_count": 35,
   "metadata": {},
   "outputs": [
    {
     "name": "stdout",
     "output_type": "stream",
     "text": [
      "¿Cuánto cuesta 1 segundo de comunicación? ('*' para terminar): 2\n",
      "-----------------------------------------------------------------\n",
      "¿Cuántas horas?: 3\n",
      "¿Cuántos minutos?: 2\n",
      "¿Cuántos segundos?: 1\n",
      "Duracion:  10921.0 segundos. Costo:  21842.0 $\n",
      "-----------------------------------------------------------------\n",
      "¿Cuánto cuesta 1 segundo de comunicación? ('*' para terminar): 2\n",
      "-----------------------------------------------------------------\n",
      "¿Cuántas horas?: 2\n",
      "¿Cuántos minutos?: 3\n",
      "¿Cuántos segundos?: 1\n",
      "Duracion:  7381.0 segundos. Costo:  14762.0 $\n",
      "-----------------------------------------------------------------\n",
      "¿Cuánto cuesta 1 segundo de comunicación? ('*' para terminar): *\n",
      "-----------------------------------------------------------------\n",
      "Reporte diario\n",
      "Cantidad de llamadas:  2\n",
      "Total facturado: $ 36604.0\n"
     ]
    }
   ],
   "source": [
    "def tarifador_centinela():\n",
    "    \n",
    "    total= 0\n",
    "    cant= 0\n",
    "    \n",
    "    x=input(\"¿Cuánto cuesta 1 segundo de comunicación? ('*' para terminar): \")\n",
    "    while x != \"*\":\n",
    "        x=int(x)\n",
    "        \n",
    "        print('-----------------------------------------------------------------')\n",
    "        hs = float(input(\"¿Cuántas horas?: \"))\n",
    "        min = float(input(\"¿Cuántos minutos?: \"))\n",
    "        seg = float(input(\"¿Cuántos segundos?: \"))\n",
    "        \n",
    "        segcalc = asegundos(hs, min, seg)\n",
    "        costo = segcalc * x\n",
    "        print(\"Duracion: \", segcalc, \"segundos. Costo: \", costo, \"$\")\n",
    "        \n",
    "        print('-----------------------------------------------------------------')\n",
    "        x=input(\"¿Cuánto cuesta 1 segundo de comunicación? ('*' para terminar): \")\n",
    "        \n",
    "        cant = cant + 1\n",
    "        total = total + costo\n",
    "        \n",
    "    else:\n",
    "        print('-----------------------------------------------------------------')\n",
    "        print(\"Reporte diario\")\n",
    "        print(\"Cantidad de llamadas: \", cant)\n",
    "        print(\"Total facturado: $\", total)\n",
    "\n",
    "def asegundos(horas, minutos, segundos):\n",
    "    segsal = 3600 * horas + 60 * minutos + segundos\n",
    "    return segsal        \n",
    "        \n",
    "            \n",
    "tarifador_centinela()"
   ]
  },
  {
   "cell_type": "markdown",
   "metadata": {},
   "source": [
    "5.2.4. Ciclo \"infinito\" que se rompe"
   ]
  },
  {
   "cell_type": "code",
   "execution_count": 42,
   "metadata": {},
   "outputs": [
    {
     "name": "stdout",
     "output_type": "stream",
     "text": [
      "-----------------------------------------------------------------\n",
      "¿Cuánto cuesta 1 segundo de comunicación? ('*' para terminar): 2\n",
      "¿Cuántas horas?: 3\n",
      "¿Cuántos minutos?: 2\n",
      "¿Cuántos segundos?: 1\n",
      "Duracion:  10921.0 segundos. Costo:  21842.0 $\n",
      "-----------------------------------------------------------------\n",
      "¿Cuánto cuesta 1 segundo de comunicación? ('*' para terminar): 2\n",
      "¿Cuántas horas?: 3\n",
      "¿Cuántos minutos?: 1\n",
      "¿Cuántos segundos?: 2\n",
      "Duracion:  10862.0 segundos. Costo:  21724.0 $\n",
      "-----------------------------------------------------------------\n",
      "¿Cuánto cuesta 1 segundo de comunicación? ('*' para terminar): *\n",
      "-----------------------------------------------------------------\n",
      "Reporte Diario\n",
      "Total de comunicaciones:  2\n",
      "Total facturado: $ 43566.0\n"
     ]
    }
   ],
   "source": [
    "def tarifador_infinito():\n",
    "    total = 0\n",
    "    cant = 0 \n",
    "    while True:\n",
    "        print('-----------------------------------------------------------------')\n",
    "        x=input(\"¿Cuánto cuesta 1 segundo de comunicación? ('*' para terminar): \")\n",
    "        \n",
    "        if str(x) == '*':\n",
    "            print('-----------------------------------------------------------------')\n",
    "            print(\"Reporte Diario\")\n",
    "            print(\"Total de comunicaciones: \", cant)\n",
    "            print(\"Total facturado: $\", total)\n",
    "            \n",
    "            break\n",
    "        else:\n",
    "            hs = float(input(\"¿Cuántas horas?: \"))\n",
    "            min = float(input(\"¿Cuántos minutos?: \"))\n",
    "            seg = float(input(\"¿Cuántos segundos?: \"))\n",
    "            \n",
    "            segcalc = asegundos(hs, min, seg)\n",
    "            costo = segcalc * int(x)\n",
    "            print(\"Duracion: \", segcalc, \"segundos. Costo: \", costo, \"$\")\n",
    "            total = total + costo\n",
    "            cant = cant + 1\n",
    "        \n",
    "def asegundos(horas, minutos, segundos):\n",
    "    segsal = 3600 * horas + 60 * minutos + segundos\n",
    "    return segsal\n",
    "            \n",
    "tarifador_infinito()"
   ]
  },
  {
   "cell_type": "markdown",
   "metadata": {},
   "source": [
    "Ejercicio 5.3. Nos piden que escribamos una función que le pida al usuario que ingrese un número positivo. Si el usuario ingresa cualquier cosa que no sea lo pedido se le debe informar de su error mediante un mensaje y volverle a pedir el número."
   ]
  },
  {
   "cell_type": "markdown",
   "metadata": {},
   "source": [
    "5.3.1. Ciclo interactivo"
   ]
  },
  {
   "cell_type": "code",
   "execution_count": 17,
   "metadata": {},
   "outputs": [
    {
     "name": "stdout",
     "output_type": "stream",
     "text": [
      "Ingrese un número positivo: 2\n",
      "Número positivo\n",
      "Desea continuar? <Si-No>: Si\n",
      "--------------------------------------\n",
      "Ingrese un número positivo: -2\n",
      "Error, no es un número positivo: \n",
      "Ingrese un número positivo: 2\n",
      "Número positivo\n",
      "Desea continuar? <Si-No>: Si\n",
      "--------------------------------------\n",
      "Ingrese un número positivo: 2\n",
      "Número positivo\n",
      "Desea continuar? <Si-No>: No\n",
      "--------------------------------------\n"
     ]
    }
   ],
   "source": [
    "def positivo_interactivo():\n",
    "    hayMasDatos = \"Si\"\n",
    "    while hayMasDatos == \"Si\":\n",
    "        x=int(input(\"Ingrese un número positivo: \"))\n",
    "        if x >0:\n",
    "            print(\"Número positivo\")\n",
    "            hayMasDatos = input(\"Desea continuar? <Si-No>: \")\n",
    "            print(\"--------------------------------------\") \n",
    "        else:\n",
    "            print(\"Error, no es un número positivo: \")\n",
    "            \n",
    "positivo_interactivo()"
   ]
  },
  {
   "cell_type": "markdown",
   "metadata": {},
   "source": [
    "5.3.2. Ciclo con centinela"
   ]
  },
  {
   "cell_type": "code",
   "execution_count": 28,
   "metadata": {},
   "outputs": [
    {
     "name": "stdout",
     "output_type": "stream",
     "text": [
      "Ingrese un número('*' para terminar): 2\n",
      "Numero positivo\n",
      "Ingrese un número('*' para terminar): -3\n",
      "Error, ingrese un número positivo\n",
      "Ingrese un número('*' para terminar): 2\n",
      "Numero positivo\n",
      "Ingrese un número('*' para terminar): *\n"
     ]
    }
   ],
   "source": [
    "def positivo_centinela():\n",
    "    \n",
    "    x=input(\"Ingrese un número('*' para terminar): \")   \n",
    "    while x != \"*\":\n",
    "        x=int(x)\n",
    "        if x > 0: \n",
    "            print(\"Numero positivo\")\n",
    "        else:\n",
    "            print(\"Error, ingrese un número positivo\")\n",
    "        \n",
    "        x=input(\"Ingrese un número('*' para terminar): \")   \n",
    "positivo_centinela()"
   ]
  },
  {
   "cell_type": "markdown",
   "metadata": {},
   "source": [
    "5.3.3. Ciclo \"infinito\" que se rompe"
   ]
  },
  {
   "cell_type": "code",
   "execution_count": 38,
   "metadata": {},
   "outputs": [
    {
     "name": "stdout",
     "output_type": "stream",
     "text": [
      "Ingrese un número positivo('*' para terminar): -2\n",
      "Error, ingrese un número positivo\n",
      "Ingrese un número positivo('*' para terminar): 2\n",
      "Número positivo: \n",
      "Ingrese un número positivo('*' para terminar): *\n"
     ]
    }
   ],
   "source": [
    "def positivo_infinito(): \n",
    "    while True: \n",
    "        x=input(\"Ingrese un número positivo('*' para terminar): \")\n",
    "        if str(x) == \"*\":\n",
    "            break\n",
    "        elif int(x) > 0:\n",
    "            print(\"Número positivo: \")\n",
    "        elif int(x) < 0:\n",
    "            print(\"Error, ingrese un número positivo\")     \n",
    "positivo_infinito()"
   ]
  },
  {
   "cell_type": "markdown",
   "metadata": {},
   "source": [
    "### 6. Cadenas de caracteres"
   ]
  },
  {
   "cell_type": "markdown",
   "metadata": {},
   "source": [
    "### 6.1. Operaciones con cadenas"
   ]
  },
  {
   "cell_type": "code",
   "execution_count": null,
   "metadata": {},
   "outputs": [],
   "source": [
    "# Ya vimos en la sección 2.4 que es posible:\n",
    "# Sumar cadenas entre sí (y el resultado es la concatenación de todas las cadenas dadas):\n",
    ">>> \"Un divertido \"+\"programa \"+\"de \"+ \"radio\"\n",
    "’Un divertido programa de radio’\n",
    ">>>\n",
    "#Multiplicar una cadena s por un número k (y el resultado es la concatenación de s consigo\n",
    "misma, k veces):\n",
    ">>> 3*\"programas \"\n",
    "’programas programas programas ’\n",
    ">>> \"programas \"*3\n",
    "’programas programas programas ’\n",
    ">>>"
   ]
  },
  {
   "cell_type": "markdown",
   "metadata": {},
   "source": [
    "### 6.1.1. Obtener el largo de una cadena"
   ]
  },
  {
   "cell_type": "code",
   "execution_count": 41,
   "metadata": {},
   "outputs": [
    {
     "data": {
      "text/plain": [
       "10"
      ]
     },
     "execution_count": 41,
     "metadata": {},
     "output_type": "execute_result"
    }
   ],
   "source": [
    "len(\"programas \")"
   ]
  },
  {
   "cell_type": "markdown",
   "metadata": {},
   "source": [
    "Existe una cadena especial, que llamaremos cadena vacía, que es la cadena que no contiene ningún carácter (se la indica sólo con un apóstrofe o comilla que abre, y un apóstrofe o comilla que cierra), y que por lo tanto tiene longitud cero:"
   ]
  },
  {
   "cell_type": "code",
   "execution_count": 42,
   "metadata": {},
   "outputs": [
    {
     "data": {
      "text/plain": [
       "''"
      ]
     },
     "execution_count": 42,
     "metadata": {},
     "output_type": "execute_result"
    }
   ],
   "source": [
    "s=\"\"\n",
    "s"
   ]
  },
  {
   "cell_type": "code",
   "execution_count": 43,
   "metadata": {},
   "outputs": [
    {
     "data": {
      "text/plain": [
       "0"
      ]
     },
     "execution_count": 43,
     "metadata": {},
     "output_type": "execute_result"
    }
   ],
   "source": [
    "len(s)"
   ]
  },
  {
   "cell_type": "markdown",
   "metadata": {},
   "source": [
    "### 6.1.2. Una operación para recorrer todos los caracteres de una cadena"
   ]
  },
  {
   "cell_type": "code",
   "execution_count": 44,
   "metadata": {},
   "outputs": [
    {
     "name": "stdout",
     "output_type": "stream",
     "text": [
      "p\n",
      "r\n",
      "o\n",
      "g\n",
      "r\n",
      "a\n",
      "m\n",
      "a\n",
      "s\n",
      " \n"
     ]
    }
   ],
   "source": [
    "for x in \"programas \":\n",
    "    print(x)"
   ]
  },
  {
   "cell_type": "markdown",
   "metadata": {},
   "source": [
    "### 6.1.3. Acceder a una posición de la cadena"
   ]
  },
  {
   "cell_type": "code",
   "execution_count": 54,
   "metadata": {},
   "outputs": [
    {
     "data": {
      "text/plain": [
       "'e'"
      ]
     },
     "execution_count": 54,
     "metadata": {},
     "output_type": "execute_result"
    }
   ],
   "source": [
    "a=\"Veronica\"\n",
    "a[1]"
   ]
  },
  {
   "cell_type": "markdown",
   "metadata": {},
   "source": [
    "### 6.2. Segmentos de cadenas"
   ]
  },
  {
   "cell_type": "markdown",
   "metadata": {},
   "source": [
    "Python ofrece también una notación para identificar segmentos de una cadena. La notación es similar a la de los rangos que vimos en los ciclos definidos: a [0:2] se refiere a la subcadena formada por los caracteres cuyos índices están en el rango  [0,2):"
   ]
  },
  {
   "cell_type": "code",
   "execution_count": 46,
   "metadata": {},
   "outputs": [
    {
     "data": {
      "text/plain": [
       "'Ve'"
      ]
     },
     "execution_count": 46,
     "metadata": {},
     "output_type": "execute_result"
    }
   ],
   "source": [
    "a[0:2]"
   ]
  },
  {
   "cell_type": "code",
   "execution_count": 47,
   "metadata": {},
   "outputs": [
    {
     "data": {
      "text/plain": [
       "'ni'"
      ]
     },
     "execution_count": 47,
     "metadata": {},
     "output_type": "execute_result"
    }
   ],
   "source": [
    "a[-4:-2]"
   ]
  },
  {
   "cell_type": "markdown",
   "metadata": {},
   "source": [
    "Si j es un entero no negativo, se puede usar la notación a[:j] para representar al\n",
    "segmento a[0:j]; también se puede usar la notación a[j:] para representar al segmento\n",
    "a[j:len(a)]."
   ]
  },
  {
   "cell_type": "code",
   "execution_count": 48,
   "metadata": {},
   "outputs": [
    {
     "data": {
      "text/plain": [
       "'Ver'"
      ]
     },
     "execution_count": 48,
     "metadata": {},
     "output_type": "execute_result"
    }
   ],
   "source": [
    "a[:3]"
   ]
  },
  {
   "cell_type": "code",
   "execution_count": 55,
   "metadata": {},
   "outputs": [
    {
     "data": {
      "text/plain": [
       "'onica'"
      ]
     },
     "execution_count": 55,
     "metadata": {},
     "output_type": "execute_result"
    }
   ],
   "source": [
    "a[3:]"
   ]
  },
  {
   "cell_type": "markdown",
   "metadata": {},
   "source": [
    "Pero hay que tener cuidado con salirse del rango (en particular hay que tener cuidado con la cadena vacía):"
   ]
  },
  {
   "cell_type": "code",
   "execution_count": 56,
   "metadata": {},
   "outputs": [
    {
     "ename": "IndexError",
     "evalue": "string index out of range",
     "output_type": "error",
     "traceback": [
      "\u001b[1;31m---------------------------------------------------------------------------\u001b[0m",
      "\u001b[1;31mIndexError\u001b[0m                                Traceback (most recent call last)",
      "Cell \u001b[1;32mIn[56], line 1\u001b[0m\n\u001b[1;32m----> 1\u001b[0m \u001b[43ma\u001b[49m\u001b[43m[\u001b[49m\u001b[38;5;241;43m10\u001b[39;49m\u001b[43m]\u001b[49m\n",
      "\u001b[1;31mIndexError\u001b[0m: string index out of range"
     ]
    }
   ],
   "source": [
    "a[10]"
   ]
  },
  {
   "cell_type": "code",
   "execution_count": 57,
   "metadata": {},
   "outputs": [
    {
     "data": {
      "text/plain": [
       "''"
      ]
     },
     "execution_count": 57,
     "metadata": {},
     "output_type": "execute_result"
    }
   ],
   "source": [
    "s"
   ]
  },
  {
   "cell_type": "code",
   "execution_count": 58,
   "metadata": {},
   "outputs": [
    {
     "data": {
      "text/plain": [
       "0"
      ]
     },
     "execution_count": 58,
     "metadata": {},
     "output_type": "execute_result"
    }
   ],
   "source": [
    "len(s)"
   ]
  },
  {
   "cell_type": "code",
   "execution_count": 59,
   "metadata": {},
   "outputs": [
    {
     "ename": "IndexError",
     "evalue": "string index out of range",
     "output_type": "error",
     "traceback": [
      "\u001b[1;31m---------------------------------------------------------------------------\u001b[0m",
      "\u001b[1;31mIndexError\u001b[0m                                Traceback (most recent call last)",
      "Cell \u001b[1;32mIn[59], line 1\u001b[0m\n\u001b[1;32m----> 1\u001b[0m \u001b[43ms\u001b[49m\u001b[43m[\u001b[49m\u001b[38;5;241;43m0\u001b[39;49m\u001b[43m]\u001b[49m\n",
      "\u001b[1;31mIndexError\u001b[0m: string index out of range"
     ]
    }
   ],
   "source": [
    "s[0]"
   ]
  },
  {
   "cell_type": "markdown",
   "metadata": {},
   "source": [
    "Sin embargo s[0:0] no da error."
   ]
  },
  {
   "cell_type": "code",
   "execution_count": 60,
   "metadata": {},
   "outputs": [
    {
     "data": {
      "text/plain": [
       "''"
      ]
     },
     "execution_count": 60,
     "metadata": {},
     "output_type": "execute_result"
    }
   ],
   "source": [
    "s[0:0]"
   ]
  },
  {
   "cell_type": "markdown",
   "metadata": {},
   "source": [
    "### 6.3. Las cadenas son inmutables"
   ]
  },
  {
   "cell_type": "markdown",
   "metadata": {},
   "source": [
    "Nos dicen que la persona sobre la que estamos hablando en realidad se llama \"Veronika\"(sí, con \"k\"). Como conocemos la notación de corchetes, tratamos de corregir sólo el carácter correspondiente de la variable a:"
   ]
  },
  {
   "cell_type": "code",
   "execution_count": 61,
   "metadata": {},
   "outputs": [
    {
     "ename": "TypeError",
     "evalue": "'str' object does not support item assignment",
     "output_type": "error",
     "traceback": [
      "\u001b[1;31m---------------------------------------------------------------------------\u001b[0m",
      "\u001b[1;31mTypeError\u001b[0m                                 Traceback (most recent call last)",
      "Cell \u001b[1;32mIn[61], line 1\u001b[0m\n\u001b[1;32m----> 1\u001b[0m \u001b[43ma\u001b[49m\u001b[43m[\u001b[49m\u001b[38;5;241;43m6\u001b[39;49m\u001b[43m]\u001b[49m\u001b[38;5;241m=\u001b[39m\u001b[38;5;124m\"\u001b[39m\u001b[38;5;124mk\u001b[39m\u001b[38;5;124m\"\u001b[39m\n",
      "\u001b[1;31mTypeError\u001b[0m: 'str' object does not support item assignment"
     ]
    }
   ],
   "source": [
    "a[6]=\"k\""
   ]
  },
  {
   "cell_type": "markdown",
   "metadata": {},
   "source": [
    "El error que se despliega nos dice que la cadena no soporta la modificación de un carácter. Decimos que las cadenas son inmutables. Si queremos corregir la ortografía de una cadena, debemos hacer que la cadena a se refiera a otro valor:"
   ]
  },
  {
   "cell_type": "code",
   "execution_count": 62,
   "metadata": {},
   "outputs": [
    {
     "data": {
      "text/plain": [
       "'Veronika'"
      ]
     },
     "execution_count": 62,
     "metadata": {},
     "output_type": "execute_result"
    }
   ],
   "source": [
    "a=\"Veronika\"\n",
    "a"
   ]
  },
  {
   "cell_type": "markdown",
   "metadata": {},
   "source": [
    "### 6.4. Procesamiento sencillo de cadenas"
   ]
  },
  {
   "cell_type": "markdown",
   "metadata": {},
   "source": [
    "Problema 6.1. Nuestro primer problema es muy simple: Queremos contar cuántas letras “A” hay en una cadena x."
   ]
  },
  {
   "cell_type": "code",
   "execution_count": 80,
   "metadata": {},
   "outputs": [],
   "source": [
    "def contarA(x):\n",
    "    \"\"\" La funcion contarA(x) cuenta cuántas\n",
    "    letras \"A\" aparecen en la cadena x .\"\"\"\n",
    "    contador = 0\n",
    "    for letra in x:\n",
    "        if letra == \"A\":\n",
    "            contador = contador + 1 \n",
    "    return contador"
   ]
  },
  {
   "cell_type": "markdown",
   "metadata": {},
   "source": [
    "Y lo probamos"
   ]
  },
  {
   "cell_type": "code",
   "execution_count": 72,
   "metadata": {},
   "outputs": [
    {
     "data": {
      "text/plain": [
       "1"
      ]
     },
     "execution_count": 72,
     "metadata": {},
     "output_type": "execute_result"
    }
   ],
   "source": [
    "contarA(\"Ana\")"
   ]
  },
  {
   "cell_type": "code",
   "execution_count": 74,
   "metadata": {},
   "outputs": [
    {
     "data": {
      "text/plain": [
       "0"
      ]
     },
     "execution_count": 74,
     "metadata": {},
     "output_type": "execute_result"
    }
   ],
   "source": [
    "contarA(\"banana\")"
   ]
  },
  {
   "cell_type": "code",
   "execution_count": 76,
   "metadata": {},
   "outputs": [
    {
     "data": {
      "text/plain": [
       "1"
      ]
     },
     "execution_count": 76,
     "metadata": {},
     "output_type": "execute_result"
    }
   ],
   "source": [
    "contarA(\"lAn\")"
   ]
  },
  {
   "cell_type": "code",
   "execution_count": 78,
   "metadata": {},
   "outputs": [
    {
     "data": {
      "text/plain": [
       "2"
      ]
     },
     "execution_count": 78,
     "metadata": {},
     "output_type": "execute_result"
    }
   ],
   "source": [
    "contarA(\"lAAn\")"
   ]
  },
  {
   "cell_type": "code",
   "execution_count": 79,
   "metadata": {},
   "outputs": [
    {
     "data": {
      "text/plain": [
       "2"
      ]
     },
     "execution_count": 79,
     "metadata": {},
     "output_type": "execute_result"
    }
   ],
   "source": [
    "contarA(\"lAnA\")"
   ]
  },
  {
   "cell_type": "markdown",
   "metadata": {},
   "source": [
    "Ejercicio 6.5. ¿Hay más letras “A” o más letras “E” en una cadena? Escribir un programa que lo decida."
   ]
  },
  {
   "cell_type": "code",
   "execution_count": 109,
   "metadata": {},
   "outputs": [],
   "source": [
    "def masAoE(x):\n",
    "    \"\"\"La funcion masAoE determina si hay más letras 'A' o 'E'\n",
    "    en una cadena de texto\"\"\"\n",
    "    contarA = 0\n",
    "    contarE = 0\n",
    "    for palabra in x:\n",
    "        if palabra == \"A\":\n",
    "            contarA = contarA + 1\n",
    "        elif palabra == \"E\":\n",
    "            contarE = contarE + 1\n",
    "    if contarA > contarE:\n",
    "        print(\"Existen más letras A que E en esta cadena de caracteres\")\n",
    "    elif contarA < contarE: \n",
    "        print(\"Existen más letras E que A en esta cadena de caracteres\")"
   ]
  },
  {
   "cell_type": "code",
   "execution_count": 111,
   "metadata": {},
   "outputs": [
    {
     "name": "stdout",
     "output_type": "stream",
     "text": [
      "Existen más letras A que E en esta cadena de caracteres\n"
     ]
    }
   ],
   "source": [
    "masAoE(\"MARESCA\")"
   ]
  },
  {
   "cell_type": "code",
   "execution_count": 112,
   "metadata": {},
   "outputs": [
    {
     "name": "stdout",
     "output_type": "stream",
     "text": [
      "Existen más letras E que A en esta cadena de caracteres\n"
     ]
    }
   ],
   "source": [
    "masAoE(\"PESQUERA\")"
   ]
  },
  {
   "cell_type": "markdown",
   "metadata": {},
   "source": [
    "Ejercicio 6.6. Escribir un programa que cuente cúantas veces aparecen cada una de las vocales en una cadena. No importa si la vocal aparece en mayúscula o en minúscula."
   ]
  },
  {
   "cell_type": "code",
   "execution_count": 137,
   "metadata": {},
   "outputs": [],
   "source": [
    "def cantVocales(x):\n",
    "    \"\"\"La funcion cantVocales cuenta cuántas veces aparecen \n",
    "    cada una de las vocales de una cadena. No importa si la vocal aparece\n",
    "    en may o min\"\"\"\n",
    "    \n",
    "    contarA = 0\n",
    "    contarE = 0\n",
    "    contarI = 0\n",
    "    contarO = 0\n",
    "    contarU = 0\n",
    "\n",
    "    for palabra in x: \n",
    "        if palabra == \"A\" or palabra == \"a\":\n",
    "            contarA = contarA + 1\n",
    "        elif palabra == \"E\" or palabra == \"e\":\n",
    "            contarE = contarE + 1\n",
    "        elif palabra == \"I\" or palabra == \"i\":\n",
    "            contarI = contarI + 1\n",
    "        elif palabra == \"O\" or palabra == \"o\":\n",
    "            contarO = contarO + 1\n",
    "        elif palabra == \"U\" or palabra == \"u\":\n",
    "            contarU = contarU + 1\n",
    "            \n",
    "    print(\"Cantidad de letras A: \", contarA)\n",
    "    print(\"Cantidad de letras E: \", contarE)\n",
    "    print(\"Cantidad de letras I: \", contarI)\n",
    "    print(\"Cantidad de letras O: \", contarO)\n",
    "    print(\"Cantidad de letras U: \", contarU)"
   ]
  },
  {
   "cell_type": "code",
   "execution_count": 140,
   "metadata": {},
   "outputs": [
    {
     "name": "stdout",
     "output_type": "stream",
     "text": [
      "Cantidad de letras A:  4\n",
      "Cantidad de letras E:  0\n",
      "Cantidad de letras I:  4\n",
      "Cantidad de letras O:  1\n",
      "Cantidad de letras U:  2\n"
     ]
    }
   ],
   "source": [
    "cantVocales(\"parangaricutirimicuaro\")"
   ]
  },
  {
   "cell_type": "code",
   "execution_count": 141,
   "metadata": {},
   "outputs": [
    {
     "name": "stdout",
     "output_type": "stream",
     "text": [
      "Cantidad de letras A:  5\n",
      "Cantidad de letras E:  1\n",
      "Cantidad de letras I:  5\n",
      "Cantidad de letras O:  1\n",
      "Cantidad de letras U:  2\n"
     ]
    }
   ],
   "source": [
    "cantVocales(\"desparangaricutirimicuarizador\")"
   ]
  },
  {
   "cell_type": "markdown",
   "metadata": {},
   "source": [
    "### 6.5. Nuestro primer juego"
   ]
  },
  {
   "cell_type": "markdown",
   "metadata": {},
   "source": [
    "Con todo esto ya estamos en condiciones de escribir un programa para jugar con la computadora: el Mastermind. El Mastermind es un juego que consiste en deducir un código numérico de (por ejemplo) cuatro cifras."
   ]
  },
  {
   "cell_type": "code",
   "execution_count": 46,
   "metadata": {},
   "outputs": [
    {
     "name": "stdout",
     "output_type": "stream",
     "text": [
      "Bienvenida/o a Mastermind!\n",
      "Tienes que adivinar un numero de  4 Cifras distintas\n",
      "Que codigo propones?: 2345\n",
      "Tu propuesta ( 2345 ) tiene  0 aciertos y  1 coincidencias.\n",
      "propone otro codigo2346\n",
      "Tu propuesta ( 2346 ) tiene  0 aciertos y  1 coincidencias.\n",
      "propone otro codigo2432\n",
      "Tu propuesta ( 2432 ) tiene  1 aciertos y  0 coincidencias.\n",
      "propone otro codigo6534\n",
      "Tu propuesta ( 6534 ) tiene  0 aciertos y  1 coincidencias.\n",
      "propone otro codigo3421\n",
      "Tu propuesta ( 3421 ) tiene  1 aciertos y  0 coincidencias.\n",
      "propone otro codigo2450\n",
      "Tu propuesta ( 2450 ) tiene  2 aciertos y  0 coincidencias.\n",
      "propone otro codigo2459\n",
      "Tu propuesta ( 2459 ) tiene  1 aciertos y  1 coincidencias.\n",
      "propone otro codigo3490\n",
      "Tu propuesta ( 3490 ) tiene  2 aciertos y  1 coincidencias.\n",
      "propone otro codigo2493\n",
      "Tu propuesta ( 2493 ) tiene  1 aciertos y  1 coincidencias.\n",
      "propone otro codigo3450\n",
      "Tu propuesta ( 3450 ) tiene  2 aciertos y  0 coincidencias.\n",
      "propone otro codigo9450\n",
      "Tu propuesta ( 9450 ) tiene  3 aciertos y  0 coincidencias.\n",
      "propone otro codigo9460\n",
      "Tu propuesta ( 9460 ) tiene  3 aciertos y  0 coincidencias.\n",
      "propone otro codigo9410\n",
      "Tu propuesta ( 9410 ) tiene  3 aciertos y  0 coincidencias.\n",
      "propone otro codigo9420\n",
      "Tu propuesta ( 9420 ) tiene  3 aciertos y  0 coincidencias.\n",
      "propone otro codigo9430\n",
      "Tu propuesta ( 9430 ) tiene  3 aciertos y  0 coincidencias.\n",
      "propone otro codigo9440\n",
      "Tu propuesta ( 9440 ) tiene  3 aciertos y  1 coincidencias.\n",
      "propone otro codigo9450\n",
      "Tu propuesta ( 9450 ) tiene  3 aciertos y  0 coincidencias.\n",
      "propone otro codigo9460\n",
      "Tu propuesta ( 9460 ) tiene  3 aciertos y  0 coincidencias.\n",
      "propone otro codigo9470\n",
      "Tu propuesta ( 9470 ) tiene  3 aciertos y  0 coincidencias.\n",
      "propone otro codigo9480\n",
      "Felicitaciones! Adivinaste el codigo en 20 intentos.\n"
     ]
    }
   ],
   "source": [
    "def mastermind():\n",
    "    # modulo que va a permitir elegir números aleatoriamente\n",
    "    import random\n",
    "\n",
    "    # el conjunto de simbolos válidos en el código\n",
    "    digitos = ('0','1','2','3','4','5','6','7','8','9')\n",
    "\n",
    "    #\"elegimos\" el codigo\n",
    "    codigo = ''\n",
    "    for i in range(4):\n",
    "        candidato = random.choice(digitos)\n",
    "        #vamos eligiendo digitos no repetidos\n",
    "        while candidato in codigo:\n",
    "            candidato = random.choice(digitos)\n",
    "        codigo = codigo + candidato\n",
    "    # iniciamos interaccion con el usuario\n",
    "    print(\"Bienvenida/o a Mastermind!\")\n",
    "    print(\"Tienes que adivinar un numero de \", 4, \"Cifras distintas\")\n",
    "    propuesta = input(\"Que codigo propones?: \")\n",
    "\n",
    "    # procesamos las propuestas e indicamos aciertos y coincidencias\n",
    "    intentos = 1\n",
    "    while propuesta != codigo:\n",
    "        intentos = intentos +1\n",
    "        aciertos = 0\n",
    "        coincidencias = 0\n",
    "\n",
    "        #recorremos la propuesta y verificaos en el codigo\n",
    "        for i in range(4):\n",
    "            if propuesta[i] == codigo[i]:\n",
    "                aciertos = aciertos +1\n",
    "            elif propuesta[i] in codigo:\n",
    "                coincidencias = coincidencias +1\n",
    "        print(\"Tu propuesta (\", propuesta, \") tiene \", aciertos, \"aciertos y \", coincidencias, \"coincidencias.\")\n",
    "        #pedimos siguiente propuesta\n",
    "        propuesta = input(\"propone otro codigo\")\n",
    "    print(\"Felicitaciones! Adivinaste el codigo en\", intentos, \"intentos.\")\n",
    "mastermind()"
   ]
  },
  {
   "cell_type": "markdown",
   "metadata": {},
   "source": [
    "Podemos ver que para este caso el programa parece haberse comportado bien. ¿Pero cómo\n",
    "podemos saber que el código final era realmente el que eligió originalmente el programa?\n",
    "¿O qué habría pasado si no encontrábamos la solución?"
   ]
  },
  {
   "cell_type": "markdown",
   "metadata": {},
   "source": [
    "Para probar estas cosas recurrimos a la depuración del programa. Una forma de hacerlo es\n",
    "simplemente agregar algunas líneas en el código que nos informen lo que está sucediendo\n",
    "que no podemos ver. Por ejemplo, los números que va eligiendo al azar y el código que\n",
    "queda al final. Así podremos verificar si las respuestas son correctas a medida que las\n",
    "hacemos y podremos elegir mejor las propuestas enlas pruebas."
   ]
  },
  {
   "cell_type": "code",
   "execution_count": 1,
   "metadata": {},
   "outputs": [
    {
     "name": "stdout",
     "output_type": "stream",
     "text": [
      "DEBUG: el codigo va siendo=  5\n",
      "DEBUG: el codigo va siendo=  57\n",
      "DEBUG: el codigo va siendo=  571\n",
      "DEBUG: el codigo va siendo=  5710\n",
      "Bienvenida/o a Mastermind!\n",
      "Tienes que adivinar un numero de  4 Cifras distintas\n",
      "Que codigo propones?: 2310\n",
      "Tu propuesta ( 2310 ) tiene  2 aciertos y  0 coincidencias.\n",
      "propone otro codigo: 6710\n",
      "Tu propuesta ( 6710 ) tiene  3 aciertos y  0 coincidencias.\n",
      "propone otro codigo: 5710\n",
      "Felicitaciones! Adivinaste el codigo en 3 intentos.\n"
     ]
    }
   ],
   "source": [
    "def mastermind():\n",
    "    # modulo que va a permitir elegir números aleatoriamente\n",
    "    import random\n",
    "\n",
    "    # el conjunto de simbolos válidos en el código\n",
    "    digitos = ('0','1','2','3','4','5','6','7','8','9')\n",
    "\n",
    "    #\"elegimos\" el codigo\n",
    "    codigo = ''\n",
    "    for i in range(4):\n",
    "        candidato = random.choice(digitos)\n",
    "        #vamos eligiendo digitos no repetidos\n",
    "        while candidato in codigo:\n",
    "            print(\"DEBUG: candidato =\", candidato)\n",
    "            candidato = random.choice(digitos)\n",
    "        codigo = codigo + candidato\n",
    "        print(\"DEBUG: el codigo va siendo= \", codigo)\n",
    "        \n",
    "    # iniciamos interaccion con el usuario\n",
    "    print(\"Bienvenida/o a Mastermind!\")\n",
    "    print(\"Tienes que adivinar un numero de \", 4, \"Cifras distintas\")\n",
    "    propuesta = input(\"Que codigo propones?: \")\n",
    "\n",
    "    # procesamos las propuestas e indicamos aciertos y coincidencias\n",
    "    intentos = 1\n",
    "    while propuesta != codigo:\n",
    "        intentos = intentos +1\n",
    "        aciertos = 0\n",
    "        coincidencias = 0\n",
    "    \n",
    "        #recorremos la propuesta y verificaos en el codigo\n",
    "        for i in range(4):\n",
    "            if propuesta[i] == codigo[i]:\n",
    "                aciertos = aciertos +1\n",
    "            elif propuesta[i] in codigo:\n",
    "                coincidencias = coincidencias +1\n",
    "        print(\"Tu propuesta (\", propuesta, \") tiene \", aciertos, \"aciertos y \", coincidencias, \"coincidencias.\")\n",
    "        #pedimos siguiente propuesta\n",
    "        propuesta = input(\"propone otro codigo: \")\n",
    "    print(\"Felicitaciones! Adivinaste el codigo en\", intentos, \"intentos.\")\n",
    "mastermind()"
   ]
  },
  {
   "cell_type": "markdown",
   "metadata": {},
   "source": [
    "Mantenimiento: Supongamos que queremos jugar el mismo juego, pero en lugar de hacerlo\n",
    "con un número de cuatro cifras, adivinar uno de cinco. ¿Qué tendríamos que hacer\n",
    "para cambiarlo?"
   ]
  },
  {
   "cell_type": "markdown",
   "metadata": {},
   "source": [
    "Para empezar, habría que reemplazar el 4 en la línea 11 del programa por un 5, indicando\n",
    "que hay que elegir 5 dígitos al azar. Pero además, el ciclo en la línea 31 también necesita\n",
    "cambiar la cantidad de veces que se va a ejecutar, 5 en lugar de 4. Y hay un lugar más,\n",
    "adentro del mensaje al usuario que indica las instrucciones del juego en la línea 20."
   ]
  },
  {
   "cell_type": "markdown",
   "metadata": {},
   "source": [
    "El problema de ir cambiando estos números de a uno es que si quisiéramos volver al\n",
    "programa de los 4 dígitos o quisiéramos cambiarlo por uno que juegue con 3, tenemos que volver a hacer los reemplazos en todos lados cada vez que lo queremos cambiar, y\n",
    "corremos el riesgo de olvidarnos de alguno e introducir errores en el código."
   ]
  },
  {
   "cell_type": "markdown",
   "metadata": {},
   "source": [
    "Una forma de evitar esto es fijar la cantidad de cifras en una variable y cambiarla sólo ahí:"
   ]
  },
  {
   "cell_type": "code",
   "execution_count": null,
   "metadata": {
    "scrolled": true
   },
   "outputs": [],
   "source": [
    "def mastermind():\n",
    "    # modulo que va a permitir elegir números aleatoriamente\n",
    "    import random\n",
    "\n",
    "    # el conjunto de simbolos válidos en el código\n",
    "    digitos = ('0','1','2','3','4','5','6','7','8','9')\n",
    "\n",
    "    #\"elegimos\" el codigo\n",
    "    cant_digitos = 5\n",
    "    codigo = ''\n",
    "    for i in range(cant_digitos):\n",
    "        candidato = random.choice(digitos)\n",
    "        #vamos eligiendo digitos no repetidos\n",
    "        while candidato in codigo:\n",
    "            candidato = random.choice(digitos)\n",
    "        codigo = codigo + candidato\n",
    "    # iniciamos interaccion con el usuario\n",
    "    print(\"Bienvenida/o a Mastermind!\")\n",
    "    print(\"Tienes que adivinar un numero de \", cant_digitos, \"Cifras distintas\")\n",
    "    propuesta = input(\"Que codigo propones?: \")\n",
    "\n",
    "    # procesamos las propuestas e indicamos aciertos y coincidencias\n",
    "    intentos = 1\n",
    "    while propuesta != codigo:\n",
    "        intentos = intentos +1\n",
    "        aciertos = 0\n",
    "        coincidencias = 0\n",
    "\n",
    "        #recorremos la propuesta y verificaos en el codigo\n",
    "        for i in range(cant_digitos):\n",
    "            if propuesta[i] == codigo[i]:\n",
    "                aciertos = aciertos +1\n",
    "            elif propuesta[i] in codigo:\n",
    "                coincidencias = coincidencias +1\n",
    "        print(\"Tu propuesta (\", propuesta, \") tiene \", aciertos, \"aciertos y \", coincidencias, \"coincidencias.\")\n",
    "        #pedimos siguiente propuesta\n",
    "        propuesta = input(\"propone otro acodigo\")\n",
    "    print(\"Felicitaciones! Adivinaste el codigo en\", intentos, \"intentos.\")\n",
    "mastermind()"
   ]
  },
  {
   "cell_type": "markdown",
   "metadata": {},
   "source": [
    "Con 5 dígitos, el juego se pone más difícil. Nos damos cuenta que si el jugador no logra\n",
    "adivinar el código, el programa no termina: se queda preguntando códigos y respondiendo\n",
    "aciertos y coincidencias para siempre. Entonces queremos darle al usuario la posibilidad\n",
    "de rendirse y saber cuál era la respuesta y terminar el programa."
   ]
  },
  {
   "cell_type": "markdown",
   "metadata": {},
   "source": [
    "Para esto agregamos en el ciclo while principal una condición extra: para seguir preguntando,\n",
    "la propuesta tiene que ser distinta al código pero además tiene que ser distinta del\n",
    "texto \"Me doy\"."
   ]
  },
  {
   "cell_type": "code",
   "execution_count": 3,
   "metadata": {},
   "outputs": [
    {
     "name": "stdout",
     "output_type": "stream",
     "text": [
      "Bienvenida/o a Mastermind!\n",
      "Tienes que adivinar un numero de  5 Cifras distintas\n",
      "Que codigo propones?: 25632\n",
      "Tu propuesta ( 25632 ) tiene  0 aciertos y  2 coincidencias.\n",
      "propone otro acodigoMe doy\n",
      "El codigo era: 67158\n",
      "Suerte la proxima vez!\n"
     ]
    }
   ],
   "source": [
    "def mastermind():\n",
    "    # modulo que va a permitir elegir números aleatoriamente\n",
    "    import random\n",
    "\n",
    "    # el conjunto de simbolos válidos en el código\n",
    "    digitos = ('0','1','2','3','4','5','6','7','8','9')\n",
    "\n",
    "    #\"elegimos\" el codigo\n",
    "    cant_digitos = 5\n",
    "    codigo = ''\n",
    "    for i in range(cant_digitos):\n",
    "        candidato = random.choice(digitos)\n",
    "        #vamos eligiendo digitos no repetidos\n",
    "        while candidato in codigo:\n",
    "            candidato = random.choice(digitos)\n",
    "        codigo = codigo + candidato\n",
    "    # iniciamos interaccion con el usuario\n",
    "    print(\"Bienvenida/o a Mastermind!\")\n",
    "    print(\"Tienes que adivinar un numero de \", cant_digitos, \"Cifras distintas\")\n",
    "    propuesta = input(\"Que codigo propones?: \")\n",
    "\n",
    "    # procesamos las propuestas e indicamos aciertos y coincidencias\n",
    "    intentos = 1\n",
    "    while propuesta != codigo and propuesta != \"Me doy\":\n",
    "        intentos = intentos +1\n",
    "        aciertos = 0\n",
    "        coincidencias = 0\n",
    "\n",
    "        #recorremos la propuesta y verificaos en el codigo\n",
    "        for i in range(cant_digitos):\n",
    "            if propuesta[i] == codigo[i]:\n",
    "                aciertos = aciertos +1\n",
    "            elif propuesta[i] in codigo:\n",
    "                coincidencias = coincidencias +1\n",
    "        print(\"Tu propuesta (\", propuesta, \") tiene \", aciertos, \"aciertos y \", coincidencias, \"coincidencias.\")\n",
    "        #pedimos siguiente propuesta\n",
    "        propuesta = input(\"propone otro acodigo\")\n",
    "        \n",
    "    if propuesta == \"Me doy\":\n",
    "        print(\"El codigo era:\", codigo)\n",
    "        print(\"Suerte la proxima vez!\")\n",
    "    else: \n",
    "        print(\"Felicitaciones!, Adivinaste el codigo en \", intentos, \"intentos.\")\n",
    "mastermind()"
   ]
  },
  {
   "cell_type": "markdown",
   "metadata": {},
   "source": [
    "### 7. Tuplas y listas"
   ]
  },
  {
   "cell_type": "markdown",
   "metadata": {},
   "source": [
    "Python cuenta con una gran variedad de tipos de datos que permiten representar la información según cómo esté estructurada. En esta unidad se estudian las tuplas y las listas, que son tipos de datos utilizados cuando se quiere agrupar elementos."
   ]
  },
  {
   "cell_type": "markdown",
   "metadata": {},
   "source": [
    "### 7.1 Tuplas"
   ]
  },
  {
   "cell_type": "markdown",
   "metadata": {},
   "source": [
    "En programación, en general, al querer modelar objetos de la vida real, es muy común que querramos describir un objeto como un agrupamiento de datos de distintos tipos. Veamos algunos ejemplos:"
   ]
  },
  {
   "cell_type": "markdown",
   "metadata": {},
   "source": [
    "Una fecha la podemos querer representar como la terna día (un número entero), mes(una cadena de caracteres), y año (un número entero), y tendremos por ejemplo: (25, \"Mayo\", 1810)."
   ]
  },
  {
   "cell_type": "markdown",
   "metadata": {},
   "source": [
    "Como datos de los alumnos queremos guardar número de padrón, nombre y apellido, como por ejemplo (89766, \"Alicia\", \"Hacker\")."
   ]
  },
  {
   "cell_type": "markdown",
   "metadata": {},
   "source": [
    "Es posible anidar tuplas: como datos de los alumnos queremos guardar número de padrón, nombre, apellido y fecha de nacimiento, como por ejemplo: (89766, \"Alicia\", \"Hacker\", (9, \"Julio\", 1988))."
   ]
  },
  {
   "cell_type": "markdown",
   "metadata": {},
   "source": [
    "### 7.1.1. Elementos y segmentos de tuplas"
   ]
  },
  {
   "cell_type": "markdown",
   "metadata": {},
   "source": [
    "Las tuplas son secuencias, igual que las cadenas, y se puede utilizar la misma notación de índices que en las cadenas para obtener cada una de sus componentes."
   ]
  },
  {
   "cell_type": "markdown",
   "metadata": {},
   "source": [
    "El primer elemento de (25, \"Mayo\", 1810) es 25."
   ]
  },
  {
   "cell_type": "markdown",
   "metadata": {},
   "source": [
    "El segundo elemento de (25, \"Mayo\", 1810) es “Mayo”."
   ]
  },
  {
   "cell_type": "markdown",
   "metadata": {},
   "source": [
    "El tercer elemento de (25, \"Mayo\", 1810) es 1810."
   ]
  },
  {
   "cell_type": "code",
   "execution_count": 8,
   "metadata": {},
   "outputs": [],
   "source": [
    "t=(25,\"Mayo\",1810)"
   ]
  },
  {
   "cell_type": "code",
   "execution_count": 9,
   "metadata": {},
   "outputs": [
    {
     "data": {
      "text/plain": [
       "25"
      ]
     },
     "execution_count": 9,
     "metadata": {},
     "output_type": "execute_result"
    }
   ],
   "source": [
    "t[0]"
   ]
  },
  {
   "cell_type": "code",
   "execution_count": 10,
   "metadata": {},
   "outputs": [
    {
     "data": {
      "text/plain": [
       "'Mayo'"
      ]
     },
     "execution_count": 10,
     "metadata": {},
     "output_type": "execute_result"
    }
   ],
   "source": [
    "t[1]"
   ]
  },
  {
   "cell_type": "code",
   "execution_count": 12,
   "metadata": {},
   "outputs": [
    {
     "data": {
      "text/plain": [
       "1810"
      ]
     },
     "execution_count": 12,
     "metadata": {},
     "output_type": "execute_result"
    }
   ],
   "source": [
    "t[2]"
   ]
  },
  {
   "cell_type": "markdown",
   "metadata": {},
   "source": [
    "Ejercicio 7.1. ¿Cuál es el cuarto elemento de (89766, \"Alicia\", \"Hacker\", (9, \"Julio\", 1988))?"
   ]
  },
  {
   "cell_type": "code",
   "execution_count": 13,
   "metadata": {},
   "outputs": [],
   "source": [
    "r=(89766, \"Alicia\", \"Hacker\", (9, \"Julio\", 1988))"
   ]
  },
  {
   "cell_type": "code",
   "execution_count": 18,
   "metadata": {},
   "outputs": [
    {
     "data": {
      "text/plain": [
       "(9, 'Julio', 1988)"
      ]
     },
     "execution_count": 18,
     "metadata": {},
     "output_type": "execute_result"
    }
   ],
   "source": [
    "r[3]"
   ]
  },
  {
   "cell_type": "markdown",
   "metadata": {},
   "source": [
    "### 7.1.2. Las tuplas son inmutables"
   ]
  },
  {
   "cell_type": "markdown",
   "metadata": {},
   "source": [
    "Al igual que con las cadenas, las componentes de las tuplas no pueden ser modificadas:"
   ]
  },
  {
   "cell_type": "code",
   "execution_count": 17,
   "metadata": {},
   "outputs": [
    {
     "ename": "TypeError",
     "evalue": "'tuple' object does not support item assignment",
     "output_type": "error",
     "traceback": [
      "\u001b[1;31m---------------------------------------------------------------------------\u001b[0m",
      "\u001b[1;31mTypeError\u001b[0m                                 Traceback (most recent call last)",
      "Cell \u001b[1;32mIn[17], line 1\u001b[0m\n\u001b[1;32m----> 1\u001b[0m \u001b[43mt\u001b[49m\u001b[43m[\u001b[49m\u001b[38;5;241;43m2\u001b[39;49m\u001b[43m]\u001b[49m\u001b[38;5;241m=\u001b[39m \u001b[38;5;241m2008\u001b[39m\n",
      "\u001b[1;31mTypeError\u001b[0m: 'tuple' object does not support item assignment"
     ]
    }
   ],
   "source": [
    "t[2]= 2008"
   ]
  },
  {
   "cell_type": "markdown",
   "metadata": {},
   "source": [
    "### 7.1.3. Longitud de tuplas"
   ]
  },
  {
   "cell_type": "markdown",
   "metadata": {},
   "source": [
    "A las tuplas también se les puede aplicar la función len() para calcular su longitud. El valor de esta función aplicada a una tupla nos indica cuántas componentes tiene esa tupla."
   ]
  },
  {
   "cell_type": "code",
   "execution_count": 20,
   "metadata": {},
   "outputs": [
    {
     "data": {
      "text/plain": [
       "3"
      ]
     },
     "execution_count": 20,
     "metadata": {},
     "output_type": "execute_result"
    }
   ],
   "source": [
    "len(t)"
   ]
  },
  {
   "cell_type": "markdown",
   "metadata": {},
   "source": [
    "Ejercicio 7.2. ¿Cuál es la longitud de (89766, \"Alicia\", \"Hacker\", (9, \"Julio\", 1988))?"
   ]
  },
  {
   "cell_type": "code",
   "execution_count": 21,
   "metadata": {},
   "outputs": [
    {
     "data": {
      "text/plain": [
       "4"
      ]
     },
     "execution_count": 21,
     "metadata": {},
     "output_type": "execute_result"
    }
   ],
   "source": [
    "len(r)"
   ]
  },
  {
   "cell_type": "markdown",
   "metadata": {},
   "source": [
    "Una tupla vacía es una tupla con 0 componentes, y se la indica como ()."
   ]
  },
  {
   "cell_type": "code",
   "execution_count": 22,
   "metadata": {},
   "outputs": [
    {
     "data": {
      "text/plain": [
       "0"
      ]
     },
     "execution_count": 22,
     "metadata": {},
     "output_type": "execute_result"
    }
   ],
   "source": [
    "z=()\n",
    "len(z)"
   ]
  },
  {
   "cell_type": "markdown",
   "metadata": {},
   "source": [
    "Una tupla unitaria es una tupla con una componente. Para distinguir la tupla unitaria de la\n",
    "componente que contiene, Python exige que a la componente no sólo se la encierre entre\n",
    "paréntesis sino que se le ponga una coma a continuación del valor de la componente (así\n",
    "(1810) es un número, pero (1810,) es la tupla unitaria cuya única componente vale\n",
    "1810)."
   ]
  },
  {
   "cell_type": "code",
   "execution_count": 25,
   "metadata": {},
   "outputs": [
    {
     "data": {
      "text/plain": [
       "1"
      ]
     },
     "execution_count": 25,
     "metadata": {},
     "output_type": "execute_result"
    }
   ],
   "source": [
    "u=(1810,)\n",
    "len(u)"
   ]
  },
  {
   "cell_type": "markdown",
   "metadata": {},
   "source": [
    "### 7.1.4. Empaquetado y desempaquetado de tuplas"
   ]
  },
  {
   "cell_type": "markdown",
   "metadata": {},
   "source": [
    "Si a una variable se le asigna una secuencia de valores separados por comas, el valor de esa\n",
    "variable será la tupla formada por todos los valores asignados. A esta operación se la denomina\n",
    "empaquetado de tuplas."
   ]
  },
  {
   "cell_type": "code",
   "execution_count": 29,
   "metadata": {},
   "outputs": [],
   "source": [
    "a=125\n",
    "b=\"#\"\n",
    "c=\"Ana\"\n",
    "d=a,b,c"
   ]
  },
  {
   "cell_type": "code",
   "execution_count": 30,
   "metadata": {},
   "outputs": [
    {
     "data": {
      "text/plain": [
       "3"
      ]
     },
     "execution_count": 30,
     "metadata": {},
     "output_type": "execute_result"
    }
   ],
   "source": [
    "len(d)"
   ]
  },
  {
   "cell_type": "code",
   "execution_count": 32,
   "metadata": {},
   "outputs": [
    {
     "data": {
      "text/plain": [
       "(125, '#', 'Ana')"
      ]
     },
     "execution_count": 32,
     "metadata": {},
     "output_type": "execute_result"
    }
   ],
   "source": [
    "d"
   ]
  },
  {
   "cell_type": "markdown",
   "metadata": {},
   "source": [
    "Si se tiene una tupla de longitud k, se puede asignar la tupla a k variables distintas y en\n",
    "cada variable quedará una de las componentes de la tupla. A esta operación se la denomina\n",
    "desempaquetado de tuplas."
   ]
  },
  {
   "cell_type": "code",
   "execution_count": 33,
   "metadata": {},
   "outputs": [],
   "source": [
    "x,y,z=d"
   ]
  },
  {
   "cell_type": "code",
   "execution_count": 35,
   "metadata": {},
   "outputs": [
    {
     "data": {
      "text/plain": [
       "125"
      ]
     },
     "execution_count": 35,
     "metadata": {},
     "output_type": "execute_result"
    }
   ],
   "source": [
    "x"
   ]
  },
  {
   "cell_type": "code",
   "execution_count": 36,
   "metadata": {},
   "outputs": [
    {
     "data": {
      "text/plain": [
       "'#'"
      ]
     },
     "execution_count": 36,
     "metadata": {},
     "output_type": "execute_result"
    }
   ],
   "source": [
    "y"
   ]
  },
  {
   "cell_type": "code",
   "execution_count": 37,
   "metadata": {},
   "outputs": [
    {
     "data": {
      "text/plain": [
       "'Ana'"
      ]
     },
     "execution_count": 37,
     "metadata": {},
     "output_type": "execute_result"
    }
   ],
   "source": [
    "z"
   ]
  },
  {
   "cell_type": "markdown",
   "metadata": {},
   "source": [
    "### 7.2. Listas"
   ]
  },
  {
   "cell_type": "markdown",
   "metadata": {},
   "source": [
    "Presentaremos ahora una nueva estructura de datos: la lista. Usaremos listas para poder modelar\n",
    "datos compuestos pero cuya cantidad y valor varían a lo largo del tiempo. Son secuencias\n",
    "mutables y vienen dotadas de una variedad de operaciones muy útiles."
   ]
  },
  {
   "cell_type": "markdown",
   "metadata": {},
   "source": [
    "La notación para lista es una secuencia de valores encerrados entre corchetes y separados\n",
    "por comas. Por ejemplo, si representamos a los alumnos mediante su número\n",
    "de padrón, se puede tener una lista de inscriptos en la materia como la siguiente: i\n",
    "[78455, 89211, 66540, 45750]. Al abrirse la inscripción, antes de que hubiera inscriptos,\n",
    "la lista de inscriptos se representará por una lista vacía: []."
   ]
  },
  {
   "cell_type": "markdown",
   "metadata": {},
   "source": [
    "### 7.2.1. Longitud de la lista. Elementos y segmentos de listas"
   ]
  },
  {
   "cell_type": "markdown",
   "metadata": {},
   "source": [
    "Como a las secuencias ya vistas, a las listas también se les puede aplicar la función len()\n",
    "para conocer su longitud."
   ]
  },
  {
   "cell_type": "markdown",
   "metadata": {},
   "source": [
    "Para acceder a los distintos elementos de la lista se utilizará la misma notación de índices\n",
    "de cadenas y tuplas, con valores que van de 0 a la longitud de la lista -1."
   ]
  },
  {
   "cell_type": "code",
   "execution_count": 2,
   "metadata": {},
   "outputs": [],
   "source": [
    "xs=[78455, 89211, 66540, 45750]"
   ]
  },
  {
   "cell_type": "code",
   "execution_count": 41,
   "metadata": {},
   "outputs": [
    {
     "data": {
      "text/plain": [
       "78455"
      ]
     },
     "execution_count": 41,
     "metadata": {},
     "output_type": "execute_result"
    }
   ],
   "source": [
    "xs[0]"
   ]
  },
  {
   "cell_type": "code",
   "execution_count": 42,
   "metadata": {},
   "outputs": [
    {
     "data": {
      "text/plain": [
       "4"
      ]
     },
     "execution_count": 42,
     "metadata": {},
     "output_type": "execute_result"
    }
   ],
   "source": [
    "len(xs)"
   ]
  },
  {
   "cell_type": "markdown",
   "metadata": {},
   "source": [
    "Para obtener una sublista a partir de la lista original, se utiliza la notación de rangos, como en las otras secuencias."
   ]
  },
  {
   "cell_type": "markdown",
   "metadata": {},
   "source": [
    "Para obtener la lista que contiene sólo a quién se inscribió en segundo lugar podemos\n",
    "escribir:"
   ]
  },
  {
   "cell_type": "code",
   "execution_count": 44,
   "metadata": {},
   "outputs": [
    {
     "data": {
      "text/plain": [
       "[89211]"
      ]
     },
     "execution_count": 44,
     "metadata": {},
     "output_type": "execute_result"
    }
   ],
   "source": [
    "xs[1:2]"
   ]
  },
  {
   "cell_type": "markdown",
   "metadata": {},
   "source": [
    "Para obtener la lista que contiene al segundo y tercer inscriptos podemos escribir:"
   ]
  },
  {
   "cell_type": "code",
   "execution_count": 45,
   "metadata": {},
   "outputs": [
    {
     "data": {
      "text/plain": [
       "[89211, 66540]"
      ]
     },
     "execution_count": 45,
     "metadata": {},
     "output_type": "execute_result"
    }
   ],
   "source": [
    "xs[1:3]"
   ]
  },
  {
   "cell_type": "markdown",
   "metadata": {},
   "source": [
    "Para obtener la lista que contiene al primero y segundo inscriptos podemos escribir:"
   ]
  },
  {
   "cell_type": "code",
   "execution_count": 46,
   "metadata": {},
   "outputs": [
    {
     "data": {
      "text/plain": [
       "[78455, 89211]"
      ]
     },
     "execution_count": 46,
     "metadata": {},
     "output_type": "execute_result"
    }
   ],
   "source": [
    "xs[0:2]"
   ]
  },
  {
   "cell_type": "markdown",
   "metadata": {},
   "source": [
    "### 7.2.2. Cómo mutar listas"
   ]
  },
  {
   "cell_type": "markdown",
   "metadata": {},
   "source": [
    "Dijimos antes que las listas son secuencias mutables. Para lograr la mutabilidad Python provee operaciones que nos permiten cambiarle valores, agregarle valores y quitarle valores."
   ]
  },
  {
   "cell_type": "markdown",
   "metadata": {},
   "source": [
    "Para cambiar una componente de una lista, se selecciona la componente mediante su\n",
    "índice y se le asigna el nuevo valor:"
   ]
  },
  {
   "cell_type": "code",
   "execution_count": 3,
   "metadata": {},
   "outputs": [],
   "source": [
    "xs[1]=79211"
   ]
  },
  {
   "cell_type": "code",
   "execution_count": 4,
   "metadata": {},
   "outputs": [
    {
     "data": {
      "text/plain": [
       "[78455, 79211, 66540, 45750]"
      ]
     },
     "execution_count": 4,
     "metadata": {},
     "output_type": "execute_result"
    }
   ],
   "source": [
    "xs"
   ]
  },
  {
   "cell_type": "markdown",
   "metadata": {},
   "source": [
    "Para agregar un nuevo valor al final de la lista se utiliza la operación append(). Escribimos\n",
    "xs.append(47890) para agregar el padrón 47890 al final de xs."
   ]
  },
  {
   "cell_type": "code",
   "execution_count": 6,
   "metadata": {},
   "outputs": [],
   "source": [
    "xs.append(47890)"
   ]
  },
  {
   "cell_type": "code",
   "execution_count": 7,
   "metadata": {},
   "outputs": [
    {
     "data": {
      "text/plain": [
       "[78455, 79211, 66540, 45750, 47890, 47890]"
      ]
     },
     "execution_count": 7,
     "metadata": {},
     "output_type": "execute_result"
    }
   ],
   "source": [
    "xs"
   ]
  },
  {
   "cell_type": "markdown",
   "metadata": {},
   "source": [
    "Para insertar un nuevo valor en la posición cuyo índice es k (y desplazar un lugar el resto\n",
    "de la lista) se utiliza la operación insert()."
   ]
  },
  {
   "cell_type": "markdown",
   "metadata": {},
   "source": [
    "Escribimos xs.insert(2, 54988) para insertar el padrón 54988 en la tercera posición\n",
    "de xs."
   ]
  },
  {
   "cell_type": "code",
   "execution_count": 9,
   "metadata": {},
   "outputs": [],
   "source": [
    "xs.insert(2, 54988)"
   ]
  },
  {
   "cell_type": "code",
   "execution_count": 10,
   "metadata": {},
   "outputs": [
    {
     "data": {
      "text/plain": [
       "[78455, 79211, 54988, 66540, 45750, 47890, 47890]"
      ]
     },
     "execution_count": 10,
     "metadata": {},
     "output_type": "execute_result"
    }
   ],
   "source": [
    "xs"
   ]
  },
  {
   "cell_type": "code",
   "execution_count": 11,
   "metadata": {},
   "outputs": [],
   "source": [
    "xs.insert(1,78455)"
   ]
  },
  {
   "cell_type": "code",
   "execution_count": 12,
   "metadata": {},
   "outputs": [
    {
     "data": {
      "text/plain": [
       "[78455, 78455, 79211, 54988, 66540, 45750, 47890, 47890]"
      ]
     },
     "execution_count": 12,
     "metadata": {},
     "output_type": "execute_result"
    }
   ],
   "source": [
    "xs"
   ]
  },
  {
   "cell_type": "markdown",
   "metadata": {},
   "source": [
    "Para eliminar un valor de una lista se utiliza la operación remove().\n",
    "Escribimos xs.remove(45750) para borrar el padrón 45750 de la lista de inscriptos:"
   ]
  },
  {
   "cell_type": "code",
   "execution_count": 13,
   "metadata": {},
   "outputs": [],
   "source": [
    "xs.remove(45750)"
   ]
  },
  {
   "cell_type": "code",
   "execution_count": 14,
   "metadata": {},
   "outputs": [
    {
     "data": {
      "text/plain": [
       "[78455, 78455, 79211, 54988, 66540, 47890, 47890]"
      ]
     },
     "execution_count": 14,
     "metadata": {},
     "output_type": "execute_result"
    }
   ],
   "source": [
    "xs"
   ]
  },
  {
   "cell_type": "markdown",
   "metadata": {},
   "source": [
    "Si el valor a borrar está repetido, se borra sólo su primera aparición:"
   ]
  },
  {
   "cell_type": "code",
   "execution_count": 16,
   "metadata": {},
   "outputs": [],
   "source": [
    "xs.remove(78455)"
   ]
  },
  {
   "cell_type": "code",
   "execution_count": 17,
   "metadata": {},
   "outputs": [
    {
     "data": {
      "text/plain": [
       "[78455, 79211, 54988, 66540, 47890, 47890]"
      ]
     },
     "execution_count": 17,
     "metadata": {},
     "output_type": "execute_result"
    }
   ],
   "source": [
    "xs"
   ]
  },
  {
   "cell_type": "markdown",
   "metadata": {},
   "source": [
    "### 7.2.3. Cómo buscar dentro de las listas"
   ]
  },
  {
   "cell_type": "markdown",
   "metadata": {},
   "source": [
    "Queremos poder formular dos preguntas más respecto de la lista de inscriptos:"
   ]
  },
  {
   "cell_type": "markdown",
   "metadata": {},
   "source": [
    "¿Está la persona cuyo padrón es v inscripta en esta materia?"
   ]
  },
  {
   "cell_type": "markdown",
   "metadata": {},
   "source": [
    "¿En qué orden se inscribió la persona cuyo padrón es v?."
   ]
  },
  {
   "cell_type": "markdown",
   "metadata": {},
   "source": [
    "Veamos qué operaciones sobre listas se pueden usar para lograr esos dos objetivos:"
   ]
  },
  {
   "cell_type": "markdown",
   "metadata": {},
   "source": [
    "Para preguntar si un valor determinado es un elemento de una lista usaremos la operación\n",
    "in:"
   ]
  },
  {
   "cell_type": "code",
   "execution_count": 23,
   "metadata": {},
   "outputs": [
    {
     "data": {
      "text/plain": [
       "[78455, 79211, 54988, 66540, 47890, 47890]"
      ]
     },
     "execution_count": 23,
     "metadata": {},
     "output_type": "execute_result"
    }
   ],
   "source": [
    "xs"
   ]
  },
  {
   "cell_type": "code",
   "execution_count": 24,
   "metadata": {},
   "outputs": [
    {
     "data": {
      "text/plain": [
       "False"
      ]
     },
     "execution_count": 24,
     "metadata": {},
     "output_type": "execute_result"
    }
   ],
   "source": [
    "78 in xs"
   ]
  },
  {
   "cell_type": "code",
   "execution_count": 25,
   "metadata": {},
   "outputs": [
    {
     "data": {
      "text/plain": [
       "True"
      ]
     },
     "execution_count": 25,
     "metadata": {},
     "output_type": "execute_result"
    }
   ],
   "source": [
    "66540 in xs"
   ]
  },
  {
   "cell_type": "code",
   "execution_count": 26,
   "metadata": {},
   "outputs": [],
   "source": [
    "### Esta operación se puede utilizar para todas las secuencias, incluyendo tuplas y cadenas"
   ]
  },
  {
   "cell_type": "markdown",
   "metadata": {},
   "source": [
    "Para averiguar la posición de un valor dentro de una lista usaremos la operación\n",
    "index()."
   ]
  },
  {
   "cell_type": "code",
   "execution_count": 27,
   "metadata": {},
   "outputs": [
    {
     "data": {
      "text/plain": [
       "0"
      ]
     },
     "execution_count": 27,
     "metadata": {},
     "output_type": "execute_result"
    }
   ],
   "source": [
    "xs.index(78455)"
   ]
  },
  {
   "cell_type": "code",
   "execution_count": 28,
   "metadata": {},
   "outputs": [
    {
     "data": {
      "text/plain": [
       "4"
      ]
     },
     "execution_count": 28,
     "metadata": {},
     "output_type": "execute_result"
    }
   ],
   "source": [
    "xs.index(47890)"
   ]
  },
  {
   "cell_type": "markdown",
   "metadata": {},
   "source": [
    "Si el valor está repetido, el índice que devuelve es el de la primera aparición:"
   ]
  },
  {
   "cell_type": "code",
   "execution_count": 29,
   "metadata": {},
   "outputs": [
    {
     "data": {
      "text/plain": [
       "0"
      ]
     },
     "execution_count": 29,
     "metadata": {},
     "output_type": "execute_result"
    }
   ],
   "source": [
    "ys = [10,20,10]\n",
    "ys.index(10)"
   ]
  },
  {
   "cell_type": "markdown",
   "metadata": {},
   "source": [
    "Para iterar sobre todos los elementos de una lista usaremos una construcción for:"
   ]
  },
  {
   "cell_type": "code",
   "execution_count": 33,
   "metadata": {},
   "outputs": [
    {
     "name": "stdout",
     "output_type": "stream",
     "text": [
      "5\n",
      "3\n",
      "8\n",
      "10\n",
      "2\n"
     ]
    }
   ],
   "source": [
    "zs = [5,3,8,10,2]\n",
    "for x in zs:\n",
    "    print(x)"
   ]
  },
  {
   "cell_type": "markdown",
   "metadata": {},
   "source": [
    "Problema 7.1. Queremos escribir un programa que nos permita armar la lista de los inscriptos\n",
    "de una materia."
   ]
  },
  {
   "cell_type": "code",
   "execution_count": 47,
   "metadata": {},
   "outputs": [],
   "source": [
    "def inscripcion():\n",
    "    \"\"\" Módulo para inscribir alumnos al curso - versión 0 \"\"\"\n",
    "    #Iniciamos la interaccion con el usuario\n",
    "    print(\"Incripcion en el curso 04 de 75.40\")\n",
    "    \n",
    "    #Leemos el primer padrón\n",
    "    padron = int(input(\"Ingresa un padrón(<=0 para terminar): \"))\n",
    "    \n",
    "    #Procesamos los padrones\n",
    "    #Inicialmente no hay inscritos\n",
    "    ins= []\n",
    "    while padron > 0:\n",
    "        #Agregamos el padrón leído a la lista de inscritos\n",
    "        ins.append(padron)\n",
    "        \n",
    "        #Leemos otro padrón más\n",
    "        padron = int(input(\"Ingresa un padrón(<=0 para terminar): \"))\n",
    "    #Mostramos el resultado\n",
    "    print(\"Esta es la lista de inscritos: \", ins)"
   ]
  },
  {
   "cell_type": "code",
   "execution_count": 48,
   "metadata": {},
   "outputs": [
    {
     "name": "stdout",
     "output_type": "stream",
     "text": [
      "Incripcion en el curso 04 de 75.40\n",
      "Ingresa un padrón(<=0 para terminar): 30\n",
      "Ingresa un padrón(<=0 para terminar): 40\n",
      "Ingresa un padrón(<=0 para terminar): 50\n",
      "Ingresa un padrón(<=0 para terminar): 0\n",
      "Esta es la lista de inscritos:  [30, 40, 50]\n"
     ]
    }
   ],
   "source": [
    "inscripcion()"
   ]
  },
  {
   "cell_type": "code",
   "execution_count": 49,
   "metadata": {},
   "outputs": [
    {
     "name": "stdout",
     "output_type": "stream",
     "text": [
      "Incripcion en el curso 04 de 75.40\n",
      "Ingresa un padrón(<=0 para terminar): 30\n",
      "Ingresa un padrón(<=0 para terminar): 40\n",
      "Ingresa un padrón(<=0 para terminar): 40\n",
      "Ingresa un padrón(<=0 para terminar): 30\n",
      "Ingresa un padrón(<=0 para terminar): 50\n",
      "Ingresa un padrón(<=0 para terminar): 0\n",
      "Esta es la lista de inscritos:  [30, 40, 40, 30, 50]\n"
     ]
    }
   ],
   "source": [
    "inscripcion()"
   ]
  },
  {
   "cell_type": "markdown",
   "metadata": {},
   "source": [
    "Evidentemente el programa funciona de acuerdo a lo especificado, pero hay algo que no\n",
    "tuvimos en cuenta: permite inscribir a una misma persona más de una vez."
   ]
  },
  {
   "cell_type": "markdown",
   "metadata": {},
   "source": [
    "Mantenimiento: No permitir que haya padrones repetidos."
   ]
  },
  {
   "cell_type": "code",
   "execution_count": 2,
   "metadata": {},
   "outputs": [
    {
     "name": "stdout",
     "output_type": "stream",
     "text": [
      "Inscripcion en el curso 04 de 75.40\n",
      "Ingresa un padrón (<=0 para terminar): 30\n",
      "Ingresa un padrón (<=0 para terminar): 40\n",
      "Ingresa un padrón (<=0 para terminar): 40\n",
      "ya figura en la lista\n",
      "Ingresa un padrón (<=0 para terminar): 30\n",
      "ya figura en la lista\n",
      "Ingresa un padrón (<=0 para terminar): 50\n",
      "Ingresa un padrón (<=0 para terminar): 0\n",
      "Esta es la lista de inscritos:  [30, 40, 50]\n"
     ]
    }
   ],
   "source": [
    "def inscripcion():\n",
    "    \"\"\" Módulo para inscribir alumnos al curso - versión 1 \"\"\"\n",
    "    # Iniciamos la interacción con el usuario\n",
    "    print(\"Inscripcion en el curso 04 de 75.40\")\n",
    "    \n",
    "    # Leemos el primer padrón\n",
    "    padron=int(input(\"Ingresa un padrón (<=0 para terminar): \"))\n",
    "    \n",
    "    # Procesamos los padrones\n",
    "    # Inicialmente no hay inscritos\n",
    "    ins = []\n",
    "    while padron > 0:\n",
    "        # Si todavía no está, agregamos el padrón a la lista de inscriptos\n",
    "        if padron not in ins:\n",
    "            ins.append(padron)\n",
    "        # de lo contrario avisamos que ya figura\n",
    "        else:\n",
    "            print(\"ya figura en la lista\")\n",
    "        \n",
    "        #Leemos otro padrón más\n",
    "        padron=int(input(\"Ingresa un padrón (<=0 para terminar): \"))\n",
    "    \n",
    "    #Mostramos el resultado\n",
    "    print(\"Esta es la lista de inscritos: \", ins)\n",
    "        \n",
    "inscripcion()"
   ]
  },
  {
   "cell_type": "markdown",
   "metadata": {},
   "source": [
    "Pero ahora el resultado es satisfactorio: no tenemos inscriptos repetidos."
   ]
  },
  {
   "cell_type": "markdown",
   "metadata": {},
   "source": [
    "### 7.3. Ordenar listas"
   ]
  },
  {
   "cell_type": "markdown",
   "metadata": {},
   "source": [
    "Para dejar la lista original intacta pero obtener una nueva lista ordenada a partir de ella,\n",
    "se usa la función sorted."
   ]
  },
  {
   "cell_type": "code",
   "execution_count": 6,
   "metadata": {},
   "outputs": [],
   "source": [
    "bs=[5,2,4,2]\n",
    "cs = sorted(bs)"
   ]
  },
  {
   "cell_type": "code",
   "execution_count": 8,
   "metadata": {},
   "outputs": [
    {
     "data": {
      "text/plain": [
       "[5, 2, 4, 2]"
      ]
     },
     "execution_count": 8,
     "metadata": {},
     "output_type": "execute_result"
    }
   ],
   "source": [
    "bs"
   ]
  },
  {
   "cell_type": "code",
   "execution_count": 9,
   "metadata": {},
   "outputs": [
    {
     "data": {
      "text/plain": [
       "[2, 2, 4, 5]"
      ]
     },
     "execution_count": 9,
     "metadata": {},
     "output_type": "execute_result"
    }
   ],
   "source": [
    "cs"
   ]
  },
  {
   "cell_type": "markdown",
   "metadata": {},
   "source": [
    "### 7.4. Listas y cadenas"
   ]
  },
  {
   "cell_type": "markdown",
   "metadata": {},
   "source": [
    "A partir de una cadena de caracteres, podemos obtener una lista con sus componentes usando\n",
    "la función split."
   ]
  },
  {
   "cell_type": "markdown",
   "metadata": {},
   "source": [
    "Si queremos obtener las palabras (separadas entre sí por espacios) que componen la cadena\n",
    "xs escribiremos simplemente xs.split():"
   ]
  },
  {
   "cell_type": "code",
   "execution_count": 11,
   "metadata": {},
   "outputs": [],
   "source": [
    "c = \" Una cadena con espacios \""
   ]
  },
  {
   "cell_type": "code",
   "execution_count": 12,
   "metadata": {},
   "outputs": [
    {
     "data": {
      "text/plain": [
       "' Una cadena con espacios '"
      ]
     },
     "execution_count": 12,
     "metadata": {},
     "output_type": "execute_result"
    }
   ],
   "source": [
    "c"
   ]
  },
  {
   "cell_type": "code",
   "execution_count": 14,
   "metadata": {},
   "outputs": [
    {
     "data": {
      "text/plain": [
       "['Una', 'cadena', 'con', 'espacios']"
      ]
     },
     "execution_count": 14,
     "metadata": {},
     "output_type": "execute_result"
    }
   ],
   "source": [
    "c.split()"
   ]
  },
  {
   "cell_type": "markdown",
   "metadata": {},
   "source": [
    "En este caso split elimina todos los blancos de más, y devuelve sólo las palabras que\n",
    "conforman la cadena."
   ]
  },
  {
   "cell_type": "markdown",
   "metadata": {},
   "source": [
    "Si en cambio el separador es otro carácter (por ejemplo la arroba, \"@\"), se lo debemos pasar\n",
    "como parámetro a la función split. En ese caso se considera una componente todo lo que se\n",
    "encuentra entre dos arrobas consecutivas. En el caso particular de que el texto contenga dos\n",
    "arrobas una a continuación de la otra, se devolverá una componente vacía:"
   ]
  },
  {
   "cell_type": "code",
   "execution_count": 19,
   "metadata": {},
   "outputs": [],
   "source": [
    "d=\"@@Una@@cadena@@@con@@arrobas@\""
   ]
  },
  {
   "cell_type": "code",
   "execution_count": 33,
   "metadata": {},
   "outputs": [
    {
     "data": {
      "text/plain": [
       "['', '', 'Una', '', 'cadena', '', '', 'con', '', 'arrobas', '']"
      ]
     },
     "execution_count": 33,
     "metadata": {},
     "output_type": "execute_result"
    }
   ],
   "source": [
    "d.split(\"@\")"
   ]
  },
  {
   "cell_type": "code",
   "execution_count": 34,
   "metadata": {},
   "outputs": [
    {
     "data": {
      "text/plain": [
       "['', 'Una', '', 'cadena', '', '', 'de', '', '', '', 'caracteres']"
      ]
     },
     "execution_count": 34,
     "metadata": {},
     "output_type": "execute_result"
    }
   ],
   "source": [
    "a=\"@Una@@cadena@@@de@@@@caracteres\"\n",
    "a.split(\"@\")"
   ]
  },
  {
   "cell_type": "markdown",
   "metadata": {},
   "source": [
    "La “casi”–inversa de split es una función join que tiene la siguiente sintaxis:"
   ]
  },
  {
   "cell_type": "code",
   "execution_count": null,
   "metadata": {},
   "outputs": [],
   "source": [
    "<separador>.join( <lista de componentes a unir>)"
   ]
  },
  {
   "cell_type": "markdown",
   "metadata": {},
   "source": [
    "y que devuelve la cadena que resulta de unir todas las componentes separadas entre sí por\n",
    "medio del separador:"
   ]
  },
  {
   "cell_type": "code",
   "execution_count": 1,
   "metadata": {},
   "outputs": [],
   "source": [
    "xs = ['aaa', 'bbb', 'cccc']"
   ]
  },
  {
   "cell_type": "code",
   "execution_count": 23,
   "metadata": {},
   "outputs": [
    {
     "data": {
      "text/plain": [
       "['aaa', 'bbb', 'cccc']"
      ]
     },
     "execution_count": 23,
     "metadata": {},
     "output_type": "execute_result"
    }
   ],
   "source": [
    "xs"
   ]
  },
  {
   "cell_type": "code",
   "execution_count": 24,
   "metadata": {},
   "outputs": [
    {
     "data": {
      "text/plain": [
       "'aaa bbb cccc'"
      ]
     },
     "execution_count": 24,
     "metadata": {},
     "output_type": "execute_result"
    }
   ],
   "source": [
    "\" \".join(xs)"
   ]
  },
  {
   "cell_type": "code",
   "execution_count": 25,
   "metadata": {},
   "outputs": [
    {
     "data": {
      "text/plain": [
       "'aaa, bbb, cccc'"
      ]
     },
     "execution_count": 25,
     "metadata": {},
     "output_type": "execute_result"
    }
   ],
   "source": [
    "\", \".join(xs)"
   ]
  },
  {
   "cell_type": "code",
   "execution_count": 2,
   "metadata": {},
   "outputs": [
    {
     "data": {
      "text/plain": [
       "'aaa@@bbb@@cccc'"
      ]
     },
     "execution_count": 2,
     "metadata": {},
     "output_type": "execute_result"
    }
   ],
   "source": [
    "\"@@\".join(xs)"
   ]
  },
  {
   "cell_type": "markdown",
   "metadata": {},
   "source": [
    "### 8. Algoritmos de búsqueda"
   ]
  },
  {
   "cell_type": "markdown",
   "metadata": {},
   "source": [
    "### 8.1 El problema de la búsqueda"
   ]
  },
  {
   "cell_type": "markdown",
   "metadata": {},
   "source": [
    "Presentamos ahora uno de los problemas más clásicos de la computación, el problema de la\n",
    "búsqueda, que se puede enunciar de la siguiente manera:"
   ]
  },
  {
   "cell_type": "markdown",
   "metadata": {},
   "source": [
    "Problema: Dada una lista xs y un valor x devolver el índice de x en xs si x está en xs, y -1\n",
    "si x no está en xs."
   ]
  },
  {
   "cell_type": "markdown",
   "metadata": {},
   "source": [
    "Alicia Hacker afirma que este problema tiene una solución muy sencilla en Python: se puede\n",
    "usar directamente la poderosa función index() de lista."
   ]
  },
  {
   "cell_type": "markdown",
   "metadata": {},
   "source": [
    "Probamos esa solución para ver qué pasa:"
   ]
  },
  {
   "cell_type": "code",
   "execution_count": 1,
   "metadata": {},
   "outputs": [
    {
     "data": {
      "text/plain": [
       "2"
      ]
     },
     "execution_count": 1,
     "metadata": {},
     "output_type": "execute_result"
    }
   ],
   "source": [
    "[1,3,5,7].index(5)"
   ]
  },
  {
   "cell_type": "code",
   "execution_count": 2,
   "metadata": {},
   "outputs": [
    {
     "ename": "ValueError",
     "evalue": "20 is not in list",
     "output_type": "error",
     "traceback": [
      "\u001b[1;31m---------------------------------------------------------------------------\u001b[0m",
      "\u001b[1;31mValueError\u001b[0m                                Traceback (most recent call last)",
      "Cell \u001b[1;32mIn[2], line 1\u001b[0m\n\u001b[1;32m----> 1\u001b[0m \u001b[43m[\u001b[49m\u001b[38;5;241;43m1\u001b[39;49m\u001b[43m,\u001b[49m\u001b[38;5;241;43m3\u001b[39;49m\u001b[43m,\u001b[49m\u001b[38;5;241;43m5\u001b[39;49m\u001b[43m,\u001b[49m\u001b[38;5;241;43m7\u001b[39;49m\u001b[43m]\u001b[49m\u001b[38;5;241;43m.\u001b[39;49m\u001b[43mindex\u001b[49m\u001b[43m(\u001b[49m\u001b[38;5;241;43m20\u001b[39;49m\u001b[43m)\u001b[49m\n",
      "\u001b[1;31mValueError\u001b[0m: 20 is not in list"
     ]
    }
   ],
   "source": [
    "[1,3,5,7].index(20)"
   ]
  },
  {
   "cell_type": "markdown",
   "metadata": {},
   "source": [
    "Vemos que usar la función index() resuelve nuestro problema si el valor buscado está en\n",
    "la lista, pero si el valor no está no sólo no devuelve un 􀀀1, sino que se produce un error.\n",
    "El problema es que para poder aplicar la función index() debemos estar seguros de que\n",
    "el valor está en la lista, y para averiguar eso Python nos provee del operador in:"
   ]
  },
  {
   "cell_type": "code",
   "execution_count": 3,
   "metadata": {},
   "outputs": [
    {
     "data": {
      "text/plain": [
       "True"
      ]
     },
     "execution_count": 3,
     "metadata": {},
     "output_type": "execute_result"
    }
   ],
   "source": [
    "5 in [1,3,5,7]"
   ]
  },
  {
   "cell_type": "code",
   "execution_count": 4,
   "metadata": {},
   "outputs": [
    {
     "data": {
      "text/plain": [
       "False"
      ]
     },
     "execution_count": 4,
     "metadata": {},
     "output_type": "execute_result"
    }
   ],
   "source": [
    "20 in [1,3,5,7]"
   ]
  },
  {
   "cell_type": "markdown",
   "metadata": {},
   "source": [
    "O sea que si llamamos a la función index() sólo cuando el resultado de in es verdadero,\n",
    "y devolvemos -1 cuando el resultado de in es falso, estaremos resolviendo el problema planteado\n",
    "usando sólo funciones provistas por Python. La solución se muestra en el Código 8.1."
   ]
  },
  {
   "cell_type": "code",
   "execution_count": 26,
   "metadata": {},
   "outputs": [],
   "source": [
    "def busqueda_con_index(xs, x):\n",
    "    \"\"\"Busca un elemento x en una lista xs\n",
    "    \n",
    "    si x está en xs devuelve xs.index(x)\n",
    "    de lo contrario devuelve -1\n",
    "    \"\"\"\n",
    "    \n",
    "    if x in xs:\n",
    "        return(xs.index(x))\n",
    "    else:\n",
    "        return(-1)"
   ]
  },
  {
   "cell_type": "code",
   "execution_count": 27,
   "metadata": {},
   "outputs": [
    {
     "data": {
      "text/plain": [
       "3"
      ]
     },
     "execution_count": 27,
     "metadata": {},
     "output_type": "execute_result"
    }
   ],
   "source": [
    "busqueda_con_index([1, 4, 54, 3, 0, -1], 3)"
   ]
  },
  {
   "cell_type": "code",
   "execution_count": 28,
   "metadata": {},
   "outputs": [
    {
     "data": {
      "text/plain": [
       "-1"
      ]
     },
     "execution_count": 28,
     "metadata": {},
     "output_type": "execute_result"
    }
   ],
   "source": [
    "busqueda_con_index([1, 4, 54, 3, 0, -1], 44)"
   ]
  },
  {
   "cell_type": "code",
   "execution_count": 29,
   "metadata": {},
   "outputs": [
    {
     "data": {
      "text/plain": [
       "-1"
      ]
     },
     "execution_count": 29,
     "metadata": {},
     "output_type": "execute_result"
    }
   ],
   "source": [
    "busqueda_con_index([], 0)"
   ]
  },
  {
   "cell_type": "markdown",
   "metadata": {},
   "source": [
    "\n",
    "### ¿Cuántas comparaciones hace este programa?"
   ]
  },
  {
   "cell_type": "markdown",
   "metadata": {},
   "source": [
    "La pregunta del título se refiere a ¿cuánto esfuerzo computacional requiere este programa?,\n",
    "¿cuántas veces compara el valor que buscamos con los datos de la lista? No lo sabemos porque\n",
    "no sabemos cómo están implementadas las funciones in e index(). La pregunta queda\n",
    "planteada por ahora pero daremos un método para averiguarlo más adelante en esta unidad."
   ]
  },
  {
   "cell_type": "markdown",
   "metadata": {},
   "source": [
    "### 8.2. Cómo programar la búsqueda lineal a mano"
   ]
  },
  {
   "cell_type": "markdown",
   "metadata": {},
   "source": [
    "No interesa ver qué sucede si programamos la búsqueda usando operaciones más elementales,\n",
    "y no las grandes primitivas in e index(). Esto nos permitirá estudiar una solución que\n",
    "puede portarse a otros lenguajes que no tienen instrucciones tan poderosas."
   ]
  },
  {
   "cell_type": "markdown",
   "metadata": {},
   "source": [
    "Supongamos entonces que nuestra versión de Python no existen ni in ni index(). Podemos\n",
    "en cambio acceder a cada uno de los elementos de la lista a través de una construcción\n",
    "for, y también, por supuesto, podemos acceder a un elemento de la lista mediante un índice."
   ]
  },
  {
   "cell_type": "markdown",
   "metadata": {},
   "source": [
    "### 8.3. Búsqueda lineal"
   ]
  },
  {
   "cell_type": "markdown",
   "metadata": {},
   "source": [
    "Diseñamos una solución: Podemos comparar uno a uno los elementos de la lista con el valor\n",
    "de x, y retornar el valor de la posición donde lo encontramos en caso de encontrarlo."
   ]
  },
  {
   "cell_type": "markdown",
   "metadata": {},
   "source": [
    "Si llegamos al final de la lista sin haber salido antes de la función es porque el valor de x no\n",
    "está en la lista, y en ese caso retornamos -1."
   ]
  },
  {
   "cell_type": "markdown",
   "metadata": {},
   "source": [
    "En esta solución necesitamos una variable i que cuente en cada momento en qué posición\n",
    "de la lista estamos parados. Esta variable se inicializa en 0 antes de entrar en el ciclo y se\n",
    "incrementa en 1 en cada paso."
   ]
  },
  {
   "cell_type": "code",
   "execution_count": 20,
   "metadata": {},
   "outputs": [],
   "source": [
    "def busqueda_lineal(lista,x):\n",
    "    \"\"\"Busqueda lineal\n",
    "       Si x está en la lista devuelve su posición en lista, de lo contrario devuelve -1.\n",
    "    \"\"\"\n",
    "    # Estrategia: se recorren uno a uno los elementos de la lista\n",
    "    # y se los compara con el valor x buscado.\n",
    "    i=0 #tiene la posicion actual de la lista, inicializa en 0\n",
    "    \n",
    "    #el ciclo for recorre todos los elementos de lista:\n",
    "    for z in lista:\n",
    "        # estamos en la posicion i, z contiene el valor de lista[i]\n",
    "        # si z es igual a x, devuelve i\n",
    "        if z == x: \n",
    "            return i\n",
    "        \n",
    "        #si z es distinto de x, incremente i, y continúa el ciclo\n",
    "        i=i+1\n",
    "        \n",
    "    #si salió del ciclo sin haber encontrado el valor, devuelve -1\n",
    "    return -1"
   ]
  },
  {
   "cell_type": "markdown",
   "metadata": {},
   "source": [
    "Y ahora lo probamos:"
   ]
  },
  {
   "cell_type": "code",
   "execution_count": 22,
   "metadata": {
    "scrolled": true
   },
   "outputs": [
    {
     "data": {
      "text/plain": [
       "-1"
      ]
     },
     "execution_count": 22,
     "metadata": {},
     "output_type": "execute_result"
    }
   ],
   "source": [
    "busqueda_lineal([1,4,54,3,0,-11],44)"
   ]
  },
  {
   "cell_type": "code",
   "execution_count": 23,
   "metadata": {},
   "outputs": [
    {
     "data": {
      "text/plain": [
       "3"
      ]
     },
     "execution_count": 23,
     "metadata": {},
     "output_type": "execute_result"
    }
   ],
   "source": [
    "busqueda_lineal([1, 4, 54, 3, 0, -1], 3)"
   ]
  },
  {
   "cell_type": "code",
   "execution_count": 24,
   "metadata": {},
   "outputs": [
    {
     "data": {
      "text/plain": [
       "4"
      ]
     },
     "execution_count": 24,
     "metadata": {},
     "output_type": "execute_result"
    }
   ],
   "source": [
    "busqueda_lineal([1, 4, 54, 3, 0, -1], 0)"
   ]
  },
  {
   "cell_type": "code",
   "execution_count": 25,
   "metadata": {},
   "outputs": [
    {
     "data": {
      "text/plain": [
       "-1"
      ]
     },
     "execution_count": 25,
     "metadata": {},
     "output_type": "execute_result"
    }
   ],
   "source": [
    "busqueda_lineal([],0)"
   ]
  },
  {
   "cell_type": "markdown",
   "metadata": {},
   "source": [
    "### 9. Diccionarios"
   ]
  },
  {
   "cell_type": "markdown",
   "metadata": {},
   "source": [
    "En esta unidad analizaremos otro tipo de dato importante: los diccionarios. Su importancia,\n",
    "radica no sólo en las grandes posibilidades que presentan como estructuras para almacenar\n",
    "información, sino también en que, en Python, son utilizados por el propio lenguaje para realizar\n",
    "diversas operaciones y para almacenar información de otras estructuras."
   ]
  },
  {
   "cell_type": "markdown",
   "metadata": {},
   "source": [
    "### 9.1. Qué es un diccionario"
   ]
  },
  {
   "cell_type": "markdown",
   "metadata": {},
   "source": [
    "En Python, un diccionario es una colección no-ordenada de valores que son accedidos a\n",
    "traves de una clave. Es decir, en lugar de acceder a la información mediante el índice numérico,\n",
    "como es el caso de las listas y tuplas, es posible acceder a los valores a través de sus claves, que\n",
    "pueden ser de diversos tipo."
   ]
  },
  {
   "cell_type": "markdown",
   "metadata": {},
   "source": [
    "Las claves son únicas dentro de un diccionario, es decir que no puede haber un diccionario\n",
    "que tenga dos veces la misma clave, si se asigna un valor a una clave ya existente, se reemplaza\n",
    "el valor anterior."
   ]
  },
  {
   "cell_type": "markdown",
   "metadata": {},
   "source": [
    "No hay una forma directa de acceder a una clave a través de su valor, y nada impide que\n",
    "un mismo valor se encuentre asignado a distintas claves"
   ]
  },
  {
   "cell_type": "markdown",
   "metadata": {},
   "source": [
    "La informacion almacenada en los diccionarios, no tiene un orden particular. Ni por clave\n",
    "ni por valor, ni tampoco por el orden en que han sido agregados al diccionario."
   ]
  },
  {
   "cell_type": "markdown",
   "metadata": {},
   "source": [
    "Cualquier variable de tipo inmutable, puede ser clave de un diccionario: cadenas, enteros,\n",
    "tuplas (con valores inmutables en sus miembros), etc. No hay restricciones para los valores que\n",
    "el diccionario puede contener, cualquier tipo puede ser el valor: listas, cadenas, tuplas, otros\n",
    "diccionarios, objetos, etc."
   ]
  },
  {
   "cell_type": "markdown",
   "metadata": {},
   "source": [
    "### 9.2. Utilizando diccionarios en Python"
   ]
  },
  {
   "cell_type": "markdown",
   "metadata": {},
   "source": [
    "De la misma forma que con listas, es posible definir un diccionario directamente con los\n",
    "miembros que va a contener, o bien inicializar el diccionario vacío y luego agregar los valores\n",
    "de a uno o de a muchos."
   ]
  },
  {
   "cell_type": "markdown",
   "metadata": {},
   "source": [
    "Para definirlo junto con los miembros que va a contener, se encierra el listado de valores\n",
    "entre llaves, las parejas de clave y valor se separan con comas, y la clave y el valor se separan\n",
    "con ’:’."
   ]
  },
  {
   "cell_type": "code",
   "execution_count": 9,
   "metadata": {},
   "outputs": [],
   "source": [
    "punto = { 'x':2, 'y':1, 'z':4 }"
   ]
  },
  {
   "cell_type": "code",
   "execution_count": 8,
   "metadata": {},
   "outputs": [
    {
     "data": {
      "text/plain": [
       "{'y': 1, 'z': 4}"
      ]
     },
     "execution_count": 8,
     "metadata": {},
     "output_type": "execute_result"
    }
   ],
   "source": [
    "punto"
   ]
  },
  {
   "cell_type": "markdown",
   "metadata": {},
   "source": [
    "Para declararlo vacío y luego ingresar los valores, se lo declara como un par de llaves sin\n",
    "nada en medio, y luego se asignan valores directamente a los índices."
   ]
  },
  {
   "cell_type": "code",
   "execution_count": 5,
   "metadata": {},
   "outputs": [],
   "source": [
    "materias = {}"
   ]
  },
  {
   "cell_type": "code",
   "execution_count": 6,
   "metadata": {},
   "outputs": [],
   "source": [
    "materias[\"lunes\"] = [6103, 7540]"
   ]
  },
  {
   "cell_type": "code",
   "execution_count": 7,
   "metadata": {},
   "outputs": [],
   "source": [
    "materias[\"martes\"] = [6201]"
   ]
  },
  {
   "cell_type": "code",
   "execution_count": 8,
   "metadata": {},
   "outputs": [],
   "source": [
    "materias[\"miercoles\"] = [6103, 7540]"
   ]
  },
  {
   "cell_type": "code",
   "execution_count": 9,
   "metadata": {},
   "outputs": [],
   "source": [
    "materias[\"jueves\"] = []"
   ]
  },
  {
   "cell_type": "code",
   "execution_count": 10,
   "metadata": {},
   "outputs": [],
   "source": [
    "materias[\"viernes\"] = [6201]"
   ]
  },
  {
   "cell_type": "markdown",
   "metadata": {},
   "source": [
    "Para acceder al valor asociado a una determinada clave, se lo hace de la misma forma que\n",
    "con las listas, pero utilizando la clave elegida en lugar del índice."
   ]
  },
  {
   "cell_type": "code",
   "execution_count": 12,
   "metadata": {},
   "outputs": [
    {
     "name": "stdout",
     "output_type": "stream",
     "text": [
      "[6103, 7540]\n"
     ]
    }
   ],
   "source": [
    "print (materias[\"lunes\"])"
   ]
  },
  {
   "cell_type": "markdown",
   "metadata": {},
   "source": [
    "Sin embargo, esto falla si se provee una clave que no está en el diccionario. Es posible,\n",
    "por otro lado, utilizar la función get, que devuelve el valor None si la clave no está en el\n",
    "diccionario, o un valor por omisión que se establece opcionalmente."
   ]
  },
  {
   "cell_type": "code",
   "execution_count": 18,
   "metadata": {},
   "outputs": [
    {
     "ename": "KeyError",
     "evalue": "'domingo'",
     "output_type": "error",
     "traceback": [
      "\u001b[1;31m---------------------------------------------------------------------------\u001b[0m",
      "\u001b[1;31mKeyError\u001b[0m                                  Traceback (most recent call last)",
      "Cell \u001b[1;32mIn[18], line 1\u001b[0m\n\u001b[1;32m----> 1\u001b[0m \u001b[38;5;28mprint\u001b[39m(\u001b[43mmaterias\u001b[49m\u001b[43m[\u001b[49m\u001b[38;5;124;43m\"\u001b[39;49m\u001b[38;5;124;43mdomingo\u001b[39;49m\u001b[38;5;124;43m\"\u001b[39;49m\u001b[43m]\u001b[49m)\n",
      "\u001b[1;31mKeyError\u001b[0m: 'domingo'"
     ]
    }
   ],
   "source": [
    "print(materias[\"domingo\"])"
   ]
  },
  {
   "cell_type": "code",
   "execution_count": 17,
   "metadata": {},
   "outputs": [
    {
     "name": "stdout",
     "output_type": "stream",
     "text": [
      "None\n"
     ]
    }
   ],
   "source": [
    "print(materias.get(\"domingo\"))"
   ]
  },
  {
   "cell_type": "code",
   "execution_count": 24,
   "metadata": {},
   "outputs": [
    {
     "name": "stdout",
     "output_type": "stream",
     "text": [
      "[]\n"
     ]
    }
   ],
   "source": [
    "print (materias.get(\"domingo\", []))"
   ]
  },
  {
   "cell_type": "markdown",
   "metadata": {},
   "source": [
    "Existen diversas formas de recorrer un diccionario. Es posible recorrer sus claves y usar esas\n",
    "claves para acceder a los valores."
   ]
  },
  {
   "cell_type": "code",
   "execution_count": 27,
   "metadata": {},
   "outputs": [
    {
     "name": "stdout",
     "output_type": "stream",
     "text": [
      "lunes : [6103, 7540]\n",
      "martes : [6201]\n",
      "miercoles : [6103, 7540]\n",
      "jueves : []\n",
      "viernes : [6201]\n"
     ]
    }
   ],
   "source": [
    "for dia in materias:\n",
    "    print(dia, \":\", materias[dia])"
   ]
  },
  {
   "cell_type": "markdown",
   "metadata": {},
   "source": [
    "Es posible, también, obtener los valores como tuplas donde el primer elemento es la clave\n",
    "y el segundo el valor"
   ]
  },
  {
   "cell_type": "code",
   "execution_count": 31,
   "metadata": {},
   "outputs": [
    {
     "name": "stdout",
     "output_type": "stream",
     "text": [
      "lunes : [6103, 7540]\n",
      "martes : [6201]\n",
      "miercoles : [6103, 7540]\n",
      "jueves : []\n",
      "viernes : [6201]\n"
     ]
    }
   ],
   "source": [
    "for dia, codigos in materias.items():\n",
    "    print(dia, \":\", codigos)"
   ]
  },
  {
   "cell_type": "markdown",
   "metadata": {},
   "source": [
    "Para verificar si una clave se encuentra en el diccionario, es posible utilizar la palabra reservada in."
   ]
  },
  {
   "cell_type": "code",
   "execution_count": 66,
   "metadata": {},
   "outputs": [],
   "source": [
    "d = {'x': 12, 'y': 7}  "
   ]
  },
  {
   "cell_type": "code",
   "execution_count": 67,
   "metadata": {},
   "outputs": [
    {
     "name": "stdout",
     "output_type": "stream",
     "text": [
      "7\n"
     ]
    }
   ],
   "source": [
    "if 'y' in d:\n",
    "    print (d['y']) # Imprime 7"
   ]
  },
  {
   "cell_type": "markdown",
   "metadata": {},
   "source": [
    "Más allá de la creación y el acceso, hay muchas otras operaciones que se pueden realizar\n",
    "sobre los diccionarios, para poder manipular la información según sean nuestras necesidades,\n",
    "algunos de estos métodos pueden verse en la referencia al final de la unidad"
   ]
  },
  {
   "cell_type": "markdown",
   "metadata": {},
   "source": [
    "No es posible obtener porciones de un diccionario usando [:], ya que al no tener un orden\n",
    "determinado para los elementos, no sería posible tomarlos en orden."
   ]
  },
  {
   "cell_type": "markdown",
   "metadata": {},
   "source": [
    "### 10. Contratos y Mutabilidad"
   ]
  },
  {
   "cell_type": "markdown",
   "metadata": {},
   "source": [
    "### 10.1. Pre y Postcondiciones"
   ]
  },
  {
   "cell_type": "markdown",
   "metadata": {},
   "source": [
    "Cuando hablamos de contratos o programación por contratos, nos referimos a la necesidad de\n",
    "estipular tanto lo que necesita como lo que devuelve nuestro código."
   ]
  },
  {
   "cell_type": "markdown",
   "metadata": {},
   "source": [
    "Las condiciones que deben estar dadas para que el código funcione las llamamos precondiciones\n",
    "y las condiciones sobre el estado en que quedan las variables y él o los valores de retorno,\n",
    "las llamamos postcondiciones."
   ]
  },
  {
   "cell_type": "markdown",
   "metadata": {},
   "source": [
    "Esta estipulación es mayormente para que la utilicen otros programadores, por lo que es\n",
    "particularmente útil cuando se encuentra dentro de la documentación. En ciertos casos, además,\n",
    "puede quererse que el programa revise si las condiciones realmente se cumplen y de no\n",
    "ser así, actúe en consecuencia."
   ]
  },
  {
   "cell_type": "markdown",
   "metadata": {},
   "source": [
    "Existen herramientas en algunos lenguajes de programación que facilitan estas acciones, en\n",
    "el caso de Python, es posible utilizar la instrucción assert."
   ]
  },
  {
   "cell_type": "markdown",
   "metadata": {},
   "source": [
    "### 10.1.1. Precondiciones"
   ]
  },
  {
   "cell_type": "markdown",
   "metadata": {},
   "source": [
    "Las precondiciones son las condiciones que deben cumplir los parámetros que una función\n",
    "recibe, para que esta se comporte correctamente."
   ]
  },
  {
   "cell_type": "markdown",
   "metadata": {},
   "source": [
    "Por ejemplo, en una función división las precondiciones son que los parámetros son números,\n",
    "y que el divisor sea distinto de 0. Tener una precondición permite asumir desde el código\n",
    "que no es necesario lidiar con los casos en que las precondiciones no se cumplen."
   ]
  },
  {
   "cell_type": "markdown",
   "metadata": {},
   "source": [
    "### 10.1.2. Postcondiciones"
   ]
  },
  {
   "cell_type": "markdown",
   "metadata": {},
   "source": [
    "Las postcodiciones son las condiciones que cumplirá el valor de retorno, y los parámetros\n",
    "recibidos, en caso de que hayan sido alterados, siempre que se hayan cumplido las precondiciones."
   ]
  },
  {
   "cell_type": "markdown",
   "metadata": {},
   "source": [
    "En el ejemplo anterior, la función división con las precondiciones asignadas, puede asegurar\n",
    "que devolverá un número correspondiente al cociente solicitado."
   ]
  },
  {
   "cell_type": "markdown",
   "metadata": {},
   "source": [
    "### 10.1.3. Aseveraciones"
   ]
  },
  {
   "cell_type": "markdown",
   "metadata": {},
   "source": [
    "Tanto las precondiciones como las postcondiciones son aseveraciones (en inglés assert). Es\n",
    "decir, afirmaciones realizadas en un momento particular de la ejecución sobre el estado computacional.\n",
    "Si llegaran a ser falsas significaría que hay algún error en el diseño o utilización del\n",
    "algoritmo."
   ]
  },
  {
   "cell_type": "markdown",
   "metadata": {},
   "source": [
    "Para comprobar estas afirmaciones desde el código en algunos casos podemos utilizar la\n",
    "instrucción assert, está instrucción recibe una condición a verificar y, opcionalmente, un mensaje\n",
    "de error que devolverá en caso que la condición no se cumpla."
   ]
  },
  {
   "cell_type": "markdown",
   "metadata": {},
   "source": [
    "### 10.1.4. Ejemplos"
   ]
  },
  {
   "cell_type": "markdown",
   "metadata": {},
   "source": [
    "Usando los ejemplos anteriores, la función division nos quedaría de la siguiente forma:"
   ]
  },
  {
   "cell_type": "code",
   "execution_count": 17,
   "metadata": {},
   "outputs": [],
   "source": [
    "def division(dividendo, divisor):\n",
    "    \"\"\" Calculo de la división\n",
    "    Pre: Recibe dos números, divisor debe ser distinto de 0.\n",
    "    Post: Devuelve un número real, con el cociente de ambos.\n",
    "    \"\"\"\n",
    "    assert divisor != 0, \"El divisor no puede ser 0\"\n",
    "    return dividendo / ( divisor * 1.0 )"
   ]
  },
  {
   "cell_type": "code",
   "execution_count": 18,
   "metadata": {},
   "outputs": [
    {
     "data": {
      "text/plain": [
       "12.0"
      ]
     },
     "execution_count": 18,
     "metadata": {},
     "output_type": "execute_result"
    }
   ],
   "source": [
    "division(24,2)"
   ]
  },
  {
   "cell_type": "code",
   "execution_count": 19,
   "metadata": {},
   "outputs": [
    {
     "ename": "AssertionError",
     "evalue": "El divisor no puede ser 0",
     "output_type": "error",
     "traceback": [
      "\u001b[1;31m---------------------------------------------------------------------------\u001b[0m",
      "\u001b[1;31mAssertionError\u001b[0m                            Traceback (most recent call last)",
      "Cell \u001b[1;32mIn[19], line 1\u001b[0m\n\u001b[1;32m----> 1\u001b[0m \u001b[43mdivision\u001b[49m\u001b[43m(\u001b[49m\u001b[38;5;241;43m12\u001b[39;49m\u001b[43m,\u001b[49m\u001b[38;5;241;43m0\u001b[39;49m\u001b[43m)\u001b[49m\n",
      "Cell \u001b[1;32mIn[17], line 6\u001b[0m, in \u001b[0;36mdivision\u001b[1;34m(dividendo, divisor)\u001b[0m\n\u001b[0;32m      1\u001b[0m \u001b[38;5;28;01mdef\u001b[39;00m \u001b[38;5;21mdivision\u001b[39m(dividendo, divisor):\n\u001b[0;32m      2\u001b[0m \u001b[38;5;250m    \u001b[39m\u001b[38;5;124;03m\"\"\" Calculo de la división\u001b[39;00m\n\u001b[0;32m      3\u001b[0m \u001b[38;5;124;03m    Pre: Recibe dos números, divisor debe ser distinto de 0.\u001b[39;00m\n\u001b[0;32m      4\u001b[0m \u001b[38;5;124;03m    Post: Devuelve un número real, con el cociente de ambos.\u001b[39;00m\n\u001b[0;32m      5\u001b[0m \u001b[38;5;124;03m    \"\"\"\u001b[39;00m\n\u001b[1;32m----> 6\u001b[0m     \u001b[38;5;28;01massert\u001b[39;00m divisor \u001b[38;5;241m!=\u001b[39m \u001b[38;5;241m0\u001b[39m, \u001b[38;5;124m\"\u001b[39m\u001b[38;5;124mEl divisor no puede ser 0\u001b[39m\u001b[38;5;124m\"\u001b[39m\n\u001b[0;32m      7\u001b[0m     \u001b[38;5;28;01mreturn\u001b[39;00m dividendo \u001b[38;5;241m/\u001b[39m ( divisor \u001b[38;5;241m*\u001b[39m \u001b[38;5;241m1.0\u001b[39m )\n",
      "\u001b[1;31mAssertionError\u001b[0m: El divisor no puede ser 0"
     ]
    }
   ],
   "source": [
    "division(12,0)"
   ]
  },
  {
   "cell_type": "markdown",
   "metadata": {},
   "source": [
    "Otro ejemplo, tal vez más interesante, puede ser una función que implemente una sumatoria. En este caso hay que analizar cuáles van a ser los parámetros que recibirá\n",
    "la función, y las precondiciones que estos parámetros deberán cumplir.\n",
    "La función sumatoria a escribir, necesita de un valor inicial, un valor final, y una función a\n",
    "la cual llamar en cada paso. Es decir que recibe tres parámetros."
   ]
  },
  {
   "cell_type": "code",
   "execution_count": 48,
   "metadata": {},
   "outputs": [],
   "source": [
    "def sumatoria(inicial, final):\n",
    "    \"\"\"Calcula la sumatoria desde i=inicial hasta final de f(i)\n",
    "    Pre: inicial y final son números enteros, f es una función que\n",
    "    recibe un entero y devuelve un número.\n",
    "    Post: Se devuelve el valor de la sumatoria de aplicar f a cada\n",
    "    número comprendido entre inicial y final.\n",
    "    \"\"\"\n",
    "    sumatoria =int(0)\n",
    "    \n",
    "    if inicial < final:\n",
    "        for x in range(inicial, final+1):\n",
    "            sumatoria = x+sumatoria\n",
    "        return sumatoria\n",
    "    else:\n",
    "        assert inicial<final, \"El valor final no puede ser menor al inicial\"\n",
    "        \n",
    "    "
   ]
  },
  {
   "cell_type": "code",
   "execution_count": 53,
   "metadata": {},
   "outputs": [
    {
     "data": {
      "text/plain": [
       "15"
      ]
     },
     "execution_count": 53,
     "metadata": {},
     "output_type": "execute_result"
    }
   ],
   "source": [
    "sumatoria(1,5)"
   ]
  },
  {
   "cell_type": "markdown",
   "metadata": {},
   "source": [
    "### 10.2. Invariantes de ciclo"
   ]
  },
  {
   "cell_type": "markdown",
   "metadata": {},
   "source": [
    "Los invariantes se refieren a estados o situaciones que no cambian dentro de un contexto\n",
    "o porción de código. Hay invariantes de ciclo, que son los que veremos a continuación, e\n",
    "invariantes de estado, que se verán más adelante."
   ]
  },
  {
   "cell_type": "markdown",
   "metadata": {},
   "source": [
    "El invariante de ciclo permite conocer cómo llegar desde las precondiciones hasta las postcondiciones.\n",
    "El invariante de ciclo es, entonces, una aseveración que debe ser verdadera al\n",
    "comienzo de cada iteración."
   ]
  },
  {
   "cell_type": "markdown",
   "metadata": {},
   "source": [
    "Por ejemplo, si el problema es ir desde el punto A al punto B, las precondiciones dicen que\n",
    "estamos parados en A y las postcondiciones que estamos parados en B, un invariante podría\n",
    "ser “estamos en algún punto entre A y B, en el punto más cercano a B que estuvimos hasta\n",
    "ahora.”."
   ]
  },
  {
   "cell_type": "markdown",
   "metadata": {},
   "source": [
    "Más específicamente, si analizamos el ciclo para buscar el máximo en una lista desordenada,\n",
    "la precondición es que la lista contiene elementos que son comparables y la postcondición es\n",
    "que se devuelve el elemento máximo de la lista."
   ]
  },
  {
   "cell_type": "code",
   "execution_count": 8,
   "metadata": {},
   "outputs": [],
   "source": [
    "lista=[10,20,30,40,50,60]"
   ]
  },
  {
   "cell_type": "code",
   "execution_count": 3,
   "metadata": {},
   "outputs": [],
   "source": [
    "def maximo(lista):\n",
    "    \"Devuelve el elemento máximo de la lista o None si está vacía.\"\n",
    "    if not len(lista):\n",
    "        return None\n",
    "    max_elem = lista[0]\n",
    "    for elemento in lista:\n",
    "        if elemento > max_elem:\n",
    "            max_elem = elemento\n",
    "    return max_elem"
   ]
  },
  {
   "cell_type": "code",
   "execution_count": 4,
   "metadata": {},
   "outputs": [
    {
     "data": {
      "text/plain": [
       "60"
      ]
     },
     "execution_count": 4,
     "metadata": {},
     "output_type": "execute_result"
    }
   ],
   "source": [
    "maximo(lista)"
   ]
  },
  {
   "cell_type": "markdown",
   "metadata": {},
   "source": [
    "En este caso, el invariante del ciclo es que max_elem contiene el valor máximo de la porción\n",
    "de lista analizada."
   ]
  },
  {
   "cell_type": "markdown",
   "metadata": {},
   "source": [
    "Los invariantes son de gran importancia al momento de demostrar que un algoritmo funciona,\n",
    "pero aún cuando no hagamos una demostración formal es muy útil tener los invariantes\n",
    "a la vista, ya que de esta forma es más fácil entender cómo funciona un algoritmo y encontrar\n",
    "posibles errores."
   ]
  },
  {
   "cell_type": "markdown",
   "metadata": {},
   "source": [
    "Los invariantes, además, son útiles a la hora de determinar las condiciones iniciales de\n",
    "un algoritmo, ya que también deben cumplirse para ese caso. Por ejemplo, consideremos el\n",
    "algoritmo para obtener la potencia n de un número."
   ]
  },
  {
   "cell_type": "code",
   "execution_count": 4,
   "metadata": {},
   "outputs": [],
   "source": [
    "def potencia(b,n):\n",
    "    \"Devuelve la potencia n del numero b, con n entero mayor que 0\"\n",
    "    p=1\n",
    "    for i in range(n):\n",
    "        p*=b\n",
    "    return p"
   ]
  },
  {
   "cell_type": "code",
   "execution_count": 5,
   "metadata": {},
   "outputs": [
    {
     "data": {
      "text/plain": [
       "8"
      ]
     },
     "execution_count": 5,
     "metadata": {},
     "output_type": "execute_result"
    }
   ],
   "source": [
    "potencia(2,3)"
   ]
  },
  {
   "cell_type": "markdown",
   "metadata": {},
   "source": [
    "En este caso, el invariante del ciclo es que la variable p contiene el valor de la potencia\n",
    "correspondiente a esa iteración. Teniendo en cuenta esta condición, es fácil ver que p debe\n",
    "comenzar el ciclo con un valor de 1, ya que ese es el valor correspondiente a p0."
   ]
  },
  {
   "cell_type": "markdown",
   "metadata": {},
   "source": [
    "De la misma manera, si la operación que se quiere realizar es sumar todos los elementos de\n",
    "una lista, el invariante será que una variable suma contenga la suma de todos los elementos ya\n",
    "recorridos, por lo que es claro que este invariante debe ser 0 cuando aún no se haya recorrido\n",
    "ningún elemento."
   ]
  },
  {
   "cell_type": "code",
   "execution_count": 6,
   "metadata": {},
   "outputs": [],
   "source": [
    "def suma(lista):\n",
    "    \"Devuelve la suma de todos los elementos de la lista.\"\n",
    "    suma=0\n",
    "    for elemento in lista:\n",
    "        suma += elemento\n",
    "    return suma"
   ]
  },
  {
   "cell_type": "code",
   "execution_count": 10,
   "metadata": {},
   "outputs": [
    {
     "data": {
      "text/plain": [
       "210"
      ]
     },
     "execution_count": 10,
     "metadata": {},
     "output_type": "execute_result"
    }
   ],
   "source": [
    "suma(lista)"
   ]
  },
  {
   "cell_type": "markdown",
   "metadata": {},
   "source": [
    "### 10.2.1. Comprobación de invariantes desde el código"
   ]
  },
  {
   "cell_type": "markdown",
   "metadata": {},
   "source": [
    "Cuando la comprobación necesaria para saber si seguimos “en camino” es simple, se la\n",
    "puede tener directamente dentro del código. Evitando seguir avanzando con el algoritmo si se\n",
    "produjo un error crítico."
   ]
  },
  {
   "cell_type": "markdown",
   "metadata": {},
   "source": [
    "Por ejemplo, en una búsqueda binaria, el elemento a buscar debe ser mayor que el elemento\n",
    "inicial y menor que el elemento final, de no ser así, no tiene sentido continuar con la búsqueda.\n",
    "Es posible, entonces, agregar una instrucción que compruebe esta condición y de no ser cierta\n",
    "realice alguna acción para indicar el error, por ejemplo, utilizando la instrucción assert, vista\n",
    "anteriormente."
   ]
  },
  {
   "cell_type": "markdown",
   "metadata": {},
   "source": [
    "### 10.3. Mutabilidad e Inmutabilidad"
   ]
  },
  {
   "cell_type": "markdown",
   "metadata": {},
   "source": [
    "Hasta ahora cada vez que estudiamos un tipo de variables indicamos si son mutables o\n",
    "inmutables"
   ]
  },
  {
   "cell_type": "markdown",
   "metadata": {},
   "source": [
    "Cuando una variable es de un tipo inmutable, como por ejemplo una cadena, es posible\n",
    "asignar un nuevo valor a esa variable, pero no es posible modificar su contenido."
   ]
  },
  {
   "cell_type": "code",
   "execution_count": 12,
   "metadata": {},
   "outputs": [],
   "source": [
    "a=\"ejemplo\""
   ]
  },
  {
   "cell_type": "code",
   "execution_count": 13,
   "metadata": {},
   "outputs": [],
   "source": [
    "a=\"otro\""
   ]
  },
  {
   "cell_type": "code",
   "execution_count": 14,
   "metadata": {},
   "outputs": [
    {
     "ename": "TypeError",
     "evalue": "'str' object does not support item assignment",
     "output_type": "error",
     "traceback": [
      "\u001b[1;31m---------------------------------------------------------------------------\u001b[0m",
      "\u001b[1;31mTypeError\u001b[0m                                 Traceback (most recent call last)",
      "Cell \u001b[1;32mIn[14], line 1\u001b[0m\n\u001b[1;32m----> 1\u001b[0m \u001b[43ma\u001b[49m\u001b[43m[\u001b[49m\u001b[38;5;241;43m2\u001b[39;49m\u001b[43m]\u001b[49m\u001b[38;5;241m=\u001b[39m\u001b[38;5;124m\"\u001b[39m\u001b[38;5;124mc\u001b[39m\u001b[38;5;124m\"\u001b[39m\n",
      "\u001b[1;31mTypeError\u001b[0m: 'str' object does not support item assignment"
     ]
    }
   ],
   "source": [
    "a[2]=\"c\""
   ]
  },
  {
   "cell_type": "markdown",
   "metadata": {},
   "source": [
    "Esto se debe a que cuando se realiza una nueva asignación, no se modifica la cadena en sí,\n",
    "sino que la variable a pasa a apuntar a otra cadena. En cambio, no es posible asignar un nuevo\n",
    "caracter en una posición, ya que esto implicaría modificar la cadena inmutable."
   ]
  },
  {
   "cell_type": "markdown",
   "metadata": {},
   "source": [
    "En el caso de los parámetros mutables, la asignación tiene el mismo comportamiento, es\n",
    "decir que las variables pasan a apuntar a un nuevo valor."
   ]
  },
  {
   "cell_type": "code",
   "execution_count": 3,
   "metadata": {},
   "outputs": [],
   "source": [
    "lista1 = [10, 20, 30]"
   ]
  },
  {
   "cell_type": "code",
   "execution_count": 4,
   "metadata": {},
   "outputs": [],
   "source": [
    "lista2 = lista1"
   ]
  },
  {
   "cell_type": "code",
   "execution_count": 5,
   "metadata": {},
   "outputs": [],
   "source": [
    "lista1 = [3,5,7]"
   ]
  },
  {
   "cell_type": "code",
   "execution_count": 6,
   "metadata": {},
   "outputs": [
    {
     "data": {
      "text/plain": [
       "[3, 5, 7]"
      ]
     },
     "execution_count": 6,
     "metadata": {},
     "output_type": "execute_result"
    }
   ],
   "source": [
    "lista1"
   ]
  },
  {
   "cell_type": "code",
   "execution_count": 7,
   "metadata": {},
   "outputs": [
    {
     "data": {
      "text/plain": [
       "[10, 20, 30]"
      ]
     },
     "execution_count": 7,
     "metadata": {},
     "output_type": "execute_result"
    }
   ],
   "source": [
    "lista2"
   ]
  },
  {
   "cell_type": "markdown",
   "metadata": {},
   "source": [
    "Algo importante a tener en cuenta en el caso de las variables de tipo mutable es que si hay\n",
    "dos o más variables que apuntan a un mismo dato, y este dato se modifica, el cambio se ve\n",
    "reflejado en ambas variables."
   ]
  },
  {
   "cell_type": "code",
   "execution_count": 9,
   "metadata": {},
   "outputs": [],
   "source": [
    "lista1 = [1,2,3]"
   ]
  },
  {
   "cell_type": "code",
   "execution_count": 10,
   "metadata": {},
   "outputs": [],
   "source": [
    "lista2 = lista1"
   ]
  },
  {
   "cell_type": "code",
   "execution_count": 11,
   "metadata": {},
   "outputs": [],
   "source": [
    "lista2[1]=5"
   ]
  },
  {
   "cell_type": "code",
   "execution_count": 12,
   "metadata": {},
   "outputs": [
    {
     "data": {
      "text/plain": [
       "[1, 5, 3]"
      ]
     },
     "execution_count": 12,
     "metadata": {},
     "output_type": "execute_result"
    }
   ],
   "source": [
    "lista1"
   ]
  },
  {
   "cell_type": "code",
   "execution_count": 13,
   "metadata": {},
   "outputs": [
    {
     "data": {
      "text/plain": [
       "[1, 5, 3]"
      ]
     },
     "execution_count": 13,
     "metadata": {},
     "output_type": "execute_result"
    }
   ],
   "source": [
    "lista2"
   ]
  },
  {
   "cell_type": "markdown",
   "metadata": {},
   "source": [
    "### 10.3.1. Parámetros mutables e inmutables"
   ]
  },
  {
   "cell_type": "markdown",
   "metadata": {},
   "source": [
    "Las funciones reciben parámetros que pueden ser mutables o inmutables."
   ]
  },
  {
   "cell_type": "markdown",
   "metadata": {},
   "source": [
    "Si dentro del cuerpo de la función se modifica uno de estos parámetros para que apunte\n",
    "a otro valor, este cambio no se verá reflejado fuera de la función. Si, en cambio, se modifica el contenido de alguno de los parámetros mutables, este cambio sí se verá reflejado fuera de la\n",
    "función."
   ]
  },
  {
   "cell_type": "markdown",
   "metadata": {},
   "source": [
    "A continuación un ejemplo en el cual se asigna la variable recibida, a un nuevo valor. Esa\n",
    "asignación sólo tiene efecto dentro de la función."
   ]
  },
  {
   "cell_type": "code",
   "execution_count": 48,
   "metadata": {},
   "outputs": [],
   "source": [
    "def no_cambia_lista(lista):\n",
    "    lista = list(range(len(lista)))\n",
    "    print(lista)"
   ]
  },
  {
   "cell_type": "code",
   "execution_count": 49,
   "metadata": {},
   "outputs": [],
   "source": [
    "lista=[10,20,30,40]"
   ]
  },
  {
   "cell_type": "code",
   "execution_count": 50,
   "metadata": {},
   "outputs": [
    {
     "name": "stdout",
     "output_type": "stream",
     "text": [
      "[0, 1, 2, 3]\n"
     ]
    }
   ],
   "source": [
    "no_cambia_lista(lista)"
   ]
  },
  {
   "cell_type": "code",
   "execution_count": 51,
   "metadata": {},
   "outputs": [
    {
     "data": {
      "text/plain": [
       "[10, 20, 30, 40]"
      ]
     },
     "execution_count": 51,
     "metadata": {},
     "output_type": "execute_result"
    }
   ],
   "source": [
    "lista"
   ]
  },
  {
   "cell_type": "markdown",
   "metadata": {},
   "source": [
    "A continuación un ejemplo en el cual se modifica la variable recibida. En este caso, los\n",
    "cambios realizados tienen efecto tanto dentro como fuera de la función."
   ]
  },
  {
   "cell_type": "code",
   "execution_count": 26,
   "metadata": {},
   "outputs": [],
   "source": [
    "def cambia_lista(lista):\n",
    "    for i in range(len(lista)):\n",
    "        lista[i]=lista[i]**3"
   ]
  },
  {
   "cell_type": "code",
   "execution_count": 28,
   "metadata": {},
   "outputs": [],
   "source": [
    "lista = [1,2,3,4]"
   ]
  },
  {
   "cell_type": "code",
   "execution_count": 30,
   "metadata": {},
   "outputs": [],
   "source": [
    "cambia_lista(lista)"
   ]
  },
  {
   "cell_type": "code",
   "execution_count": 31,
   "metadata": {},
   "outputs": [
    {
     "data": {
      "text/plain": [
       "[1, 8, 27, 64]"
      ]
     },
     "execution_count": 31,
     "metadata": {},
     "output_type": "execute_result"
    }
   ],
   "source": [
    "lista"
   ]
  },
  {
   "cell_type": "markdown",
   "metadata": {},
   "source": [
    "### Unidad 11 Manejo de archivos"
   ]
  },
  {
   "cell_type": "markdown",
   "metadata": {},
   "source": [
    "Veremos en esta unidad cómo manejar archivos desde nuestros programas."
   ]
  },
  {
   "cell_type": "markdown",
   "metadata": {},
   "source": [
    "Existen dos formas básicas de acceder a un archivo, una es utilizarlo como un archivo de\n",
    "texto, que procesaremos línea por línea; la otra es tratarlo como un archivo binario, que procesaremos\n",
    "byte por byte."
   ]
  },
  {
   "cell_type": "markdown",
   "metadata": {},
   "source": [
    "En Python, para abrir un archivo usaremos la función open, que recibe el nombre del archivo\n",
    "a abrir."
   ]
  },
  {
   "cell_type": "code",
   "execution_count": null,
   "metadata": {},
   "outputs": [],
   "source": [
    "archivo = open(\"archivo.txt\")"
   ]
  },
  {
   "cell_type": "markdown",
   "metadata": {},
   "source": [
    "Esta función intentará abrir el archivo con el nombre indicado. Si tiene éxito, devolverá una\n",
    "variable que nos permitirá manipular el archivo de diversas maneras."
   ]
  },
  {
   "cell_type": "markdown",
   "metadata": {},
   "source": [
    "La operación más sencilla a realizar sobre un archivo es leer su contenido. Para procesarlo\n",
    "línea por línea, es posible hacerlo de la siguiente forma:"
   ]
  },
  {
   "cell_type": "code",
   "execution_count": null,
   "metadata": {},
   "outputs": [],
   "source": [
    "linea=archivo.readline()\n",
    "while linea != '':\n",
    "    # procesar linea\n",
    "    linea=archivo.readline()"
   ]
  },
  {
   "cell_type": "markdown",
   "metadata": {},
   "source": [
    "Esto funciona ya que cada archivo que se encuentre abierto tiene una posición asociada,\n",
    "que indica el último punto que fue leído. Cada vez que se lee una línea, avanza esa posición."
   ]
  },
  {
   "cell_type": "markdown",
   "metadata": {},
   "source": [
    "Es por ello que readline() devuelve cada vez una línea distinta y no siempre la misma."
   ]
  },
  {
   "cell_type": "markdown",
   "metadata": {},
   "source": [
    "La siguiente estructura es una forma equivalente a la vista en el ejemplo anterior."
   ]
  },
  {
   "cell_type": "code",
   "execution_count": null,
   "metadata": {},
   "outputs": [],
   "source": [
    "for linea in archivo:\n",
    "# procesar linea"
   ]
  },
  {
   "cell_type": "markdown",
   "metadata": {},
   "source": [
    "De esta manera, la variable linea irá almacenando distintas cadenas correspondientes a\n",
    "cada una de las líneas del archivo."
   ]
  },
  {
   "cell_type": "markdown",
   "metadata": {},
   "source": [
    "Es posible, además, obtener todas las líneas del archivo utilizando una sola llamada a función:"
   ]
  },
  {
   "cell_type": "code",
   "execution_count": null,
   "metadata": {},
   "outputs": [],
   "source": [
    "lineas = archivo.readlines()"
   ]
  },
  {
   "cell_type": "markdown",
   "metadata": {},
   "source": [
    "### 11.1 Cerrar un archivo"
   ]
  },
  {
   "cell_type": "markdown",
   "metadata": {},
   "source": [
    "Al terminar de trabajar con un archivo, es recomendable cerrarlo, por diversos motivos: en\n",
    "algunos sistemas los archivos sólo pueden ser abiertos de a un programa por la vez; en otros, lo que se haya escrito no se guardará realmente hasta no cerrar el archivo; o el límite de cantidad\n",
    "de archivos que puede manejar un programa puede ser bajo, etc."
   ]
  },
  {
   "cell_type": "markdown",
   "metadata": {},
   "source": [
    "Para cerrar un archivo simplemente se debe llamar a:"
   ]
  },
  {
   "cell_type": "code",
   "execution_count": null,
   "metadata": {},
   "outputs": [],
   "source": [
    "archivo.close()"
   ]
  },
  {
   "cell_type": "markdown",
   "metadata": {},
   "source": [
    "### 11.2. Ejemplo de procesamiento de archivos"
   ]
  },
  {
   "cell_type": "markdown",
   "metadata": {},
   "source": [
    "Por ejemplo, para mostrar todas las líneas de un archivo, precedidas por el número de línea,\n",
    "podemos hacerlo como en el Código 11.1."
   ]
  },
  {
   "cell_type": "code",
   "execution_count": null,
   "metadata": {},
   "outputs": [],
   "source": [
    "archivo = open(\"archivo.txt\")\n",
    "i = 1\n",
    "for linea in archivo:\n",
    "    linea = linea.rstrip(\"\\n\")\n",
    "    print(\"%4d: %s\" & (i,linea))\n",
    "    i+=1\n",
    "archivo.close()"
   ]
  },
  {
   "cell_type": "markdown",
   "metadata": {},
   "source": [
    "La llamada a rstrip es necesaria ya que cada línea que se lee del archivo contiene un fin\n",
    "de línea y con la llamada a rstrip(\"\\n\") se remueve."
   ]
  },
  {
   "cell_type": "markdown",
   "metadata": {},
   "source": [
    "Otra opción para hacer exactamente lo mismo sería utilizar la función de Python\n",
    "enumerate(secuencia). Esta función devuelve un contador por cada uno de los elementos\n",
    "que se recorren, puede usarse con cualquier tipo de secuencia, incluyendo archivos. La versión\n",
    "equivalente se muestra en el Código 11.2."
   ]
  },
  {
   "cell_type": "code",
   "execution_count": null,
   "metadata": {},
   "outputs": [],
   "source": [
    "archivo = open(\"archivo.txt\")\n",
    "for i, linea in enumerate(archivo):\n",
    "    linea = linea.rstrip(\"\\n\")\n",
    "    print \" %4d: %s\" % (i, linea)\n",
    "archivo.close()"
   ]
  },
  {
   "cell_type": "markdown",
   "metadata": {},
   "source": [
    "### 11.3. Modo de apertura de los archivos"
   ]
  },
  {
   "cell_type": "markdown",
   "metadata": {},
   "source": [
    "La función open recibe un parámetro opcional para indicar el modo en que se abrirá el\n",
    "archivo. Los tres modos de apertura que se pueden especificar son:"
   ]
  },
  {
   "cell_type": "markdown",
   "metadata": {},
   "source": [
    "Modo de sólo lectura (’r’). En este caso no es posible realizar modificaciones sobre el\n",
    "archivo, solamente leer su contenido."
   ]
  },
  {
   "cell_type": "markdown",
   "metadata": {},
   "source": [
    "Modo de sólo escritura (’w’). En este caso el archivo es truncado (vaciado) si existe, y se\n",
    "lo crea si no existe."
   ]
  },
  {
   "cell_type": "markdown",
   "metadata": {},
   "source": [
    "Modo sólo escritura posicionándose al final del archivo (’a’). En este caso se crea el archivo,\n",
    "si no existe, pero en caso de que exista se posiciona al final, manteniendo el contenido\n",
    "original."
   ]
  },
  {
   "cell_type": "markdown",
   "metadata": {},
   "source": [
    "Por otro lado, en cualquiera de estos modos se puede agregar un + para pasar a un modo\n",
    "lectura-escritura. El comportamiento de r+ y de w+ no es el mismo, ya que en el primer caso se\n",
    "tiene el archivo completo, y en el segundo caso se trunca el archivo, perdiendo así los datos."
   ]
  },
  {
   "cell_type": "markdown",
   "metadata": {},
   "source": [
    "En caso de que no se especifique el modo, los archivos serán abiertos en modo sólo lectura\n",
    "(r)."
   ]
  },
  {
   "cell_type": "markdown",
   "metadata": {},
   "source": [
    "### 11.4. Escribir en un archivo"
   ]
  },
  {
   "cell_type": "markdown",
   "metadata": {},
   "source": [
    "De la misma forma que para la lectura, existen dos formas distintas de escribir a un archivo.\n",
    "Mediante cadenas:"
   ]
  },
  {
   "cell_type": "code",
   "execution_count": null,
   "metadata": {},
   "outputs": [],
   "source": [
    "archivo.write(cadena)"
   ]
  },
  {
   "cell_type": "markdown",
   "metadata": {},
   "source": [
    "O mediante listas de cadenas:"
   ]
  },
  {
   "cell_type": "code",
   "execution_count": null,
   "metadata": {},
   "outputs": [],
   "source": [
    "archivo.writelines(lista_de_cadenas)"
   ]
  },
  {
   "cell_type": "markdown",
   "metadata": {},
   "source": [
    "Así como la función read devuelve las líneas con los caracteres de fin de línea (\\n), será\n",
    "necesario agregar los caracteres de fin de línea a las cadenas que se vayan a escribir en el\n",
    "archivo."
   ]
  },
  {
   "cell_type": "code",
   "execution_count": null,
   "metadata": {},
   "outputs": [],
   "source": [
    "saludo = open(\"saludo.py\", \"w\")\n",
    "saludo.write(\"\"\"\n",
    "print \"Hola Mundo\"\n",
    "\"\"\")\n",
    "saludo.close()"
   ]
  },
  {
   "cell_type": "markdown",
   "metadata": {},
   "source": [
    "### 11.5. Agregar información a un archivo"
   ]
  },
  {
   "cell_type": "markdown",
   "metadata": {},
   "source": [
    "Abrir un archivo en modo agregar al final puede parece raro, pero es bastante útil."
   ]
  },
  {
   "cell_type": "markdown",
   "metadata": {},
   "source": [
    "Uno de sus usos es para escribir un archivo de bitácora (o archivo de log), que nos permita\n",
    "ver los distintos eventos que se fueron sucediendo, y así encontrar la secuencia de pasos (no\n",
    "siempre evidente) que hace nuestro programa."
   ]
  },
  {
   "cell_type": "markdown",
   "metadata": {},
   "source": [
    "Esta es una forma muy habitual de buscar problemas o hacer un seguimiento de los sucesos.\n",
    "Para los administradores de sistemas es una herramienta esencial de trabajo."
   ]
  },
  {
   "cell_type": "markdown",
   "metadata": {},
   "source": [
    "En el Código 11.4 se muestra un módulo para manejo de logs, que se encarga de la apertura\n",
    "del archivo, del guardado de las líneas una por una y del cerrado final del archivo."
   ]
  },
  {
   "cell_type": "markdown",
   "metadata": {},
   "source": [
    "En este módulo se utiliza el módulo de Python datetime para obtener la fecha y hora\n",
    "actual que se guardará en los archivos. Es importante notar que en el módulo mostrado no se\n",
    "abre o cierra un archivo en particular, sino que las funciones están programadas de modo tal\n",
    "que puedan ser utilizadas desde otro programa."
   ]
  },
  {
   "cell_type": "markdown",
   "metadata": {},
   "source": [
    "Se trata de un módulo genérico que podrá ser utilizado por diversos programas, que requieran\n",
    "la funcionalidad de registrar los posibles errores o eventos que se produzcan durante\n",
    "la ejecución."
   ]
  },
  {
   "cell_type": "markdown",
   "metadata": {},
   "source": [
    "Para utilizar este módulo, será necesario primero llamar a abrir_log para abrir el archivo\n",
    "de log, luego llamar a guardar_log por cada mensaje que se quiera registrar, y finalmente\n",
    "llamar a cerrar_log cuando se quiera concluir la registración de mensajes."
   ]
  },
  {
   "cell_type": "markdown",
   "metadata": {},
   "source": [
    "Por ejemplo, en el Código 11.5 se muestra un posible programa que utiliza el módulo de\n",
    "log incluido anteriormente."
   ]
  },
  {
   "cell_type": "code",
   "execution_count": 2,
   "metadata": {},
   "outputs": [],
   "source": [
    "# El módulo datetime se utiliza para obtener la fecha y hora actual.\n",
    "import datetime\n",
    "\n",
    "def abrir_log(nombre_log):\n",
    "    \"\"\" Abre el archivo de log indicado. Devuelve el archivo abierto.\n",
    "    Pre: el nombre corresponde a un nombre de archivo válido.\n",
    "    Post: el archivo ha sido abierto posicionándose al final. \"\"\"\n",
    "    \n",
    "    archivo_log = open(nombre_log, \"a\")\n",
    "    guardar_log(archivo_log, \"Iniciando registro de errores\")\n",
    "    return archivo_log\n",
    "\n",
    "def guardar_log(archivo_log, mensaje):\n",
    "    \"\"\" Guarda el mensaje en el archivo de log, con la hora actual.\n",
    "    Pre: el archivo de log ha sido abierto correctamente.\n",
    "    Post: el mensaje ha sido escrito al final del archivo. \"\"\"\n",
    "    #Obtiene la hora actual en formato de texto\n",
    "    hora_actual = str(datetime.datetime.now())\n",
    "    #Guarda la hora actual y el mensaje de error en el archivo\n",
    "    archivo_log.write(hora_actual+\" \"+mensaje+\"\\n\")\n",
    "    \n",
    "def cerrar_log(archivo_log):\n",
    "    \"\"\" Cierra el archivo de log.\n",
    "    Pre: el archivo de log ha sido abierto correctamente.\n",
    "    Post: el archivo de log se ha cerrado. \"\"\"\n",
    "    guardar_log(archivo_log, \"Fin del registro de errores\")\n",
    "    archivo_log.close()"
   ]
  },
  {
   "cell_type": "code",
   "execution_count": null,
   "metadata": {},
   "outputs": [],
   "source": [
    "import log\n",
    "#Constante que contiene el nombre del archivo de log a utilizar\n",
    "ARCHIVO_LOG = \"mi_log.txt\"\n",
    "\n",
    "def main():\n",
    "    # Al comenzar, abrir el log\n",
    "    archivo_log = log.abrir_log(ARCHIVO_LOG)\n",
    "    # ...\n",
    "    # Hacer cosas que pueden dar error\n",
    "    if error:\n",
    "        guardar_log(archivo_log, \"ERROR: \"+error)\n",
    "    #...\n",
    "    #Finalmente cerrar el archivo\n",
    "    log.cerrar_log(archivo_log)\n",
    "\n",
    "main()"
   ]
  },
  {
   "cell_type": "markdown",
   "metadata": {},
   "source": [
    "Este código, que incluye el módulo log mostrado anteriormente, muestra una forma básica\n",
    "de utilizar un archivo de log. Al iniciarse el programa se abre el archivo de log, de forma\n",
    "que queda registrada la fecha y hora de inicio. Posteriormente se realizan tareas varias que\n",
    "podrían provocar errores, y de haber algún error se lo guarda en el archivo de log. Finalmente,\n",
    "al terminar el programa, se cierra el archivo de log, quedando registrada la fecha y hora de\n",
    "finalización."
   ]
  },
  {
   "cell_type": "markdown",
   "metadata": {},
   "source": [
    "El archivo de log generado tendrá la forma:"
   ]
  },
  {
   "cell_type": "markdown",
   "metadata": {},
   "source": [
    "2010-04-10 15:20:32.229556 Iniciando registro de errores\n",
    "2010-04-10 15:20:50.721415 ERROR: no se pudo acceder al recurso\n",
    "2010-04-10 15:21:58.625432 ERROR: formato de entrada inválido\n",
    "2010-04-10 15:22:10.109376 Fin del registro de errores"
   ]
  },
  {
   "cell_type": "markdown",
   "metadata": {},
   "source": [
    "### 11.6 Manipular un archivo en forma binaria"
   ]
  },
  {
   "cell_type": "markdown",
   "metadata": {},
   "source": [
    "No todos los archivos son archivos de texto, y por lo tanto no todos los archivos pueden ser\n",
    "procesados por líneas. Existen archivos en los que cada byte tiene un significado particular, y\n",
    "es necesario manipularlos conociendo el formato en que están los datos para poder procesar\n",
    "esa información."
   ]
  },
  {
   "cell_type": "markdown",
   "metadata": {},
   "source": [
    "Para abrir un archivo y manejarlo de forma binaria es necesario agregarle una ’b’ al parametro\n",
    "de modo."
   ]
  },
  {
   "cell_type": "markdown",
   "metadata": {},
   "source": [
    "Para procesar el archivo de a bytes en lugar de líneas, se utiliza la función\n",
    "contenido = archivo.read(n) para leer n bytes y archivo.write(contenido), para\n",
    "escribir contenido en la posición actual del archivo."
   ]
  },
  {
   "cell_type": "markdown",
   "metadata": {},
   "source": [
    "Al manejar un archivo binario, es necesario poder conocer la posición actual en el archivo\n",
    "y poder modificarla. Para obtener la posición actual se utiliza archivo.tell(), que indica la\n",
    "cantidad de bytes desde el comienzo del archivo."
   ]
  },
  {
   "cell_type": "markdown",
   "metadata": {},
   "source": [
    "Para modificar la posición actual se utiliza archivo.seek(corrimiento, desde), que\n",
    "permite desplazarse una cantidad de bytes en el archivo, contando desde el comienzo del archivo,\n",
    "desde la posición actual o desde el final."
   ]
  },
  {
   "cell_type": "markdown",
   "metadata": {},
   "source": [
    "### Unidad 12: Manejo de errores y excepciones"
   ]
  },
  {
   "cell_type": "markdown",
   "metadata": {},
   "source": [
    "### 12.1. Errores"
   ]
  },
  {
   "cell_type": "markdown",
   "metadata": {},
   "source": [
    "En un programa podemos encontrarnos con distintos tipos de errores pero a grandes rasgos\n",
    "podemos decir que todos los errores pertenecen a una de las siguientes categorías."
   ]
  },
  {
   "cell_type": "markdown",
   "metadata": {},
   "source": [
    "Errores de sintaxis: estos errores son seguramente los más simples de resolver, pues son\n",
    "detectados por el intérprete (o por el compilador, según el tipo de lenguaje que estemos\n",
    "utilizando) al procesar el código fuente y generalmente son consecuencia de equivocaciones\n",
    "al escribir el programa. En el caso de Python estos errores son indicados con un\n",
    "mensaje SyntaxError. Por ejemplo, si trabajando con Python intentamos definir una función\n",
    "y en lugar de def escribimos dev."
   ]
  },
  {
   "cell_type": "markdown",
   "metadata": {},
   "source": [
    "Errores semánticos: se dan cuando un programa, a pesar de no generar mensajes de error,\n",
    "no produce el resultado esperado. Esto puede deberse, por ejemplo, a un algoritmo incorrecto\n",
    "o a la omisión de una sentencia."
   ]
  },
  {
   "cell_type": "markdown",
   "metadata": {},
   "source": [
    "Errores de ejecución: estos errores aparecen durante la ejecución del programa y su origen\n",
    "puede ser diverso. En ocasiones pueden producirse por un uso incorrecto del programa\n",
    "por parte del usuario, por ejemplo si el usuario ingresa una cadena cuando se espera\n",
    "un número. En otras ocasiones pueden deberse a errores de programación, por ejemplo\n",
    "si una función intenta acceder a la quinta posición de una lista de 3 elementos o realizar\n",
    "una división por cero. Una causa común de errores de ejecución que generalmente excede\n",
    "al programador y al usuario, son los recursos externos al programa, por ejemplo si el\n",
    "programa intenta leer un archivo y el mismo se encuentra dañado."
   ]
  },
  {
   "cell_type": "markdown",
   "metadata": {},
   "source": [
    "Tanto a los errores de sintaxis como a los semánticos se los puede detectar y corregir durante\n",
    "la construcción del programa ayudados por el intérprete y la ejecución de pruebas. Pero no\n",
    "ocurre esto con los errores de ejecución ya que no siempre es posible saber cuando ocurrirán y\n",
    "puede resultar muy complejo (o incluso casi imposible) reproducirlos. Es por ello que el resto\n",
    "de la unidad nos centraremos en cómo preparar nuestros programas para lidiar con este tipo\n",
    "de errores."
   ]
  },
  {
   "cell_type": "markdown",
   "metadata": {},
   "source": [
    "### 12.2. Excepciones"
   ]
  },
  {
   "cell_type": "markdown",
   "metadata": {},
   "source": [
    "Los errores de ejecución son llamados comúnmente excepciones y por eso de ahora en más\n",
    "utilizaremos ese nombre. Durante la ejecución de un programa, si dentro de una función surge una excepción y la función no la maneja, la excepción se propaga hacia la función que la invocó,\n",
    "si esta otra tampoco la maneja, la excepción continua propagándose hasta llegar a la función\n",
    "inicial del programa y si esta tampoco la maneja se interrumpe la ejecución del programa.\n",
    "Veamos entonces como manejar excepciones."
   ]
  },
  {
   "cell_type": "markdown",
   "metadata": {},
   "source": [
    "### 12.2.1. Manejo de excepciones"
   ]
  },
  {
   "cell_type": "markdown",
   "metadata": {},
   "source": [
    "Para el manejo de excepciones los lenguajes proveen ciertas palabras reservadas, que nos\n",
    "permiten manejar las excepciones que puedan surgir y tomar acciones de recuperación para\n",
    "evitar la interrupción del programa o, al menos, para realizar algunas acciones adicionales\n",
    "antes de interrumpir el programa."
   ]
  },
  {
   "cell_type": "markdown",
   "metadata": {},
   "source": [
    "En el caso de Python, el manejo de excepciones se hace mediante los bloques que utilizan\n",
    "las sentencias try, except y finally."
   ]
  },
  {
   "cell_type": "markdown",
   "metadata": {},
   "source": [
    "Dentro del bloque try se ubica todo el código que pueda llegar a levantar una excepción,\n",
    "se utiliza el término levantar para referirse a la acción de generar una excepción."
   ]
  },
  {
   "cell_type": "markdown",
   "metadata": {},
   "source": [
    "A continuación se ubica el bloque except, que se encarga de capturar la excepción y nos\n",
    "da la oportunidad de procesarla mostrando por ejemplo un mensaje adecuado al usuario."
   ]
  },
  {
   "cell_type": "markdown",
   "metadata": {},
   "source": [
    "Veamos qué sucede si se quiere realizar una división por cero:"
   ]
  },
  {
   "cell_type": "code",
   "execution_count": 4,
   "metadata": {},
   "outputs": [
    {
     "ename": "ZeroDivisionError",
     "evalue": "division by zero",
     "output_type": "error",
     "traceback": [
      "\u001b[1;31m---------------------------------------------------------------------------\u001b[0m",
      "\u001b[1;31mZeroDivisionError\u001b[0m                         Traceback (most recent call last)",
      "\u001b[1;32m<ipython-input-4-08b74f3bdc1d>\u001b[0m in \u001b[0;36m<module>\u001b[1;34m()\u001b[0m\n\u001b[0;32m      1\u001b[0m \u001b[0mdividendo\u001b[0m \u001b[1;33m=\u001b[0m \u001b[1;36m5\u001b[0m\u001b[1;33m\u001b[0m\u001b[0m\n\u001b[0;32m      2\u001b[0m \u001b[0mdivisor\u001b[0m \u001b[1;33m=\u001b[0m \u001b[1;36m0\u001b[0m\u001b[1;33m\u001b[0m\u001b[0m\n\u001b[1;32m----> 3\u001b[1;33m \u001b[0mdividendo\u001b[0m\u001b[1;33m/\u001b[0m\u001b[0mdivisor\u001b[0m\u001b[1;33m\u001b[0m\u001b[0m\n\u001b[0m",
      "\u001b[1;31mZeroDivisionError\u001b[0m: division by zero"
     ]
    }
   ],
   "source": [
    "dividendo = 5\n",
    "divisor = 0\n",
    "dividendo/divisor"
   ]
  },
  {
   "cell_type": "markdown",
   "metadata": {},
   "source": [
    "En este caso, se levantó la excepción ZeroDivisionError cuando se quiso hacer la división.\n",
    "Para evitar que se levante la excepción y se detenga la ejecución del programa, se utiliza\n",
    "el bloque try-except."
   ]
  },
  {
   "cell_type": "code",
   "execution_count": 12,
   "metadata": {},
   "outputs": [
    {
     "name": "stdout",
     "output_type": "stream",
     "text": [
      "No se permite la división por cero\n"
     ]
    }
   ],
   "source": [
    "def dividir():\n",
    "    dividendo = 5\n",
    "    divisor = 0\n",
    "    try:\n",
    "        cociente = dividendo / divisor\n",
    "    except: \n",
    "        print(\"No se permite la división por cero\")\n",
    "dividir()"
   ]
  },
  {
   "cell_type": "markdown",
   "metadata": {},
   "source": [
    "Dado que dentro de un mismo bloque try pueden producirse excepciones de distinto tipo,\n",
    "es posible utilizar varios bloques except, cada uno para capturar un tipo distinto de excepción."
   ]
  },
  {
   "cell_type": "markdown",
   "metadata": {},
   "source": [
    "Esto se hace especificando a continuación de la sentencia except el nombre de la excepción\n",
    "que se pretende capturar. Un mismo bloque except puede atrapar varios tipos de excepciones,\n",
    "lo cual se hace especificando los nombres de la excepciones separados por comas a continuación\n",
    "de la palabra except. Es importante destacar que si bien luego de un bloque try puede\n",
    "haber varios bloques except, se ejecutará, a lo sumo, uno de ellos."
   ]
  },
  {
   "cell_type": "code",
   "execution_count": null,
   "metadata": {},
   "outputs": [],
   "source": [
    "try:\n",
    "    # aquí ponemos el código que puede lanzar excepciones\n",
    "except IOError:\n",
    "    # entrará aquí en caso que se haya producido\n",
    "    # una excepción IOError\n",
    "except ZeroDivisionError:\n",
    "    # entrará aquí en caso que se haya producido\n",
    "    # una excepción ZeroDivisionError\n",
    "except:\n",
    "    # entrará aquí en caso que se haya producido\n",
    "    # una excepción que no corresponda a ninguno\n",
    "    # de los tipos especificados en los except previos"
   ]
  },
  {
   "cell_type": "markdown",
   "metadata": {},
   "source": [
    "Como se muestra en el ejemplo precedente también es posible utilizar una sentencia\n",
    "except sin especificar el tipo de excepción a capturar, en cuyo caso se captura cualquier excepción,\n",
    "sin importar su tipo. Cabe destacar, también, que en caso de utilizar una sentencia\n",
    "except sin especificar el tipo, la misma debe ser siempre la última de las sentencias except,\n",
    "es decir que el siguiente fragmento de código es incorrecto."
   ]
  },
  {
   "cell_type": "code",
   "execution_count": null,
   "metadata": {},
   "outputs": [],
   "source": [
    "try:\n",
    "    # aquí ponemos el código que puede lanzar excepciones\n",
    "except:\n",
    "    # ERROR de sintaxis, esta sentencia no puede estar aquí,\n",
    "    # sino que debería estar luego del except IOError.\n",
    "except IOError:\n",
    "    # Manejo de la excepción de entrada/salida"
   ]
  },
  {
   "cell_type": "markdown",
   "metadata": {},
   "source": [
    "Finalmente, puede ubicarse un bloque finally donde se escriben las sentencias de finalización,\n",
    "que son típicamente acciones de limpieza. La particularidad del bloque finally es que\n",
    "se ejecuta siempre, haya surgido una excepción o no. Si hay un bloque except, no es necesario\n",
    "que esté presente el finally, y es posible tener un bloque try sólo con finally, sin except."
   ]
  },
  {
   "cell_type": "markdown",
   "metadata": {},
   "source": [
    "Veamos ahora como es que actúa Python al encontrarse con estos bloques. Python comienza\n",
    "a ejecutar las instrucciones que se encuentran dentro de un bloque try normalmente. Si\n",
    "durante la ejecución de esas instrucciones se levanta una excepción, Python interrumpe la ejecución\n",
    "en el punto exacto en que surgió la excepción y pasa a la ejecución del bloque except\n",
    "correspondiente."
   ]
  },
  {
   "cell_type": "markdown",
   "metadata": {},
   "source": [
    "Para ello, Python verifica uno a uno los bloques except y si encuentra alguno cuyo tipo\n",
    "haga referencia al tipo de excepción levantada, comienza a ejecutarlo. Sino encuentra ningún\n",
    "bloque del tipo correspondiente pero hay un bloque except sin tipo, lo ejecuta. Al terminar de\n",
    "ejecutar el bloque correspondiente, se pasa a la ejecución del bloque finally, si se encuentra\n",
    "definido."
   ]
  },
  {
   "cell_type": "markdown",
   "metadata": {},
   "source": [
    "Si, por otra parte, no hay problemas durante la ejecución del bloque try, se completa la\n",
    "ejecución del bloque, y luego se pasa directamente a la ejecución del bloque finally (si es\n",
    "que está definido)."
   ]
  },
  {
   "cell_type": "markdown",
   "metadata": {},
   "source": [
    "Bajemos todo esto a un ejemplo concreto, supongamos que nuestro programa tiene que procesar\n",
    "cierta información ingresada por el usuario y guardarla en un archivo. Dado que el acceso\n",
    "a archivos puede levantar excepciones, siempre deberíamos colocar el código de manipulación\n",
    "de archivos dentro de un bloque try. Luego deberíamos colocar un bloque except que atrape\n",
    "una excepción del tipo IOError, que es el tipo de excepciones que lanzan la funciones de manipulación\n",
    "de archivos. Adicionalmente podríamos agregar un bloque except sin tipo por si\n",
    "surge alguna otra excepción. Finalmente deberíamos agregar un bloque finally para cerrar\n",
    "el archivo, haya surgido o no una excepción."
   ]
  },
  {
   "cell_type": "code",
   "execution_count": null,
   "metadata": {},
   "outputs": [],
   "source": [
    "try:\n",
    "    archivo = open(\"miarchivo.txt\")\n",
    "    # procesar el archivo\n",
    "    except IOError:\n",
    "        print \"Error de entrada/salida.\"\n",
    "        # realizar procesamiento adicional\n",
    "    except:\n",
    "        # procesar la excepción\n",
    "    \n",
    "    finally:\n",
    "        # si el archivo no está cerrado hay que cerrarlo\n",
    "        if not(archivo.closed):\n",
    "        archivo.close()"
   ]
  },
  {
   "cell_type": "markdown",
   "metadata": {},
   "source": [
    "### 12.2.2. Procesamiento y propagación de excepciones"
   ]
  },
  {
   "cell_type": "markdown",
   "metadata": {},
   "source": [
    "Hemos visto cómo atrapar excepciones, es necesario ahora que veamos qué se supone que\n",
    "hagamos al atrapar una excepción. En primer lugar podríamos ejecutar alguna lógica particular\n",
    "del caso como: cerrar un archivo, realizar una procesamiento alternativo al del bloque try, etc.\n",
    "Pero más allá de esto tenemos algunas opciones genéricas que consisten en: dejar constancia\n",
    "de la ocurrencia de la excepción, propagar la excepción o, incluso, hacer ambas cosas."
   ]
  },
  {
   "cell_type": "markdown",
   "metadata": {},
   "source": [
    "Para dejar constancia de la ocurrencia de la excepción, se puede escribir en un archivo de\n",
    "log o simplemente mostrar un mensaje en pantalla. Generalmente cuando se deja constancia de\n",
    "la ocurrencia de una excepción se suele brindar alguna información del contexto en que ocurrió\n",
    "la excepción, por ejemplo: tipo de excepción ocurrida, momento en que ocurrió la excepción y\n",
    "cuáles fueron las llamadas previas a la excepción. El objetivo de esta información es facilitar el\n",
    "diagnóstico en caso de que alguien deba corregir el programa para evitar que la excepción siga\n",
    "apareciendo."
   ]
  },
  {
   "cell_type": "markdown",
   "metadata": {},
   "source": [
    "Es posible, por otra parte, que luego de realizar algún procesamiento particular del caso se\n",
    "quiera que la excepción se propague hacia la función que había invocado a la función actual.\n",
    "Para hacer esto Python nos brinda la instrucción raise."
   ]
  },
  {
   "cell_type": "markdown",
   "metadata": {},
   "source": [
    "Si se invoca esta instrucción dentro de un bloque except, sin pasarle parámetros, Python\n",
    "levantará la excepción atrapada por ese bloque."
   ]
  },
  {
   "cell_type": "markdown",
   "metadata": {},
   "source": [
    "También podría ocurrir que en lugar de propagar la excepción tal cual fue atrapada, quisiéramos\n",
    "lanzar una excepción distinta, más significativa para quien invocó a la función actual\n",
    "y que posiblemente contenga cierta información de contexto. Para levantar una excepción de\n",
    "cualquier tipo, utilizamos también la sentencia raise, pero indicándole el tipo de excepción\n",
    "que deseamos lanzar y pasando a la excepción los parámetros con información adicional que\n",
    "queramos brindar."
   ]
  },
  {
   "cell_type": "markdown",
   "metadata": {},
   "source": [
    "El siguiente fragmento de código muestra este uso de raise."
   ]
  },
  {
   "cell_type": "code",
   "execution_count": 3,
   "metadata": {},
   "outputs": [
    {
     "ename": "ZeroDivisionError",
     "evalue": "El divisor no puede ser cero",
     "output_type": "error",
     "traceback": [
      "\u001b[1;31m---------------------------------------------------------------------------\u001b[0m",
      "\u001b[1;31mZeroDivisionError\u001b[0m                         Traceback (most recent call last)",
      "\u001b[1;32m<ipython-input-3-2762eff9f68c>\u001b[0m in \u001b[0;36mdividir\u001b[1;34m(dividendo, divisor)\u001b[0m\n\u001b[0;32m      2\u001b[0m     \u001b[1;32mtry\u001b[0m\u001b[1;33m:\u001b[0m\u001b[1;33m\u001b[0m\u001b[0m\n\u001b[1;32m----> 3\u001b[1;33m         \u001b[0mresultado\u001b[0m \u001b[1;33m=\u001b[0m \u001b[0mdividendo\u001b[0m \u001b[1;33m/\u001b[0m \u001b[0mdivisor\u001b[0m\u001b[1;33m\u001b[0m\u001b[0m\n\u001b[0m\u001b[0;32m      4\u001b[0m         \u001b[1;32mreturn\u001b[0m \u001b[0mresultado\u001b[0m\u001b[1;33m\u001b[0m\u001b[0m\n",
      "\u001b[1;31mZeroDivisionError\u001b[0m: division by zero",
      "\nDuring handling of the above exception, another exception occurred:\n",
      "\u001b[1;31mZeroDivisionError\u001b[0m                         Traceback (most recent call last)",
      "\u001b[1;32m<ipython-input-3-2762eff9f68c>\u001b[0m in \u001b[0;36m<module>\u001b[1;34m()\u001b[0m\n\u001b[0;32m      6\u001b[0m         \u001b[1;32mraise\u001b[0m \u001b[0mZeroDivisionError\u001b[0m\u001b[1;33m(\u001b[0m\u001b[1;34m\"El divisor no puede ser cero\"\u001b[0m\u001b[1;33m)\u001b[0m\u001b[1;33m\u001b[0m\u001b[0m\n\u001b[0;32m      7\u001b[0m \u001b[1;33m\u001b[0m\u001b[0m\n\u001b[1;32m----> 8\u001b[1;33m \u001b[0mdividir\u001b[0m\u001b[1;33m(\u001b[0m\u001b[1;36m20\u001b[0m\u001b[1;33m,\u001b[0m\u001b[1;36m0\u001b[0m\u001b[1;33m)\u001b[0m\u001b[1;33m\u001b[0m\u001b[0m\n\u001b[0m",
      "\u001b[1;32m<ipython-input-3-2762eff9f68c>\u001b[0m in \u001b[0;36mdividir\u001b[1;34m(dividendo, divisor)\u001b[0m\n\u001b[0;32m      4\u001b[0m         \u001b[1;32mreturn\u001b[0m \u001b[0mresultado\u001b[0m\u001b[1;33m\u001b[0m\u001b[0m\n\u001b[0;32m      5\u001b[0m     \u001b[1;32mexcept\u001b[0m \u001b[0mZeroDivisionError\u001b[0m\u001b[1;33m:\u001b[0m\u001b[1;33m\u001b[0m\u001b[0m\n\u001b[1;32m----> 6\u001b[1;33m         \u001b[1;32mraise\u001b[0m \u001b[0mZeroDivisionError\u001b[0m\u001b[1;33m(\u001b[0m\u001b[1;34m\"El divisor no puede ser cero\"\u001b[0m\u001b[1;33m)\u001b[0m\u001b[1;33m\u001b[0m\u001b[0m\n\u001b[0m\u001b[0;32m      7\u001b[0m \u001b[1;33m\u001b[0m\u001b[0m\n\u001b[0;32m      8\u001b[0m \u001b[0mdividir\u001b[0m\u001b[1;33m(\u001b[0m\u001b[1;36m20\u001b[0m\u001b[1;33m,\u001b[0m\u001b[1;36m0\u001b[0m\u001b[1;33m)\u001b[0m\u001b[1;33m\u001b[0m\u001b[0m\n",
      "\u001b[1;31mZeroDivisionError\u001b[0m: El divisor no puede ser cero"
     ]
    }
   ],
   "source": [
    "def dividir(dividendo, divisor):\n",
    "    try:\n",
    "        resultado = dividendo / divisor\n",
    "        return resultado\n",
    "    except ZeroDivisionError:\n",
    "        raise ZeroDivisionError(\"El divisor no puede ser cero\")\n",
    "        \n",
    "dividir(20,0)"
   ]
  },
  {
   "cell_type": "markdown",
   "metadata": {},
   "source": [
    "### 12.2.3. Acceso a información de contexto"
   ]
  },
  {
   "cell_type": "markdown",
   "metadata": {},
   "source": [
    "Para acceder a la información de contexto estando dentro de un bloque except existen dos\n",
    "alternativas. Se puede utilizar la función exc_info del módulo sys. Esta función devuelve\n",
    "una tupla con información sobre la última excepción atrapada en un bloque except. Dicha\n",
    "tupla contiene tres elementos: el tipo de excepción, el valor de la excepción y las llamadas\n",
    "realizadas."
   ]
  },
  {
   "cell_type": "markdown",
   "metadata": {},
   "source": [
    "Otra forma de obtener información sobre la excepción es utilizando la misma sentencia\n",
    "except, pasándole un identificador para que almacene una referencia a la excepción atrapada."
   ]
  },
  {
   "cell_type": "code",
   "execution_count": null,
   "metadata": {},
   "outputs": [],
   "source": [
    "try:\n",
    "    # código que puede lanzar una excepción\n",
    "except Exception, ex:\n",
    "    # procesamiento de la excepción cuya información\n",
    "    # es accesible a través del identificador ex"
   ]
  },
  {
   "cell_type": "markdown",
   "metadata": {},
   "source": [
    "### 12.3. Validaciones"
   ]
  },
  {
   "cell_type": "markdown",
   "metadata": {},
   "source": [
    "Las validaciones son técnicas que permiten asegurar que los valores con los que se vaya a\n",
    "operar estén dentro de determinado dominio."
   ]
  },
  {
   "cell_type": "markdown",
   "metadata": {},
   "source": [
    "Estas técnicas son particularmente importantes al momento de utilizar entradas del usuario\n",
    "o de un archivo (o entradas externas en general) en nuestro código, y también se las utiliza para\n",
    "comprobar precondiciones. Al uso intensivo de estas técnicas se lo suele llamar programación\n",
    "defensiva."
   ]
  },
  {
   "cell_type": "markdown",
   "metadata": {},
   "source": [
    "Si bien quien invoca una función debe preocuparse de cumplir con las precondiciones de\n",
    "ésta, si las validaciones están hechas correctamente pueden devolver información valiosa para\n",
    "que el invocante pueda actuar en consecuencia."
   ]
  },
  {
   "cell_type": "markdown",
   "metadata": {},
   "source": [
    "Hay distintas formas de comprobar el dominio de un dato. Se puede comprobar el contenido;\n",
    "que una variable sea de un tipo en particular; o que el dato tenga determinada característica,\n",
    "como que deba ser “comparable”, o “iterable”."
   ]
  },
  {
   "cell_type": "markdown",
   "metadata": {},
   "source": [
    "También se debe tener en cuenta qué hará nuestro código cuando una validación falle, ya\n",
    "que queremos darle información al invocante que le sirva para procesar el error. El error producido\n",
    "tiene que ser fácilmente reconocible. En algunos casos, como por ejemplo cuando se quiere\n",
    "devolver una posición, devolver -1 nos puede asegurar que el invocante lo vaya a reconocer.\n",
    "En otros casos, levantar una excepción es una solución más elegante."
   ]
  },
  {
   "cell_type": "markdown",
   "metadata": {},
   "source": [
    "En cualquier caso, lo importante es que el resultado generado por nuestro código cuando\n",
    "funciona correctamente y el resultado generado cuando falla debe ser claramente distinto. Por\n",
    "ejemplo, si el código debe devolver un elemento de una secuencia, no es una buena idea que\n",
    "devuelva None en el caso de que la secuencia esté vacía, ya que None es un elemento válido\n",
    "dentro de una secuencia."
   ]
  },
  {
   "cell_type": "markdown",
   "metadata": {},
   "source": [
    "### 12.3.1. Comprobaciones por contenido"
   ]
  },
  {
   "cell_type": "markdown",
   "metadata": {},
   "source": [
    "Cuando queremos validar que los datos provistos a una porción de código contengan la\n",
    "información apropiada, ya sea porque esa información la ingresó un usuario, fue leída de un\n",
    "archivo, o porque por cualquier motivo es posible que sea incorrecta, es deseable comprobar\n",
    "que el contenido de las variables a utilizar estén dentro de los valores con los que se puede\n",
    "operar."
   ]
  },
  {
   "cell_type": "markdown",
   "metadata": {},
   "source": [
    "Estas comprobaciones no siempre son posibles, ya que en ciertas situaciones puede ser muy\n",
    "costoso corroborar las precondiciones de una función. Es por ello que este tipo de comprobaciones\n",
    "se realizan sólo cuando sea posible."
   ]
  },
  {
   "cell_type": "markdown",
   "metadata": {},
   "source": [
    "Por ejemplo, la función factorial está definida para los números naturales incluyendo el 0.\n",
    "Es posible utilizar assert (que es otra forma de levantar una excepción) para comprobar las\n",
    "precondiciones de factorial."
   ]
  },
  {
   "cell_type": "code",
   "execution_count": 8,
   "metadata": {},
   "outputs": [
    {
     "ename": "AssertionError",
     "evalue": "n debe ser mayor igual a 0",
     "output_type": "error",
     "traceback": [
      "\u001b[1;31m---------------------------------------------------------------------------\u001b[0m",
      "\u001b[1;31mAssertionError\u001b[0m                            Traceback (most recent call last)",
      "\u001b[1;32m<ipython-input-8-21050506da45>\u001b[0m in \u001b[0;36m<module>\u001b[1;34m()\u001b[0m\n\u001b[0;32m      9\u001b[0m         \u001b[0mfact\u001b[0m\u001b[1;33m*=\u001b[0m\u001b[0mi\u001b[0m\u001b[1;33m\u001b[0m\u001b[0m\n\u001b[0;32m     10\u001b[0m     \u001b[1;32mreturn\u001b[0m \u001b[0mfact\u001b[0m\u001b[1;33m\u001b[0m\u001b[0m\n\u001b[1;32m---> 11\u001b[1;33m \u001b[0mfactorial\u001b[0m\u001b[1;33m(\u001b[0m\u001b[1;33m-\u001b[0m\u001b[1;36m22\u001b[0m\u001b[1;33m)\u001b[0m\u001b[1;33m\u001b[0m\u001b[0m\n\u001b[0m",
      "\u001b[1;32m<ipython-input-8-21050506da45>\u001b[0m in \u001b[0;36mfactorial\u001b[1;34m(n)\u001b[0m\n\u001b[0;32m      4\u001b[0m     Post: se devuelve el valor del factorial pedido\"\"\"\n\u001b[0;32m      5\u001b[0m \u001b[1;33m\u001b[0m\u001b[0m\n\u001b[1;32m----> 6\u001b[1;33m     \u001b[1;32massert\u001b[0m \u001b[0mn\u001b[0m \u001b[1;33m>=\u001b[0m\u001b[1;36m0\u001b[0m\u001b[1;33m,\u001b[0m \u001b[1;34m\"n debe ser mayor igual a 0\"\u001b[0m\u001b[1;33m\u001b[0m\u001b[0m\n\u001b[0m\u001b[0;32m      7\u001b[0m     \u001b[0mfact\u001b[0m\u001b[1;33m=\u001b[0m\u001b[1;36m1\u001b[0m\u001b[1;33m\u001b[0m\u001b[0m\n\u001b[0;32m      8\u001b[0m     \u001b[1;32mfor\u001b[0m \u001b[0mi\u001b[0m \u001b[1;32min\u001b[0m \u001b[0mrange\u001b[0m\u001b[1;33m(\u001b[0m\u001b[1;36m2\u001b[0m\u001b[1;33m,\u001b[0m \u001b[0mn\u001b[0m\u001b[1;33m+\u001b[0m\u001b[1;36m1\u001b[0m\u001b[1;33m)\u001b[0m\u001b[1;33m:\u001b[0m\u001b[1;33m\u001b[0m\u001b[0m\n",
      "\u001b[1;31mAssertionError\u001b[0m: n debe ser mayor igual a 0"
     ]
    }
   ],
   "source": [
    "def factorial(n):\n",
    "    \"\"\"Calcula el factorial de n.\n",
    "    Pre: n debe ser un entero, mayor igual a 0\n",
    "    Post: se devuelve el valor del factorial pedido\"\"\"\n",
    "    \n",
    "    assert n >=0, \"n debe ser mayor igual a 0\"\n",
    "    fact=1\n",
    "    for i in range(2, n+1):\n",
    "        fact*=i\n",
    "    return fact\n",
    "factorial(-22)"
   ]
  },
  {
   "cell_type": "markdown",
   "metadata": {},
   "source": [
    "### 12.3.2. Entrada del usuario"
   ]
  },
  {
   "cell_type": "markdown",
   "metadata": {},
   "source": [
    "En el caso particular de una porción de código que trate con entrada del usuario, no se\n",
    "debe asumir que el usuario vaya a ingresar los datos correctamente, ya que los seres humanos\n",
    "tienden a cometer errores al ingresar información."
   ]
  },
  {
   "cell_type": "markdown",
   "metadata": {},
   "source": [
    "Por ejemplo, si se desea que un usuario ingrese un número, no se debe asumir que vaya a\n",
    "ingresarlo correctamente. Se lo debe guardar en una cadena y luego convertir a un número, es\n",
    "por eso que es recomendable el uso de la función raw_input ya que devuelve una cadena que\n",
    "puede ser procesada posteriormente."
   ]
  },
  {
   "cell_type": "code",
   "execution_count": 10,
   "metadata": {},
   "outputs": [
    {
     "name": "stdout",
     "output_type": "stream",
     "text": [
      "Ingrese un número entero: a\n"
     ]
    },
    {
     "ename": "ValueError",
     "evalue": "invalid literal for int() with base 10: 'a'",
     "output_type": "error",
     "traceback": [
      "\u001b[1;31m---------------------------------------------------------------------------\u001b[0m",
      "\u001b[1;31mValueError\u001b[0m                                Traceback (most recent call last)",
      "\u001b[1;32m<ipython-input-10-0a40fb2b402d>\u001b[0m in \u001b[0;36m<module>\u001b[1;34m()\u001b[0m\n\u001b[0;32m      4\u001b[0m     \u001b[0mvalor\u001b[0m \u001b[1;33m=\u001b[0m \u001b[0minput\u001b[0m\u001b[1;33m(\u001b[0m\u001b[1;34m\"Ingrese un número entero: \"\u001b[0m\u001b[1;33m)\u001b[0m\u001b[1;33m\u001b[0m\u001b[0m\n\u001b[0;32m      5\u001b[0m     \u001b[1;32mreturn\u001b[0m \u001b[0mint\u001b[0m\u001b[1;33m(\u001b[0m\u001b[0mvalor\u001b[0m\u001b[1;33m)\u001b[0m\u001b[1;33m\u001b[0m\u001b[0m\n\u001b[1;32m----> 6\u001b[1;33m \u001b[0mlee_entero\u001b[0m\u001b[1;33m(\u001b[0m\u001b[1;33m)\u001b[0m\u001b[1;33m\u001b[0m\u001b[0m\n\u001b[0m",
      "\u001b[1;32m<ipython-input-10-0a40fb2b402d>\u001b[0m in \u001b[0;36mlee_entero\u001b[1;34m()\u001b[0m\n\u001b[0;32m      3\u001b[0m        Si el valor ingresado no es entero, lanza una excepción. \"\"\"\n\u001b[0;32m      4\u001b[0m     \u001b[0mvalor\u001b[0m \u001b[1;33m=\u001b[0m \u001b[0minput\u001b[0m\u001b[1;33m(\u001b[0m\u001b[1;34m\"Ingrese un número entero: \"\u001b[0m\u001b[1;33m)\u001b[0m\u001b[1;33m\u001b[0m\u001b[0m\n\u001b[1;32m----> 5\u001b[1;33m     \u001b[1;32mreturn\u001b[0m \u001b[0mint\u001b[0m\u001b[1;33m(\u001b[0m\u001b[0mvalor\u001b[0m\u001b[1;33m)\u001b[0m\u001b[1;33m\u001b[0m\u001b[0m\n\u001b[0m\u001b[0;32m      6\u001b[0m \u001b[0mlee_entero\u001b[0m\u001b[1;33m(\u001b[0m\u001b[1;33m)\u001b[0m\u001b[1;33m\u001b[0m\u001b[0m\n",
      "\u001b[1;31mValueError\u001b[0m: invalid literal for int() with base 10: 'a'"
     ]
    }
   ],
   "source": [
    "def lee_entero():\n",
    "    \"\"\"Solicita un valor entero y lo devuelve.\n",
    "       Si el valor ingresado no es entero, lanza una excepción. \"\"\"\n",
    "    valor = input(\"Ingrese un número entero: \")\n",
    "    return int(valor)\n",
    "lee_entero()"
   ]
  },
  {
   "cell_type": "markdown",
   "metadata": {},
   "source": [
    "Esta función devuelve un valor entero, o lanza una excepción si la conversión no fue posible.\n",
    "Sin embargo, esto no es suficiente. En el caso en el que el usuario no haya ingresado la\n",
    "información correctamente, es necesario volver a solicitarla."
   ]
  },
  {
   "cell_type": "code",
   "execution_count": 30,
   "metadata": {},
   "outputs": [
    {
     "name": "stdout",
     "output_type": "stream",
     "text": [
      "Ingrese un número entero: a\n",
      "ATENCIÓN: Debe ingresar un número entero.\n",
      "Ingrese un número entero: a\n",
      "ATENCIÓN: Debe ingresar un número entero.\n",
      "Ingrese un número entero: a\n",
      "ATENCIÓN: Debe ingresar un número entero.\n",
      "Ingrese un número entero: a\n",
      "ATENCIÓN: Debe ingresar un número entero.\n",
      "Ingrese un número entero: a\n",
      "ATENCIÓN: Debe ingresar un número entero.\n",
      "Ingrese un número entero: a\n",
      "ATENCIÓN: Debe ingresar un número entero.\n",
      "Ingrese un número entero: 3\n"
     ]
    },
    {
     "data": {
      "text/plain": [
       "3"
      ]
     },
     "execution_count": 30,
     "metadata": {},
     "output_type": "execute_result"
    }
   ],
   "source": [
    "def lee_entero():\n",
    "    \"\"\"Solicita un valor entero y lo devuelve.\n",
    "       Si el valor ingresado no es entero, lanza una excepción. \"\"\"\n",
    "    while True:\n",
    "        valor = input(\"Ingrese un número entero: \")\n",
    "        try:\n",
    "            valor = int(valor)\n",
    "            return int(valor)\n",
    "        except ValueError:\n",
    "            print(\"ATENCIÓN: Debe ingresar un número entero.\")\n",
    "            \n",
    "lee_entero()"
   ]
  },
  {
   "cell_type": "markdown",
   "metadata": {},
   "source": [
    "Podría ser deseable, además, poner un límite a la cantidad máxima de intentos que el usuario\n",
    "tiene para ingresar la información correctamente y, superada esa cantidad máxima de intentos,\n",
    "levantar una excepción para que sea manejada por el código invocante."
   ]
  },
  {
   "cell_type": "code",
   "execution_count": 5,
   "metadata": {},
   "outputs": [
    {
     "name": "stdout",
     "output_type": "stream",
     "text": [
      "Ingrese un número entero: A\n",
      "Ingrese un número entero: a\n",
      "Ingrese un número entero: a\n",
      "Ingrese un número entero: a\n",
      "Ingrese un número entero: a\n"
     ]
    },
    {
     "ename": "ValueError",
     "evalue": "Valor incorrecto ingresado en 5 intentos",
     "output_type": "error",
     "traceback": [
      "\u001b[1;31m---------------------------------------------------------------------------\u001b[0m",
      "\u001b[1;31mValueError\u001b[0m                                Traceback (most recent call last)",
      "\u001b[1;32m~\\AppData\\Local\\Temp\\ipykernel_20456\\3099475849.py\u001b[0m in \u001b[0;36m<module>\u001b[1;34m\u001b[0m\n\u001b[0;32m     13\u001b[0m     \u001b[1;32mraise\u001b[0m \u001b[0mValueError\u001b[0m\u001b[1;33m(\u001b[0m\u001b[1;34m\"Valor incorrecto ingresado en 5 intentos\"\u001b[0m\u001b[1;33m)\u001b[0m\u001b[1;33m\u001b[0m\u001b[1;33m\u001b[0m\u001b[0m\n\u001b[0;32m     14\u001b[0m \u001b[1;33m\u001b[0m\u001b[0m\n\u001b[1;32m---> 15\u001b[1;33m \u001b[0mlee_entero\u001b[0m\u001b[1;33m(\u001b[0m\u001b[1;33m)\u001b[0m\u001b[1;33m\u001b[0m\u001b[1;33m\u001b[0m\u001b[0m\n\u001b[0m",
      "\u001b[1;32m~\\AppData\\Local\\Temp\\ipykernel_20456\\3099475849.py\u001b[0m in \u001b[0;36mlee_entero\u001b[1;34m()\u001b[0m\n\u001b[0;32m     11\u001b[0m         \u001b[1;32mexcept\u001b[0m \u001b[0mValueError\u001b[0m\u001b[1;33m:\u001b[0m\u001b[1;33m\u001b[0m\u001b[1;33m\u001b[0m\u001b[0m\n\u001b[0;32m     12\u001b[0m             \u001b[0mintentos\u001b[0m \u001b[1;33m+=\u001b[0m\u001b[1;36m1\u001b[0m\u001b[1;33m\u001b[0m\u001b[1;33m\u001b[0m\u001b[0m\n\u001b[1;32m---> 13\u001b[1;33m     \u001b[1;32mraise\u001b[0m \u001b[0mValueError\u001b[0m\u001b[1;33m(\u001b[0m\u001b[1;34m\"Valor incorrecto ingresado en 5 intentos\"\u001b[0m\u001b[1;33m)\u001b[0m\u001b[1;33m\u001b[0m\u001b[1;33m\u001b[0m\u001b[0m\n\u001b[0m\u001b[0;32m     14\u001b[0m \u001b[1;33m\u001b[0m\u001b[0m\n\u001b[0;32m     15\u001b[0m \u001b[0mlee_entero\u001b[0m\u001b[1;33m(\u001b[0m\u001b[1;33m)\u001b[0m\u001b[1;33m\u001b[0m\u001b[1;33m\u001b[0m\u001b[0m\n",
      "\u001b[1;31mValueError\u001b[0m: Valor incorrecto ingresado en 5 intentos"
     ]
    }
   ],
   "source": [
    "def lee_entero():\n",
    "    \"\"\" Solicita un valor entero y lo devuelve.\n",
    "        Si el valor ingresado no es entero, da 5 intentos para ingresarlo\n",
    "        correctamente, y de no ser así, lanza una excepción. \"\"\"\n",
    "    intentos = 0\n",
    "    while intentos < 5:\n",
    "        valor = input(\"Ingrese un número entero: \")\n",
    "        try:\n",
    "            valor = int(valor)\n",
    "            return int(valor)\n",
    "        except ValueError:\n",
    "            intentos +=1\n",
    "    raise ValueError(\"Valor incorrecto ingresado en 5 intentos\")\n",
    "            \n",
    "lee_entero()"
   ]
  },
  {
   "cell_type": "markdown",
   "metadata": {},
   "source": [
    "Por otro lado, cuando la entrada ingresada sea una cadena, no es esperable que el usuario\n",
    "la vaya a ingresar en mayúsculas o minúsculas, ambos casos deben ser considerados."
   ]
  },
  {
   "cell_type": "code",
   "execution_count": 4,
   "metadata": {},
   "outputs": [
    {
     "name": "stdout",
     "output_type": "stream",
     "text": [
      "Ingrese A (Altas), - B (Bajas) - M(Modificaciones): \n",
      "BB\n",
      "Ingrese A (Altas), - B (Bajas) - M(Modificaciones): \n",
      "B\n"
     ]
    },
    {
     "data": {
      "text/plain": [
       "'B'"
      ]
     },
     "execution_count": 4,
     "metadata": {},
     "output_type": "execute_result"
    }
   ],
   "source": [
    "def lee_opcion():\n",
    "    \"\"\" Solicita una opción de menú y la devuelve. \"\"\"\n",
    "    while True:\n",
    "        print(\"Ingrese A (Altas), - B (Bajas) - M(Modificaciones): \"),\n",
    "        opcion = input().upper()\n",
    "        if opcion in [\"A\", \"B\", \"M\"]:\n",
    "            return opcion\n",
    "lee_opcion()"
   ]
  },
  {
   "cell_type": "markdown",
   "metadata": {},
   "source": [
    "### 12.3.3. Comprobaciones por tipo"
   ]
  },
  {
   "cell_type": "markdown",
   "metadata": {},
   "source": [
    "En esta clase de comprobaciones nos interesa el tipo del dato que vamos a tratar de validar,\n",
    "Python nos indica el tipo de una variable usando la función type(variable). Por ejemplo,\n",
    "para comprobar que una variable contenga un tipo entero podemos hacer:"
   ]
  },
  {
   "cell_type": "code",
   "execution_count": null,
   "metadata": {},
   "outputs": [],
   "source": [
    "if type(i) != int:\n",
    "    raise TypeError \"i debe ser del tipo int\""
   ]
  },
  {
   "cell_type": "markdown",
   "metadata": {},
   "source": [
    "Sin embargo, ya hemos visto que tanto las listas como las tuplas y las cadenas son secuencias,\n",
    "y muchas de las funciones utilizadas puede utilizar cualquiera de estas secuencias. De la\n",
    "misma manera, una función puede utilizar un valor numérico, y que opere correctamente ya\n",
    "sea entero, flotante, o complejo."
   ]
  },
  {
   "cell_type": "markdown",
   "metadata": {},
   "source": [
    "Es posible comprobar el tipo de nuestra variable contra una secuencia de tipos posibles."
   ]
  },
  {
   "cell_type": "code",
   "execution_count": null,
   "metadata": {},
   "outputs": [],
   "source": [
    "if type(i) not in (int, float, long, complex):\n",
    "    raise TypeError \"i debe ser numérico\""
   ]
  },
  {
   "cell_type": "markdown",
   "metadata": {},
   "source": [
    "Si bien esto es bastante más flexible que el ejemplo anterior, también puede ser restrictivo ya\n",
    "que -como se verá más adelante- cada programador puede definir sus propios tipos utilizando\n",
    "como base los que ya están definidos. Con este código se están descartando todos los tipos que\n",
    "se basen en int, float, long o complex."
   ]
  },
  {
   "cell_type": "markdown",
   "metadata": {},
   "source": [
    "Para poder incluir estos tipos en la comprobación a realizar, Python nos provee de la función\n",
    "isinstance(variable, tipos)."
   ]
  },
  {
   "cell_type": "code",
   "execution_count": null,
   "metadata": {},
   "outputs": [],
   "source": [
    "if not isinstance(i, (int, float, long, complex) ):\n",
    "    raise TypeError \"i debe ser numérico\""
   ]
  },
  {
   "cell_type": "markdown",
   "metadata": {},
   "source": [
    "Con esto comprobamos si una variable es de determinado tipo o subtipo de éste. Esta opción\n",
    "es bastante flexible, pero existen aún más opciones."
   ]
  },
  {
   "cell_type": "markdown",
   "metadata": {},
   "source": [
    "Para la mayoría de los tipos básicos de Python existe una función que se llama de la misma\n",
    "manera que el tipo que devuelve un elemento de ese tipo, por ejemplo, int() devuelve 0,\n",
    "dict() devuelve {} y así. Además, estas funciones suelen poder recibir un elemento de otro\n",
    "tipo para tratar de convertirlo, por ejemplo, int(3.0) devuelve 3, list(\"Hola\") devuelve\n",
    "[’H’, ’o’, ’l’, ’a’]."
   ]
  },
  {
   "cell_type": "markdown",
   "metadata": {},
   "source": [
    "Usando está conversión conseguimos dos cosas: podemos convertir un tipo recibido al que\n",
    "realmente necesitamos, a la vez que tenemos una copia de este, dejando el original intacto, que\n",
    "es importante cuando estamos tratando con tipos mutables."
   ]
  },
  {
   "cell_type": "markdown",
   "metadata": {},
   "source": [
    "Por ejemplo, si se quiere contar con una función de división entera que pueda recibir diversos\n",
    "parámetros, podría hacerse de la siguiente manera."
   ]
  },
  {
   "cell_type": "code",
   "execution_count": 19,
   "metadata": {},
   "outputs": [
    {
     "ename": "ValueError",
     "evalue": "y no puede ser cero",
     "output_type": "error",
     "traceback": [
      "\u001b[1;31m---------------------------------------------------------------------------\u001b[0m",
      "\u001b[1;31mZeroDivisionError\u001b[0m                         Traceback (most recent call last)",
      "\u001b[1;32m~\\AppData\\Local\\Temp\\ipykernel_20456\\3353293264.py\u001b[0m in \u001b[0;36mdivision_entera\u001b[1;34m(x, y)\u001b[0m\n\u001b[0;32m      6\u001b[0m         \u001b[0mdivisor\u001b[0m \u001b[1;33m=\u001b[0m \u001b[0mint\u001b[0m\u001b[1;33m(\u001b[0m\u001b[0my\u001b[0m\u001b[1;33m)\u001b[0m\u001b[1;33m\u001b[0m\u001b[1;33m\u001b[0m\u001b[0m\n\u001b[1;32m----> 7\u001b[1;33m         \u001b[1;32mreturn\u001b[0m \u001b[1;33m(\u001b[0m\u001b[0mdividendo\u001b[0m\u001b[1;33m/\u001b[0m\u001b[0mdivisor\u001b[0m\u001b[1;33m)\u001b[0m\u001b[1;33m\u001b[0m\u001b[1;33m\u001b[0m\u001b[0m\n\u001b[0m\u001b[0;32m      8\u001b[0m     \u001b[1;32mexcept\u001b[0m \u001b[0mValueError\u001b[0m\u001b[1;33m:\u001b[0m\u001b[1;33m\u001b[0m\u001b[1;33m\u001b[0m\u001b[0m\n",
      "\u001b[1;31mZeroDivisionError\u001b[0m: division by zero",
      "\nDuring handling of the above exception, another exception occurred:\n",
      "\u001b[1;31mValueError\u001b[0m                                Traceback (most recent call last)",
      "\u001b[1;32m~\\AppData\\Local\\Temp\\ipykernel_20456\\3353293264.py\u001b[0m in \u001b[0;36m<module>\u001b[1;34m\u001b[0m\n\u001b[0;32m     10\u001b[0m     \u001b[1;32mexcept\u001b[0m \u001b[0mZeroDivisionError\u001b[0m\u001b[1;33m:\u001b[0m\u001b[1;33m\u001b[0m\u001b[1;33m\u001b[0m\u001b[0m\n\u001b[0;32m     11\u001b[0m         \u001b[1;32mraise\u001b[0m \u001b[0mValueError\u001b[0m\u001b[1;33m(\u001b[0m\u001b[1;34m\"y no puede ser cero\"\u001b[0m\u001b[1;33m)\u001b[0m\u001b[1;33m\u001b[0m\u001b[1;33m\u001b[0m\u001b[0m\n\u001b[1;32m---> 12\u001b[1;33m \u001b[0mdivision_entera\u001b[0m\u001b[1;33m(\u001b[0m\u001b[1;36m20\u001b[0m\u001b[1;33m,\u001b[0m\u001b[1;36m0\u001b[0m\u001b[1;33m)\u001b[0m\u001b[1;33m\u001b[0m\u001b[1;33m\u001b[0m\u001b[0m\n\u001b[0m",
      "\u001b[1;32m~\\AppData\\Local\\Temp\\ipykernel_20456\\3353293264.py\u001b[0m in \u001b[0;36mdivision_entera\u001b[1;34m(x, y)\u001b[0m\n\u001b[0;32m      9\u001b[0m         \u001b[1;32mraise\u001b[0m \u001b[0mValueError\u001b[0m\u001b[1;33m(\u001b[0m\u001b[1;34m\"x e y deben poder convertirse a enteros\"\u001b[0m\u001b[1;33m)\u001b[0m\u001b[1;33m\u001b[0m\u001b[1;33m\u001b[0m\u001b[0m\n\u001b[0;32m     10\u001b[0m     \u001b[1;32mexcept\u001b[0m \u001b[0mZeroDivisionError\u001b[0m\u001b[1;33m:\u001b[0m\u001b[1;33m\u001b[0m\u001b[1;33m\u001b[0m\u001b[0m\n\u001b[1;32m---> 11\u001b[1;33m         \u001b[1;32mraise\u001b[0m \u001b[0mValueError\u001b[0m\u001b[1;33m(\u001b[0m\u001b[1;34m\"y no puede ser cero\"\u001b[0m\u001b[1;33m)\u001b[0m\u001b[1;33m\u001b[0m\u001b[1;33m\u001b[0m\u001b[0m\n\u001b[0m\u001b[0;32m     12\u001b[0m \u001b[0mdivision_entera\u001b[0m\u001b[1;33m(\u001b[0m\u001b[1;36m20\u001b[0m\u001b[1;33m,\u001b[0m\u001b[1;36m0\u001b[0m\u001b[1;33m)\u001b[0m\u001b[1;33m\u001b[0m\u001b[1;33m\u001b[0m\u001b[0m\n",
      "\u001b[1;31mValueError\u001b[0m: y no puede ser cero"
     ]
    }
   ],
   "source": [
    "def division_entera(x,y):\n",
    "    \"\"\"Calcula la división entera después de convertir los parámetros a\n",
    "    enteros.\"\"\"\n",
    "    try:\n",
    "        dividendo = int(x)\n",
    "        divisor = int(y)\n",
    "        return (dividendo/divisor)\n",
    "    except ValueError:\n",
    "        raise ValueError(\"x e y deben poder convertirse a enteros\")\n",
    "    except ZeroDivisionError:\n",
    "        raise ValueError(\"y no puede ser cero\")\n",
    "division_entera(20,0)"
   ]
  },
  {
   "cell_type": "markdown",
   "metadata": {},
   "source": [
    "### 12.3.4. Comprobaciones por características"
   ]
  },
  {
   "cell_type": "markdown",
   "metadata": {},
   "source": [
    "Otra posible comprobación, dejando de lado los tipos, consiste en verificar si una variable\n",
    "tiene determinada característica o no. Python promueve este tipo de programación, ya que el\n",
    "mismo intérprete utiliza este tipo de comprobaciones. Por ejemplo, para imprimir una variable,\n",
    "Python convierte esa variable a una cadena, no hay en el interprete una verificación para cada\n",
    "tipo, sino que busca una función especial, llamada __str__, en la variable a imprimir, y si\n",
    "existe, la utiliza para convertir la variable a una cadena."
   ]
  },
  {
   "cell_type": "markdown",
   "metadata": {},
   "source": [
    "Para comprobar si una variable tiene o no una función Python provee la función\n",
    "hasattr(variable, atributo), donde atributo puede ser el nombre de la función o\n",
    "de la variable que se quiera verificar. Se verá más sobre atributos en la unidad de Programación\n",
    "Orientada a Objetos."
   ]
  },
  {
   "cell_type": "markdown",
   "metadata": {},
   "source": [
    "Por ejemplo, existe la función __add__ para realizar operaciones de suma entre elementos.\n",
    "Si se quiere corroborar si un elemento es sumable, se lo haría de la siguiente forma."
   ]
  },
  {
   "cell_type": "code",
   "execution_count": null,
   "metadata": {},
   "outputs": [],
   "source": [
    "if not hasattr(i,\"__add__\"):\n",
    "    raise TypeError(\"El elemento no es sumable\")"
   ]
  },
  {
   "cell_type": "markdown",
   "metadata": {},
   "source": [
    "Sin embargo, que el atributo exista no quiere decir que vaya a funcionar correctamente en\n",
    "todos los casos. Por ejemplo, tanto las cadenas como los números definen su propia “suma”,\n",
    "pero no es posible sumar cadenas y números, de modo que en este caso sería necesario tener\n",
    "en cuenta una posible excepción."
   ]
  },
  {
   "cell_type": "markdown",
   "metadata": {},
   "source": [
    "Por otro lado, en la mayoría de los casos se puede aplicar la frase: es más fácil pedir perdón que\n",
    "permiso, atribuída a la programadora Grace Hopper. Es decir, en este caso es más sencillo hacer\n",
    "la suma dentro de un bloque try y manejar la excepción en caso de error, que saber cuáles son\n",
    "los detalles de la implementación de __add__ de cada tipo interactuante."
   ]
  },
  {
   "cell_type": "markdown",
   "metadata": {},
   "source": [
    "### 14. Objetos"
   ]
  },
  {
   "cell_type": "markdown",
   "metadata": {},
   "source": [
    "Los objetos son una manera de organizar datos y de relacionar esos datos con el código\n",
    "apropiado para manejarlo. Son los protagonistas de un paradigma de programación llamado\n",
    "Programación Orientada a Objetos."
   ]
  },
  {
   "cell_type": "markdown",
   "metadata": {},
   "source": [
    "Nosotros ya usamos objetos en Python sin mencionarlo explícitamente. Es más, todos los\n",
    "tipos de datos que Python nos provee son, en realidad, objetos."
   ]
  },
  {
   "cell_type": "markdown",
   "metadata": {},
   "source": [
    "De forma que, cuando utilizamos miarchivo.readline(), le estamos diciendo a Python\n",
    "que llame a la función readline del tipo file para miarchivo que es lo mismo que decir\n",
    "que llame al método readline del objeto miarchivo."
   ]
  },
  {
   "cell_type": "markdown",
   "metadata": {},
   "source": [
    "A su vez, a las variables que un objeto contiene, se las llama atributos."
   ]
  },
  {
   "cell_type": "markdown",
   "metadata": {},
   "source": [
    "### 14.1. Tipos"
   ]
  },
  {
   "cell_type": "markdown",
   "metadata": {},
   "source": [
    "En los temas que vimos hasta ahora nos hemos encontrado con numerosos tipos provistos\n",
    "por Python, los números, las cadenas de caracteres, las listas, las tuplas, los diccionarios, los archivos,\n",
    "etc. Cada uno de estos tipos tiene sus características, tienen operaciones propias de cada\n",
    "uno y nos proveen una gran cantidad de funcionalidades que podemos utilizar para nuestros\n",
    "programas."
   ]
  },
  {
   "cell_type": "markdown",
   "metadata": {},
   "source": [
    "Como ya se dijo en unidades anteriores, para saber de qué tipo es una variable, utilizamos\n",
    "la función type, y para saber qué métodos y atributos tiene esa variable utilizamos la función\n",
    "dir."
   ]
  },
  {
   "cell_type": "code",
   "execution_count": null,
   "metadata": {},
   "outputs": [],
   "source": [
    ">>> a = open(\"archivo.txt\")\n",
    ">>> type(a)\n",
    "<type ’file’>\n",
    ">>> dir(a)\n",
    "[’__class__’, ’__delattr__’, ’__doc__’, ’__enter__’, ’__exit__’,\n",
    "’__getattribute__’, ’__hash__’, ’__init__’, ’__iter__’, ’__new__’,\n",
    "’__reduce__’, ’__reduce_ex__’, ’__repr__’, ’__setattr__’, ’__str__’,\n",
    "’close’, ’closed’, ’encoding’, ’fileno’, ’flush’, ’isatty’, ’mode’, ’name’,\n",
    "’newlines’, ’next’, ’read’, ’readinto’, ’readline’, ’readlines’, ’seek’,\n",
    "’softspace’, ’tell’, ’truncate’, ’write’, ’writelines’, ’xreadlines’]"
   ]
  },
  {
   "cell_type": "markdown",
   "metadata": {},
   "source": [
    "En este caso, la función dir nos muestra los métodos que tiene un objeto del tipo file.\n",
    "Podemos ver en el listado los métodos que ya hemos visto al operar con archivos, junto con\n",
    "otros métodos con nombres raros como __str__, o __doc__, estos métodos son especiales en\n",
    "Python, más adelante veremos para qué sirven y cómo se usan."
   ]
  },
  {
   "cell_type": "markdown",
   "metadata": {},
   "source": [
    "En el listado que nos da dir están los atributos y métodos mezclados. Si necesitamos saber\n",
    "cuáles son atributos y cuáles son métodos, podemos hacerlo nuevamente mediante el uso de\n",
    "type."
   ]
  },
  {
   "cell_type": "code",
   "execution_count": null,
   "metadata": {},
   "outputs": [],
   "source": [
    ">>> type (a.name)\n",
    "<type ’str’>\n",
    ">>> a.name\n",
    "’archivo.txt’\n",
    ">>> type (a.tell)\n",
    "<type ’builtin_function_or_method’>\n",
    ">>> a.tell()\n",
    "0LEs importante notar que cuando decimos objetos podemos estar haciendo referencia a dos\n",
    "cosas parecidas, pero distintas."
   ]
  },
  {
   "cell_type": "markdown",
   "metadata": {},
   "source": [
    "Es decir que name es un atributo del objeto (el nombre del archivo), mientras que tell es\n",
    "un método, que para utilizarlo debemos llamarlo con paréntesis."
   ]
  },
  {
   "cell_type": "markdown",
   "metadata": {},
   "source": [
    "### 14.2. Qué es un objeto"
   ]
  },
  {
   "cell_type": "markdown",
   "metadata": {},
   "source": [
    "En Python, todos los tipos son objetos. Pero no en todos los lenguajes de programación es\n",
    "así. En general, podemos decir que un objeto es una forma ordenada de agrupar datos (los\n",
    "atributos) y operaciones a utilizar sobre esos datos (los métodos)."
   ]
  },
  {
   "cell_type": "markdown",
   "metadata": {},
   "source": [
    "Es importante notar que cuando decimos objetos podemos estar haciendo referencia a dos\n",
    "cosas parecidas, pero distintas."
   ]
  },
  {
   "cell_type": "markdown",
   "metadata": {},
   "source": [
    "Por un lado, la definición del tipo, donde se indican cuáles son los atributos y métodos que\n",
    "van a tener todas las variables que sean de ese tipo. Esta definición se llama específicamente, la\n",
    "clase del objeto."
   ]
  },
  {
   "cell_type": "markdown",
   "metadata": {},
   "source": [
    "A partir de una clase es posible crear distintas variables que son de ese tipo. A las variables\n",
    "que son de una clase en particular, se las llama instancia de esa clase."
   ]
  },
  {
   "cell_type": "markdown",
   "metadata": {},
   "source": [
    "### 14.3. Definiendo nuevos tipos"
   ]
  },
  {
   "cell_type": "markdown",
   "metadata": {},
   "source": [
    "Sin bien Python nos provee con un gran número de tipos ya definidos, en muchas situaciones\n",
    "utilizar solamente los tipos provistos por el lenguaje resultará insuficiente. En estas situaciones\n",
    "queremos poder crear nuestros propios tipos, que almacenen la información relevante\n",
    "para el problema a resolver y contengan las funciones para operar con esa información."
   ]
  },
  {
   "cell_type": "markdown",
   "metadata": {},
   "source": [
    "Por ejemplo, si se quiere representar un punto en el plano, es posible hacerlo mediante una\n",
    "tupla de dos elementos, pero esta implementación es limitada, ya que si se quiere poder operar\n",
    "con distintos puntos (sumarlos, restarlos o calcular la distancia entre ellos) se deberán tener\n",
    "funciones sueltas para realizar las diversas operaciones."
   ]
  },
  {
   "cell_type": "markdown",
   "metadata": {},
   "source": [
    "Podemos hacer algo mejor definiendo un nuevo tipo Punto, que almacene la información\n",
    "relacionada con el punto, y contenga las operaciones nos interese realizar sobre él."
   ]
  },
  {
   "cell_type": "markdown",
   "metadata": {},
   "source": [
    "### 14.3.1. Nuestra primera clase: Punto"
   ]
  },
  {
   "cell_type": "markdown",
   "metadata": {},
   "source": [
    "Queremos definir nuestra clase que represente un punto en el plano. Lo primero que debemos\n",
    "notar es que existen varias formas de representar un punto en el plano, por ejemplo, coordenadas\n",
    "polares o coordenadas cartesianas. Además, existen varias operaciones que se pueden\n",
    "realizar sobre un punto del plano, e implementarlas todas podría llevar mucho tiempo."
   ]
  },
  {
   "cell_type": "markdown",
   "metadata": {},
   "source": [
    "En esta primera implementación, optaremos por utilizar la representación de coordenadas\n",
    "cartesianas, e iremos implementando las operaciones a medida que las vayamos necesitando."
   ]
  },
  {
   "cell_type": "markdown",
   "metadata": {},
   "source": [
    "En primer lugar, creamos una clase Punto que simplemente almacena las coordenadas."
   ]
  },
  {
   "cell_type": "code",
   "execution_count": 4,
   "metadata": {},
   "outputs": [],
   "source": [
    "class Punto(object):\n",
    "    \"\"\"Representación de un punto en el plano, los atributos x e y \n",
    "       que representan los valores de las coordenadas cartesianas.\"\"\"\n",
    "    def __init__(self, x=0, y=0):\n",
    "        \"Constructor de Punto, x e y deben ser numéricos\"\n",
    "        self.x = x\n",
    "        self.y = y"
   ]
  },
  {
   "cell_type": "markdown",
   "metadata": {},
   "source": [
    "En la primera línea de código indicamos que vamos a crear una nueva clase, llamada Punto\n",
    "La palabra object entre paréntesis indica que la clase que estamos creando es un objeto básico,\n",
    "no está basado en ningún objeto más complejo."
   ]
  },
  {
   "cell_type": "markdown",
   "metadata": {},
   "source": [
    "Además definimos uno de los métodos especiales, __init__, el constructor de la clase.\n",
    "Este método se llama cada vez que se crea una nueva instancia de la clase."
   ]
  },
  {
   "cell_type": "markdown",
   "metadata": {},
   "source": [
    "Este método, al igual que todos los métodos de cualquier clase, recibe como primer parámetro\n",
    "a la instancia sobre la que está trabajando. Por convención a ese primer parámetro se lo suele llamar self (que podríamos traducir como yo mismo), pero puede llamarse de cualquier\n",
    "forma."
   ]
  },
  {
   "cell_type": "markdown",
   "metadata": {},
   "source": [
    "Para definir atributos, basta con definir una variable dentro de la instancia, es una buena\n",
    "idea definir todos los atributos de nuestras instancias en el constructor, de modo que se creen\n",
    "con algún valor válido. En nuestro ejemplo self.x y self.y y se usarán como punto.x y\n",
    "punto.y."
   ]
  },
  {
   "cell_type": "markdown",
   "metadata": {},
   "source": [
    "Para utilizar esta clase que acabamos de definir, lo haremos de la siguiente forma:"
   ]
  },
  {
   "cell_type": "code",
   "execution_count": 9,
   "metadata": {},
   "outputs": [
    {
     "name": "stdout",
     "output_type": "stream",
     "text": [
      "<__main__.Punto object at 0x000001DBC9F60370>\n",
      "5\n",
      "7\n"
     ]
    }
   ],
   "source": [
    "p=Punto(5,7)\n",
    "print(p)\n",
    "print(p.x)\n",
    "print(p.y)"
   ]
  },
  {
   "cell_type": "markdown",
   "metadata": {},
   "source": [
    "Al realizar la llamada Punto(5,7), se creó un nuevo punto, y se almacenó una referencia\n",
    "a ese punto en la variable p. 5 y 7 son los valores que se asignaron a x e y respectivamente."
   ]
  },
  {
   "cell_type": "markdown",
   "metadata": {},
   "source": [
    "Si bien nosotros no lo invocamos explícitamente, internamente Python realizó la llamada al\n",
    "método __init__, asignando así los valores de la forma que se indica en el constructor."
   ]
  },
  {
   "cell_type": "markdown",
   "metadata": {},
   "source": [
    "### 14.3.2 Agregando validaciones al constructor"
   ]
  },
  {
   "cell_type": "markdown",
   "metadata": {},
   "source": [
    "Hemos creado una clase Punto que permite guardar valores x e y. Sin embargo, por más\n",
    "que en la documentación se indique que los valores deben ser numéricos, el código mostrado\n",
    "hasta ahora no impide que a x e y se les asigne un valor cualquiera, no numérico."
   ]
  },
  {
   "cell_type": "code",
   "execution_count": 10,
   "metadata": {},
   "outputs": [
    {
     "name": "stdout",
     "output_type": "stream",
     "text": [
      "A\n",
      "True\n"
     ]
    }
   ],
   "source": [
    "q=Punto(\"A\", True)\n",
    "print(q.x)\n",
    "print(q.y)"
   ]
  },
  {
   "cell_type": "markdown",
   "metadata": {},
   "source": [
    "Si queremos impedir que esto suceda, debemos agregar validaciones al constructor, como\n",
    "las vistas en unidades anteriores."
   ]
  },
  {
   "cell_type": "markdown",
   "metadata": {},
   "source": [
    "Verificaremos que los valores pasados para x e y sean numéricos, utilizando la función\n",
    "es_numero, que incluiremos en un módulo llamado validaciones:"
   ]
  },
  {
   "cell_type": "code",
   "execution_count": 15,
   "metadata": {},
   "outputs": [],
   "source": [
    "def es_numero(valor):\n",
    "    \"\"\" Indica si un valor es númerico o no. \"\"\"\n",
    "    return isinstance(valor, (int, float, complex))\n",
    "\n",
    "class Punto(object):\n",
    "    \"\"\"Representación de un punto en el plano, los atributos x e y \n",
    "       que representan los valores de las coordenadas cartesianas.\"\"\"\n",
    "    def __init__(self, x=0, y=0):\n",
    "        \"\"\" Constructor de Punto, x e y deben ser numéricos,\n",
    "            de no ser así, se levanta una excepción TypeError \"\"\"\n",
    "        if es_numero(x) and es_numero(y):\n",
    "            self.x = x\n",
    "            self.y = y\n",
    "        else:\n",
    "            raise TypeError(\"x e y deben ser valores númericos\")"
   ]
  },
  {
   "cell_type": "markdown",
   "metadata": {},
   "source": [
    "Este constructor impide que se creen instancias con valores inválidos para x e y."
   ]
  },
  {
   "cell_type": "code",
   "execution_count": 16,
   "metadata": {},
   "outputs": [
    {
     "ename": "TypeError",
     "evalue": "x e y deben ser valores númericos",
     "output_type": "error",
     "traceback": [
      "\u001b[1;31m---------------------------------------------------------------------------\u001b[0m",
      "\u001b[1;31mTypeError\u001b[0m                                 Traceback (most recent call last)",
      "\u001b[1;32m~\\AppData\\Local\\Temp\\ipykernel_41032\\2430978348.py\u001b[0m in \u001b[0;36m<module>\u001b[1;34m\u001b[0m\n\u001b[1;32m----> 1\u001b[1;33m \u001b[0mq\u001b[0m\u001b[1;33m=\u001b[0m\u001b[0mPunto\u001b[0m\u001b[1;33m(\u001b[0m\u001b[1;34m\"A\"\u001b[0m\u001b[1;33m,\u001b[0m \u001b[1;32mTrue\u001b[0m\u001b[1;33m)\u001b[0m\u001b[1;33m\u001b[0m\u001b[1;33m\u001b[0m\u001b[0m\n\u001b[0m",
      "\u001b[1;32m~\\AppData\\Local\\Temp\\ipykernel_41032\\841609070.py\u001b[0m in \u001b[0;36m__init__\u001b[1;34m(self, x, y)\u001b[0m\n\u001b[0;32m     13\u001b[0m             \u001b[0mself\u001b[0m\u001b[1;33m.\u001b[0m\u001b[0my\u001b[0m \u001b[1;33m=\u001b[0m \u001b[0my\u001b[0m\u001b[1;33m\u001b[0m\u001b[1;33m\u001b[0m\u001b[0m\n\u001b[0;32m     14\u001b[0m         \u001b[1;32melse\u001b[0m\u001b[1;33m:\u001b[0m\u001b[1;33m\u001b[0m\u001b[1;33m\u001b[0m\u001b[0m\n\u001b[1;32m---> 15\u001b[1;33m             \u001b[1;32mraise\u001b[0m \u001b[0mTypeError\u001b[0m\u001b[1;33m(\u001b[0m\u001b[1;34m\"x e y deben ser valores númericos\"\u001b[0m\u001b[1;33m)\u001b[0m\u001b[1;33m\u001b[0m\u001b[1;33m\u001b[0m\u001b[0m\n\u001b[0m",
      "\u001b[1;31mTypeError\u001b[0m: x e y deben ser valores númericos"
     ]
    }
   ],
   "source": [
    "q=Punto(\"A\", True)"
   ]
  },
  {
   "cell_type": "markdown",
   "metadata": {},
   "source": [
    "### 14.3.3. Agregando operaciones"
   ]
  },
  {
   "cell_type": "markdown",
   "metadata": {},
   "source": [
    "Hasta ahora hemos creado una clase Punto que permite construirla con un par de valores,\n",
    "que deben ser sí o sí numéricos, pero no podemos operar con esos valores. Para apreciar la\n",
    "potencia de los objetos, tenemos que definir operaciones adicionales que vayamos a querer\n",
    "realizar sobre esos puntos."
   ]
  },
  {
   "cell_type": "markdown",
   "metadata": {},
   "source": [
    "Queremos, por ejemplo, poder calcular la distancia entre dos puntos. Para ello definimos\n",
    "un nuevo método distancia que recibe el punto de la instancia actual y el punto para el cual\n",
    "se quiere calcular la distancia."
   ]
  },
  {
   "cell_type": "code",
   "execution_count": 27,
   "metadata": {},
   "outputs": [],
   "source": [
    "class Punto(object):\n",
    "    \"\"\"Representación de un punto en el plano, los atributos x e y \n",
    "       que representan los valores de las coordenadas cartesianas.\"\"\"\n",
    "    def __init__(self, x=0, y=0):\n",
    "        \"\"\" Constructor de Punto, x e y deben ser numéricos,\n",
    "            de no ser así, se levanta una excepción TypeError \"\"\"\n",
    "        if es_numero(x) and es_numero(y):\n",
    "            self.x = x\n",
    "            self.y = y\n",
    "        else:\n",
    "            raise TypeError(\"x e y deben ser valores númericos\")\n",
    "    def distancia(self, otro):\n",
    "        \"\"\" Devuelve una distancia entre ambos puntos. \"\"\"\n",
    "        dx = self.x - otro.x\n",
    "        dy = self.y - otro.y\n",
    "        return(dx*dx + dy*dy)**0.5\n",
    "    \n",
    "def es_numero(valor):\n",
    "    \"\"\" Indica si un valor es númerico o no. \"\"\"\n",
    "    return isinstance(valor, (int, float, complex))"
   ]
  },
  {
   "cell_type": "code",
   "execution_count": 28,
   "metadata": {},
   "outputs": [
    {
     "name": "stdout",
     "output_type": "stream",
     "text": [
      "5.0\n"
     ]
    }
   ],
   "source": [
    "p=Punto(5,7)\n",
    "q=Punto(2,3)\n",
    "print(p.distancia(q))"
   ]
  },
  {
   "cell_type": "markdown",
   "metadata": {},
   "source": [
    "Podemos ver, sin embargo, que la operación para calcular la distancia incluye la operación\n",
    "de restar dos puntos y la de obtener la norma de un vector. Sería deseable incluir también estas\n",
    "dos operaciones dentro de la clase Punto."
   ]
  },
  {
   "cell_type": "markdown",
   "metadata": {},
   "source": [
    "Agregaremos, entonces, el método para restar dos puntos:"
   ]
  },
  {
   "cell_type": "code",
   "execution_count": 21,
   "metadata": {},
   "outputs": [],
   "source": [
    "def restar(self, otro):\n",
    "    \"\"\" Devuelve un nuevo punto, con la resta entre dos puntos. \"\"\"\n",
    "    return Punto(self.x - otro.x, self.y - otro.y)"
   ]
  },
  {
   "cell_type": "markdown",
   "metadata": {},
   "source": [
    "La resta entre dos puntos es un nuevo punto. Es por ello que este método devuelve un\n",
    "nuevo punto, en lugar de modificar el punto actual."
   ]
  },
  {
   "cell_type": "markdown",
   "metadata": {},
   "source": [
    "A continuación, definimos el método para calcular la norma del vector que se forma uniendo\n",
    "un punto con el origen."
   ]
  },
  {
   "cell_type": "code",
   "execution_count": 23,
   "metadata": {},
   "outputs": [],
   "source": [
    "def norma(self):\n",
    "    \"\"\" Devuelve la norma del vector que va desde el origen\n",
    "        hasta el punto. \"\"\"\n",
    "    return (self.x*self.x + self.y*self.y)**0.5"
   ]
  },
  {
   "cell_type": "markdown",
   "metadata": {},
   "source": [
    "En base a estos dos métodos podemos ahora volver a escribir el método distancia para\n",
    "que aproveche el código ambos:"
   ]
  },
  {
   "cell_type": "code",
   "execution_count": 24,
   "metadata": {},
   "outputs": [],
   "source": [
    "def distancia(self, otro):\n",
    "    \"\"\" Devuelve la distancia entre ambos puntos. \"\"\"\n",
    "    r = self.restar(otro)\n",
    "    return r.norma()"
   ]
  },
  {
   "cell_type": "markdown",
   "metadata": {},
   "source": [
    "En definitiva, hemos definido tres operaciones en la clase Punto, que nos sirve para calcular\n",
    "restas, normas de vectores al origen, y distancias entre puntos."
   ]
  },
  {
   "cell_type": "code",
   "execution_count": 32,
   "metadata": {},
   "outputs": [],
   "source": [
    "class Punto(object):\n",
    "    \"\"\"Representación de un punto en el plano, los atributos x e y \n",
    "       que representan los valores de las coordenadas cartesianas.\"\"\"\n",
    "    def __init__(self, x=0, y=0):\n",
    "        \"\"\" Constructor de Punto, x e y deben ser numéricos,\n",
    "            de no ser así, se levanta una excepción TypeError \"\"\"\n",
    "        if es_numero(x) and es_numero(y):\n",
    "            self.x = x\n",
    "            self.y = y\n",
    "        else:\n",
    "            raise TypeError(\"x e y deben ser valores númericos\")\n",
    "    \n",
    "    def restar(self, otro):\n",
    "        \"\"\" Devuelve un nuevo punto, con la resta entre dos puntos. \"\"\"\n",
    "        return Punto(self.x - otro.x, self.y - otro.y)\n",
    "    \n",
    "    def norma(self):\n",
    "        \"\"\" Devuelve la norma del vector que va desde el origen\n",
    "            hasta el punto. \"\"\"\n",
    "        return (self.x*self.x + self.y*self.y)**0.5\n",
    "    \n",
    "    def distancia(self, otro):\n",
    "        \"\"\" Devuelve la distancia entre ambos puntos. \"\"\"\n",
    "        r = self.restar(otro)\n",
    "        return r.norma()\n",
    "    \n",
    "def es_numero(valor):\n",
    "    \"\"\" Indica si un valor es númerico o no. \"\"\"\n",
    "    return isinstance(valor, (int, float, complex))"
   ]
  },
  {
   "cell_type": "code",
   "execution_count": 35,
   "metadata": {},
   "outputs": [
    {
     "name": "stdout",
     "output_type": "stream",
     "text": [
      "3 , 4\n",
      "5.0\n"
     ]
    },
    {
     "data": {
      "text/plain": [
       "1.4142135623730951"
      ]
     },
     "execution_count": 35,
     "metadata": {},
     "output_type": "execute_result"
    }
   ],
   "source": [
    "p=Punto(5,7)\n",
    "q=Punto(2,3)\n",
    "r= p.restar(q)\n",
    "print(r.x,',', r.y)\n",
    "print(r.norma())\n",
    "q.distancia(r)"
   ]
  },
  {
   "cell_type": "markdown",
   "metadata": {},
   "source": [
    "### 14.4. Métodos especiales"
   ]
  },
  {
   "cell_type": "markdown",
   "metadata": {},
   "source": [
    "Así como el constructor, __init__, existen diversos métodos especiales que, si están definidos\n",
    "en nuestra clase, Python los llamará por nosotros cuando se utilice una instancia en\n",
    "situaciones particulares."
   ]
  },
  {
   "cell_type": "markdown",
   "metadata": {},
   "source": [
    "### 14.4.1. Un método para mostrar objetos"
   ]
  },
  {
   "cell_type": "markdown",
   "metadata": {},
   "source": [
    "Para mostrar objetos, Python indica que hay que agregarle a la clase un método especial,\n",
    "llamado __str__ que debe devolver una cadena de caracteres con lo que queremos mostrar.\n",
    "Ese método se invoca cada vez que se llama a la función str."
   ]
  },
  {
   "cell_type": "markdown",
   "metadata": {},
   "source": [
    "El método __str__ tiene un solo parámetro, self."
   ]
  },
  {
   "cell_type": "markdown",
   "metadata": {},
   "source": [
    "En nuestro caso decidimos mostrar el punto como un par ordenado, por lo que escribimos\n",
    "el siguiente método dentro de la clase Punto:"
   ]
  },
  {
   "cell_type": "code",
   "execution_count": 36,
   "metadata": {},
   "outputs": [],
   "source": [
    "class Punto(object):\n",
    "    \"\"\"Representación de un punto en el plano, los atributos x e y \n",
    "       que representan los valores de las coordenadas cartesianas.\"\"\"\n",
    "    def __init__(self, x=0, y=0):\n",
    "        \"\"\" Constructor de Punto, x e y deben ser numéricos,\n",
    "            de no ser así, se levanta una excepción TypeError \"\"\"\n",
    "        if es_numero(x) and es_numero(y):\n",
    "            self.x = x\n",
    "            self.y = y\n",
    "        else:\n",
    "            raise TypeError(\"x e y deben ser valores númericos\")\n",
    "    def __str__(self):\n",
    "        \"\"\" Muestra el punto como un par ordenado. \"\"\"\n",
    "        return \"(\" + str(self.x) + \", \" + str(self.y) + \")\"\n",
    "    \n",
    "    def restar(self, otro):\n",
    "        \"\"\" Devuelve un nuevo punto, con la resta entre dos puntos. \"\"\"\n",
    "        return Punto(self.x - otro.x, self.y - otro.y)\n",
    "    \n",
    "    def norma(self):\n",
    "        \"\"\" Devuelve la norma del vector que va desde el origen\n",
    "            hasta el punto. \"\"\"\n",
    "        return (self.x*self.x + self.y*self.y)**0.5\n",
    "    \n",
    "    def distancia(self, otro):\n",
    "        \"\"\" Devuelve la distancia entre ambos puntos. \"\"\"\n",
    "        r = self.restar(otro)\n",
    "        return r.norma()\n",
    "    \n",
    "def es_numero(valor):\n",
    "    \"\"\" Indica si un valor es númerico o no. \"\"\"\n",
    "    return isinstance(valor, (int, float, complex))"
   ]
  },
  {
   "cell_type": "markdown",
   "metadata": {},
   "source": [
    "Una vez definido este método, nuestro punto se mostrará como un par ordenado cuando\n",
    "se necesite una representación de cadenas."
   ]
  },
  {
   "cell_type": "code",
   "execution_count": 39,
   "metadata": {},
   "outputs": [],
   "source": [
    "p=Punto(-6,18)"
   ]
  },
  {
   "cell_type": "code",
   "execution_count": 40,
   "metadata": {},
   "outputs": [
    {
     "data": {
      "text/plain": [
       "'(-6, 18)'"
      ]
     },
     "execution_count": 40,
     "metadata": {},
     "output_type": "execute_result"
    }
   ],
   "source": [
    "str(p)"
   ]
  },
  {
   "cell_type": "code",
   "execution_count": 41,
   "metadata": {},
   "outputs": [
    {
     "name": "stdout",
     "output_type": "stream",
     "text": [
      "(-6, 18)\n"
     ]
    }
   ],
   "source": [
    "print(p)"
   ]
  },
  {
   "cell_type": "markdown",
   "metadata": {},
   "source": [
    "Vemos que con str(p) se obtiene la cadena construida dentro de __str__, y que internamente\n",
    "Python llama a __str__ cuando se le pide que imprima una variable de la clase Punto."
   ]
  },
  {
   "cell_type": "markdown",
   "metadata": {},
   "source": [
    "### 14.4.2. Métodos para operar matemáticamente"
   ]
  },
  {
   "cell_type": "markdown",
   "metadata": {},
   "source": [
    "Ya hemos visto un método que permitía restar dos puntos. Si bien esta implementación es\n",
    "perfectamente válida, no es posible usar esa función para realizar una resta con el operador -."
   ]
  },
  {
   "cell_type": "code",
   "execution_count": 42,
   "metadata": {},
   "outputs": [
    {
     "ename": "TypeError",
     "evalue": "unsupported operand type(s) for -: 'Punto' and 'Punto'",
     "output_type": "error",
     "traceback": [
      "\u001b[1;31m---------------------------------------------------------------------------\u001b[0m",
      "\u001b[1;31mTypeError\u001b[0m                                 Traceback (most recent call last)",
      "\u001b[1;32m~\\AppData\\Local\\Temp\\ipykernel_41032\\2616983831.py\u001b[0m in \u001b[0;36m<module>\u001b[1;34m\u001b[0m\n\u001b[0;32m      1\u001b[0m \u001b[0mp\u001b[0m\u001b[1;33m=\u001b[0m\u001b[0mPunto\u001b[0m\u001b[1;33m(\u001b[0m\u001b[1;36m3\u001b[0m\u001b[1;33m,\u001b[0m\u001b[1;36m4\u001b[0m\u001b[1;33m)\u001b[0m\u001b[1;33m\u001b[0m\u001b[1;33m\u001b[0m\u001b[0m\n\u001b[0;32m      2\u001b[0m \u001b[0mq\u001b[0m\u001b[1;33m=\u001b[0m\u001b[0mPunto\u001b[0m\u001b[1;33m(\u001b[0m\u001b[1;36m2\u001b[0m\u001b[1;33m,\u001b[0m\u001b[1;36m5\u001b[0m\u001b[1;33m)\u001b[0m\u001b[1;33m\u001b[0m\u001b[1;33m\u001b[0m\u001b[0m\n\u001b[1;32m----> 3\u001b[1;33m \u001b[0mprint\u001b[0m\u001b[1;33m(\u001b[0m\u001b[0mp\u001b[0m\u001b[1;33m-\u001b[0m\u001b[0mq\u001b[0m\u001b[1;33m)\u001b[0m\u001b[1;33m\u001b[0m\u001b[1;33m\u001b[0m\u001b[0m\n\u001b[0m",
      "\u001b[1;31mTypeError\u001b[0m: unsupported operand type(s) for -: 'Punto' and 'Punto'"
     ]
    }
   ],
   "source": [
    "p=Punto(3,4)\n",
    "q=Punto(2,5)\n",
    "print(p-q)"
   ]
  },
  {
   "cell_type": "markdown",
   "metadata": {},
   "source": [
    "Si queremos que este operador (o el equivalente para la suma) funcione, será necesario\n",
    "implementar algunos métodos especiales."
   ]
  },
  {
   "cell_type": "code",
   "execution_count": 44,
   "metadata": {},
   "outputs": [],
   "source": [
    "class Punto(object):\n",
    "    \"\"\"Representación de un punto en el plano, los atributos x e y \n",
    "       que representan los valores de las coordenadas cartesianas.\"\"\"\n",
    "    def __init__(self, x=0, y=0):\n",
    "        \"\"\" Constructor de Punto, x e y deben ser numéricos,\n",
    "            de no ser así, se levanta una excepción TypeError \"\"\"\n",
    "        if es_numero(x) and es_numero(y):\n",
    "            self.x = x\n",
    "            self.y = y\n",
    "        else:\n",
    "            raise TypeError(\"x e y deben ser valores númericos\")\n",
    "            \n",
    "    def __str__(self):\n",
    "        \"\"\" Muestra el punto como un par ordenado. \"\"\"\n",
    "        return \"(\" + str(self.x) + \", \" + str(self.y) + \")\"\n",
    "    \n",
    "    def __add__(self, otro):\n",
    "        \"\"\" Devuelve la suma de ambos puntos. \"\"\"\n",
    "        return Punto(self.x + otro.x, self.y + otro.y)\n",
    "    \n",
    "    def __sub__(self,otro):\n",
    "        \"\"\" Devuelve la resta de ambos puntos. \"\"\"\n",
    "        return Punto(self.x - otro.x, self.y - otro.y)\n",
    "    \n",
    "    def restar(self, otro):\n",
    "        \"\"\" Devuelve un nuevo punto, con la resta entre dos puntos. \"\"\"\n",
    "        return Punto(self.x - otro.x, self.y - otro.y)\n",
    "    \n",
    "    def norma(self):\n",
    "        \"\"\" Devuelve la norma del vector que va desde el origen\n",
    "            hasta el punto. \"\"\"\n",
    "        return (self.x*self.x + self.y*self.y)**0.5\n",
    "    \n",
    "    def distancia(self, otro):\n",
    "        \"\"\" Devuelve la distancia entre ambos puntos. \"\"\"\n",
    "        r = self.restar(otro)\n",
    "        return r.norma()\n",
    "    \n",
    "def es_numero(valor):\n",
    "    \"\"\" Indica si un valor es númerico o no. \"\"\"\n",
    "    return isinstance(valor, (int, float, complex))"
   ]
  },
  {
   "cell_type": "markdown",
   "metadata": {},
   "source": [
    "El método __add__ es el que se utiliza para el operador +, el primer parámetro es el primer\n",
    "operando de la suma, y el segundo parámetro el segundo operando. Debe devolver una\n",
    "nueva instancia, nunca modificar la clase actual. De la misma forma, el método __sub__ es el\n",
    "utilizado por el operador -."
   ]
  },
  {
   "cell_type": "markdown",
   "metadata": {},
   "source": [
    "Ahora es posible operar con los puntos directamente mediante los operadores, en lugar de\n",
    "llamar a métodos:"
   ]
  },
  {
   "cell_type": "code",
   "execution_count": 45,
   "metadata": {},
   "outputs": [],
   "source": [
    "p=Punto(3,4)\n",
    "q=Punto(2,5)"
   ]
  },
  {
   "cell_type": "code",
   "execution_count": 46,
   "metadata": {},
   "outputs": [
    {
     "name": "stdout",
     "output_type": "stream",
     "text": [
      "(1, -1)\n"
     ]
    }
   ],
   "source": [
    "print(p-q)"
   ]
  },
  {
   "cell_type": "code",
   "execution_count": 47,
   "metadata": {},
   "outputs": [
    {
     "name": "stdout",
     "output_type": "stream",
     "text": [
      "(5, 9)\n"
     ]
    }
   ],
   "source": [
    "print(p+q)"
   ]
  },
  {
   "cell_type": "markdown",
   "metadata": {},
   "source": [
    "De la misma forma, si se quiere poder utilizar cualquier otro operador matemático, será\n",
    "necesario definir el método apropiado."
   ]
  },
  {
   "cell_type": "markdown",
   "metadata": {},
   "source": [
    "### 14.5. Creando clases más complejas"
   ]
  },
  {
   "cell_type": "markdown",
   "metadata": {},
   "source": [
    "Nos contratan para diseñar una clase para evaluar la relación calidad-precio de diversos\n",
    "hoteles. Nos dicen que los atributos que se cargarán de los hoteles son: nombre, ubicación,\n",
    "puntaje obtenido por votación, y precio, y que además de guardar hoteles y mostrarlos, debemos\n",
    "poder compararlos en términos de sus valores de relación calidad-precio, de modo tal que\n",
    "x <y signifique que el hotel x es peor en cuanto a la relación calidad-precio que el hotel y, y que\n",
    "dos hoteles son iguales si tienen la misma relación calidad-precio. La relación calidad-precio\n",
    "de un hotel la definen nuestros clientes como (puntaje^2)*10./precio."
   ]
  },
  {
   "cell_type": "markdown",
   "metadata": {},
   "source": [
    "Además, y como resultado de todo esto, tendremos que ser capaces de ordenar de menor a\n",
    "mayor una lista de hoteles, usando el orden que nos acaban de definir."
   ]
  },
  {
   "cell_type": "markdown",
   "metadata": {},
   "source": [
    "Averiguamos un poco más respecto de los atributos de los hoteles:"
   ]
  },
  {
   "cell_type": "markdown",
   "metadata": {},
   "source": [
    "-El nombre y la ubicación deben ser cadenas no vacías."
   ]
  },
  {
   "cell_type": "markdown",
   "metadata": {},
   "source": [
    "-El puntaje debe ser un número (sin restricciones sobre su valor)"
   ]
  },
  {
   "cell_type": "markdown",
   "metadata": {},
   "source": [
    "-El precio debe ser un número distinto de cero."
   ]
  },
  {
   "cell_type": "markdown",
   "metadata": {},
   "source": [
    "Empezamos a diseñar la clase"
   ]
  },
  {
   "cell_type": "markdown",
   "metadata": {},
   "source": [
    "-El método __init__:"
   ]
  },
  {
   "cell_type": "markdown",
   "metadata": {},
   "source": [
    "Creará objetos de la clase Hotel con los atributos que se indicaron (nombre, ubicación,\n",
    "puntaje, precio)."
   ]
  },
  {
   "cell_type": "markdown",
   "metadata": {},
   "source": [
    "Los valores por omisión para la construcción son: puntaje en 0, precio en\n",
    "float(\"inf\") (infinito), nombre y ubicación en ’*’ (el precio muy alto sirve para\n",
    "que si no se informa el precio de un hotel, se asuma el mayor valor posible."
   ]
  },
  {
   "cell_type": "markdown",
   "metadata": {},
   "source": [
    "Necesitamos validar que puntaje y precio sean números (utilizaremos la función\n",
    "es_numero que ya se usó en el caso de los puntos). Cuando un precio viene en\n",
    "cero se reemplaza su valor por float(\"inf\") (de modo de asegurar que el precio\n",
    "nunca quede en cero)."
   ]
  },
  {
   "cell_type": "markdown",
   "metadata": {},
   "source": [
    "Necesitamos validar que nombre y ubicación sean cadenas no vacías (para lo cual\n",
    "tenemos que construir una función es_cadena_no_vacia)."
   ]
  },
  {
   "cell_type": "markdown",
   "metadata": {},
   "source": [
    "Cuando los datos no satisfagan los requisitos se levantará una excepción\n",
    "TypeError."
   ]
  },
  {
   "cell_type": "markdown",
   "metadata": {},
   "source": [
    "Contará con un método __str__ para mostrar a los hoteles mediante una cadena del\n",
    "estilo:"
   ]
  },
  {
   "cell_type": "markdown",
   "metadata": {},
   "source": [
    "\"Hotel City de Mercedes - Puntaje: 3.25 - Precio: 78 pesos\"."
   ]
  },
  {
   "cell_type": "markdown",
   "metadata": {},
   "source": [
    "Respecto a la relación de orden entre hoteles, la clase deberá poder contar con los métodos\n",
    "necesarios para realizar esas comparaciones y para ordenar una lista de hoteles."
   ]
  },
  {
   "cell_type": "markdown",
   "metadata": {},
   "source": [
    "Casi todas las tareas, podemos realizarlas con los temas vistos para la creación de la clase\n",
    "Punto. Para el último ítem deberemos introducir nuevos métodos especiales."
   ]
  },
  {
   "cell_type": "markdown",
   "metadata": {},
   "source": [
    "__Ejercicio 14.1.__ Escribir la función es_cadena_no_vacia(valor) que decide si un valor\n",
    "cualquiera es una cadena no vacía o no, e incluirla en el módulo validaciones."
   ]
  },
  {
   "cell_type": "code",
   "execution_count": 10,
   "metadata": {},
   "outputs": [],
   "source": [
    "def es_cadena_no_vacia(cadena):\n",
    "    \"\"\" Valida si una cadena de texto se encuentra vacía o no. \"\"\"\n",
    "    if len(cadena) > 0:\n",
    "        return cadena"
   ]
  },
  {
   "cell_type": "markdown",
   "metadata": {},
   "source": [
    "El fragmento inicial de la clase programada en Python queda así:"
   ]
  },
  {
   "cell_type": "code",
   "execution_count": 2,
   "metadata": {},
   "outputs": [],
   "source": [
    "class Hotel():\n",
    "    \"\"\" Hotel: sus atributos son: nombre, ubicación, puntaje y precio. \"\"\"\n",
    "    \n",
    "    def __init__(self, nombre='*', ubicacion='*', puntaje=0, precio=float(\"inf\")):\n",
    "        \n",
    "        \"\"\" nombre y ubicación deben ser cadenas no vacías,\n",
    "            puntaje y precio son números.\n",
    "            Si el precio es 0 se reemplaza por infinito. \"\"\"\n",
    "        \n",
    "        if es_cadena_no_vacia(nombre):\n",
    "            self.nombre = nombre\n",
    "        else:\n",
    "            raise TypeError(\"El nombre debe ser una cadena no vacía\")\n",
    "        \n",
    "        if es_cadena_no_vacia(ubicacion):\n",
    "            self.ubicacion = ubicacion\n",
    "        else:\n",
    "            raise TypeError(\"La ubicacion debe ser una cadena no vacía\")\n",
    "        \n",
    "        if es_numero(puntaje):\n",
    "            self.puntaje = puntaje\n",
    "        else:\n",
    "            raise TypeError(\"El puntaje debe ser un número\")\n",
    "        \n",
    "        if es_numero(precio):\n",
    "            if precio != 0:\n",
    "                self.precio = precio\n",
    "            else:\n",
    "                raise TypeError(\"El precio debe ser un número\")\n",
    "                \n",
    "    def __str__(self):\n",
    "        \"\"\" Muestra el hotel según lo requerido. \"\"\"\n",
    "        return (self.nombre + \" de \" + self.ubicacion + \\\n",
    "               \" - Puntaje: \" + str(self.puntaje) + \" - Precio: \"+ \\\n",
    "                str(self.precio)+ \" pesos.\")\n",
    "    \n",
    "def es_cadena_no_vacia(cadena):\n",
    "    \"\"\" Valida si una cadena de texto se encuentra vacía o no. \"\"\"\n",
    "    if len(cadena) > 0:\n",
    "        return cadena\n",
    "\n",
    "def es_numero(valor):\n",
    "    \"\"\" Indica si un valor es númerico o no. \"\"\"\n",
    "    return isinstance(valor, (int, float, complex))    "
   ]
  },
  {
   "cell_type": "markdown",
   "metadata": {},
   "source": [
    "Con este código tenemos ya la posibilidad de construir hoteles, con los atributos de los tipos\n",
    "correspondientes, y de mostrar los hoteles según nos lo han solicitado."
   ]
  },
  {
   "cell_type": "code",
   "execution_count": 3,
   "metadata": {},
   "outputs": [],
   "source": [
    "h = Hotel(\"Hotel City\", \"Mercedes\", 3.25, 78)"
   ]
  },
  {
   "cell_type": "code",
   "execution_count": 4,
   "metadata": {},
   "outputs": [
    {
     "name": "stdout",
     "output_type": "stream",
     "text": [
      "Hotel City de Mercedes - Puntaje: 3.25 - Precio: 78 pesos.\n"
     ]
    }
   ],
   "source": [
    "print(h)"
   ]
  },
  {
   "cell_type": "markdown",
   "metadata": {},
   "source": [
    "### 14.5.1. Métodos para comparar objetos"
   ]
  },
  {
   "cell_type": "markdown",
   "metadata": {},
   "source": [
    "Para resolver las comparaciones entre hoteles, será necesario definir algunos métodos especiales\n",
    "que permiten comparar objetos."
   ]
  },
  {
   "cell_type": "markdown",
   "metadata": {},
   "source": [
    "En particular, cuando se quiere que los objetos puedan ser ordenados, el método que se\n",
    "debe definir es __cmp__, que debe devolver:"
   ]
  },
  {
   "cell_type": "markdown",
   "metadata": {},
   "source": [
    "Un valor entero menor a cero, si el primer parámetro es menor al segundo."
   ]
  },
  {
   "cell_type": "markdown",
   "metadata": {},
   "source": [
    "Un valor entero mayor a cero, si el primer parámetro es mayor que el segundo."
   ]
  },
  {
   "cell_type": "markdown",
   "metadata": {},
   "source": [
    "Cero, si ambos parámetros son iguales."
   ]
  },
  {
   "cell_type": "markdown",
   "metadata": {},
   "source": [
    "Para crear el método __cmp__, definiremos primero un método auxiliar ratio(self)\n",
    "que calcula la relación calidad-precio de una instancia de Hotel según la fórmula indicada:"
   ]
  },
  {
   "cell_type": "code",
   "execution_count": 7,
   "metadata": {},
   "outputs": [],
   "source": [
    "def ratio(self):\n",
    "    \"\"\" Calcula la relación calidad-precio de un hotel de acuerdo \n",
    "        a la fórmula que nos dió el cliente. \"\"\"\n",
    "    return ((self.puntaje**2)*10.)/self.precio"
   ]
  },
  {
   "cell_type": "markdown",
   "metadata": {},
   "source": [
    "A partir de este método es muy fácil crear un método __cmp__ que cumpla con la especificación\n",
    "previa."
   ]
  },
  {
   "cell_type": "code",
   "execution_count": 9,
   "metadata": {},
   "outputs": [],
   "source": [
    "def __cmp__(self, otro):\n",
    "    diferencia = self.ratio() - otro.ratio()\n",
    "    if diferencia < 0:\n",
    "        return -1\n",
    "    elif diferencia > 0:\n",
    "        return 1\n",
    "    else:\n",
    "        return 0"
   ]
  },
  {
   "cell_type": "code",
   "execution_count": 2,
   "metadata": {},
   "outputs": [],
   "source": [
    "class Hotel():\n",
    "    \"\"\" Hotel: sus atributos son: nombre, ubicación, puntaje y precio. \"\"\"\n",
    "    \n",
    "    def __init__(self, nombre='*', ubicacion='*', puntaje=0, precio=float(\"inf\")):\n",
    "        \n",
    "        \"\"\" nombre y ubicación deben ser cadenas no vacías,\n",
    "            puntaje y precio son números.\n",
    "            Si el precio es 0 se reemplaza por infinito. \"\"\"\n",
    "        \n",
    "        if es_cadena_no_vacia(nombre):\n",
    "            self.nombre = nombre\n",
    "        else:\n",
    "            raise TypeError(\"El nombre debe ser una cadena no vacía\")\n",
    "        \n",
    "        if es_cadena_no_vacia(ubicacion):\n",
    "            self.ubicacion = ubicacion\n",
    "        else:\n",
    "            raise TypeError(\"La ubicacion debe ser una cadena no vacía\")\n",
    "        \n",
    "        if es_numero(puntaje):\n",
    "            self.puntaje = puntaje\n",
    "        else:\n",
    "            raise TypeError(\"El puntaje debe ser un número\")\n",
    "        \n",
    "        if es_numero(precio):\n",
    "            if precio != 0:\n",
    "                self.precio = precio\n",
    "            else:\n",
    "                raise TypeError(\"El precio debe ser un número\")\n",
    "                \n",
    "    def __str__(self):\n",
    "        \"\"\" Muestra el hotel según lo requerido. \"\"\"\n",
    "        return (self.nombre + \" de \" + self.ubicacion + \\\n",
    "               \" - Puntaje: \" + str(self.puntaje) + \" - Precio: \"+ \\\n",
    "                str(self.precio)+ \" pesos.\")\n",
    "    \n",
    "    def __cmp__(self, otro):\n",
    "        diferencia = self.ratio() - otro.ratio()\n",
    "        if diferencia < 0:\n",
    "            return -1\n",
    "        elif diferencia > 0:\n",
    "            return 1\n",
    "        else:\n",
    "            return 0\n",
    "        \n",
    "def ratio(self):\n",
    "    \"\"\" Calcula la relación calidad-precio de un hotel de acuerdo \n",
    "        a la fórmula que nos dió el cliente. \"\"\"\n",
    "    return ((self.puntaje**2)*10.)/self.precio\n",
    "    \n",
    "def es_cadena_no_vacia(cadena):\n",
    "    \"\"\" Valida si una cadena de texto se encuentra vacía o no. \"\"\"\n",
    "    if len(cadena) > 0:\n",
    "        return cadena\n",
    "\n",
    "def es_numero(valor):\n",
    "    \"\"\" Indica si un valor es númerico o no. \"\"\"\n",
    "    return isinstance(valor, (int, float, complex))"
   ]
  },
  {
   "cell_type": "code",
   "execution_count": 25,
   "metadata": {},
   "outputs": [],
   "source": [
    "h = Hotel(\"Hotel City\", \"Mercedes\", 3.25, 78)"
   ]
  },
  {
   "cell_type": "code",
   "execution_count": 26,
   "metadata": {},
   "outputs": [],
   "source": [
    "i = Hotel(\"Hotel Mascardi\", \"Bariloche\", 6, 150)"
   ]
  },
  {
   "cell_type": "code",
   "execution_count": 27,
   "metadata": {},
   "outputs": [
    {
     "data": {
      "text/plain": [
       "False"
      ]
     },
     "execution_count": 27,
     "metadata": {},
     "output_type": "execute_result"
    }
   ],
   "source": [
    "str(i) < str(h)"
   ]
  },
  {
   "cell_type": "code",
   "execution_count": 28,
   "metadata": {},
   "outputs": [
    {
     "data": {
      "text/plain": [
       "False"
      ]
     },
     "execution_count": 28,
     "metadata": {},
     "output_type": "execute_result"
    }
   ],
   "source": [
    "str(i) == str(h)"
   ]
  },
  {
   "cell_type": "code",
   "execution_count": 29,
   "metadata": {},
   "outputs": [
    {
     "data": {
      "text/plain": [
       "True"
      ]
     },
     "execution_count": 29,
     "metadata": {},
     "output_type": "execute_result"
    }
   ],
   "source": [
    "str(i) > str(h)"
   ]
  },
  {
   "cell_type": "markdown",
   "metadata": {},
   "source": [
    "### 14.5.2. Ordenar de menor a mayor listas de hoteles"
   ]
  },
  {
   "cell_type": "markdown",
   "metadata": {},
   "source": [
    "En una unidad anterior vimos que se puede ordenar una lista usando el método sort:"
   ]
  },
  {
   "cell_type": "code",
   "execution_count": 30,
   "metadata": {},
   "outputs": [
    {
     "data": {
      "text/plain": [
       "[-5, 0, 8, 10, 12]"
      ]
     },
     "execution_count": 30,
     "metadata": {},
     "output_type": "execute_result"
    }
   ],
   "source": [
    "l1 = [10,-5, 8, 12, 0]\n",
    "l1.sort()\n",
    "l1"
   ]
  },
  {
   "cell_type": "markdown",
   "metadata": {},
   "source": [
    "De la misma forma, una vez que hemos definido el método __cmp__, podemos ordenar listas\n",
    "de hoteles, ya que internamente el método sort comparará los hoteles mediante el método\n",
    "de comparación que hemos definido:"
   ]
  },
  {
   "cell_type": "code",
   "execution_count": 3,
   "metadata": {},
   "outputs": [],
   "source": [
    "h1=Hotel(\"Hotel 1* normal\", \"MDQ\", 1, 10)\n",
    "h2=Hotel(\"Hotel 2* normal\", \"MDQ\", 2, 40)\n",
    "h3=Hotel(\"Hotel 3* carisimo\", \"MDQ\", 3, 130)\n",
    "h4=Hotel(\"Hotel vale la pena\" ,\"MDQ\", 4, 130)"
   ]
  },
  {
   "cell_type": "code",
   "execution_count": 10,
   "metadata": {},
   "outputs": [],
   "source": [
    "lista = [ h1, h2, h3, h4 ]\n",
    "lista.sort(key=lambda x:x.precio)"
   ]
  },
  {
   "cell_type": "code",
   "execution_count": 11,
   "metadata": {},
   "outputs": [
    {
     "name": "stdout",
     "output_type": "stream",
     "text": [
      "Hotel 1* normal de MDQ - Puntaje: 1 - Precio: 10 pesos.\n",
      "Hotel 2* normal de MDQ - Puntaje: 2 - Precio: 40 pesos.\n",
      "Hotel 3* carisimo de MDQ - Puntaje: 3 - Precio: 130 pesos.\n",
      "Hotel vale la pena de MDQ - Puntaje: 4 - Precio: 130 pesos.\n"
     ]
    }
   ],
   "source": [
    "for x in lista:\n",
    "    print(x)"
   ]
  },
  {
   "cell_type": "markdown",
   "metadata": {},
   "source": [
    "### 14.5.3. Otras formas de comparación"
   ]
  },
  {
   "cell_type": "markdown",
   "metadata": {},
   "source": [
    "Si además de querer listar los hoteles por su relación calidad-precio también se quiere poder\n",
    "listarlos según su puntaje, o según su precio, no se lo puede hacer mediante el método\n",
    "__cmp__."
   ]
  },
  {
   "cell_type": "markdown",
   "metadata": {},
   "source": [
    "Para situaciones como esta, sort puede recibir, opcionalmente, otro parámetro que es la\n",
    "función de comparación a utilizar. Esta función deberá cumplir con el mismo formato que el\n",
    "método __cmp__, pero puede ser una función cualquiera, ya sea un método de una clase o una\n",
    "función externa."
   ]
  },
  {
   "cell_type": "markdown",
   "metadata": {},
   "source": [
    "Además, para simplificar la escritura de este tipo de funciones, podemos utilizar la función\n",
    "de Python cmp, que si le pasamos dos númeroes, devuelve los valores de la forma que\n",
    "necesitamos."
   ]
  },
  {
   "cell_type": "code",
   "execution_count": 14,
   "metadata": {},
   "outputs": [],
   "source": [
    "def cmpPrecio(self, otro):\n",
    "    \"\"\" Compara dos hoteles por su precio. \"\"\"\n",
    "    return cmp(self.precio, otro.precio)"
   ]
  },
  {
   "cell_type": "code",
   "execution_count": 15,
   "metadata": {},
   "outputs": [],
   "source": [
    "def cmpPuntaje(self, otro):\n",
    "    \"\"\" Compara dos hoteles por su puntaje. \"\"\"\n",
    "    return cmp(self.puntaje, otro.puntaje)"
   ]
  },
  {
   "cell_type": "code",
   "execution_count": 16,
   "metadata": {},
   "outputs": [],
   "source": [
    "class Hotel():\n",
    "    \"\"\" Hotel: sus atributos son: nombre, ubicación, puntaje y precio. \"\"\"\n",
    "    \n",
    "    def __init__(self, nombre='*', ubicacion='*', puntaje=0, precio=float(\"inf\")):\n",
    "        \n",
    "        \"\"\" nombre y ubicación deben ser cadenas no vacías,\n",
    "            puntaje y precio son números.\n",
    "            Si el precio es 0 se reemplaza por infinito. \"\"\"\n",
    "        \n",
    "        if es_cadena_no_vacia(nombre):\n",
    "            self.nombre = nombre\n",
    "        else:\n",
    "            raise TypeError(\"El nombre debe ser una cadena no vacía\")\n",
    "        \n",
    "        if es_cadena_no_vacia(ubicacion):\n",
    "            self.ubicacion = ubicacion\n",
    "        else:\n",
    "            raise TypeError(\"La ubicacion debe ser una cadena no vacía\")\n",
    "        \n",
    "        if es_numero(puntaje):\n",
    "            self.puntaje = puntaje\n",
    "        else:\n",
    "            raise TypeError(\"El puntaje debe ser un número\")\n",
    "        \n",
    "        if es_numero(precio):\n",
    "            if precio != 0:\n",
    "                self.precio = precio\n",
    "            else:\n",
    "                raise TypeError(\"El precio debe ser un número\")\n",
    "                \n",
    "    def __str__(self):\n",
    "        \"\"\" Muestra el hotel según lo requerido. \"\"\"\n",
    "        return (self.nombre + \" de \" + self.ubicacion + \\\n",
    "               \" - Puntaje: \" + str(self.puntaje) + \" - Precio: \"+ \\\n",
    "                str(self.precio)+ \" pesos.\")\n",
    "    \n",
    "    def __cmp__(self, otro):\n",
    "        diferencia = self.ratio() - otro.ratio()\n",
    "        if diferencia < 0:\n",
    "            return -1\n",
    "        elif diferencia > 0:\n",
    "            return 1\n",
    "        else:\n",
    "            return 0\n",
    "        \n",
    "    def cmpPrecio(self, otro):\n",
    "        \"\"\" Compara dos hoteles por su precio. \"\"\"\n",
    "        return cmp(self.precio, otro.precio)\n",
    "    \n",
    "    def cmpPuntaje(self, otro):\n",
    "        \"\"\" Compara dos hoteles por su puntaje. \"\"\"\n",
    "        return cmp(self.puntaje, otro.puntaje)\n",
    "        \n",
    "def ratio(self):\n",
    "    \"\"\" Calcula la relación calidad-precio de un hotel de acuerdo \n",
    "        a la fórmula que nos dió el cliente. \"\"\"\n",
    "    return ((self.puntaje**2)*10.)/self.precio\n",
    "    \n",
    "def es_cadena_no_vacia(cadena):\n",
    "    \"\"\" Valida si una cadena de texto se encuentra vacía o no. \"\"\"\n",
    "    if len(cadena) > 0:\n",
    "        return cadena\n",
    "\n",
    "def es_numero(valor):\n",
    "    \"\"\" Indica si un valor es númerico o no. \"\"\"\n",
    "    return isinstance(valor, (int, float, complex))"
   ]
  },
  {
   "cell_type": "markdown",
   "metadata": {},
   "source": [
    "Así, para ordenar según el precio, deberemos hacerlo de la siguiente forma:"
   ]
  },
  {
   "cell_type": "code",
   "execution_count": 17,
   "metadata": {},
   "outputs": [],
   "source": [
    "h1 = Hotel(\"Hotel Guadalajara\", \"Pinamar\", 2, 55)\n",
    "h2 = Hotel(\"Hostería París\", \"Rosario\", 1, 35)\n",
    "h3 = Hotel(\"Apart-Hotel Estocolmo\", \"Esquel\", 3, 105)\n",
    "h4 = Hotel(\"Posada El Cairo\", \"Salta\", 2.5, 15)"
   ]
  },
  {
   "cell_type": "code",
   "execution_count": null,
   "metadata": {},
   "outputs": [],
   "source": [
    "lista = [ h1, h2, h3, h4 ]\n",
    "lista.sort(__cmp__=Hotel.cmpPrecio)"
   ]
  },
  {
   "cell_type": "code",
   "execution_count": null,
   "metadata": {},
   "outputs": [],
   "source": [
    "for hotel in lista:\n",
    "    print(hotel)"
   ]
  },
  {
   "cell_type": "markdown",
   "metadata": {},
   "source": [
    "### 14.5.4. Comparación sólo por igualdad o desigualdad"
   ]
  },
  {
   "cell_type": "markdown",
   "metadata": {},
   "source": [
    "Existen clases, como la clase Punto vista anteriormente, que no se pueden ordenar, ya que\n",
    "no se puede decir si dos puntos son menores o mayores, con lo cual no se puede implementar\n",
    "un método __cmp__."
   ]
  },
  {
   "cell_type": "markdown",
   "metadata": {},
   "source": [
    "Pero en estas clases, en general, será posible comparar si dos objetos son o no iguales, es\n",
    "decir si tienen o no el mismo valor, aún si se trata de objetos distintos."
   ]
  },
  {
   "cell_type": "code",
   "execution_count": 3,
   "metadata": {},
   "outputs": [],
   "source": [
    "class Punto(object):\n",
    "    \"\"\"Representación de un punto en el plano, los atributos x e y \n",
    "       que representan los valores de las coordenadas cartesianas.\"\"\"\n",
    "    def __init__(self, x=0, y=0):\n",
    "        \"\"\" Constructor de Punto, x e y deben ser numéricos,\n",
    "            de no ser así, se levanta una excepción TypeError \"\"\"\n",
    "        if es_numero(x) and es_numero(y):\n",
    "            self.x = x\n",
    "            self.y = y\n",
    "        else:\n",
    "            raise TypeError(\"x e y deben ser valores númericos\")\n",
    "    \n",
    "    def restar(self, otro):\n",
    "        \"\"\" Devuelve un nuevo punto, con la resta entre dos puntos. \"\"\"\n",
    "        return Punto(self.x - otro.x, self.y - otro.y)\n",
    "    \n",
    "    def norma(self):\n",
    "        \"\"\" Devuelve la norma del vector que va desde el origen\n",
    "            hasta el punto. \"\"\"\n",
    "        return (self.x*self.x + self.y*self.y)**0.5\n",
    "    \n",
    "    def distancia(self, otro):\n",
    "        \"\"\" Devuelve la distancia entre ambos puntos. \"\"\"\n",
    "        r = self.restar(otro)\n",
    "        return r.norma()\n",
    "    \n",
    "def es_numero(valor):\n",
    "    \"\"\" Indica si un valor es númerico o no. \"\"\"\n",
    "    return isinstance(valor, (int, float, complex))"
   ]
  },
  {
   "cell_type": "code",
   "execution_count": 21,
   "metadata": {},
   "outputs": [
    {
     "data": {
      "text/plain": [
       "False"
      ]
     },
     "execution_count": 21,
     "metadata": {},
     "output_type": "execute_result"
    }
   ],
   "source": [
    "p = Punto(3,4)\n",
    "q = Punto(3,4)\n",
    "p == q"
   ]
  },
  {
   "cell_type": "markdown",
   "metadata": {},
   "source": [
    "En este caso, por más que los puntos tengan el mismo valor, al no estar definido ningún\n",
    "método de comparación Python no sabe cómo comparar los valores, y lo que compara son las\n",
    "variables. p y q son variables distintas, por más que tengan los mismos valores."
   ]
  },
  {
   "cell_type": "markdown",
   "metadata": {},
   "source": [
    "Para obtener el comportamiento esperado en estos casos, se redefinen los métodos __eq__\n",
    "(correspondiente al operador ==) y __ne__ (correspondiente a != o <>)."
   ]
  },
  {
   "cell_type": "markdown",
   "metadata": {},
   "source": [
    "De forma que para poder comparar si dos puntos son o no iguales, deberemos agregar los\n",
    "siguientes dos métodos a la clase Punto:"
   ]
  },
  {
   "cell_type": "code",
   "execution_count": 1,
   "metadata": {},
   "outputs": [],
   "source": [
    "def __eq__(self, otro):\n",
    "    \"\"\" Devuelve si dos puntos son iguales. \"\"\"\n",
    "    return self.x == otro.x and self.y == otro.y"
   ]
  },
  {
   "cell_type": "code",
   "execution_count": 2,
   "metadata": {},
   "outputs": [],
   "source": [
    "def __ne__(self, otro):\n",
    "    \"\"\" Devuelve si dos puntos son distintos. \"\"\"\n",
    "    return not self == otro"
   ]
  },
  {
   "cell_type": "code",
   "execution_count": 4,
   "metadata": {},
   "outputs": [],
   "source": [
    "class Punto(object):\n",
    "    \"\"\"Representación de un punto en el plano, los atributos x e y \n",
    "       que representan los valores de las coordenadas cartesianas.\"\"\"\n",
    "    def __init__(self, x=0, y=0):\n",
    "        \"\"\" Constructor de Punto, x e y deben ser numéricos,\n",
    "            de no ser así, se levanta una excepción TypeError \"\"\"\n",
    "        if es_numero(x) and es_numero(y):\n",
    "            self.x = x\n",
    "            self.y = y\n",
    "        else:\n",
    "            raise TypeError(\"x e y deben ser valores númericos\")\n",
    "    \n",
    "    def __eq__(self, otro):\n",
    "        \"\"\" Devuelve si dos puntos son iguales. \"\"\"\n",
    "        return self.x == otro.x and self.y == otro.y\n",
    "    \n",
    "    def __ne__(self, otro):\n",
    "        \"\"\" Devuelve si dos puntos son distintos. \"\"\"\n",
    "        return not self == otro\n",
    "    \n",
    "    def restar(self, otro):\n",
    "        \"\"\" Devuelve un nuevo punto, con la resta entre dos puntos. \"\"\"\n",
    "        return Punto(self.x - otro.x, self.y - otro.y)\n",
    "    \n",
    "    def norma(self):\n",
    "        \"\"\" Devuelve la norma del vector que va desde el origen\n",
    "            hasta el punto. \"\"\"\n",
    "        return (self.x*self.x + self.y*self.y)**0.5\n",
    "    \n",
    "    def distancia(self, otro):\n",
    "        \"\"\" Devuelve la distancia entre ambos puntos. \"\"\"\n",
    "        r = self.restar(otro)\n",
    "        return r.norma()\n",
    "    \n",
    "def es_numero(valor):\n",
    "    \"\"\" Indica si un valor es númerico o no. \"\"\"\n",
    "    return isinstance(valor, (int, float, complex))"
   ]
  },
  {
   "cell_type": "code",
   "execution_count": 9,
   "metadata": {},
   "outputs": [],
   "source": [
    "p = Punto(3,4)\n",
    "q = Punto(3,4)"
   ]
  },
  {
   "cell_type": "code",
   "execution_count": 6,
   "metadata": {},
   "outputs": [
    {
     "data": {
      "text/plain": [
       "True"
      ]
     },
     "execution_count": 6,
     "metadata": {},
     "output_type": "execute_result"
    }
   ],
   "source": [
    "p == q"
   ]
  },
  {
   "cell_type": "code",
   "execution_count": 7,
   "metadata": {},
   "outputs": [
    {
     "data": {
      "text/plain": [
       "False"
      ]
     },
     "execution_count": 7,
     "metadata": {},
     "output_type": "execute_result"
    }
   ],
   "source": [
    "p != q"
   ]
  },
  {
   "cell_type": "code",
   "execution_count": 12,
   "metadata": {},
   "outputs": [],
   "source": [
    "r = Punto(2,3)"
   ]
  },
  {
   "cell_type": "code",
   "execution_count": 13,
   "metadata": {},
   "outputs": [
    {
     "data": {
      "text/plain": [
       "False"
      ]
     },
     "execution_count": 13,
     "metadata": {},
     "output_type": "execute_result"
    }
   ],
   "source": [
    "p == r"
   ]
  },
  {
   "cell_type": "code",
   "execution_count": 14,
   "metadata": {},
   "outputs": [
    {
     "data": {
      "text/plain": [
       "True"
      ]
     },
     "execution_count": 14,
     "metadata": {},
     "output_type": "execute_result"
    }
   ],
   "source": [
    "p != r"
   ]
  },
  {
   "cell_type": "markdown",
   "metadata": {},
   "source": [
    "### 15. Polimorfismo, Herencia y Delegación"
   ]
  },
  {
   "cell_type": "markdown",
   "metadata": {},
   "source": [
    "En esta unidad veremos algunos temas que son centrales a la programación orientada a\n",
    "objetos: polimorfismo, herencia y delegación."
   ]
  },
  {
   "cell_type": "markdown",
   "metadata": {},
   "source": [
    "### 15.1. Polimorfismo"
   ]
  },
  {
   "cell_type": "markdown",
   "metadata": {},
   "source": [
    "El concepto de polimorfismo (del griego muchas formas) implica que si en una porción de\n",
    "código se invoca un determinado método de un objeto, podrán obtenerse distintos resultados\n",
    "según la clase del objeto. Esto se debe a que distintos objetos pueden tener un método con un\n",
    "mismo nombre, pero que realice distintas operaciones."
   ]
  },
  {
   "cell_type": "markdown",
   "metadata": {},
   "source": [
    "En las unidades anteriores, varias veces utilizamos las posibilidades provistas por el polimorfismo,\n",
    "sin haberle puesto este nombre."
   ]
  },
  {
   "cell_type": "markdown",
   "metadata": {},
   "source": [
    "Se vio, por ejemplo, que es posible recorrer cualquier tipo de secuencia (ya sea una lista,\n",
    "una tupla, un diccionario, un archivo o cualquier otro tipo de secuencia) utilizando la misma\n",
    "estructura de código (for elemento in secuencia)."
   ]
  },
  {
   "cell_type": "markdown",
   "metadata": {},
   "source": [
    "De la misma forma, hemos utilizado funciones que podían trabajar con los distintos tipos\n",
    "numéricos sin hacer distinción sobre de qué tipo de número se trataba (entero, real, largo o\n",
    "complejo)."
   ]
  },
  {
   "cell_type": "markdown",
   "metadata": {},
   "source": [
    "Por otro lado, en la unidad anterior se vio también que al construir una clase, es posible\n",
    "incluir el método __str__ para que cuando se quiera imprimir el objeto se lo haga de la forma\n",
    "deseada; así como una gran variedad de otros métodos especiales, que permiten que operadores\n",
    "comunes sean utilizados sobre distintos tipos de objetos"
   ]
  },
  {
   "cell_type": "markdown",
   "metadata": {},
   "source": [
    "### 15.1.1. Interfaz"
   ]
  },
  {
   "cell_type": "markdown",
   "metadata": {},
   "source": [
    "Llamamos interfaz a un conjunto de funciones, métodos o atributos con nombres específicos.\n",
    "Una interfaz es un contrato entre el programador que realiza una clase y el que la utiliza,\n",
    "puede consistir en uno solo o varios métodos o atributos."
   ]
  },
  {
   "cell_type": "markdown",
   "metadata": {},
   "source": [
    "Por ejemplo, para que un objeto se pueda comparar con otros, debe cumplir con la interfaz\n",
    "comparable, que en Python implica incluir el método __cmp__ visto en la unidad anterior."
   ]
  },
  {
   "cell_type": "markdown",
   "metadata": {},
   "source": [
    "La idea de polimorfismo se basa, entonces, en utilizar distintos tipos de datos a través de\n",
    "una interfaz común."
   ]
  },
  {
   "cell_type": "markdown",
   "metadata": {},
   "source": [
    "### 15.1.2. Redefinición de métodos"
   ]
  },
  {
   "cell_type": "markdown",
   "metadata": {},
   "source": [
    "Llamamos redefinición a la acción de definir un método con el mismo nombre en distintas\n",
    "clases, de forma tal que provea una interfaz."
   ]
  },
  {
   "cell_type": "markdown",
   "metadata": {},
   "source": [
    "Un bloque de código será polimórfico cuando dentro de ese código se realicen llamadas a\n",
    "métodos que puedan estar redefinidos en distintas clases."
   ]
  },
  {
   "cell_type": "markdown",
   "metadata": {},
   "source": [
    "Tomemos por ejemplo el caso ya mencionado en el que se recorre una secuencia (lista, tupla,\n",
    "archivo, etc) mediante una misma estructura de código. Esto es posible gracias a la redefinición\n",
    "del método especial __iter__, que devuelve un iterador. Un bloque que utiliza una secuencia\n",
    "en forma genérica es, entonces, un bloque polimórfico."
   ]
  },
  {
   "cell_type": "markdown",
   "metadata": {},
   "source": [
    "En la vida real, cuando analizamos las funciones de respiración, reproducción o alimentación,\n",
    "de los seres vivos vemos que siempre se repite el mismo patrón: si bien la acción en todos\n",
    "los casos es la misma, puede suceder que haya diferencias en la implementación en cada tipo,\n",
    "ya que no es lo mismo la respiración de una mojarrita que la de un malvón, no es lo mismo la\n",
    "reproducción de una ameba que la de un elefante."
   ]
  },
  {
   "cell_type": "markdown",
   "metadata": {},
   "source": [
    "De la misma forma, al implementar nuestras clases, debemos proveer distintas implementaciones\n",
    "de los métodos que se llaman igual, para que puedan comportarse polimórficamente,\n",
    "como ser las redefiniciones de los métodos __str__ o __cmp__ vistas en la unidad anterior."
   ]
  },
  {
   "cell_type": "markdown",
   "metadata": {},
   "source": [
    "En particular en Python, la sobrecarga de operadores, mencionada anteriormente, es un proceso\n",
    "que se realiza mediante la redefinición de algunos métodos especiales. En otros lenguajes se\n",
    "utilizan técnicas distintas para obtener el mismo resultado."
   ]
  },
  {
   "cell_type": "markdown",
   "metadata": {},
   "source": [
    "### 15.1.3. Un ejemplo de polimorfismo"
   ]
  },
  {
   "cell_type": "markdown",
   "metadata": {},
   "source": [
    "En la unidad anterior se vio la clase Punto que representa a un punto en el plano. Es posible\n",
    "definir también una clase Punto3D, que represente un punto en el espacio. Esta nueva clase\n",
    "contendrá los mismos métodos que se vieron para Punto, pero para tres coordenadas."
   ]
  },
  {
   "cell_type": "markdown",
   "metadata": {},
   "source": [
    "Si a ambas clases le agregamos un método para multiplicar por un escalar (__mul__(self, escalar)),\n",
    "podríamos tener la siguiente función polimórfica:"
   ]
  },
  {
   "cell_type": "code",
   "execution_count": 15,
   "metadata": {},
   "outputs": [],
   "source": [
    "def obtener_versor(punto):\n",
    "    norma = punto.norma()\n",
    "    return punto * (1.0 / norma)"
   ]
  },
  {
   "cell_type": "markdown",
   "metadata": {},
   "source": [
    "Esta función devolverá un versor de dos dimensiones o de tres dimensiones, según a qué\n",
    "clase pertenezca la variable punto."
   ]
  },
  {
   "cell_type": "markdown",
   "metadata": {},
   "source": [
    "Otro ejemplo que ya hemos visto, utilizando secuencias, es usar un diccionario para contar\n",
    "la frecuencia de aparación de elementos dentro de una secuencia cualquiera."
   ]
  },
  {
   "cell_type": "code",
   "execution_count": 25,
   "metadata": {},
   "outputs": [],
   "source": [
    "def frecuencias(secuencia):\n",
    "    \"\"\" Calcula las frecuencias de aparición de los elementos de\n",
    "        la secuencia recibida.\n",
    "        Devuelve un diccionario con elementos: { valor: frecuencia }\n",
    "    \"\"\"\n",
    "    # crea un diccionario vacío\n",
    "    frec = dict()\n",
    "    # recorre la secuencia\n",
    "    for elemento in secuencia:\n",
    "        frec[elemento] = frec.get(elemento, 0)+1\n",
    "    return frec"
   ]
  },
  {
   "cell_type": "markdown",
   "metadata": {},
   "source": [
    "Vemos que el parámetro secuencia puede ser de cualquier tipo que se encuentre dentro\n",
    "de la “familia” de las secuencias. En cambio, si llamamos a la función con un entero se levanta\n",
    "una excepción."
   ]
  },
  {
   "cell_type": "code",
   "execution_count": 18,
   "metadata": {},
   "outputs": [
    {
     "data": {
      "text/plain": [
       "{'peras': 2, 'manzanas': 2, 'uvas': 1}"
      ]
     },
     "execution_count": 18,
     "metadata": {},
     "output_type": "execute_result"
    }
   ],
   "source": [
    "frecuencias([\"peras\", \"manzanas\", \"peras\", \"manzanas\", \"uvas\"])"
   ]
  },
  {
   "cell_type": "code",
   "execution_count": 19,
   "metadata": {},
   "outputs": [
    {
     "data": {
      "text/plain": [
       "{1: 2, 3: 2, 4: 1, 2: 1}"
      ]
     },
     "execution_count": 19,
     "metadata": {},
     "output_type": "execute_result"
    }
   ],
   "source": [
    "frecuencias((1,3,4,2,3,1))"
   ]
  },
  {
   "cell_type": "code",
   "execution_count": 20,
   "metadata": {},
   "outputs": [
    {
     "data": {
      "text/plain": [
       "{'U': 1, 'n': 1, 'a': 2, ' ': 1, 'f': 1, 'r': 1, 's': 1, 'e': 1}"
      ]
     },
     "execution_count": 20,
     "metadata": {},
     "output_type": "execute_result"
    }
   ],
   "source": [
    "frecuencias(\"Una frase\")"
   ]
  },
  {
   "cell_type": "code",
   "execution_count": 22,
   "metadata": {},
   "outputs": [],
   "source": [
    "ran = range(3,10,2)"
   ]
  },
  {
   "cell_type": "code",
   "execution_count": 23,
   "metadata": {},
   "outputs": [
    {
     "data": {
      "text/plain": [
       "{3: 1, 5: 1, 7: 1, 9: 1}"
      ]
     },
     "execution_count": 23,
     "metadata": {},
     "output_type": "execute_result"
    }
   ],
   "source": [
    "frecuencias(ran)"
   ]
  },
  {
   "cell_type": "code",
   "execution_count": 24,
   "metadata": {},
   "outputs": [
    {
     "ename": "TypeError",
     "evalue": "'int' object is not iterable",
     "output_type": "error",
     "traceback": [
      "\u001b[1;31m------------------------------------------------------------------------\u001b[0m",
      "\u001b[1;31mTypeError\u001b[0m                              Traceback (most recent call last)",
      "\u001b[1;32m<ipython-input-24-61b41fb7f2fa>\u001b[0m in \u001b[0;36m<module>\u001b[1;34m()\u001b[0m\n\u001b[1;32m----> 1\u001b[1;33m \u001b[0mfrecuencias\u001b[0m\u001b[1;33m(\u001b[0m\u001b[1;36m4\u001b[0m\u001b[1;33m)\u001b[0m\u001b[1;33m\u001b[0m\u001b[0m\n\u001b[0m",
      "\u001b[1;32m<ipython-input-17-52c2731af8d7>\u001b[0m in \u001b[0;36mfrecuencias\u001b[1;34m(secuencia)\u001b[0m\n\u001b[0;32m      7\u001b[0m     \u001b[0mfrec\u001b[0m \u001b[1;33m=\u001b[0m \u001b[0mdict\u001b[0m\u001b[1;33m(\u001b[0m\u001b[1;33m)\u001b[0m\u001b[1;33m\u001b[0m\u001b[0m\n\u001b[0;32m      8\u001b[0m     \u001b[1;31m# recorre la secuencia\u001b[0m\u001b[1;33m\u001b[0m\u001b[1;33m\u001b[0m\u001b[0m\n\u001b[1;32m----> 9\u001b[1;33m     \u001b[1;32mfor\u001b[0m \u001b[0melemento\u001b[0m \u001b[1;32min\u001b[0m \u001b[0msecuencia\u001b[0m\u001b[1;33m:\u001b[0m\u001b[1;33m\u001b[0m\u001b[0m\n\u001b[0m\u001b[0;32m     10\u001b[0m         \u001b[0mfrec\u001b[0m\u001b[1;33m[\u001b[0m\u001b[0melemento\u001b[0m\u001b[1;33m]\u001b[0m \u001b[1;33m=\u001b[0m \u001b[0mfrec\u001b[0m\u001b[1;33m.\u001b[0m\u001b[0mget\u001b[0m\u001b[1;33m(\u001b[0m\u001b[0melemento\u001b[0m\u001b[1;33m,\u001b[0m \u001b[1;36m0\u001b[0m\u001b[1;33m)\u001b[0m\u001b[1;33m+\u001b[0m\u001b[1;36m1\u001b[0m\u001b[1;33m\u001b[0m\u001b[0m\n\u001b[0;32m     11\u001b[0m     \u001b[1;32mreturn\u001b[0m \u001b[0mfrec\u001b[0m\u001b[1;33m\u001b[0m\u001b[0m\n",
      "\u001b[1;31mTypeError\u001b[0m: 'int' object is not iterable"
     ]
    }
   ],
   "source": [
    "frecuencias(4)"
   ]
  },
  {
   "cell_type": "markdown",
   "metadata": {},
   "source": [
    "### 15.2. Herencia"
   ]
  },
  {
   "cell_type": "markdown",
   "metadata": {},
   "source": [
    "La herencia es un mecanismo de la programación orientada a objetos que sirve para crear\n",
    "clases nuevas a partir de clases preexistentes. Se toman (heredan) atributos y comportamientos\n",
    "de las clases viejas y se los modifica para modelar una nueva situación."
   ]
  },
  {
   "cell_type": "markdown",
   "metadata": {},
   "source": [
    "La clase vieja se llama clase base y la que se construye a partir de ella es una clase derivada."
   ]
  },
  {
   "cell_type": "markdown",
   "metadata": {},
   "source": [
    "Por ejemplo, a partir de una clase Persona (que contenga como atributos identificacion,\n",
    "nombre, apellido) podemos construir la clase AlumnoFIUBA que extiende a Persona y\n",
    "agrega como atributo el padron."
   ]
  },
  {
   "cell_type": "markdown",
   "metadata": {},
   "source": [
    "Para indicar el nombre de la clase base, se la pone entre paréntesis a continuación del nombre\n",
    "de la clase (en lugar de la expresión object que poníamos anteriormente –en realidad\n",
    "object es el nombre de la clase base genérica–)."
   ]
  },
  {
   "cell_type": "markdown",
   "metadata": {},
   "source": [
    "Definimos Persona:"
   ]
  },
  {
   "cell_type": "code",
   "execution_count": 26,
   "metadata": {},
   "outputs": [],
   "source": [
    "class Persona(object):\n",
    "    \"\"\" Clase que representa una persona. \"\"\"\n",
    "    def __init__(self, identificacion, nombre, apellido):\n",
    "        # Constructor de persona\n",
    "        self.identificacion = identificacion\n",
    "        self.nombre = nombre\n",
    "        self.apellido = apellido\n",
    "    \n",
    "    def __str__(self):\n",
    "        return \" %s: %s, %s\" % \\\n",
    "            (str(self.identificacion), self.apellido, self.nombre)"
   ]
  },
  {
   "cell_type": "markdown",
   "metadata": {},
   "source": [
    "A continuación definimos AlumnoFIUBA como derivada de Persona, de forma tal que\n",
    "inicialice el nuevo atributo, pero a su vez utilice la inicialización de Persona para las atributos\n",
    "de la clase base:"
   ]
  },
  {
   "cell_type": "code",
   "execution_count": 41,
   "metadata": {},
   "outputs": [],
   "source": [
    "class AlumnoFIUBA(Persona):\n",
    "    \"\"\" Clase que representa a un alumno FIUBA. \"\"\"\n",
    "    def __init__(self, identificacion, nombre, apellido, padron):\n",
    "        # Constructor de AlumnoFIUBA\n",
    "        # llamamos al constructor de Persona \n",
    "        Persona.__init__(self, identificacion, nombre, apellido)\n",
    "        # agregamos el nuevo atributo\n",
    "        self.padron = padron"
   ]
  },
  {
   "cell_type": "markdown",
   "metadata": {},
   "source": [
    "Probamos la nueva clase"
   ]
  },
  {
   "cell_type": "code",
   "execution_count": 42,
   "metadata": {},
   "outputs": [
    {
     "name": "stdout",
     "output_type": "stream",
     "text": [
      " DNI 35123456: Thorn, Damien\n"
     ]
    }
   ],
   "source": [
    "a = AlumnoFIUBA(\"DNI 35123456\", \"Damien\", \"Thorn\", \"98765\")\n",
    "print(a)"
   ]
  },
  {
   "cell_type": "markdown",
   "metadata": {},
   "source": [
    "Vemos que se heredó el método __str__ de la clase base. Si queremos, podemos redefinirlo:"
   ]
  },
  {
   "cell_type": "code",
   "execution_count": 43,
   "metadata": {},
   "outputs": [],
   "source": [
    "def __str__(self):\n",
    "    \"\"\" Devuelve una cadena representativa del alumno \"\"\"\n",
    "    return \" %s: %s, %s\" % \\\n",
    "        (str(self.padron), self.apellido, self.nombre)"
   ]
  },
  {
   "cell_type": "code",
   "execution_count": 45,
   "metadata": {},
   "outputs": [],
   "source": [
    "class AlumnoFIUBA(Persona):\n",
    "    \"\"\" Clase que representa a un alumno FIUBA. \"\"\"\n",
    "    def __init__(self, identificacion, nombre, apellido, padron):\n",
    "        # Constructor de AlumnoFIUBA\n",
    "        # llamamos al constructor de Persona \n",
    "        Persona.__init__(self, identificacion, nombre, apellido)\n",
    "        # agregamos el nuevo atributo\n",
    "        self.padron = padron\n",
    "    \n",
    "    def __str__(self):\n",
    "        #Devuelve una cadena representativa del alumno\n",
    "        return \" %s: %s, %s\" % \\\n",
    "            (self.padron, self.apellido, self.nombre)"
   ]
  },
  {
   "cell_type": "markdown",
   "metadata": {},
   "source": [
    "Volvemos a probar:"
   ]
  },
  {
   "cell_type": "code",
   "execution_count": 46,
   "metadata": {},
   "outputs": [
    {
     "name": "stdout",
     "output_type": "stream",
     "text": [
      " 98765: Thorn, Damien\n"
     ]
    }
   ],
   "source": [
    "a = AlumnoFIUBA(\"35123456\", \"Damien\", \"Thorn\", \"98765\")\n",
    "print(a)"
   ]
  },
  {
   "cell_type": "markdown",
   "metadata": {},
   "source": [
    "De una clase base se pueden construir muchas clases derivadas, así como hemos derivado\n",
    "alumnos, podríamos derivar docentes, empleados, clientes, proveedores, o lo que fuera necesario\n",
    "según la aplicación que estemos desarrollando."
   ]
  },
  {
   "cell_type": "markdown",
   "metadata": {},
   "source": [
    "En el caso de Python, también se puede construir una clase derivada a partir de varias clases\n",
    "base (por ejemplo, un ayudante de segunda en la UBA es un alumno que también trabaja de\n",
    "docente). Esta posbilidad se llama Herencia Múltiple, pero no la detallaremos por ahora."
   ]
  },
  {
   "cell_type": "markdown",
   "metadata": {},
   "source": [
    "### La clase de las figuras"
   ]
  },
  {
   "cell_type": "markdown",
   "metadata": {},
   "source": [
    "Un ejemplo clásico de herencia es el de las figuras cerradas en el plano, con un método para\n",
    "calcular el área. En este caso, la clase base no tiene comportamiento definido ni atributos, dado\n",
    "que cada figura tiene atributos muy distintos (radio en el caso del círculo, base y altura en el\n",
    "caso del triángulo, etc.), y en cuanto al cálculo del área, cada figura tiene una fórmula diferente:"
   ]
  },
  {
   "cell_type": "markdown",
   "metadata": {},
   "source": [
    "La clase base:"
   ]
  },
  {
   "cell_type": "code",
   "execution_count": 47,
   "metadata": {},
   "outputs": [],
   "source": [
    "class Figura(object):\n",
    "    \"\"\" Una figura en el plano. \"\"\"\n",
    "    def area(self):\n",
    "        # este método debe ser redifinido. \n",
    "        pass"
   ]
  },
  {
   "cell_type": "markdown",
   "metadata": {},
   "source": [
    "Los círculos:"
   ]
  },
  {
   "cell_type": "code",
   "execution_count": 49,
   "metadata": {},
   "outputs": [],
   "source": [
    "from math import pi\n",
    "\n",
    "class Circulo(Figura):\n",
    "    \"\"\" Un círculo en el plano. \"\"\"\n",
    "    def __init__(self, radio=0):\n",
    "        # constructor de círculo.\n",
    "        self.radio = radio\n",
    "    \n",
    "    def area(self):\n",
    "        # devuelve el área del círculo.\n",
    "        return pi * self.radio * self.radio"
   ]
  },
  {
   "cell_type": "markdown",
   "metadata": {},
   "source": [
    "Y los triángulos:"
   ]
  },
  {
   "cell_type": "code",
   "execution_count": 50,
   "metadata": {},
   "outputs": [],
   "source": [
    "class Triangulo(Figura):\n",
    "    \"\"\" Un triángulo en el plano. \"\"\"\n",
    "    def __init__(self, base=0, altura=0):\n",
    "        # constructor de triángulo,\n",
    "        self.base = base\n",
    "        self.altura = altura\n",
    "    \n",
    "    def area(self):\n",
    "        \"\"\" Devuelve el área del triángulo. \"\"\"\n",
    "        return self.base * self.altura / 2"
   ]
  },
  {
   "cell_type": "markdown",
   "metadata": {},
   "source": [
    "Y ahora las pruebas:"
   ]
  },
  {
   "cell_type": "code",
   "execution_count": 51,
   "metadata": {},
   "outputs": [
    {
     "data": {
      "text/plain": [
       "50.26548245743669"
      ]
     },
     "execution_count": 51,
     "metadata": {},
     "output_type": "execute_result"
    }
   ],
   "source": [
    "c = Circulo(4)\n",
    "c.area()"
   ]
  },
  {
   "cell_type": "code",
   "execution_count": 52,
   "metadata": {},
   "outputs": [
    {
     "data": {
      "text/plain": [
       "7.5"
      ]
     },
     "execution_count": 52,
     "metadata": {},
     "output_type": "execute_result"
    }
   ],
   "source": [
    "t = Triangulo(3,5)\n",
    "t.area()"
   ]
  },
  {
   "cell_type": "markdown",
   "metadata": {},
   "source": [
    "### 15.3. Delegación"
   ]
  },
  {
   "cell_type": "markdown",
   "metadata": {},
   "source": [
    "Llamamos delegación a la situación en la que una clase contiene (como atributos) una o\n",
    "más instancias de otra clase, a las que delegará parte de sus funcionalidades. Esta relación entre\n",
    "clases suele ser la más indicada cuando es necesaria una asociación entre las clases pero el principio\n",
    "de Liskov no se cumple. También puede verse como la relación entre clases “S contiene a\n",
    "T”. Por ejemplo, Vehículo contiene un Motor, pero Alumno no contiene a Persona, sino que es\n",
    "una Persona."
   ]
  },
  {
   "cell_type": "markdown",
   "metadata": {},
   "source": [
    "Por ejemplo, la clase Hotel vista en la unidad anterior, podría contener una clase\n",
    "Disponibilidad, que almacene la disponibilidad de las habitaciones del hotel para distintas\n",
    "fechas. La clase Hotel debería tener, entonces, los métodos consultar_disponibilidad,\n",
    "reservar y cancelar, que todos delegarían en la clase Disponibilidad su funcionamiento\n",
    "principal."
   ]
  },
  {
   "cell_type": "markdown",
   "metadata": {},
   "source": [
    "### Delegación y Referencias"
   ]
  },
  {
   "cell_type": "markdown",
   "metadata": {},
   "source": [
    "Queremos construir una clase Rectangulo, que se describe mediante los siguientes atributos:"
   ]
  },
  {
   "cell_type": "markdown",
   "metadata": {},
   "source": [
    "Longitud de su base: un número."
   ]
  },
  {
   "cell_type": "markdown",
   "metadata": {},
   "source": [
    "Longitud de su altura: un número."
   ]
  },
  {
   "cell_type": "markdown",
   "metadata": {},
   "source": [
    "El punto del plano de su esquina inferior izquierda: un punto del plano."
   ]
  },
  {
   "cell_type": "code",
   "execution_count": 7,
   "metadata": {},
   "outputs": [],
   "source": [
    "class Punto(object):\n",
    "    \"\"\"Representación de un punto en el plano, los atributos x e y \n",
    "       que representan los valores de las coordenadas cartesianas.\"\"\"\n",
    "    def __init__(self, x=0, y=0):\n",
    "        \"\"\" Constructor de Punto, x e y deben ser numéricos,\n",
    "            de no ser así, se levanta una excepción TypeError \"\"\"\n",
    "        if es_numero(x) and es_numero(y):\n",
    "            self.x = x\n",
    "            self.y = y\n",
    "        else:\n",
    "            raise TypeError(\"x e y deben ser valores númericos\")\n",
    "            \n",
    "    def __str__(self):\n",
    "        \"\"\" Muestra el punto como un par ordenado. \"\"\"\n",
    "        return \"(\" + str(self.x) + \", \" + str(self.y) + \")\"\n",
    "    \n",
    "    def __add__(self, otro):\n",
    "        \"\"\" Devuelve la suma de ambos puntos. \"\"\"\n",
    "        return Punto(self.x + otro.x, self.y + otro.y)\n",
    "    \n",
    "    def __sub__(self,otro):\n",
    "        \"\"\" Devuelve la resta de ambos puntos. \"\"\"\n",
    "        return Punto(self.x - otro.x, self.y - otro.y)\n",
    "    \n",
    "    def restar(self, otro):\n",
    "        \"\"\" Devuelve un nuevo punto, con la resta entre dos puntos. \"\"\"\n",
    "        return Punto(self.x - otro.x, self.y - otro.y)\n",
    "    \n",
    "    def norma(self):\n",
    "        \"\"\" Devuelve la norma del vector que va desde el origen\n",
    "            hasta el punto. \"\"\"\n",
    "        return (self.x*self.x + self.y*self.y)**0.5\n",
    "    \n",
    "    def distancia(self, otro):\n",
    "        \"\"\" Devuelve la distancia entre ambos puntos. \"\"\"\n",
    "        r = self.restar(otro)\n",
    "        return r.norma()\n",
    "    \n",
    "def es_numero(valor):\n",
    "    \"\"\" Indica si un valor es númerico o no. \"\"\"\n",
    "    return isinstance(valor, (int, float, complex))"
   ]
  },
  {
   "cell_type": "markdown",
   "metadata": {},
   "source": [
    "__Código 15.1__ Rectangulo.py: Clase para modelar un Rectángulo"
   ]
  },
  {
   "cell_type": "code",
   "execution_count": 8,
   "metadata": {},
   "outputs": [],
   "source": [
    "class Rectangulo(object):\n",
    "    \"\"\" Esta clase modela un rectángulo en el plano. \"\"\"\n",
    "    \n",
    "    def __init__(self, base, altura, origen):\n",
    "        \"\"\" base (número) es la longitud de su base,\n",
    "            altura (número) es la longitud de su base,\n",
    "            origen (Punto) es el punto del plano de su esquina\n",
    "                            inferior izquierda. \"\"\"\n",
    "        self.base = base\n",
    "        self.altura = altura\n",
    "        self.origen = origen\n",
    "        \n",
    "    def trasladar(self, dx = 0, dy = 0):\n",
    "        self.origen = self.origen + Punto(dx,dy)\n",
    "        \n",
    "    def area(self):\n",
    "        return self.base * self.altura\n",
    "    \n",
    "    def __str__(self):\n",
    "        \"\"\" muestra el rectangulo \"\"\"\n",
    "        return \"Base: %s, Altura: %s, Esquina inf. izq.: %s \" % \\\n",
    "                (self.base, self.altura, self.origen)"
   ]
  },
  {
   "cell_type": "markdown",
   "metadata": {},
   "source": [
    "Incluiremos métodos para inicializar y mostrar, para calcular el área y para trasladar el\n",
    "rectángulo en el plano."
   ]
  },
  {
   "cell_type": "markdown",
   "metadata": {},
   "source": [
    "La implementación básica puede verse en el Código 15.1. Se puede ver que el rectángulo\n",
    "realiza internamente la operación para calcular el área, pero para la operación del traslado,\n",
    "delega la suma de los puntos al operador __add__ de la clase Punto."
   ]
  },
  {
   "cell_type": "markdown",
   "metadata": {},
   "source": [
    "Recordamos que cuando se hace self.origen + Punto(dx,dy), Python llama al método\n",
    "__add__ de la clase Punto, que recibe los dos puntos y devuelve un nuevo punto con la\n",
    "suma de ambos."
   ]
  },
  {
   "cell_type": "markdown",
   "metadata": {},
   "source": [
    "Para construir y utilizar el rectángulo, lo haremos de la siguiente forma:"
   ]
  },
  {
   "cell_type": "code",
   "execution_count": 9,
   "metadata": {},
   "outputs": [],
   "source": [
    "r = Rectangulo(2, 3, Punto(1, 2))"
   ]
  },
  {
   "cell_type": "code",
   "execution_count": 10,
   "metadata": {},
   "outputs": [
    {
     "name": "stdout",
     "output_type": "stream",
     "text": [
      "Base: 2, Altura: 3, Esquina inf. izq.: (1, 2) \n"
     ]
    }
   ],
   "source": [
    "print(r)"
   ]
  },
  {
   "cell_type": "code",
   "execution_count": 13,
   "metadata": {},
   "outputs": [
    {
     "name": "stdout",
     "output_type": "stream",
     "text": [
      "6\n"
     ]
    }
   ],
   "source": [
    "print(r.area())"
   ]
  },
  {
   "cell_type": "markdown",
   "metadata": {},
   "source": [
    "El punto que describe la posición de la esquina inferior izquierda del rectángulo es un objeto\n",
    "Punto. El atributo origen contiene una referencia a dicho objeto."
   ]
  },
  {
   "cell_type": "markdown",
   "metadata": {},
   "source": [
    "Utilizando el método trasladar, podemos modificar el valor del punto contenido dentro\n",
    "del rectángulo."
   ]
  },
  {
   "cell_type": "code",
   "execution_count": 14,
   "metadata": {},
   "outputs": [],
   "source": [
    "r.trasladar(2,4)"
   ]
  },
  {
   "cell_type": "code",
   "execution_count": 15,
   "metadata": {},
   "outputs": [
    {
     "name": "stdout",
     "output_type": "stream",
     "text": [
      "Base: 2, Altura: 3, Esquina inf. izq.: (3, 6) \n"
     ]
    }
   ],
   "source": [
    "print(r)"
   ]
  },
  {
   "cell_type": "markdown",
   "metadata": {},
   "source": [
    "También es posible directamente reemplazar el punto contenido, por un nuevo punto."
   ]
  },
  {
   "cell_type": "code",
   "execution_count": 16,
   "metadata": {},
   "outputs": [],
   "source": [
    "q = Punto(7,2)"
   ]
  },
  {
   "cell_type": "code",
   "execution_count": 17,
   "metadata": {},
   "outputs": [],
   "source": [
    "r.origen = q"
   ]
  },
  {
   "cell_type": "code",
   "execution_count": 18,
   "metadata": {},
   "outputs": [
    {
     "name": "stdout",
     "output_type": "stream",
     "text": [
      "Base: 2, Altura: 3, Esquina inf. izq.: (7, 2) \n"
     ]
    }
   ],
   "source": [
    "print(r)"
   ]
  },
  {
   "cell_type": "markdown",
   "metadata": {},
   "source": [
    "### 16. Listas enlazadas"
   ]
  },
  {
   "cell_type": "markdown",
   "metadata": {},
   "source": [
    "En esta unidad, nos dedicaremos a construir nuestras propias listas, que consistirán de cadenas\n",
    "de objetos enlazadas mediante referencias, como las vistas en la unidad anterior."
   ]
  },
  {
   "cell_type": "markdown",
   "metadata": {},
   "source": [
    "Si bien Python ya cuenta con sus propias listas, las listas enlazadas que implementaremos\n",
    "en esta unidad nos resultarán también útiles."
   ]
  },
  {
   "cell_type": "markdown",
   "metadata": {},
   "source": [
    "### 16.1. Una clase sencilla de vagones"
   ]
  },
  {
   "cell_type": "markdown",
   "metadata": {},
   "source": [
    "En primer lugar, definiremos una clase muy simple, Nodo, que se comportará como un\n",
    "vagón: tendrá sólo dos atributos: dato, que servirá para almacenar cualquier información, y\n",
    "prox, que servirá para poner una referencia al siguiente vagón."
   ]
  },
  {
   "cell_type": "markdown",
   "metadata": {},
   "source": [
    "Además, como siempre, implementaremos el constructor y el método __str__ para poder\n",
    "imprimir el contenido del nodo."
   ]
  },
  {
   "cell_type": "code",
   "execution_count": 21,
   "metadata": {},
   "outputs": [],
   "source": [
    "class Nodo(object):\n",
    "    def __init__(self, dato=None, prox=None):\n",
    "        self.dato = dato\n",
    "        self.prox = prox\n",
    "    \n",
    "    def __str__(self):\n",
    "        return str(self.dato)"
   ]
  },
  {
   "cell_type": "markdown",
   "metadata": {},
   "source": [
    "Ejecutamos este código"
   ]
  },
  {
   "cell_type": "code",
   "execution_count": 22,
   "metadata": {},
   "outputs": [],
   "source": [
    "v3=Nodo(\"Bananas\")"
   ]
  },
  {
   "cell_type": "code",
   "execution_count": 23,
   "metadata": {},
   "outputs": [],
   "source": [
    "v2=Nodo(\"Peras\", v3)"
   ]
  },
  {
   "cell_type": "code",
   "execution_count": 24,
   "metadata": {},
   "outputs": [],
   "source": [
    "v1=Nodo(\"Manzanas\", v2)"
   ]
  },
  {
   "cell_type": "code",
   "execution_count": 25,
   "metadata": {},
   "outputs": [
    {
     "name": "stdout",
     "output_type": "stream",
     "text": [
      "Manzanas\n"
     ]
    }
   ],
   "source": [
    "print(v1)"
   ]
  },
  {
   "cell_type": "code",
   "execution_count": 26,
   "metadata": {},
   "outputs": [
    {
     "name": "stdout",
     "output_type": "stream",
     "text": [
      "Peras\n"
     ]
    }
   ],
   "source": [
    "print(v2)"
   ]
  },
  {
   "cell_type": "code",
   "execution_count": 27,
   "metadata": {},
   "outputs": [
    {
     "name": "stdout",
     "output_type": "stream",
     "text": [
      "Bananas\n"
     ]
    }
   ],
   "source": [
    "print(v3)"
   ]
  },
  {
   "cell_type": "markdown",
   "metadata": {},
   "source": [
    "El atributo prox de v3 tiene una referencia nula, lo que indica que v3 es el último vagón\n",
    "de nuestra estructura."
   ]
  },
  {
   "cell_type": "markdown",
   "metadata": {},
   "source": [
    "Hemos creado una lista en forma manual. Si nos interesa recorrerla, podemos hacer lo siguiente:"
   ]
  },
  {
   "cell_type": "code",
   "execution_count": 29,
   "metadata": {},
   "outputs": [
    {
     "name": "stdout",
     "output_type": "stream",
     "text": [
      "Manzanas\n",
      "Peras\n",
      "Bananas\n"
     ]
    }
   ],
   "source": [
    "def verLista(nodo):\n",
    "    \"\"\" Recorre todos los nodos a través de sus enlaces,\n",
    "        mostrando sus contenidos. \"\"\"\n",
    "    \n",
    "    # ciclo mientras nodo no es None\n",
    "    while nodo:\n",
    "        # muestra el dato\n",
    "        print(nodo)\n",
    "        # ahora nodo apunta a nodo.prox\n",
    "        nodo = nodo.prox\n",
    "        \n",
    "verLista(v1)"
   ]
  },
  {
   "cell_type": "markdown",
   "metadata": {},
   "source": [
    "Es interesante notar que la estructura del recorrido de la lista es el siguiente:"
   ]
  },
  {
   "cell_type": "markdown",
   "metadata": {},
   "source": [
    "Se le pasa a la función sólo la referencia al primer nodo."
   ]
  },
  {
   "cell_type": "markdown",
   "metadata": {},
   "source": [
    "El resto del recorrido se consigue siguiendo las cadena de referencias dentro de los nodos."
   ]
  },
  {
   "cell_type": "markdown",
   "metadata": {},
   "source": [
    "Si se desea desenganchar un vagón del medio de la lista, alcanza con cambiar el enganche:"
   ]
  },
  {
   "cell_type": "code",
   "execution_count": 31,
   "metadata": {},
   "outputs": [
    {
     "name": "stdout",
     "output_type": "stream",
     "text": [
      "Manzanas\n",
      "Bananas\n"
     ]
    }
   ],
   "source": [
    "v1.prox=v3\n",
    "verLista(v1)"
   ]
  },
  {
   "cell_type": "code",
   "execution_count": 32,
   "metadata": {},
   "outputs": [
    {
     "name": "stdout",
     "output_type": "stream",
     "text": [
      "Manzanas\n"
     ]
    }
   ],
   "source": [
    "v1.prox=None\n",
    "verLista(v1)"
   ]
  },
  {
   "cell_type": "markdown",
   "metadata": {},
   "source": [
    "De esta manera también se pueden generar estructuras impensables."
   ]
  },
  {
   "cell_type": "markdown",
   "metadata": {},
   "source": [
    "¿Qué sucede si escribimos v1.prox = v1? La representación es finita y sin embargo en\n",
    "este caso verLista(v1) no termina más. Hemos creado una lista infinita, también llamada\n",
    "lista circular."
   ]
  },
  {
   "cell_type": "markdown",
   "metadata": {},
   "source": [
    "### 16.1.1. Caminos"
   ]
  },
  {
   "cell_type": "markdown",
   "metadata": {},
   "source": [
    "En una lista cualquiera, como las vistas antes, si seguimos las flechas dadas por las referencias,\n",
    "obtenemos un camino en la lista."
   ]
  },
  {
   "cell_type": "markdown",
   "metadata": {},
   "source": [
    "Los caminos cerrados se denominan ciclos. Son ciclos, por ejemplo, la autorreferencia de v1\n",
    "a v1, como así también una flecha de v1 a v2 seguida de una flecha de v2 a v1."
   ]
  },
  {
   "cell_type": "markdown",
   "metadata": {},
   "source": [
    "### 16.1.2. Referenciando el principio de la lista"
   ]
  },
  {
   "cell_type": "markdown",
   "metadata": {},
   "source": [
    "Una cuestión no contemplada hasta el momento es la de mantener una referencia a la lista\n",
    "completa. Por ahora para nosotros la lista es la colección de nodos que se enlazan a partir de\n",
    "v1. Sin embargo puede suceder que querramos borrar a v1 y continuar con el resto de la lista\n",
    "como la colección de nodos a tratar (en las listas de Python, del lista[0] no nos hace perder\n",
    "la referencia a lista)."
   ]
  },
  {
   "cell_type": "markdown",
   "metadata": {},
   "source": [
    "Para ello lo que haremos es asociar una referencia al principio de la lista, que llamaremos\n",
    "lista, y que mantendremos independientemente de cuál sea el nodo que está al principio de\n",
    "la lista:"
   ]
  },
  {
   "cell_type": "code",
   "execution_count": 33,
   "metadata": {},
   "outputs": [],
   "source": [
    "v3=Nodo(\"Bananas\")"
   ]
  },
  {
   "cell_type": "code",
   "execution_count": 34,
   "metadata": {},
   "outputs": [],
   "source": [
    "v2=Nodo(\"Peras\", v3)"
   ]
  },
  {
   "cell_type": "code",
   "execution_count": 35,
   "metadata": {},
   "outputs": [],
   "source": [
    "v1=Nodo(\"Manzanas\", v2)"
   ]
  },
  {
   "cell_type": "code",
   "execution_count": 39,
   "metadata": {},
   "outputs": [],
   "source": [
    "lista=v1"
   ]
  },
  {
   "cell_type": "code",
   "execution_count": 40,
   "metadata": {},
   "outputs": [
    {
     "name": "stdout",
     "output_type": "stream",
     "text": [
      "Manzanas\n",
      "Peras\n",
      "Bananas\n"
     ]
    }
   ],
   "source": [
    "verLista(lista)"
   ]
  },
  {
   "cell_type": "markdown",
   "metadata": {},
   "source": [
    "Ahora sí estamos en condiciones de borrar el primer elemento de la lista sin perder la identidad\n",
    "de la misma:"
   ]
  },
  {
   "cell_type": "code",
   "execution_count": 41,
   "metadata": {},
   "outputs": [],
   "source": [
    "lista=lista.prox"
   ]
  },
  {
   "cell_type": "code",
   "execution_count": 42,
   "metadata": {},
   "outputs": [
    {
     "name": "stdout",
     "output_type": "stream",
     "text": [
      "Peras\n",
      "Bananas\n"
     ]
    }
   ],
   "source": [
    "verLista(lista)"
   ]
  },
  {
   "cell_type": "markdown",
   "metadata": {},
   "source": [
    "### 16.2. Tipos abstractos de datos"
   ]
  },
  {
   "cell_type": "markdown",
   "metadata": {},
   "source": [
    "Los tipos nuevos que habíamos definido en unidades anteriores fueron tipos de datos concretos:\n",
    "un punto se definía como un par ordenado de números, un hotel se definía por dos\n",
    "cadenas de caracteres (nombre y unicación) y dos números (calidad y precio), etc."
   ]
  },
  {
   "cell_type": "markdown",
   "metadata": {},
   "source": [
    "Vamos a ver ahora una nueva manera de definir datos: por las operaciones que tienen y por\n",
    "lo que tienen que hacer esas operaciones (cuál es el resultado esperado de esas operaciones)."
   ]
  },
  {
   "cell_type": "markdown",
   "metadata": {},
   "source": [
    "Esa manera de definir datos se conoce como tipos abstractos de datos o TADs."
   ]
  },
  {
   "cell_type": "markdown",
   "metadata": {},
   "source": [
    "Lo novedoso de este enfoque respecto del anterior es que en general se puede encontrar\n",
    "más de una representación mediante tipos concretos para representar el mismo TAD, y que se\n",
    "puede elegir la representación más conveniente en cada caso, según el contexto de uso."
   ]
  },
  {
   "cell_type": "markdown",
   "metadata": {},
   "source": [
    "Los programas que los usan hacen referencia a las operaciones que tienen, no a la representación,\n",
    "y por lo tanto ese programa sigue funcionando si se cambia la representación."
   ]
  },
  {
   "cell_type": "markdown",
   "metadata": {},
   "source": [
    "Dentro del ciclo de vida de un TAD hay dos fases: la programación del TAD y la construcción\n",
    "de los programas que lo usan."
   ]
  },
  {
   "cell_type": "markdown",
   "metadata": {},
   "source": [
    "Durante la fase de programación del TAD, habrá que elegir una representación, y luego\n",
    "programar cada uno de los métodos sobre esa representación."
   ]
  },
  {
   "cell_type": "markdown",
   "metadata": {},
   "source": [
    "Durante la fase de construcción de los programas, no será relevante para el programador\n",
    "que utiliza el TAD cómo está implementado, sino únicamente los métodos que posee."
   ]
  },
  {
   "cell_type": "markdown",
   "metadata": {},
   "source": [
    "### 16.3. La clase ListaEnzalada"
   ]
  },
  {
   "cell_type": "markdown",
   "metadata": {},
   "source": [
    "Basándonos en los nodos implementados anteriormente, pero buscando deslindar al programador\n",
    "que desea usar la lista de la responsabilidad de manipular las referencias, definiremos\n",
    "ahora la clase ListaEnlazada, de modo tal que no haya que operar mediante las referencias\n",
    "internas de los nodos, sino que se lo pueda hacer a través de operaciones de lista."
   ]
  },
  {
   "cell_type": "markdown",
   "metadata": {},
   "source": [
    "Más allá de la implementación en particular, se podrá notar que implementaremos los mismos\n",
    "métodos de las listas de Python, de modo que más allá del funcionamiento interno, ambas\n",
    "serán listas."
   ]
  },
  {
   "cell_type": "markdown",
   "metadata": {},
   "source": [
    "Definimos a continuación las operaciones que inicialmente deberá cumplir la clase\n",
    "ListaEnlazada."
   ]
  },
  {
   "cell_type": "markdown",
   "metadata": {},
   "source": [
    "___str___, para mostrar la lista."
   ]
  },
  {
   "cell_type": "markdown",
   "metadata": {},
   "source": [
    "__len__, para calcular la longitud de la lista."
   ]
  },
  {
   "cell_type": "markdown",
   "metadata": {},
   "source": [
    "append(x), para agregar un elemento al final de la lista."
   ]
  },
  {
   "cell_type": "markdown",
   "metadata": {},
   "source": [
    "insert(i, x), para agregar el elemento x en la posición i (levanta una excepción si la\n",
    "posición i es inválida)."
   ]
  },
  {
   "cell_type": "markdown",
   "metadata": {},
   "source": [
    "remove(x), para eliminar la primera aparición de x en la lista (levanta una excepción si\n",
    "x no está)."
   ]
  },
  {
   "cell_type": "markdown",
   "metadata": {},
   "source": [
    "pop([i]), para borrar el elemento que está en la posición i y devolver su valor. Si no\n",
    "se especifica el valor de i, pop() elimina y devuelve el elemento que está en el último\n",
    "lugar de la lista (levanta una excepción si se hace referencia a una posición no válida de\n",
    "la lista)."
   ]
  },
  {
   "cell_type": "markdown",
   "metadata": {},
   "source": [
    "index(x), devuelve la posición de la primera aparición de x en la lista (levanta una\n",
    "excepción si x no está)."
   ]
  },
  {
   "cell_type": "markdown",
   "metadata": {},
   "source": [
    "Más adelante podrán agregarse a la lista otros métodos que también están implementados\n",
    "por las listas de Python."
   ]
  },
  {
   "cell_type": "markdown",
   "metadata": {},
   "source": [
    "Valen ahora algunas consideraciones más antes de empezar a implementar la clase:"
   ]
  },
  {
   "cell_type": "markdown",
   "metadata": {},
   "source": [
    "Por lo dicho anteriormente, es claro que la lista deberá tener como atributo la referencia\n",
    "al primer nodo que la compone."
   ]
  },
  {
   "cell_type": "markdown",
   "metadata": {},
   "source": [
    "Como vamos a incluir un método __len__, consideramos que no tiene sentido recorrer\n",
    "la lista cada vez que se lo llame, para contar cuántos elementos tiene, alcanza con agregar\n",
    "un atributo más (la longitud de la lista), que se inicializa en 0 cuando se crea la lista vacía,\n",
    "se incrementa en 1 cada vez que se agrega un elemento y se decrementa en 1 cada vez\n",
    "que se borra un elemento."
   ]
  },
  {
   "cell_type": "markdown",
   "metadata": {},
   "source": [
    "Por otro lado, como vamos a incluir todas las operaciones de listas que sean necesarias\n",
    "para operar con ellas, no es necesario que la clase Nodo esté disponible para que otros\n",
    "programadores puedan modificar (y romper) las listas a voluntad usando operaciones de\n",
    "nodos. Para eso incluiremos la clase Nodo de manera privada (es decir oculta), de modo\n",
    "que la podamos usar nosotros como dueños (fabricantes) de la clase, pero no cualquier\n",
    "programador que utilice la lista."
   ]
  },
  {
   "cell_type": "markdown",
   "metadata": {},
   "source": [
    "Python tiene una convención para hacer que atributos, métodos o clases dentro de una clase\n",
    "dada no puedan ser usados por los usuarios, y sólo tengan acceso a ellos quienes programan la\n",
    "clase: su nombre tiene que empezar con un guión bajo y terminar sin guión bajo. Así que para\n",
    "hacer que los nodos sean privados, nombraremos a esa clase como _Nodo, y la dejaremos tal\n",
    "como hasta ahora."
   ]
  },
  {
   "cell_type": "code",
   "execution_count": 43,
   "metadata": {},
   "outputs": [],
   "source": [
    "class _Nodo(object):\n",
    "    def __init__(self, dato=None, prox=None):\n",
    "        self.dato = dato\n",
    "        self.prox = prox\n",
    "    \n",
    "    def __str__(self):\n",
    "        return str(self.dato)"
   ]
  },
  {
   "cell_type": "markdown",
   "metadata": {},
   "source": [
    "### 16.3.1. Construcción de la lista"
   ]
  },
  {
   "cell_type": "markdown",
   "metadata": {},
   "source": [
    "Empezamos escribiendo la clase con su constructor."
   ]
  },
  {
   "cell_type": "code",
   "execution_count": 44,
   "metadata": {},
   "outputs": [],
   "source": [
    "class ListaEnlazada(object):\n",
    "    \"\"\" Modela una lista enlazada, compuesta de Nodos. \"\"\"\n",
    "\n",
    "    def __init__(self):\n",
    "        \"\"\" Crea una lista enlazada vacía. \"\"\"\n",
    "        #prim: apuntará al primer nodo - None con la lista vacía\n",
    "        self.prim = None\n",
    "        #len: longitud de la lista - 0 con la lista vacía\n",
    "        self.len = 0"
   ]
  },
  {
   "cell_type": "markdown",
   "metadata": {},
   "source": [
    "__Ejercicio 16.1.__ Escribir los métodos __str__ y __len__ para la lista."
   ]
  },
  {
   "cell_type": "code",
   "execution_count": 77,
   "metadata": {},
   "outputs": [],
   "source": [
    "class ListaEnlazada(object):\n",
    "    \"\"\" Modela una lista enlazada, compuesta de Nodos. \"\"\"\n",
    "\n",
    "    def __init__(self):\n",
    "        \"\"\" Crea una lista enlazada vacía. \"\"\"\n",
    "        #prim: apuntará al primer nodo - None con la lista vacía\n",
    "        self.prim = None\n",
    "        #lon: longitud de la lista - 0 con la lista vacía\n",
    "        self.len = 0\n",
    "        \n",
    "    def __len__(self, lon):\n",
    "        return len(self.lon)\n",
    "    \n",
    "    def __str__(self):\n",
    "        \"\"\" muestra una lista \"\"\"\n",
    "        return(self.valor)"
   ]
  },
  {
   "cell_type": "markdown",
   "metadata": {},
   "source": [
    "### 16.3.2. Eliminar un elemento de una posición"
   ]
  },
  {
   "cell_type": "markdown",
   "metadata": {},
   "source": [
    "Analizaremos a continuación pop([i]), que borra el elemento que está en la posición i y\n",
    "devuelve su valor. Si no se especifica el valor de i, pop() elimina y devuelve el elemento que\n",
    "está en el último lugar de la lista. Por otro lado, levanta una excepción si se hace referencia a\n",
    "una posición no válida de la lista."
   ]
  },
  {
   "cell_type": "markdown",
   "metadata": {},
   "source": [
    "Dado que se trata de una función con cierta complejidad, separaremos el código en las\n",
    "diversas consideraciones a tener en cuenta."
   ]
  },
  {
   "cell_type": "markdown",
   "metadata": {},
   "source": [
    "Si la posición es inválida (i menor que 0 o mayor o igual a la longitud de la lista), se\n",
    "considera error y se levanta la excepción ValueError."
   ]
  },
  {
   "cell_type": "markdown",
   "metadata": {},
   "source": [
    "Esto se resuelve con este fragmento de código:"
   ]
  },
  {
   "cell_type": "code",
   "execution_count": null,
   "metadata": {},
   "outputs": [],
   "source": [
    "#Verificación de los límites\n",
    "if (i < 0) or (i >= self.len):\n",
    "    raise IndexError(\"Índice fuera de rango\")"
   ]
  },
  {
   "cell_type": "markdown",
   "metadata": {},
   "source": [
    "Si no se indica posición, i toma la última posición de la lista."
   ]
  },
  {
   "cell_type": "markdown",
   "metadata": {},
   "source": [
    "Esto se resuelve con este fragmento de código:"
   ]
  },
  {
   "cell_type": "code",
   "execution_count": null,
   "metadata": {},
   "outputs": [],
   "source": [
    "# Si no se recibió i, se devuelve el último.\n",
    "if i == None:\n",
    "    i = self.len - 1"
   ]
  },
  {
   "cell_type": "markdown",
   "metadata": {},
   "source": [
    "Cuando la posición es 0 se trata de un caso particular, ya que en ese caso, además de\n",
    "borrar el nodo, hay que cambiar la referencia de self.prim para que apunte al nodo\n",
    "siguiente. Es decir, pasar de self.prim -> nodo0 -> nodo1 a self.prim -> nodo1)."
   ]
  },
  {
   "cell_type": "markdown",
   "metadata": {},
   "source": [
    "Esto se resuelve con este fragmento de código:"
   ]
  },
  {
   "cell_type": "code",
   "execution_count": null,
   "metadata": {},
   "outputs": [],
   "source": [
    "# Caso particular, si es el primero,\n",
    "# hay que saltear la cabecera de la lista\n",
    "if i == 0:\n",
    "    dato = self.prim.dato\n",
    "    self.prim = self.prim.prox"
   ]
  },
  {
   "cell_type": "markdown",
   "metadata": {},
   "source": [
    "Vemos ahora el caso general:"
   ]
  },
  {
   "cell_type": "markdown",
   "metadata": {},
   "source": [
    "Mediante un ciclo, se deben ubicar los nodos npi - 1 y npi que están en las posiciones i-1\n",
    "e i de la lista, respectivamente, de modo de poder ubicar no sólo el nodo que se borrará, sino también estar en condiciones de saltear el nodo borrado en los enlaces de la lista. La\n",
    "lista debe pasar de contener el camino npi - 1->npi->npi.prox a contener el camino npi-1\n",
    "->npi.prox."
   ]
  },
  {
   "cell_type": "code",
   "execution_count": null,
   "metadata": {},
   "outputs": [],
   "source": []
  },
  {
   "cell_type": "code",
   "execution_count": null,
   "metadata": {},
   "outputs": [],
   "source": []
  },
  {
   "cell_type": "code",
   "execution_count": null,
   "metadata": {},
   "outputs": [],
   "source": []
  },
  {
   "cell_type": "code",
   "execution_count": null,
   "metadata": {},
   "outputs": [],
   "source": []
  },
  {
   "cell_type": "code",
   "execution_count": null,
   "metadata": {},
   "outputs": [],
   "source": []
  },
  {
   "cell_type": "code",
   "execution_count": null,
   "metadata": {},
   "outputs": [],
   "source": []
  },
  {
   "cell_type": "code",
   "execution_count": null,
   "metadata": {},
   "outputs": [],
   "source": []
  },
  {
   "cell_type": "code",
   "execution_count": null,
   "metadata": {},
   "outputs": [],
   "source": []
  },
  {
   "cell_type": "code",
   "execution_count": null,
   "metadata": {},
   "outputs": [],
   "source": []
  },
  {
   "cell_type": "code",
   "execution_count": null,
   "metadata": {},
   "outputs": [],
   "source": []
  },
  {
   "cell_type": "code",
   "execution_count": 78,
   "metadata": {},
   "outputs": [],
   "source": [
    "lista = ListaEnlazada()"
   ]
  },
  {
   "cell_type": "code",
   "execution_count": 79,
   "metadata": {},
   "outputs": [
    {
     "ename": "AttributeError",
     "evalue": "'ListaEnlazada' object has no attribute 'append'",
     "output_type": "error",
     "traceback": [
      "\u001b[1;31m---------------------------------------------------------------------------\u001b[0m",
      "\u001b[1;31mAttributeError\u001b[0m                            Traceback (most recent call last)",
      "\u001b[1;32m<ipython-input-79-1f651333501d>\u001b[0m in \u001b[0;36m<module>\u001b[1;34m()\u001b[0m\n\u001b[1;32m----> 1\u001b[1;33m \u001b[0mlista\u001b[0m\u001b[1;33m.\u001b[0m\u001b[0mappend\u001b[0m\u001b[1;33m(\u001b[0m\u001b[1;36m1\u001b[0m\u001b[1;33m)\u001b[0m\u001b[1;33m\u001b[0m\u001b[0m\n\u001b[0m",
      "\u001b[1;31mAttributeError\u001b[0m: 'ListaEnlazada' object has no attribute 'append'"
     ]
    }
   ],
   "source": [
    "lista.append(1)"
   ]
  },
  {
   "cell_type": "code",
   "execution_count": null,
   "metadata": {},
   "outputs": [],
   "source": []
  },
  {
   "cell_type": "code",
   "execution_count": null,
   "metadata": {},
   "outputs": [],
   "source": [
    "    def __str__(self):\n",
    "        \"\"\" muestra el rectangulo \"\"\"\n",
    "        return \"Base: %s, Altura: %s, Esquina inf. izq.: %s \" % \\\n",
    "                (self.base, self.altura, self.origen)"
   ]
  },
  {
   "cell_type": "code",
   "execution_count": null,
   "metadata": {},
   "outputs": [],
   "source": []
  },
  {
   "cell_type": "code",
   "execution_count": null,
   "metadata": {},
   "outputs": [],
   "source": []
  },
  {
   "cell_type": "code",
   "execution_count": null,
   "metadata": {},
   "outputs": [],
   "source": []
  },
  {
   "cell_type": "code",
   "execution_count": null,
   "metadata": {},
   "outputs": [],
   "source": []
  },
  {
   "cell_type": "code",
   "execution_count": null,
   "metadata": {},
   "outputs": [],
   "source": []
  },
  {
   "cell_type": "code",
   "execution_count": null,
   "metadata": {},
   "outputs": [],
   "source": [
    "lista = "
   ]
  },
  {
   "cell_type": "code",
   "execution_count": 74,
   "metadata": {},
   "outputs": [
    {
     "ename": "TypeError",
     "evalue": "__len__() takes 1 positional argument but 2 were given",
     "output_type": "error",
     "traceback": [
      "\u001b[1;31m---------------------------------------------------------------------------\u001b[0m",
      "\u001b[1;31mTypeError\u001b[0m                                 Traceback (most recent call last)",
      "\u001b[1;32m<ipython-input-74-f51f608de2e5>\u001b[0m in \u001b[0;36m<module>\u001b[1;34m()\u001b[0m\n\u001b[0;32m      1\u001b[0m \u001b[0mlista\u001b[0m \u001b[1;33m=\u001b[0m \u001b[0mListaEnlazada\u001b[0m\u001b[1;33m(\u001b[0m\u001b[1;36m0\u001b[0m\u001b[1;33m,\u001b[0m\u001b[1;36m3\u001b[0m\u001b[1;33m)\u001b[0m\u001b[1;33m\u001b[0m\u001b[0m\n\u001b[1;32m----> 2\u001b[1;33m \u001b[0mprint\u001b[0m\u001b[1;33m(\u001b[0m\u001b[0mlista\u001b[0m\u001b[1;33m.\u001b[0m\u001b[0m__len__\u001b[0m\u001b[1;33m(\u001b[0m\u001b[1;34m'ASD'\u001b[0m\u001b[1;33m)\u001b[0m\u001b[1;33m)\u001b[0m\u001b[1;33m\u001b[0m\u001b[0m\n\u001b[0m",
      "\u001b[1;31mTypeError\u001b[0m: __len__() takes 1 positional argument but 2 were given"
     ]
    }
   ],
   "source": [
    "lista = ListaEnlazada(0,3)\n",
    "print(lista.__len__('ASD'))"
   ]
  },
  {
   "cell_type": "code",
   "execution_count": null,
   "metadata": {},
   "outputs": [],
   "source": []
  },
  {
   "cell_type": "code",
   "execution_count": null,
   "metadata": {},
   "outputs": [],
   "source": []
  },
  {
   "cell_type": "code",
   "execution_count": null,
   "metadata": {},
   "outputs": [],
   "source": []
  },
  {
   "cell_type": "code",
   "execution_count": null,
   "metadata": {},
   "outputs": [],
   "source": []
  },
  {
   "cell_type": "code",
   "execution_count": null,
   "metadata": {},
   "outputs": [],
   "source": []
  },
  {
   "cell_type": "code",
   "execution_count": null,
   "metadata": {},
   "outputs": [],
   "source": []
  },
  {
   "cell_type": "code",
   "execution_count": null,
   "metadata": {},
   "outputs": [],
   "source": []
  },
  {
   "cell_type": "code",
   "execution_count": null,
   "metadata": {},
   "outputs": [],
   "source": []
  },
  {
   "cell_type": "code",
   "execution_count": null,
   "metadata": {},
   "outputs": [],
   "source": []
  },
  {
   "cell_type": "code",
   "execution_count": null,
   "metadata": {},
   "outputs": [],
   "source": []
  },
  {
   "cell_type": "code",
   "execution_count": null,
   "metadata": {},
   "outputs": [],
   "source": []
  },
  {
   "cell_type": "code",
   "execution_count": null,
   "metadata": {},
   "outputs": [],
   "source": []
  },
  {
   "cell_type": "code",
   "execution_count": null,
   "metadata": {},
   "outputs": [],
   "source": []
  },
  {
   "cell_type": "code",
   "execution_count": null,
   "metadata": {},
   "outputs": [],
   "source": []
  },
  {
   "cell_type": "code",
   "execution_count": null,
   "metadata": {},
   "outputs": [],
   "source": []
  },
  {
   "cell_type": "code",
   "execution_count": null,
   "metadata": {},
   "outputs": [],
   "source": []
  },
  {
   "cell_type": "code",
   "execution_count": null,
   "metadata": {},
   "outputs": [],
   "source": []
  },
  {
   "cell_type": "code",
   "execution_count": null,
   "metadata": {},
   "outputs": [],
   "source": []
  },
  {
   "cell_type": "code",
   "execution_count": 48,
   "metadata": {},
   "outputs": [
    {
     "ename": "TypeError",
     "evalue": "__init__() takes 1 positional argument but 3 were given",
     "output_type": "error",
     "traceback": [
      "\u001b[1;31m---------------------------------------------------------------------------\u001b[0m",
      "\u001b[1;31mTypeError\u001b[0m                                 Traceback (most recent call last)",
      "\u001b[1;32m<ipython-input-48-bb81ff200085>\u001b[0m in \u001b[0;36m<module>\u001b[1;34m()\u001b[0m\n\u001b[1;32m----> 1\u001b[1;33m \u001b[0mlista\u001b[0m \u001b[1;33m=\u001b[0m \u001b[0mListaEnlazada\u001b[0m\u001b[1;33m(\u001b[0m\u001b[1;36m0\u001b[0m\u001b[1;33m,\u001b[0m\u001b[1;36m5\u001b[0m\u001b[1;33m)\u001b[0m\u001b[1;33m\u001b[0m\u001b[0m\n\u001b[0m\u001b[0;32m      2\u001b[0m \u001b[0mprint\u001b[0m\u001b[1;33m(\u001b[0m\u001b[0mlista\u001b[0m\u001b[1;33m)\u001b[0m\u001b[1;33m\u001b[0m\u001b[0m\n",
      "\u001b[1;31mTypeError\u001b[0m: __init__() takes 1 positional argument but 3 were given"
     ]
    }
   ],
   "source": [
    "lista = ListaEnlazada(0,5)\n",
    "print(lista)"
   ]
  },
  {
   "cell_type": "code",
   "execution_count": null,
   "metadata": {},
   "outputs": [],
   "source": []
  },
  {
   "cell_type": "code",
   "execution_count": null,
   "metadata": {},
   "outputs": [],
   "source": []
  },
  {
   "cell_type": "code",
   "execution_count": null,
   "metadata": {},
   "outputs": [],
   "source": []
  },
  {
   "cell_type": "code",
   "execution_count": null,
   "metadata": {},
   "outputs": [],
   "source": []
  },
  {
   "cell_type": "code",
   "execution_count": null,
   "metadata": {},
   "outputs": [],
   "source": []
  },
  {
   "cell_type": "code",
   "execution_count": null,
   "metadata": {},
   "outputs": [],
   "source": []
  },
  {
   "cell_type": "code",
   "execution_count": null,
   "metadata": {},
   "outputs": [],
   "source": []
  },
  {
   "cell_type": "code",
   "execution_count": null,
   "metadata": {},
   "outputs": [],
   "source": []
  },
  {
   "cell_type": "code",
   "execution_count": null,
   "metadata": {},
   "outputs": [],
   "source": []
  },
  {
   "cell_type": "code",
   "execution_count": null,
   "metadata": {},
   "outputs": [],
   "source": []
  },
  {
   "cell_type": "code",
   "execution_count": null,
   "metadata": {},
   "outputs": [],
   "source": []
  },
  {
   "cell_type": "code",
   "execution_count": null,
   "metadata": {},
   "outputs": [],
   "source": []
  },
  {
   "cell_type": "code",
   "execution_count": null,
   "metadata": {},
   "outputs": [],
   "source": []
  },
  {
   "cell_type": "markdown",
   "metadata": {},
   "source": [
    "voy en la página 165"
   ]
  },
  {
   "cell_type": "code",
   "execution_count": null,
   "metadata": {},
   "outputs": [],
   "source": []
  },
  {
   "cell_type": "code",
   "execution_count": null,
   "metadata": {},
   "outputs": [],
   "source": []
  },
  {
   "cell_type": "code",
   "execution_count": null,
   "metadata": {},
   "outputs": [],
   "source": []
  },
  {
   "cell_type": "code",
   "execution_count": null,
   "metadata": {},
   "outputs": [],
   "source": []
  },
  {
   "cell_type": "code",
   "execution_count": null,
   "metadata": {},
   "outputs": [],
   "source": []
  },
  {
   "cell_type": "code",
   "execution_count": null,
   "metadata": {},
   "outputs": [],
   "source": []
  },
  {
   "cell_type": "code",
   "execution_count": null,
   "metadata": {},
   "outputs": [],
   "source": []
  },
  {
   "cell_type": "code",
   "execution_count": null,
   "metadata": {},
   "outputs": [],
   "source": []
  },
  {
   "cell_type": "code",
   "execution_count": null,
   "metadata": {},
   "outputs": [],
   "source": []
  },
  {
   "cell_type": "code",
   "execution_count": null,
   "metadata": {},
   "outputs": [],
   "source": []
  },
  {
   "cell_type": "code",
   "execution_count": null,
   "metadata": {},
   "outputs": [],
   "source": []
  },
  {
   "cell_type": "code",
   "execution_count": null,
   "metadata": {},
   "outputs": [],
   "source": []
  },
  {
   "cell_type": "code",
   "execution_count": null,
   "metadata": {},
   "outputs": [],
   "source": []
  },
  {
   "cell_type": "code",
   "execution_count": null,
   "metadata": {},
   "outputs": [],
   "source": []
  },
  {
   "cell_type": "code",
   "execution_count": null,
   "metadata": {},
   "outputs": [],
   "source": []
  },
  {
   "cell_type": "code",
   "execution_count": null,
   "metadata": {},
   "outputs": [],
   "source": []
  },
  {
   "cell_type": "code",
   "execution_count": null,
   "metadata": {},
   "outputs": [],
   "source": []
  },
  {
   "cell_type": "code",
   "execution_count": null,
   "metadata": {},
   "outputs": [],
   "source": []
  },
  {
   "cell_type": "code",
   "execution_count": null,
   "metadata": {},
   "outputs": [],
   "source": []
  },
  {
   "cell_type": "code",
   "execution_count": null,
   "metadata": {},
   "outputs": [],
   "source": []
  },
  {
   "cell_type": "code",
   "execution_count": null,
   "metadata": {},
   "outputs": [],
   "source": []
  },
  {
   "cell_type": "code",
   "execution_count": null,
   "metadata": {},
   "outputs": [],
   "source": []
  },
  {
   "cell_type": "code",
   "execution_count": null,
   "metadata": {},
   "outputs": [],
   "source": []
  },
  {
   "cell_type": "code",
   "execution_count": 71,
   "metadata": {},
   "outputs": [
    {
     "ename": "ModuleNotFoundError",
     "evalue": "No module named 'Punto'",
     "output_type": "error",
     "traceback": [
      "\u001b[1;31m------------------------------------------------------------------------\u001b[0m",
      "\u001b[1;31mModuleNotFoundError\u001b[0m                    Traceback (most recent call last)",
      "\u001b[1;32m<ipython-input-71-c42bc22dda57>\u001b[0m in \u001b[0;36m<module>\u001b[1;34m()\u001b[0m\n\u001b[1;32m----> 1\u001b[1;33m \u001b[1;32mfrom\u001b[0m \u001b[0mPunto\u001b[0m \u001b[1;32mimport\u001b[0m \u001b[0mPunto\u001b[0m\u001b[1;33m\u001b[0m\u001b[0m\n\u001b[0m\u001b[0;32m      2\u001b[0m \u001b[1;33m\u001b[0m\u001b[0m\n\u001b[0;32m      3\u001b[0m \u001b[1;32mclass\u001b[0m \u001b[0mRectangulo\u001b[0m\u001b[1;33m(\u001b[0m\u001b[0mobject\u001b[0m\u001b[1;33m)\u001b[0m\u001b[1;33m:\u001b[0m\u001b[1;33m\u001b[0m\u001b[0m\n\u001b[0;32m      4\u001b[0m     \u001b[1;34m\"\"\" Esta clase modela un rectángulo en el plano. \"\"\"\u001b[0m\u001b[1;33m\u001b[0m\u001b[0m\n\u001b[0;32m      5\u001b[0m \u001b[1;33m\u001b[0m\u001b[0m\n",
      "\u001b[1;31mModuleNotFoundError\u001b[0m: No module named 'Punto'"
     ]
    }
   ],
   "source": [
    "from Punto import Punto\n",
    "\n",
    "class Rectangulo(object):\n",
    "    \"\"\" Esta clase modela un rectángulo en el plano. \"\"\"\n",
    "    \n",
    "    def __init__(self, base, altura, origen):\n",
    "        \"\"\" base (número) es la longitud de su base,\n",
    "            altura (número) es la longitud de su base,\n",
    "            origen (Punto) es el punto del plano de su esquina\n",
    "                            inferior izquierda. \"\"\"\n",
    "        self.base = base\n",
    "        self.altura = altura\n",
    "        self.origen = origen\n",
    "        \n",
    "    def trasladar(self, dx = 0, dy = 0):\n",
    "        self.origen = self.origen + Punto(dx,dy)\n",
    "        \n",
    "    def area(self):\n",
    "        return self.base * self.altura\n",
    "    \n",
    "    def __str__(self):\n",
    "        \"\"\" muestra el rectángulo. \"\"\"\n",
    "        return \"Base: %s, Altura: %s, Esquina inf. izq.: %s \" % \\\n",
    "             (self.base, self.altura, self.origen)"
   ]
  },
  {
   "cell_type": "code",
   "execution_count": null,
   "metadata": {},
   "outputs": [],
   "source": []
  },
  {
   "cell_type": "code",
   "execution_count": null,
   "metadata": {},
   "outputs": [],
   "source": []
  },
  {
   "cell_type": "code",
   "execution_count": null,
   "metadata": {},
   "outputs": [],
   "source": []
  },
  {
   "cell_type": "code",
   "execution_count": null,
   "metadata": {},
   "outputs": [],
   "source": []
  },
  {
   "cell_type": "markdown",
   "metadata": {},
   "source": []
  },
  {
   "cell_type": "code",
   "execution_count": null,
   "metadata": {},
   "outputs": [],
   "source": []
  },
  {
   "cell_type": "code",
   "execution_count": null,
   "metadata": {},
   "outputs": [],
   "source": []
  },
  {
   "cell_type": "code",
   "execution_count": null,
   "metadata": {},
   "outputs": [],
   "source": []
  },
  {
   "cell_type": "code",
   "execution_count": null,
   "metadata": {},
   "outputs": [],
   "source": []
  },
  {
   "cell_type": "code",
   "execution_count": null,
   "metadata": {},
   "outputs": [],
   "source": []
  },
  {
   "cell_type": "code",
   "execution_count": null,
   "metadata": {},
   "outputs": [],
   "source": []
  },
  {
   "cell_type": "code",
   "execution_count": null,
   "metadata": {},
   "outputs": [],
   "source": []
  },
  {
   "cell_type": "code",
   "execution_count": null,
   "metadata": {},
   "outputs": [],
   "source": []
  },
  {
   "cell_type": "code",
   "execution_count": null,
   "metadata": {},
   "outputs": [],
   "source": []
  },
  {
   "cell_type": "markdown",
   "metadata": {},
   "source": [
    " voy en la pagina 154"
   ]
  }
 ],
 "metadata": {
  "kernelspec": {
   "display_name": "Python 3",
   "language": "python",
   "name": "python3"
  },
  "language_info": {
   "codemirror_mode": {
    "name": "ipython",
    "version": 3
   },
   "file_extension": ".py",
   "mimetype": "text/x-python",
   "name": "python",
   "nbconvert_exporter": "python",
   "pygments_lexer": "ipython3",
   "version": "3.6.5"
  }
 },
 "nbformat": 4,
 "nbformat_minor": 2
}
